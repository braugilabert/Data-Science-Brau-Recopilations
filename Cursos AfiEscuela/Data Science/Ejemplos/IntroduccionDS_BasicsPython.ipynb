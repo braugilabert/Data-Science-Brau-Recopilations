{
  "cells": [
    {
      "cell_type": "markdown",
      "id": "f47a26b4",
      "metadata": {
        "id": "f47a26b4"
      },
      "source": [
        "<img src=\"https://www.aseafi.es/wp-content/uploads/2020/09/Afi-Escuela.png\" alt=\"Drawing\" width=\"300\"/>\n",
        "\n",
        "# Introducción a Python\n",
        "\n",
        "\n",
        "**Verónica Ruiz Méndez - Abril 2022**\n",
        "\n",
        "Curso Introducción a Data Science - Afi Escuela de Finanzas\n",
        "\n",
        "*Autor*: [Verónica Ruiz Méndez](https://www.linkedin.com/in/veronica-ruiz-mendez/) "
      ]
    },
    {
      "cell_type": "markdown",
      "id": "ef426edd",
      "metadata": {
        "id": "ef426edd"
      },
      "source": [
        "# Tipos de datos"
      ]
    },
    {
      "cell_type": "markdown",
      "id": "76095e73",
      "metadata": {
        "id": "76095e73"
      },
      "source": [
        "<li>Cadenas de caracteres o <i>str</i>: Se especifican entre comillas simples, dobles o triples</li>\n",
        "<li>Valores numéricos enteros o <i>int</i>: No incluyen punto decimal</li>\n",
        "<li>Valores numéricos decimales o <i>float</i>: Incluyen punto decimal</li>\n",
        "<li>Valores booleanos o <i>bool</i>: True / False (case sensitive)</li>\n",
        "\n",
        "\n",
        "Para conocer el tipo de una variable se puede usar la función de Python <b>type</b>."
      ]
    },
    {
      "cell_type": "code",
      "execution_count": 1,
      "id": "8c4a9a5d",
      "metadata": {
        "colab": {
          "base_uri": "https://localhost:8080/"
        },
        "id": "8c4a9a5d",
        "outputId": "9ad77137-71b6-45da-9c12-16fff4ef2cfa"
      },
      "outputs": [
        {
          "output_type": "execute_result",
          "data": {
            "text/plain": [
              "str"
            ]
          },
          "metadata": {},
          "execution_count": 1
        }
      ],
      "source": [
        "cadena = \"Esto es una cadena\"\n",
        "type(cadena)"
      ]
    },
    {
      "cell_type": "code",
      "execution_count": 2,
      "id": "72760619",
      "metadata": {
        "colab": {
          "base_uri": "https://localhost:8080/"
        },
        "id": "72760619",
        "outputId": "134b410c-3881-4b2d-d366-be2d38185390"
      },
      "outputs": [
        {
          "output_type": "execute_result",
          "data": {
            "text/plain": [
              "int"
            ]
          },
          "metadata": {},
          "execution_count": 2
        }
      ],
      "source": [
        "entero = 10\n",
        "type(entero)"
      ]
    },
    {
      "cell_type": "code",
      "execution_count": 3,
      "id": "4216d0e0",
      "metadata": {
        "colab": {
          "base_uri": "https://localhost:8080/"
        },
        "id": "4216d0e0",
        "outputId": "662af475-ca4c-44a7-f77e-61061e79d242"
      },
      "outputs": [
        {
          "output_type": "execute_result",
          "data": {
            "text/plain": [
              "float"
            ]
          },
          "metadata": {},
          "execution_count": 3
        }
      ],
      "source": [
        "decimal = 10.1\n",
        "type(decimal)"
      ]
    },
    {
      "cell_type": "code",
      "execution_count": 4,
      "id": "8b5330f1",
      "metadata": {
        "colab": {
          "base_uri": "https://localhost:8080/"
        },
        "id": "8b5330f1",
        "outputId": "3c3ca288-fc8f-44f0-9e6d-6cf4dd12745e"
      },
      "outputs": [
        {
          "output_type": "execute_result",
          "data": {
            "text/plain": [
              "bool"
            ]
          },
          "metadata": {},
          "execution_count": 4
        }
      ],
      "source": [
        "booleano = True\n",
        "type(booleano)"
      ]
    },
    {
      "cell_type": "markdown",
      "id": "494422eb",
      "metadata": {
        "id": "494422eb"
      },
      "source": [
        "# Operadores básicos"
      ]
    },
    {
      "cell_type": "markdown",
      "id": "c8800161",
      "metadata": {
        "id": "c8800161"
      },
      "source": [
        "\n",
        "Al igual que en otros lenguajes de programación tenemos un conjunto diverso de operadores para aplicar a variables y valores:\n",
        "\n",
        "<li>Aritméticos: +, -, \\*, /, \\*\\*, %, //</li>\n",
        "<li>Lógicos: and, or, not</li>\n",
        "<li>Comparativos: ==, !=, <>, >, <, >=, <=</li>\n",
        "<li>Asignación: =, +=, -=. \\*=, /=, \\*\\*=, %=, //=</li>\n",
        "</ul>"
      ]
    },
    {
      "cell_type": "markdown",
      "id": "f95b24bb",
      "metadata": {
        "id": "f95b24bb"
      },
      "source": [
        "# Secuencias"
      ]
    },
    {
      "cell_type": "code",
      "execution_count": 5,
      "id": "02120770",
      "metadata": {
        "colab": {
          "base_uri": "https://localhost:8080/"
        },
        "id": "02120770",
        "outputId": "1a25a325-25a8-44b6-f03d-216d8e8ddb62"
      },
      "outputs": [
        {
          "output_type": "execute_result",
          "data": {
            "text/plain": [
              "(1, 2, 3, 4)"
            ]
          },
          "metadata": {},
          "execution_count": 5
        }
      ],
      "source": [
        "# Tuplas\n",
        "tupla = (1, 2, 3, 4)\n",
        "tupla"
      ]
    },
    {
      "cell_type": "code",
      "execution_count": 6,
      "id": "93b2fad9",
      "metadata": {
        "colab": {
          "base_uri": "https://localhost:8080/"
        },
        "id": "93b2fad9",
        "outputId": "c9553144-8ef5-4022-8fe1-79bd53b71a9a"
      },
      "outputs": [
        {
          "output_type": "execute_result",
          "data": {
            "text/plain": [
              "[1, 2, 3, 4]"
            ]
          },
          "metadata": {},
          "execution_count": 6
        }
      ],
      "source": [
        "# Listas\n",
        "lista = [1, 2, 3, 4]\n",
        "lista"
      ]
    },
    {
      "cell_type": "code",
      "execution_count": 7,
      "id": "b3e4adc2",
      "metadata": {
        "colab": {
          "base_uri": "https://localhost:8080/",
          "height": 35
        },
        "id": "b3e4adc2",
        "outputId": "526eb2f6-f828-43f2-9649-656e726f9206"
      },
      "outputs": [
        {
          "output_type": "execute_result",
          "data": {
            "text/plain": [
              "'esto es una cadena'"
            ],
            "application/vnd.google.colaboratory.intrinsic+json": {
              "type": "string"
            }
          },
          "metadata": {},
          "execution_count": 7
        }
      ],
      "source": [
        "# Cadenas\n",
        "string = \"esto es una cadena\"\n",
        "string"
      ]
    },
    {
      "cell_type": "markdown",
      "id": "5596d398",
      "metadata": {
        "id": "5596d398"
      },
      "source": [
        "# Numpy"
      ]
    },
    {
      "cell_type": "markdown",
      "id": "be6a1e09",
      "metadata": {
        "id": "be6a1e09"
      },
      "source": [
        "Toda la libería de **NumPy** se articula alrededor de una única estructura de datos: la matriz multidimensional o ndarray (N-dimensional array)."
      ]
    },
    {
      "cell_type": "code",
      "execution_count": 8,
      "id": "4284e894",
      "metadata": {
        "id": "4284e894"
      },
      "outputs": [],
      "source": [
        "import numpy as np"
      ]
    },
    {
      "cell_type": "code",
      "execution_count": 9,
      "id": "3485e079",
      "metadata": {
        "colab": {
          "base_uri": "https://localhost:8080/"
        },
        "id": "3485e079",
        "outputId": "f350d729-f5de-4a94-8980-9e4839c0f62f"
      },
      "outputs": [
        {
          "output_type": "execute_result",
          "data": {
            "text/plain": [
              "array([[1., 1.],\n",
              "       [1., 1.]])"
            ]
          },
          "metadata": {},
          "execution_count": 9
        }
      ],
      "source": [
        "# Especificando dimensiones\n",
        "array_unos = np.ones((2, 2))\n",
        "array_unos"
      ]
    },
    {
      "cell_type": "code",
      "execution_count": 10,
      "id": "e89ed58f",
      "metadata": {
        "colab": {
          "base_uri": "https://localhost:8080/"
        },
        "id": "e89ed58f",
        "outputId": "714e68d6-de15-4c74-9d7c-0c5c3375b59e"
      },
      "outputs": [
        {
          "output_type": "execute_result",
          "data": {
            "text/plain": [
              "array([[1., 0., 0.],\n",
              "       [0., 1., 0.],\n",
              "       [0., 0., 1.]])"
            ]
          },
          "metadata": {},
          "execution_count": 10
        }
      ],
      "source": [
        "array_identidad = np.identity(3)\n",
        "array_identidad"
      ]
    },
    {
      "cell_type": "code",
      "execution_count": 11,
      "id": "e23191d6",
      "metadata": {
        "colab": {
          "base_uri": "https://localhost:8080/"
        },
        "id": "e23191d6",
        "outputId": "d17ba330-6637-4846-960f-a1e6fe10cd3c"
      },
      "outputs": [
        {
          "output_type": "execute_result",
          "data": {
            "text/plain": [
              "array([[ 1,  2,  3,  4],\n",
              "       [ 5,  6,  7,  8],\n",
              "       [ 9, 10, 11, 12]])"
            ]
          },
          "metadata": {},
          "execution_count": 11
        }
      ],
      "source": [
        "array = np.array([[1, 2, 3, 4], [5, 6, 7, 8], [9, 10, 11, 12]])\n",
        "array"
      ]
    },
    {
      "cell_type": "code",
      "execution_count": 12,
      "id": "4127c991",
      "metadata": {
        "colab": {
          "base_uri": "https://localhost:8080/"
        },
        "id": "4127c991",
        "outputId": "27192c38-0065-4d29-86f7-15abcaf10c8a"
      },
      "outputs": [
        {
          "output_type": "execute_result",
          "data": {
            "text/plain": [
              "dtype('int64')"
            ]
          },
          "metadata": {},
          "execution_count": 12
        }
      ],
      "source": [
        "array.dtype"
      ]
    },
    {
      "cell_type": "code",
      "execution_count": 13,
      "id": "b1dc1ef0",
      "metadata": {
        "colab": {
          "base_uri": "https://localhost:8080/"
        },
        "id": "b1dc1ef0",
        "outputId": "76ce6fca-075c-4e35-8ef7-503b300c5a7a"
      },
      "outputs": [
        {
          "output_type": "execute_result",
          "data": {
            "text/plain": [
              "(3, 4)"
            ]
          },
          "metadata": {},
          "execution_count": 13
        }
      ],
      "source": [
        "array.shape"
      ]
    },
    {
      "cell_type": "code",
      "execution_count": 14,
      "id": "2cdaf60b",
      "metadata": {
        "colab": {
          "base_uri": "https://localhost:8080/"
        },
        "id": "2cdaf60b",
        "outputId": "69f68750-2b2e-40c0-efca-ddcabf21d362"
      },
      "outputs": [
        {
          "output_type": "execute_result",
          "data": {
            "text/plain": [
              "array([[ 6,  7,  8,  9],\n",
              "       [10, 11, 12, 13],\n",
              "       [14, 15, 16, 17]])"
            ]
          },
          "metadata": {},
          "execution_count": 14
        }
      ],
      "source": [
        "array + 5"
      ]
    },
    {
      "cell_type": "code",
      "execution_count": 15,
      "id": "71e7e364",
      "metadata": {
        "colab": {
          "base_uri": "https://localhost:8080/"
        },
        "id": "71e7e364",
        "outputId": "1b254b06-b7c7-4fad-e281-cd3ab816ce41"
      },
      "outputs": [
        {
          "output_type": "execute_result",
          "data": {
            "text/plain": [
              "array([[0, 0, 0, 0],\n",
              "       [0, 0, 0, 0],\n",
              "       [0, 0, 0, 0]])"
            ]
          },
          "metadata": {},
          "execution_count": 15
        }
      ],
      "source": [
        "array - array"
      ]
    },
    {
      "cell_type": "code",
      "execution_count": 16,
      "id": "cf866f8f",
      "metadata": {
        "colab": {
          "base_uri": "https://localhost:8080/"
        },
        "id": "cf866f8f",
        "outputId": "5cbdf336-3842-4eea-b535-ad3bc86c3806"
      },
      "outputs": [
        {
          "output_type": "execute_result",
          "data": {
            "text/plain": [
              "array([ 9, 10, 11, 12])"
            ]
          },
          "metadata": {},
          "execution_count": 16
        }
      ],
      "source": [
        "array[2]"
      ]
    },
    {
      "cell_type": "markdown",
      "id": "11ef3778",
      "metadata": {
        "id": "11ef3778"
      },
      "source": [
        "# Pandas"
      ]
    },
    {
      "cell_type": "markdown",
      "id": "28e852ae",
      "metadata": {
        "id": "28e852ae"
      },
      "source": [
        "El pilar básico de la librería <b>pandas</b>, al igual que como ocurría con <b>numpy</b>, son las estructuras de datos que pone a nuestra disposición.<br/>\n",
        "En este caso, dispondremos de dos estructuras de datos relacionadas, pero con su funcionamiento específico:<br/>\n",
        "<ul>\n",
        "<li><b>Series:</b> Para información unidimensional.</li>\n",
        "<li><b>DataFrame:</b> Para información tabular.</li>\n",
        "</ul>\n",
        "\n",
        "Son estructuras muy similares a las ofrecidas por R: vectores (con nombre) y data.frame."
      ]
    },
    {
      "cell_type": "code",
      "execution_count": 17,
      "id": "975da662",
      "metadata": {
        "id": "975da662"
      },
      "outputs": [],
      "source": [
        "import pandas as pd"
      ]
    },
    {
      "cell_type": "markdown",
      "id": "d2de1b08",
      "metadata": {
        "id": "d2de1b08"
      },
      "source": [
        "### Series"
      ]
    },
    {
      "cell_type": "code",
      "execution_count": 18,
      "id": "52cdc29c",
      "metadata": {
        "colab": {
          "base_uri": "https://localhost:8080/"
        },
        "id": "52cdc29c",
        "outputId": "42ba3cbd-3fbd-477c-9e81-6dc8dd53a259"
      },
      "outputs": [
        {
          "output_type": "execute_result",
          "data": {
            "text/plain": [
              "0     2\n",
              "1     4\n",
              "2     6\n",
              "3     8\n",
              "4    10\n",
              "dtype: int64"
            ]
          },
          "metadata": {},
          "execution_count": 18
        }
      ],
      "source": [
        "# Serie desde ndarray\n",
        "array = np.array([2, 4, 6, 8, 10])\n",
        "serie = pd.Series(array)\n",
        "serie"
      ]
    },
    {
      "cell_type": "code",
      "execution_count": 19,
      "id": "31f660dc",
      "metadata": {
        "colab": {
          "base_uri": "https://localhost:8080/"
        },
        "id": "31f660dc",
        "outputId": "1e2a1e72-3591-481b-cf9a-5b99496323ef"
      },
      "outputs": [
        {
          "output_type": "execute_result",
          "data": {
            "text/plain": [
              "array([ 2,  4,  6,  8, 10])"
            ]
          },
          "metadata": {},
          "execution_count": 19
        }
      ],
      "source": [
        "serie.values"
      ]
    },
    {
      "cell_type": "code",
      "execution_count": 20,
      "id": "a31b2b67",
      "metadata": {
        "colab": {
          "base_uri": "https://localhost:8080/"
        },
        "id": "a31b2b67",
        "outputId": "a7e127f5-7daf-409a-8abe-119e09095ed3"
      },
      "outputs": [
        {
          "output_type": "execute_result",
          "data": {
            "text/plain": [
              "RangeIndex(start=0, stop=5, step=1)"
            ]
          },
          "metadata": {},
          "execution_count": 20
        }
      ],
      "source": [
        "serie.index"
      ]
    },
    {
      "cell_type": "code",
      "execution_count": 21,
      "id": "7af6c1ed",
      "metadata": {
        "colab": {
          "base_uri": "https://localhost:8080/"
        },
        "id": "7af6c1ed",
        "outputId": "bc7abf8e-4702-47bc-9444-9637d8c99d0d"
      },
      "outputs": [
        {
          "output_type": "execute_result",
          "data": {
            "text/plain": [
              "a     2\n",
              "b     4\n",
              "c     6\n",
              "d     8\n",
              "e    10\n",
              "dtype: int64"
            ]
          },
          "metadata": {},
          "execution_count": 21
        }
      ],
      "source": [
        "serie = pd.Series(array, index=['a', 'b', 'c', 'd', 'e'])\n",
        "serie"
      ]
    },
    {
      "cell_type": "code",
      "execution_count": 22,
      "id": "ab7c53c2",
      "metadata": {
        "colab": {
          "base_uri": "https://localhost:8080/"
        },
        "id": "ab7c53c2",
        "outputId": "7e56d2c7-3e39-4dcc-fffb-e64585f613a9"
      },
      "outputs": [
        {
          "output_type": "execute_result",
          "data": {
            "text/plain": [
              "array([ 2,  4,  6,  8, 10])"
            ]
          },
          "metadata": {},
          "execution_count": 22
        }
      ],
      "source": [
        "serie.values"
      ]
    },
    {
      "cell_type": "code",
      "execution_count": 23,
      "id": "ccfb7383",
      "metadata": {
        "colab": {
          "base_uri": "https://localhost:8080/"
        },
        "id": "ccfb7383",
        "outputId": "14e8599a-87ab-4a7c-f053-dd8eb9d67375"
      },
      "outputs": [
        {
          "output_type": "execute_result",
          "data": {
            "text/plain": [
              "Index(['a', 'b', 'c', 'd', 'e'], dtype='object')"
            ]
          },
          "metadata": {},
          "execution_count": 23
        }
      ],
      "source": [
        "serie.index"
      ]
    },
    {
      "cell_type": "markdown",
      "id": "799dd57f",
      "metadata": {
        "id": "799dd57f"
      },
      "source": [
        "### DataFrames"
      ]
    },
    {
      "cell_type": "code",
      "execution_count": 24,
      "id": "2ea6a9ad",
      "metadata": {
        "colab": {
          "base_uri": "https://localhost:8080/",
          "height": 175
        },
        "id": "2ea6a9ad",
        "outputId": "86be4687-9f26-4a19-c5a2-c97b94e79606"
      },
      "outputs": [
        {
          "output_type": "execute_result",
          "data": {
            "text/plain": [
              "    c1  c2  c3  c4\n",
              "f1   0   1   2   3\n",
              "f2   4   5   6   7\n",
              "f3   8   9  10  11\n",
              "f4  12  13  14  15"
            ],
            "text/html": [
              "\n",
              "  <div id=\"df-1ff3a240-5788-4097-90f5-d810dd0947b8\">\n",
              "    <div class=\"colab-df-container\">\n",
              "      <div>\n",
              "<style scoped>\n",
              "    .dataframe tbody tr th:only-of-type {\n",
              "        vertical-align: middle;\n",
              "    }\n",
              "\n",
              "    .dataframe tbody tr th {\n",
              "        vertical-align: top;\n",
              "    }\n",
              "\n",
              "    .dataframe thead th {\n",
              "        text-align: right;\n",
              "    }\n",
              "</style>\n",
              "<table border=\"1\" class=\"dataframe\">\n",
              "  <thead>\n",
              "    <tr style=\"text-align: right;\">\n",
              "      <th></th>\n",
              "      <th>c1</th>\n",
              "      <th>c2</th>\n",
              "      <th>c3</th>\n",
              "      <th>c4</th>\n",
              "    </tr>\n",
              "  </thead>\n",
              "  <tbody>\n",
              "    <tr>\n",
              "      <th>f1</th>\n",
              "      <td>0</td>\n",
              "      <td>1</td>\n",
              "      <td>2</td>\n",
              "      <td>3</td>\n",
              "    </tr>\n",
              "    <tr>\n",
              "      <th>f2</th>\n",
              "      <td>4</td>\n",
              "      <td>5</td>\n",
              "      <td>6</td>\n",
              "      <td>7</td>\n",
              "    </tr>\n",
              "    <tr>\n",
              "      <th>f3</th>\n",
              "      <td>8</td>\n",
              "      <td>9</td>\n",
              "      <td>10</td>\n",
              "      <td>11</td>\n",
              "    </tr>\n",
              "    <tr>\n",
              "      <th>f4</th>\n",
              "      <td>12</td>\n",
              "      <td>13</td>\n",
              "      <td>14</td>\n",
              "      <td>15</td>\n",
              "    </tr>\n",
              "  </tbody>\n",
              "</table>\n",
              "</div>\n",
              "      <button class=\"colab-df-convert\" onclick=\"convertToInteractive('df-1ff3a240-5788-4097-90f5-d810dd0947b8')\"\n",
              "              title=\"Convert this dataframe to an interactive table.\"\n",
              "              style=\"display:none;\">\n",
              "        \n",
              "  <svg xmlns=\"http://www.w3.org/2000/svg\" height=\"24px\"viewBox=\"0 0 24 24\"\n",
              "       width=\"24px\">\n",
              "    <path d=\"M0 0h24v24H0V0z\" fill=\"none\"/>\n",
              "    <path d=\"M18.56 5.44l.94 2.06.94-2.06 2.06-.94-2.06-.94-.94-2.06-.94 2.06-2.06.94zm-11 1L8.5 8.5l.94-2.06 2.06-.94-2.06-.94L8.5 2.5l-.94 2.06-2.06.94zm10 10l.94 2.06.94-2.06 2.06-.94-2.06-.94-.94-2.06-.94 2.06-2.06.94z\"/><path d=\"M17.41 7.96l-1.37-1.37c-.4-.4-.92-.59-1.43-.59-.52 0-1.04.2-1.43.59L10.3 9.45l-7.72 7.72c-.78.78-.78 2.05 0 2.83L4 21.41c.39.39.9.59 1.41.59.51 0 1.02-.2 1.41-.59l7.78-7.78 2.81-2.81c.8-.78.8-2.07 0-2.86zM5.41 20L4 18.59l7.72-7.72 1.47 1.35L5.41 20z\"/>\n",
              "  </svg>\n",
              "      </button>\n",
              "      \n",
              "  <style>\n",
              "    .colab-df-container {\n",
              "      display:flex;\n",
              "      flex-wrap:wrap;\n",
              "      gap: 12px;\n",
              "    }\n",
              "\n",
              "    .colab-df-convert {\n",
              "      background-color: #E8F0FE;\n",
              "      border: none;\n",
              "      border-radius: 50%;\n",
              "      cursor: pointer;\n",
              "      display: none;\n",
              "      fill: #1967D2;\n",
              "      height: 32px;\n",
              "      padding: 0 0 0 0;\n",
              "      width: 32px;\n",
              "    }\n",
              "\n",
              "    .colab-df-convert:hover {\n",
              "      background-color: #E2EBFA;\n",
              "      box-shadow: 0px 1px 2px rgba(60, 64, 67, 0.3), 0px 1px 3px 1px rgba(60, 64, 67, 0.15);\n",
              "      fill: #174EA6;\n",
              "    }\n",
              "\n",
              "    [theme=dark] .colab-df-convert {\n",
              "      background-color: #3B4455;\n",
              "      fill: #D2E3FC;\n",
              "    }\n",
              "\n",
              "    [theme=dark] .colab-df-convert:hover {\n",
              "      background-color: #434B5C;\n",
              "      box-shadow: 0px 1px 3px 1px rgba(0, 0, 0, 0.15);\n",
              "      filter: drop-shadow(0px 1px 2px rgba(0, 0, 0, 0.3));\n",
              "      fill: #FFFFFF;\n",
              "    }\n",
              "  </style>\n",
              "\n",
              "      <script>\n",
              "        const buttonEl =\n",
              "          document.querySelector('#df-1ff3a240-5788-4097-90f5-d810dd0947b8 button.colab-df-convert');\n",
              "        buttonEl.style.display =\n",
              "          google.colab.kernel.accessAllowed ? 'block' : 'none';\n",
              "\n",
              "        async function convertToInteractive(key) {\n",
              "          const element = document.querySelector('#df-1ff3a240-5788-4097-90f5-d810dd0947b8');\n",
              "          const dataTable =\n",
              "            await google.colab.kernel.invokeFunction('convertToInteractive',\n",
              "                                                     [key], {});\n",
              "          if (!dataTable) return;\n",
              "\n",
              "          const docLinkHtml = 'Like what you see? Visit the ' +\n",
              "            '<a target=\"_blank\" href=https://colab.research.google.com/notebooks/data_table.ipynb>data table notebook</a>'\n",
              "            + ' to learn more about interactive tables.';\n",
              "          element.innerHTML = '';\n",
              "          dataTable['output_type'] = 'display_data';\n",
              "          await google.colab.output.renderOutput(dataTable, element);\n",
              "          const docLink = document.createElement('div');\n",
              "          docLink.innerHTML = docLinkHtml;\n",
              "          element.appendChild(docLink);\n",
              "        }\n",
              "      </script>\n",
              "    </div>\n",
              "  </div>\n",
              "  "
            ]
          },
          "metadata": {},
          "execution_count": 24
        }
      ],
      "source": [
        "# DataFrame desde ndarray con índices para filas y columnas\n",
        "dataframe = pd.DataFrame(np.arange(16).reshape(4, 4), index=['f1', 'f2', 'f3', 'f4'], columns=['c1', 'c2', 'c3', 'c4'])\n",
        "dataframe"
      ]
    },
    {
      "cell_type": "code",
      "execution_count": 25,
      "id": "e726b372",
      "metadata": {
        "colab": {
          "base_uri": "https://localhost:8080/"
        },
        "id": "e726b372",
        "outputId": "c8601833-4431-45f3-8488-e115bd3a21cc"
      },
      "outputs": [
        {
          "output_type": "execute_result",
          "data": {
            "text/plain": [
              "array([[ 0,  1,  2,  3],\n",
              "       [ 4,  5,  6,  7],\n",
              "       [ 8,  9, 10, 11],\n",
              "       [12, 13, 14, 15]])"
            ]
          },
          "metadata": {},
          "execution_count": 25
        }
      ],
      "source": [
        "dataframe.values"
      ]
    },
    {
      "cell_type": "code",
      "execution_count": 26,
      "id": "b9a56a62",
      "metadata": {
        "colab": {
          "base_uri": "https://localhost:8080/"
        },
        "id": "b9a56a62",
        "outputId": "23aca962-81a4-4c9f-9fa2-41b202ba2f75"
      },
      "outputs": [
        {
          "output_type": "execute_result",
          "data": {
            "text/plain": [
              "Index(['f1', 'f2', 'f3', 'f4'], dtype='object')"
            ]
          },
          "metadata": {},
          "execution_count": 26
        }
      ],
      "source": [
        "dataframe.index"
      ]
    },
    {
      "cell_type": "code",
      "execution_count": 27,
      "id": "36920a0a",
      "metadata": {
        "colab": {
          "base_uri": "https://localhost:8080/"
        },
        "id": "36920a0a",
        "outputId": "e0be24cd-fab0-4d74-f53c-5c15af33a46b"
      },
      "outputs": [
        {
          "output_type": "execute_result",
          "data": {
            "text/plain": [
              "Index(['c1', 'c2', 'c3', 'c4'], dtype='object')"
            ]
          },
          "metadata": {},
          "execution_count": 27
        }
      ],
      "source": [
        "dataframe.columns"
      ]
    },
    {
      "cell_type": "code",
      "execution_count": 28,
      "id": "2a14d5fc",
      "metadata": {
        "colab": {
          "base_uri": "https://localhost:8080/"
        },
        "id": "2a14d5fc",
        "outputId": "622a40b2-1781-49d2-8790-b9c6c013a50c"
      },
      "outputs": [
        {
          "output_type": "execute_result",
          "data": {
            "text/plain": [
              "f1     0\n",
              "f2     4\n",
              "f3     8\n",
              "f4    12\n",
              "Name: c1, dtype: int64"
            ]
          },
          "metadata": {},
          "execution_count": 28
        }
      ],
      "source": [
        "dataframe['c1']"
      ]
    },
    {
      "cell_type": "code",
      "execution_count": 29,
      "id": "d1b48981",
      "metadata": {
        "colab": {
          "base_uri": "https://localhost:8080/"
        },
        "id": "d1b48981",
        "outputId": "c83bcfef-fac2-49ef-b1cd-617246bb0a7e"
      },
      "outputs": [
        {
          "output_type": "execute_result",
          "data": {
            "text/plain": [
              "c1    0\n",
              "c2    1\n",
              "c3    2\n",
              "c4    3\n",
              "Name: f1, dtype: int64"
            ]
          },
          "metadata": {},
          "execution_count": 29
        }
      ],
      "source": [
        "dataframe.loc['f1']"
      ]
    },
    {
      "cell_type": "code",
      "execution_count": null,
      "id": "cc10caec",
      "metadata": {
        "id": "cc10caec"
      },
      "outputs": [],
      "source": [
        ""
      ]
    }
  ],
  "metadata": {
    "kernelspec": {
      "display_name": "Python 3",
      "language": "python",
      "name": "python3"
    },
    "language_info": {
      "codemirror_mode": {
        "name": "ipython",
        "version": 3
      },
      "file_extension": ".py",
      "mimetype": "text/x-python",
      "name": "python",
      "nbconvert_exporter": "python",
      "pygments_lexer": "ipython3",
      "version": "3.8.8"
    },
    "colab": {
      "name": "IntroduccionDS_BasicsPython.ipynb",
      "provenance": []
    }
  },
  "nbformat": 4,
  "nbformat_minor": 5
}