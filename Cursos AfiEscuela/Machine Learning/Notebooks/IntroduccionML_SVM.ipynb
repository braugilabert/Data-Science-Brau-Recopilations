{
 "cells": [
  {
   "cell_type": "markdown",
   "id": "38bafe76",
   "metadata": {
    "id": "38bafe76"
   },
   "source": [
    "<img src=\"https://www.aseafi.es/wp-content/uploads/2020/09/Afi-Escuela.png\" alt=\"Drawing\" width=\"300\"/>\n",
    "\n",
    "# Máquinas de Vector Soporte\n",
    "\n",
    "\n",
    "**Verónica Ruiz Méndez - Septiembre 2022**\n",
    "\n",
    "Curso Introducción a Machine Learning - Afi Escuela de Finanzas\n",
    "\n",
    "*Autor*: [Verónica Ruiz Méndez](https://www.linkedin.com/in/veronica-ruiz-mendez/) "
   ]
  },
  {
   "cell_type": "markdown",
   "id": "7dcc5e5e",
   "metadata": {
    "id": "7dcc5e5e"
   },
   "source": [
    "Importamos liberías a utilizar."
   ]
  },
  {
   "cell_type": "code",
   "execution_count": 4,
   "id": "b0213073",
   "metadata": {
    "id": "b0213073"
   },
   "outputs": [],
   "source": [
    "import pandas as pd\n",
    "from sklearn import svm\n",
    "import matplotlib.pyplot as plt\n",
    "import pandas as np"
   ]
  },
  {
   "cell_type": "markdown",
   "id": "e15c9f6d",
   "metadata": {
    "id": "e15c9f6d"
   },
   "source": [
    "Generamos nuestro set de datos."
   ]
  },
  {
   "cell_type": "code",
   "execution_count": 49,
   "id": "3176bc8c",
   "metadata": {
    "id": "3176bc8c"
   },
   "outputs": [],
   "source": [
    "X = [[0, 0], [1, 2], [2, 2], [1, 0], [2, 1]]\n",
    "X0 = [x[0] for x in X]\n",
    "X1 = [x[1] for x in X]\n",
    "label_values = [0, 1, 1, 0, 1]"
   ]
  },
  {
   "cell_type": "markdown",
   "id": "6a806a24",
   "metadata": {},
   "source": [
    "Gráfico de nuestro set de datos."
   ]
  },
  {
   "cell_type": "code",
   "execution_count": 50,
   "id": "225968c5",
   "metadata": {},
   "outputs": [
    {
     "data": {
      "text/html": [
       "<div>\n",
       "<style scoped>\n",
       "    .dataframe tbody tr th:only-of-type {\n",
       "        vertical-align: middle;\n",
       "    }\n",
       "\n",
       "    .dataframe tbody tr th {\n",
       "        vertical-align: top;\n",
       "    }\n",
       "\n",
       "    .dataframe thead th {\n",
       "        text-align: right;\n",
       "    }\n",
       "</style>\n",
       "<table border=\"1\" class=\"dataframe\">\n",
       "  <thead>\n",
       "    <tr style=\"text-align: right;\">\n",
       "      <th></th>\n",
       "      <th>X0</th>\n",
       "      <th>X1</th>\n",
       "      <th>label</th>\n",
       "    </tr>\n",
       "  </thead>\n",
       "  <tbody>\n",
       "    <tr>\n",
       "      <th>0</th>\n",
       "      <td>0</td>\n",
       "      <td>0</td>\n",
       "      <td>0</td>\n",
       "    </tr>\n",
       "    <tr>\n",
       "      <th>1</th>\n",
       "      <td>1</td>\n",
       "      <td>2</td>\n",
       "      <td>1</td>\n",
       "    </tr>\n",
       "    <tr>\n",
       "      <th>2</th>\n",
       "      <td>2</td>\n",
       "      <td>2</td>\n",
       "      <td>1</td>\n",
       "    </tr>\n",
       "    <tr>\n",
       "      <th>3</th>\n",
       "      <td>1</td>\n",
       "      <td>0</td>\n",
       "      <td>0</td>\n",
       "    </tr>\n",
       "    <tr>\n",
       "      <th>4</th>\n",
       "      <td>2</td>\n",
       "      <td>1</td>\n",
       "      <td>1</td>\n",
       "    </tr>\n",
       "  </tbody>\n",
       "</table>\n",
       "</div>"
      ],
      "text/plain": [
       "   X0  X1  label\n",
       "0   0   0      0\n",
       "1   1   2      1\n",
       "2   2   2      1\n",
       "3   1   0      0\n",
       "4   2   1      1"
      ]
     },
     "execution_count": 50,
     "metadata": {},
     "output_type": "execute_result"
    }
   ],
   "source": [
    "df = pd.DataFrame(dict(X0=X0, X1=X1, label=label_values))\n",
    "df"
   ]
  },
  {
   "cell_type": "code",
   "execution_count": 51,
   "id": "08876924",
   "metadata": {},
   "outputs": [
    {
     "data": {
      "image/png": "[encoded data removed]",
      "text/plain": [
       "<Figure size 432x288 with 1 Axes>"
      ]
     },
     "metadata": {
      "needs_background": "light"
     },
     "output_type": "display_data"
    }
   ],
   "source": [
    "fig, ax = plt.subplots()\n",
    "ax.margins(0.05)\n",
    "groups = df.groupby('label')\n",
    "for label, group in groups:\n",
    "    ax.plot(group.X0, group.X1, marker='o', linestyle='', ms=12, label=label)\n",
    "ax.legend()\n",
    "plt.show()    "
   ]
  },
  {
   "cell_type": "markdown",
   "id": "4eb559f9",
   "metadata": {},
   "source": [
    "Entrenamos con nuestros datos un modelo SVM."
   ]
  },
  {
   "cell_type": "code",
   "execution_count": 52,
   "id": "e12a7bbd",
   "metadata": {},
   "outputs": [
    {
     "data": {
      "text/plain": [
       "[[0, 0], [1, 2], [2, 2], [1, 0], [2, 1]]"
      ]
     },
     "execution_count": 52,
     "metadata": {},
     "output_type": "execute_result"
    }
   ],
   "source": [
    "X"
   ]
  },
  {
   "cell_type": "code",
   "execution_count": 53,
   "id": "cb59640e",
   "metadata": {},
   "outputs": [
    {
     "data": {
      "text/plain": [
       "[0, 1, 1, 0, 1]"
      ]
     },
     "execution_count": 53,
     "metadata": {},
     "output_type": "execute_result"
    }
   ],
   "source": [
    "label_values"
   ]
  },
  {
   "cell_type": "code",
   "execution_count": 54,
   "id": "c61bef26",
   "metadata": {},
   "outputs": [
    {
     "data": {
      "text/plain": [
       "SVC()"
      ]
     },
     "execution_count": 54,
     "metadata": {},
     "output_type": "execute_result"
    }
   ],
   "source": [
    "clf = svm.SVC()\n",
    "clf.fit(X, label_values)"
   ]
  },
  {
   "cell_type": "markdown",
   "id": "ffd14e0b",
   "metadata": {},
   "source": [
    "Predecimos la nueva clase con nuestro modelo entrenado."
   ]
  },
  {
   "cell_type": "code",
   "execution_count": 62,
   "id": "8ddd51c1",
   "metadata": {},
   "outputs": [],
   "source": [
    "new_obs = [[3, 2]]"
   ]
  },
  {
   "cell_type": "code",
   "execution_count": 64,
   "id": "16853a81",
   "metadata": {
    "id": "16853a81"
   },
   "outputs": [
    {
     "data": {
      "text/plain": [
       "array([1])"
      ]
     },
     "execution_count": 64,
     "metadata": {},
     "output_type": "execute_result"
    }
   ],
   "source": [
    "clf.predict(new_obs)"
   ]
  },
  {
   "cell_type": "code",
   "execution_count": 72,
   "id": "5c784cb6",
   "metadata": {},
   "outputs": [
    {
     "data": {
      "image/png": "[encoded data removed]",
      "text/plain": [
       "<Figure size 432x288 with 1 Axes>"
      ]
     },
     "metadata": {
      "needs_background": "light"
     },
     "output_type": "display_data"
    }
   ],
   "source": [
    "fig, ax = plt.subplots()\n",
    "ax.margins(0.05)\n",
    "groups = df.groupby('label')\n",
    "for label, group in groups:\n",
    "    ax.plot(group.X0, group.X1, marker='o', linestyle='', ms=12, label=label)\n",
    "ax.plot(new_obs[0][0], new_obs[0][1], marker='o', linestyle='', ms=12)    \n",
    "ax.legend()\n",
    "plt.show()    "
   ]
  },
  {
   "cell_type": "code",
   "execution_count": null,
   "id": "c95e0985",
   "metadata": {},
   "outputs": [],
   "source": []
  }
 ],
 "metadata": {
  "colab": {
   "name": "IntroduccionDS_ArbolesDecision.ipynb",
   "provenance": []
  },
  "kernelspec": {
   "display_name": "Python 3",
   "language": "python",
   "name": "python3"
  },
  "language_info": {
   "codemirror_mode": {
    "name": "ipython",
    "version": 3
   },
   "file_extension": ".py",
   "mimetype": "text/x-python",
   "name": "python",
   "nbconvert_exporter": "python",
   "pygments_lexer": "ipython3",
   "version": "3.8.8"
  }
 },
 "nbformat": 4,
 "nbformat_minor": 5
}
