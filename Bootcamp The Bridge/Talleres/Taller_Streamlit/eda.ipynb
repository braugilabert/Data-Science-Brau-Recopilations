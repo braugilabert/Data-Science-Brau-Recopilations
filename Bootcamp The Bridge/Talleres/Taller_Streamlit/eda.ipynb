{
 "cells": [
  {
   "cell_type": "code",
   "execution_count": 2,
   "metadata": {},
   "outputs": [],
   "source": [
    "import pandas as pd\n",
    "import plotly.express as px\n",
    "import numpy as np \n",
    "import seaborn as sns\n",
    "import matplotlib.pyplot as plt"
   ]
  },
  {
   "cell_type": "code",
   "execution_count": 3,
   "metadata": {},
   "outputs": [
    {
     "data": {
      "text/html": [
       "<div>\n",
       "<style scoped>\n",
       "    .dataframe tbody tr th:only-of-type {\n",
       "        vertical-align: middle;\n",
       "    }\n",
       "\n",
       "    .dataframe tbody tr th {\n",
       "        vertical-align: top;\n",
       "    }\n",
       "\n",
       "    .dataframe thead th {\n",
       "        text-align: right;\n",
       "    }\n",
       "</style>\n",
       "<table border=\"1\" class=\"dataframe\">\n",
       "  <thead>\n",
       "    <tr style=\"text-align: right;\">\n",
       "      <th></th>\n",
       "      <th>Nombre del Resort</th>\n",
       "      <th>Rate</th>\n",
       "      <th>Estrellas</th>\n",
       "      <th>Km de Freeride</th>\n",
       "      <th>Continente</th>\n",
       "      <th>Pais</th>\n",
       "      <th>Estado</th>\n",
       "      <th>Altitud</th>\n",
       "      <th>Facil</th>\n",
       "      <th>Intermedio</th>\n",
       "      <th>...</th>\n",
       "      <th>Fiabilidad de la nieve</th>\n",
       "      <th>Orientacion de mapas</th>\n",
       "      <th>Limpieza e higiene</th>\n",
       "      <th>Apres-ski</th>\n",
       "      <th>Snow parks</th>\n",
       "      <th>Esqui de fondo y senderos</th>\n",
       "      <th>pais</th>\n",
       "      <th>latitude</th>\n",
       "      <th>longitude</th>\n",
       "      <th>ISO Code</th>\n",
       "    </tr>\n",
       "  </thead>\n",
       "  <tbody>\n",
       "    <tr>\n",
       "      <th>0</th>\n",
       "      <td>KitzSki – Kitzbühel/Kirchberg</td>\n",
       "      <td>4.9</td>\n",
       "      <td>5.0</td>\n",
       "      <td>45.0</td>\n",
       "      <td>Europe</td>\n",
       "      <td>Austria</td>\n",
       "      <td>Tyrol (Tirol)</td>\n",
       "      <td>2000.0</td>\n",
       "      <td>101.0</td>\n",
       "      <td>61.0</td>\n",
       "      <td>...</td>\n",
       "      <td>5.0</td>\n",
       "      <td>5.0</td>\n",
       "      <td>5.0</td>\n",
       "      <td>4.0</td>\n",
       "      <td>5.0</td>\n",
       "      <td>5.0</td>\n",
       "      <td>AT</td>\n",
       "      <td>47.516231</td>\n",
       "      <td>14.550072</td>\n",
       "      <td>AUT</td>\n",
       "    </tr>\n",
       "    <tr>\n",
       "      <th>1</th>\n",
       "      <td>Ischgl/Samnaun – Silvretta Arena</td>\n",
       "      <td>4.8</td>\n",
       "      <td>5.0</td>\n",
       "      <td>15.0</td>\n",
       "      <td>Europe</td>\n",
       "      <td>Austria</td>\n",
       "      <td>Tyrol (Tirol)</td>\n",
       "      <td>2872.0</td>\n",
       "      <td>47.0</td>\n",
       "      <td>142.0</td>\n",
       "      <td>...</td>\n",
       "      <td>5.0</td>\n",
       "      <td>5.0</td>\n",
       "      <td>5.0</td>\n",
       "      <td>5.0</td>\n",
       "      <td>5.0</td>\n",
       "      <td>4.0</td>\n",
       "      <td>AT</td>\n",
       "      <td>47.516231</td>\n",
       "      <td>14.550072</td>\n",
       "      <td>AUT</td>\n",
       "    </tr>\n",
       "    <tr>\n",
       "      <th>2</th>\n",
       "      <td>SkiWelt Wilder Kaiser-Brixental</td>\n",
       "      <td>4.8</td>\n",
       "      <td>5.0</td>\n",
       "      <td>26.0</td>\n",
       "      <td>Europe</td>\n",
       "      <td>Austria</td>\n",
       "      <td>Tyrol (Tirol)</td>\n",
       "      <td>1957.0</td>\n",
       "      <td>122.0</td>\n",
       "      <td>129.0</td>\n",
       "      <td>...</td>\n",
       "      <td>4.0</td>\n",
       "      <td>4.0</td>\n",
       "      <td>5.0</td>\n",
       "      <td>4.0</td>\n",
       "      <td>5.0</td>\n",
       "      <td>5.0</td>\n",
       "      <td>AT</td>\n",
       "      <td>47.516231</td>\n",
       "      <td>14.550072</td>\n",
       "      <td>AUT</td>\n",
       "    </tr>\n",
       "    <tr>\n",
       "      <th>3</th>\n",
       "      <td>St. Anton/St. Christoph/Stuben/Lech/Zürs/Warth...</td>\n",
       "      <td>4.8</td>\n",
       "      <td>5.0</td>\n",
       "      <td>200.0</td>\n",
       "      <td>Europe</td>\n",
       "      <td>Austria</td>\n",
       "      <td>Tyrol (Tirol)</td>\n",
       "      <td>2811.0</td>\n",
       "      <td>132.0</td>\n",
       "      <td>123.0</td>\n",
       "      <td>...</td>\n",
       "      <td>5.0</td>\n",
       "      <td>4.0</td>\n",
       "      <td>4.0</td>\n",
       "      <td>5.0</td>\n",
       "      <td>4.0</td>\n",
       "      <td>4.0</td>\n",
       "      <td>AT</td>\n",
       "      <td>47.516231</td>\n",
       "      <td>14.550072</td>\n",
       "      <td>AUT</td>\n",
       "    </tr>\n",
       "    <tr>\n",
       "      <th>4</th>\n",
       "      <td>Serfaus-Fiss-Ladis</td>\n",
       "      <td>4.8</td>\n",
       "      <td>5.0</td>\n",
       "      <td>28.0</td>\n",
       "      <td>Europe</td>\n",
       "      <td>Austria</td>\n",
       "      <td>Tyrol (Tirol)</td>\n",
       "      <td>2820.0</td>\n",
       "      <td>47.0</td>\n",
       "      <td>123.0</td>\n",
       "      <td>...</td>\n",
       "      <td>5.0</td>\n",
       "      <td>5.0</td>\n",
       "      <td>4.0</td>\n",
       "      <td>4.0</td>\n",
       "      <td>5.0</td>\n",
       "      <td>4.0</td>\n",
       "      <td>AT</td>\n",
       "      <td>47.516231</td>\n",
       "      <td>14.550072</td>\n",
       "      <td>AUT</td>\n",
       "    </tr>\n",
       "    <tr>\n",
       "      <th>...</th>\n",
       "      <td>...</td>\n",
       "      <td>...</td>\n",
       "      <td>...</td>\n",
       "      <td>...</td>\n",
       "      <td>...</td>\n",
       "      <td>...</td>\n",
       "      <td>...</td>\n",
       "      <td>...</td>\n",
       "      <td>...</td>\n",
       "      <td>...</td>\n",
       "      <td>...</td>\n",
       "      <td>...</td>\n",
       "      <td>...</td>\n",
       "      <td>...</td>\n",
       "      <td>...</td>\n",
       "      <td>...</td>\n",
       "      <td>...</td>\n",
       "      <td>...</td>\n",
       "      <td>...</td>\n",
       "      <td>...</td>\n",
       "      <td>...</td>\n",
       "    </tr>\n",
       "    <tr>\n",
       "      <th>3112</th>\n",
       "      <td>ski-egypt</td>\n",
       "      <td>1.2</td>\n",
       "      <td>NaN</td>\n",
       "      <td>NaN</td>\n",
       "      <td>Africa</td>\n",
       "      <td>Egypt</td>\n",
       "      <td>Egypt</td>\n",
       "      <td>180.0</td>\n",
       "      <td>0.5</td>\n",
       "      <td>0.0</td>\n",
       "      <td>...</td>\n",
       "      <td>NaN</td>\n",
       "      <td>NaN</td>\n",
       "      <td>NaN</td>\n",
       "      <td>NaN</td>\n",
       "      <td>NaN</td>\n",
       "      <td>NaN</td>\n",
       "      <td>EG</td>\n",
       "      <td>26.820553</td>\n",
       "      <td>30.802498</td>\n",
       "      <td>EGY</td>\n",
       "    </tr>\n",
       "    <tr>\n",
       "      <th>3113</th>\n",
       "      <td>ski-mountain-park-sao-roque</td>\n",
       "      <td>1.1</td>\n",
       "      <td>NaN</td>\n",
       "      <td>NaN</td>\n",
       "      <td>South America</td>\n",
       "      <td>Brazil</td>\n",
       "      <td>Sao Paulo</td>\n",
       "      <td>1230.0</td>\n",
       "      <td>0.3</td>\n",
       "      <td>0.0</td>\n",
       "      <td>...</td>\n",
       "      <td>NaN</td>\n",
       "      <td>NaN</td>\n",
       "      <td>NaN</td>\n",
       "      <td>NaN</td>\n",
       "      <td>NaN</td>\n",
       "      <td>NaN</td>\n",
       "      <td>BR</td>\n",
       "      <td>-14.235004</td>\n",
       "      <td>-51.925280</td>\n",
       "      <td>BRA</td>\n",
       "    </tr>\n",
       "    <tr>\n",
       "      <th>3114</th>\n",
       "      <td>snowland-gramado</td>\n",
       "      <td>1.0</td>\n",
       "      <td>NaN</td>\n",
       "      <td>NaN</td>\n",
       "      <td>South America</td>\n",
       "      <td>Brazil</td>\n",
       "      <td>Rio Grande do Sul</td>\n",
       "      <td>780.0</td>\n",
       "      <td>0.1</td>\n",
       "      <td>0.0</td>\n",
       "      <td>...</td>\n",
       "      <td>NaN</td>\n",
       "      <td>NaN</td>\n",
       "      <td>NaN</td>\n",
       "      <td>NaN</td>\n",
       "      <td>NaN</td>\n",
       "      <td>NaN</td>\n",
       "      <td>BR</td>\n",
       "      <td>-14.235004</td>\n",
       "      <td>-51.925280</td>\n",
       "      <td>BRA</td>\n",
       "    </tr>\n",
       "    <tr>\n",
       "      <th>3115</th>\n",
       "      <td>sky-resort-ulaanbaatar</td>\n",
       "      <td>2.0</td>\n",
       "      <td>NaN</td>\n",
       "      <td>2.0</td>\n",
       "      <td>Asia</td>\n",
       "      <td>Mongolia</td>\n",
       "      <td>Ulaanbaatar</td>\n",
       "      <td>1596.0</td>\n",
       "      <td>3.0</td>\n",
       "      <td>2.0</td>\n",
       "      <td>...</td>\n",
       "      <td>4.0</td>\n",
       "      <td>4.0</td>\n",
       "      <td>5.0</td>\n",
       "      <td>1.0</td>\n",
       "      <td>1.0</td>\n",
       "      <td>2.0</td>\n",
       "      <td>MN</td>\n",
       "      <td>46.862496</td>\n",
       "      <td>103.846656</td>\n",
       "      <td>MNG</td>\n",
       "    </tr>\n",
       "    <tr>\n",
       "      <th>3116</th>\n",
       "      <td>troodos-mount-olympos</td>\n",
       "      <td>1.5</td>\n",
       "      <td>NaN</td>\n",
       "      <td>NaN</td>\n",
       "      <td>Asia</td>\n",
       "      <td>Cyprus</td>\n",
       "      <td>Cyprus</td>\n",
       "      <td>1951.0</td>\n",
       "      <td>1.0</td>\n",
       "      <td>2.0</td>\n",
       "      <td>...</td>\n",
       "      <td>NaN</td>\n",
       "      <td>NaN</td>\n",
       "      <td>NaN</td>\n",
       "      <td>NaN</td>\n",
       "      <td>NaN</td>\n",
       "      <td>NaN</td>\n",
       "      <td>CY</td>\n",
       "      <td>35.126413</td>\n",
       "      <td>33.429859</td>\n",
       "      <td>CYP</td>\n",
       "    </tr>\n",
       "  </tbody>\n",
       "</table>\n",
       "<p>3117 rows × 26 columns</p>\n",
       "</div>"
      ],
      "text/plain": [
       "                                      Nombre del Resort  Rate  Estrellas  \\\n",
       "0                         KitzSki – Kitzbühel/Kirchberg   4.9        5.0   \n",
       "1                      Ischgl/Samnaun – Silvretta Arena   4.8        5.0   \n",
       "2                       SkiWelt Wilder Kaiser-Brixental   4.8        5.0   \n",
       "3     St. Anton/St. Christoph/Stuben/Lech/Zürs/Warth...   4.8        5.0   \n",
       "4                                    Serfaus-Fiss-Ladis   4.8        5.0   \n",
       "...                                                 ...   ...        ...   \n",
       "3112                                          ski-egypt   1.2        NaN   \n",
       "3113                        ski-mountain-park-sao-roque   1.1        NaN   \n",
       "3114                                   snowland-gramado   1.0        NaN   \n",
       "3115                             sky-resort-ulaanbaatar   2.0        NaN   \n",
       "3116                              troodos-mount-olympos   1.5        NaN   \n",
       "\n",
       "      Km de Freeride     Continente      Pais             Estado  Altitud  \\\n",
       "0               45.0         Europe   Austria      Tyrol (Tirol)   2000.0   \n",
       "1               15.0         Europe   Austria      Tyrol (Tirol)   2872.0   \n",
       "2               26.0         Europe   Austria      Tyrol (Tirol)   1957.0   \n",
       "3              200.0         Europe   Austria      Tyrol (Tirol)   2811.0   \n",
       "4               28.0         Europe   Austria      Tyrol (Tirol)   2820.0   \n",
       "...              ...            ...       ...                ...      ...   \n",
       "3112             NaN         Africa     Egypt              Egypt    180.0   \n",
       "3113             NaN  South America    Brazil          Sao Paulo   1230.0   \n",
       "3114             NaN  South America    Brazil  Rio Grande do Sul    780.0   \n",
       "3115             2.0           Asia  Mongolia        Ulaanbaatar   1596.0   \n",
       "3116             NaN           Asia    Cyprus             Cyprus   1951.0   \n",
       "\n",
       "      Facil  Intermedio  ...  Fiabilidad de la nieve  Orientacion de mapas  \\\n",
       "0     101.0        61.0  ...                     5.0                   5.0   \n",
       "1      47.0       142.0  ...                     5.0                   5.0   \n",
       "2     122.0       129.0  ...                     4.0                   4.0   \n",
       "3     132.0       123.0  ...                     5.0                   4.0   \n",
       "4      47.0       123.0  ...                     5.0                   5.0   \n",
       "...     ...         ...  ...                     ...                   ...   \n",
       "3112    0.5         0.0  ...                     NaN                   NaN   \n",
       "3113    0.3         0.0  ...                     NaN                   NaN   \n",
       "3114    0.1         0.0  ...                     NaN                   NaN   \n",
       "3115    3.0         2.0  ...                     4.0                   4.0   \n",
       "3116    1.0         2.0  ...                     NaN                   NaN   \n",
       "\n",
       "      Limpieza e higiene Apres-ski  Snow parks  Esqui de fondo y senderos  \\\n",
       "0                    5.0       4.0         5.0                        5.0   \n",
       "1                    5.0       5.0         5.0                        4.0   \n",
       "2                    5.0       4.0         5.0                        5.0   \n",
       "3                    4.0       5.0         4.0                        4.0   \n",
       "4                    4.0       4.0         5.0                        4.0   \n",
       "...                  ...       ...         ...                        ...   \n",
       "3112                 NaN       NaN         NaN                        NaN   \n",
       "3113                 NaN       NaN         NaN                        NaN   \n",
       "3114                 NaN       NaN         NaN                        NaN   \n",
       "3115                 5.0       1.0         1.0                        2.0   \n",
       "3116                 NaN       NaN         NaN                        NaN   \n",
       "\n",
       "      pais   latitude   longitude  ISO Code  \n",
       "0       AT  47.516231   14.550072       AUT  \n",
       "1       AT  47.516231   14.550072       AUT  \n",
       "2       AT  47.516231   14.550072       AUT  \n",
       "3       AT  47.516231   14.550072       AUT  \n",
       "4       AT  47.516231   14.550072       AUT  \n",
       "...    ...        ...         ...       ...  \n",
       "3112    EG  26.820553   30.802498       EGY  \n",
       "3113    BR -14.235004  -51.925280       BRA  \n",
       "3114    BR -14.235004  -51.925280       BRA  \n",
       "3115    MN  46.862496  103.846656       MNG  \n",
       "3116    CY  35.126413   33.429859       CYP  \n",
       "\n",
       "[3117 rows x 26 columns]"
      ]
     },
     "execution_count": 3,
     "metadata": {},
     "output_type": "execute_result"
    }
   ],
   "source": [
    "pistas =pd.read_csv('data/pistas.csv')\n",
    "pistas"
   ]
  },
  {
   "cell_type": "code",
   "execution_count": 107,
   "metadata": {},
   "outputs": [
    {
     "data": {
      "text/html": [
       "<div>\n",
       "<style scoped>\n",
       "    .dataframe tbody tr th:only-of-type {\n",
       "        vertical-align: middle;\n",
       "    }\n",
       "\n",
       "    .dataframe tbody tr th {\n",
       "        vertical-align: top;\n",
       "    }\n",
       "\n",
       "    .dataframe thead th {\n",
       "        text-align: right;\n",
       "    }\n",
       "</style>\n",
       "<table border=\"1\" class=\"dataframe\">\n",
       "  <thead>\n",
       "    <tr style=\"text-align: right;\">\n",
       "      <th></th>\n",
       "      <th>Nombre del Resort</th>\n",
       "      <th>Continente</th>\n",
       "      <th>Altitud</th>\n",
       "      <th>Km de Freeride</th>\n",
       "    </tr>\n",
       "  </thead>\n",
       "  <tbody>\n",
       "    <tr>\n",
       "      <th>3608</th>\n",
       "      <td>breckenridge</td>\n",
       "      <td>North America</td>\n",
       "      <td>3914.0</td>\n",
       "      <td>5.0</td>\n",
       "    </tr>\n",
       "    <tr>\n",
       "      <th>436</th>\n",
       "      <td>Matterhorn</td>\n",
       "      <td>Europe</td>\n",
       "      <td>3899.0</td>\n",
       "      <td>38.0</td>\n",
       "    </tr>\n",
       "    <tr>\n",
       "      <th>3769</th>\n",
       "      <td>loveland</td>\n",
       "      <td>North America</td>\n",
       "      <td>3871.0</td>\n",
       "      <td>4.0</td>\n",
       "    </tr>\n",
       "    <tr>\n",
       "      <th>1166</th>\n",
       "      <td>aiguille-du-midi-chamonix</td>\n",
       "      <td>Europe</td>\n",
       "      <td>3842.0</td>\n",
       "      <td>NaN</td>\n",
       "    </tr>\n",
       "    <tr>\n",
       "      <th>3986</th>\n",
       "      <td>telluride</td>\n",
       "      <td>North America</td>\n",
       "      <td>3815.0</td>\n",
       "      <td>5.0</td>\n",
       "    </tr>\n",
       "    <tr>\n",
       "      <th>...</th>\n",
       "      <td>...</td>\n",
       "      <td>...</td>\n",
       "      <td>...</td>\n",
       "      <td>...</td>\n",
       "    </tr>\n",
       "    <tr>\n",
       "      <th>5068</th>\n",
       "      <td>guangxiang</td>\n",
       "      <td>Asia</td>\n",
       "      <td>0.0</td>\n",
       "      <td>NaN</td>\n",
       "    </tr>\n",
       "    <tr>\n",
       "      <th>2781</th>\n",
       "      <td>pekarov</td>\n",
       "      <td>Europe</td>\n",
       "      <td>0.0</td>\n",
       "      <td>NaN</td>\n",
       "    </tr>\n",
       "    <tr>\n",
       "      <th>1453</th>\n",
       "      <td>borici-sjenica</td>\n",
       "      <td>Europe</td>\n",
       "      <td>0.0</td>\n",
       "      <td>NaN</td>\n",
       "    </tr>\n",
       "    <tr>\n",
       "      <th>4381</th>\n",
       "      <td>maeyama</td>\n",
       "      <td>Asia</td>\n",
       "      <td>0.0</td>\n",
       "      <td>NaN</td>\n",
       "    </tr>\n",
       "    <tr>\n",
       "      <th>5393</th>\n",
       "      <td>snoworld-marina-mall-abu-dhabi-planned</td>\n",
       "      <td>Asia</td>\n",
       "      <td>0.0</td>\n",
       "      <td>NaN</td>\n",
       "    </tr>\n",
       "  </tbody>\n",
       "</table>\n",
       "<p>3117 rows × 4 columns</p>\n",
       "</div>"
      ],
      "text/plain": [
       "                           Nombre del Resort     Continente  Altitud  \\\n",
       "3608                            breckenridge  North America   3914.0   \n",
       "436                               Matterhorn         Europe   3899.0   \n",
       "3769                                loveland  North America   3871.0   \n",
       "1166               aiguille-du-midi-chamonix         Europe   3842.0   \n",
       "3986                               telluride  North America   3815.0   \n",
       "...                                      ...            ...      ...   \n",
       "5068                              guangxiang           Asia      0.0   \n",
       "2781                                 pekarov         Europe      0.0   \n",
       "1453                          borici-sjenica         Europe      0.0   \n",
       "4381                                 maeyama           Asia      0.0   \n",
       "5393  snoworld-marina-mall-abu-dhabi-planned           Asia      0.0   \n",
       "\n",
       "      Km de Freeride  \n",
       "3608             5.0  \n",
       "436             38.0  \n",
       "3769             4.0  \n",
       "1166             NaN  \n",
       "3986             5.0  \n",
       "...              ...  \n",
       "5068             NaN  \n",
       "2781             NaN  \n",
       "1453             NaN  \n",
       "4381             NaN  \n",
       "5393             NaN  \n",
       "\n",
       "[3117 rows x 4 columns]"
      ]
     },
     "execution_count": 107,
     "metadata": {},
     "output_type": "execute_result"
    }
   ],
   "source": [
    "# Altitud de las montañas\n",
    "altitud = pistas[['Nombre del Resort','Continente','Altitud','Km de Freeride']].sort_values(ascending=False,by='Altitud')\n",
    "#altitud.dropna(inplace=True)\n",
    "altitud"
   ]
  },
  {
   "cell_type": "code",
   "execution_count": 113,
   "metadata": {},
   "outputs": [
    {
     "data": {
      "application/vnd.plotly.v1+json": {
       "config": {
        "plotlyServerURL": "https://plot.ly"
       },
       "data": [
        {
         "alignmentgroup": "True",
         "customdata": [
          [
           "North America"
          ],
          [
           "North America"
          ],
          [
           "North America"
          ],
          [
           "North America"
          ],
          [
           "North America"
          ],
          [
           "North America"
          ],
          [
           "North America"
          ]
         ],
         "hovertemplate": "Continente=%{customdata[0]}<br>Resort=%{x}<br>Altitud=%{text}<extra></extra>",
         "legendgroup": "North America",
         "marker": {
          "color": "#636efa",
          "pattern": {
           "shape": ""
          }
         },
         "name": "North America",
         "offsetgroup": "North America",
         "orientation": "v",
         "showlegend": true,
         "text": [
          3914,
          3871,
          3815,
          3813,
          3790,
          3676,
          3651
         ],
         "textposition": "auto",
         "type": "bar",
         "x": [
          "breckenridge",
          "loveland",
          "telluride",
          "snowmass",
          "arapahoe-basin",
          "winter-park-resort",
          "keystone"
         ],
         "xaxis": "x",
         "y": [
          3914,
          3871,
          3815,
          3813,
          3790,
          3676,
          3651
         ],
         "yaxis": "y"
        },
        {
         "alignmentgroup": "True",
         "customdata": [
          [
           "Europe"
          ],
          [
           "Europe"
          ]
         ],
         "hovertemplate": "Continente=%{customdata[0]}<br>Resort=%{x}<br>Altitud=%{text}<extra></extra>",
         "legendgroup": "Europe",
         "marker": {
          "color": "#EF553B",
          "pattern": {
           "shape": ""
          }
         },
         "name": "Europe",
         "offsetgroup": "Europe",
         "orientation": "v",
         "showlegend": true,
         "text": [
          3899,
          3842
         ],
         "textposition": "auto",
         "type": "bar",
         "x": [
          "Matterhorn",
          "aiguille-du-midi-chamonix"
         ],
         "xaxis": "x",
         "y": [
          3899,
          3842
         ],
         "yaxis": "y"
        },
        {
         "alignmentgroup": "True",
         "customdata": [
          [
           "South America"
          ]
         ],
         "hovertemplate": "Continente=%{customdata[0]}<br>Resort=%{x}<br>Altitud=%{text}<extra></extra>",
         "legendgroup": "South America",
         "marker": {
          "color": "#00cc96",
          "pattern": {
           "shape": ""
          }
         },
         "name": "South America",
         "offsetgroup": "South America",
         "orientation": "v",
         "showlegend": true,
         "text": [
          3670
         ],
         "textposition": "auto",
         "type": "bar",
         "x": [
          "valle-nevado"
         ],
         "xaxis": "x",
         "y": [
          3670
         ],
         "yaxis": "y"
        }
       ],
       "layout": {
        "barmode": "relative",
        "height": 800,
        "legend": {
         "title": {
          "text": "Continente"
         },
         "tracegroupgap": 0
        },
        "margin": {
         "t": 60
        },
        "template": {
         "data": {
          "bar": [
           {
            "error_x": {
             "color": "#2a3f5f"
            },
            "error_y": {
             "color": "#2a3f5f"
            },
            "marker": {
             "line": {
              "color": "#E5ECF6",
              "width": 0.5
             },
             "pattern": {
              "fillmode": "overlay",
              "size": 10,
              "solidity": 0.2
             }
            },
            "type": "bar"
           }
          ],
          "barpolar": [
           {
            "marker": {
             "line": {
              "color": "#E5ECF6",
              "width": 0.5
             },
             "pattern": {
              "fillmode": "overlay",
              "size": 10,
              "solidity": 0.2
             }
            },
            "type": "barpolar"
           }
          ],
          "carpet": [
           {
            "aaxis": {
             "endlinecolor": "#2a3f5f",
             "gridcolor": "white",
             "linecolor": "white",
             "minorgridcolor": "white",
             "startlinecolor": "#2a3f5f"
            },
            "baxis": {
             "endlinecolor": "#2a3f5f",
             "gridcolor": "white",
             "linecolor": "white",
             "minorgridcolor": "white",
             "startlinecolor": "#2a3f5f"
            },
            "type": "carpet"
           }
          ],
          "choropleth": [
           {
            "colorbar": {
             "outlinewidth": 0,
             "ticks": ""
            },
            "type": "choropleth"
           }
          ],
          "contour": [
           {
            "colorbar": {
             "outlinewidth": 0,
             "ticks": ""
            },
            "colorscale": [
             [
              0,
              "#0d0887"
             ],
             [
              0.1111111111111111,
              "#46039f"
             ],
             [
              0.2222222222222222,
              "#7201a8"
             ],
             [
              0.3333333333333333,
              "#9c179e"
             ],
             [
              0.4444444444444444,
              "#bd3786"
             ],
             [
              0.5555555555555556,
              "#d8576b"
             ],
             [
              0.6666666666666666,
              "#ed7953"
             ],
             [
              0.7777777777777778,
              "#fb9f3a"
             ],
             [
              0.8888888888888888,
              "#fdca26"
             ],
             [
              1,
              "#f0f921"
             ]
            ],
            "type": "contour"
           }
          ],
          "contourcarpet": [
           {
            "colorbar": {
             "outlinewidth": 0,
             "ticks": ""
            },
            "type": "contourcarpet"
           }
          ],
          "heatmap": [
           {
            "colorbar": {
             "outlinewidth": 0,
             "ticks": ""
            },
            "colorscale": [
             [
              0,
              "#0d0887"
             ],
             [
              0.1111111111111111,
              "#46039f"
             ],
             [
              0.2222222222222222,
              "#7201a8"
             ],
             [
              0.3333333333333333,
              "#9c179e"
             ],
             [
              0.4444444444444444,
              "#bd3786"
             ],
             [
              0.5555555555555556,
              "#d8576b"
             ],
             [
              0.6666666666666666,
              "#ed7953"
             ],
             [
              0.7777777777777778,
              "#fb9f3a"
             ],
             [
              0.8888888888888888,
              "#fdca26"
             ],
             [
              1,
              "#f0f921"
             ]
            ],
            "type": "heatmap"
           }
          ],
          "heatmapgl": [
           {
            "colorbar": {
             "outlinewidth": 0,
             "ticks": ""
            },
            "colorscale": [
             [
              0,
              "#0d0887"
             ],
             [
              0.1111111111111111,
              "#46039f"
             ],
             [
              0.2222222222222222,
              "#7201a8"
             ],
             [
              0.3333333333333333,
              "#9c179e"
             ],
             [
              0.4444444444444444,
              "#bd3786"
             ],
             [
              0.5555555555555556,
              "#d8576b"
             ],
             [
              0.6666666666666666,
              "#ed7953"
             ],
             [
              0.7777777777777778,
              "#fb9f3a"
             ],
             [
              0.8888888888888888,
              "#fdca26"
             ],
             [
              1,
              "#f0f921"
             ]
            ],
            "type": "heatmapgl"
           }
          ],
          "histogram": [
           {
            "marker": {
             "pattern": {
              "fillmode": "overlay",
              "size": 10,
              "solidity": 0.2
             }
            },
            "type": "histogram"
           }
          ],
          "histogram2d": [
           {
            "colorbar": {
             "outlinewidth": 0,
             "ticks": ""
            },
            "colorscale": [
             [
              0,
              "#0d0887"
             ],
             [
              0.1111111111111111,
              "#46039f"
             ],
             [
              0.2222222222222222,
              "#7201a8"
             ],
             [
              0.3333333333333333,
              "#9c179e"
             ],
             [
              0.4444444444444444,
              "#bd3786"
             ],
             [
              0.5555555555555556,
              "#d8576b"
             ],
             [
              0.6666666666666666,
              "#ed7953"
             ],
             [
              0.7777777777777778,
              "#fb9f3a"
             ],
             [
              0.8888888888888888,
              "#fdca26"
             ],
             [
              1,
              "#f0f921"
             ]
            ],
            "type": "histogram2d"
           }
          ],
          "histogram2dcontour": [
           {
            "colorbar": {
             "outlinewidth": 0,
             "ticks": ""
            },
            "colorscale": [
             [
              0,
              "#0d0887"
             ],
             [
              0.1111111111111111,
              "#46039f"
             ],
             [
              0.2222222222222222,
              "#7201a8"
             ],
             [
              0.3333333333333333,
              "#9c179e"
             ],
             [
              0.4444444444444444,
              "#bd3786"
             ],
             [
              0.5555555555555556,
              "#d8576b"
             ],
             [
              0.6666666666666666,
              "#ed7953"
             ],
             [
              0.7777777777777778,
              "#fb9f3a"
             ],
             [
              0.8888888888888888,
              "#fdca26"
             ],
             [
              1,
              "#f0f921"
             ]
            ],
            "type": "histogram2dcontour"
           }
          ],
          "mesh3d": [
           {
            "colorbar": {
             "outlinewidth": 0,
             "ticks": ""
            },
            "type": "mesh3d"
           }
          ],
          "parcoords": [
           {
            "line": {
             "colorbar": {
              "outlinewidth": 0,
              "ticks": ""
             }
            },
            "type": "parcoords"
           }
          ],
          "pie": [
           {
            "automargin": true,
            "type": "pie"
           }
          ],
          "scatter": [
           {
            "fillpattern": {
             "fillmode": "overlay",
             "size": 10,
             "solidity": 0.2
            },
            "type": "scatter"
           }
          ],
          "scatter3d": [
           {
            "line": {
             "colorbar": {
              "outlinewidth": 0,
              "ticks": ""
             }
            },
            "marker": {
             "colorbar": {
              "outlinewidth": 0,
              "ticks": ""
             }
            },
            "type": "scatter3d"
           }
          ],
          "scattercarpet": [
           {
            "marker": {
             "colorbar": {
              "outlinewidth": 0,
              "ticks": ""
             }
            },
            "type": "scattercarpet"
           }
          ],
          "scattergeo": [
           {
            "marker": {
             "colorbar": {
              "outlinewidth": 0,
              "ticks": ""
             }
            },
            "type": "scattergeo"
           }
          ],
          "scattergl": [
           {
            "marker": {
             "colorbar": {
              "outlinewidth": 0,
              "ticks": ""
             }
            },
            "type": "scattergl"
           }
          ],
          "scattermapbox": [
           {
            "marker": {
             "colorbar": {
              "outlinewidth": 0,
              "ticks": ""
             }
            },
            "type": "scattermapbox"
           }
          ],
          "scatterpolar": [
           {
            "marker": {
             "colorbar": {
              "outlinewidth": 0,
              "ticks": ""
             }
            },
            "type": "scatterpolar"
           }
          ],
          "scatterpolargl": [
           {
            "marker": {
             "colorbar": {
              "outlinewidth": 0,
              "ticks": ""
             }
            },
            "type": "scatterpolargl"
           }
          ],
          "scatterternary": [
           {
            "marker": {
             "colorbar": {
              "outlinewidth": 0,
              "ticks": ""
             }
            },
            "type": "scatterternary"
           }
          ],
          "surface": [
           {
            "colorbar": {
             "outlinewidth": 0,
             "ticks": ""
            },
            "colorscale": [
             [
              0,
              "#0d0887"
             ],
             [
              0.1111111111111111,
              "#46039f"
             ],
             [
              0.2222222222222222,
              "#7201a8"
             ],
             [
              0.3333333333333333,
              "#9c179e"
             ],
             [
              0.4444444444444444,
              "#bd3786"
             ],
             [
              0.5555555555555556,
              "#d8576b"
             ],
             [
              0.6666666666666666,
              "#ed7953"
             ],
             [
              0.7777777777777778,
              "#fb9f3a"
             ],
             [
              0.8888888888888888,
              "#fdca26"
             ],
             [
              1,
              "#f0f921"
             ]
            ],
            "type": "surface"
           }
          ],
          "table": [
           {
            "cells": {
             "fill": {
              "color": "#EBF0F8"
             },
             "line": {
              "color": "white"
             }
            },
            "header": {
             "fill": {
              "color": "#C8D4E3"
             },
             "line": {
              "color": "white"
             }
            },
            "type": "table"
           }
          ]
         },
         "layout": {
          "annotationdefaults": {
           "arrowcolor": "#2a3f5f",
           "arrowhead": 0,
           "arrowwidth": 1
          },
          "autotypenumbers": "strict",
          "coloraxis": {
           "colorbar": {
            "outlinewidth": 0,
            "ticks": ""
           }
          },
          "colorscale": {
           "diverging": [
            [
             0,
             "#8e0152"
            ],
            [
             0.1,
             "#c51b7d"
            ],
            [
             0.2,
             "#de77ae"
            ],
            [
             0.3,
             "#f1b6da"
            ],
            [
             0.4,
             "#fde0ef"
            ],
            [
             0.5,
             "#f7f7f7"
            ],
            [
             0.6,
             "#e6f5d0"
            ],
            [
             0.7,
             "#b8e186"
            ],
            [
             0.8,
             "#7fbc41"
            ],
            [
             0.9,
             "#4d9221"
            ],
            [
             1,
             "#276419"
            ]
           ],
           "sequential": [
            [
             0,
             "#0d0887"
            ],
            [
             0.1111111111111111,
             "#46039f"
            ],
            [
             0.2222222222222222,
             "#7201a8"
            ],
            [
             0.3333333333333333,
             "#9c179e"
            ],
            [
             0.4444444444444444,
             "#bd3786"
            ],
            [
             0.5555555555555556,
             "#d8576b"
            ],
            [
             0.6666666666666666,
             "#ed7953"
            ],
            [
             0.7777777777777778,
             "#fb9f3a"
            ],
            [
             0.8888888888888888,
             "#fdca26"
            ],
            [
             1,
             "#f0f921"
            ]
           ],
           "sequentialminus": [
            [
             0,
             "#0d0887"
            ],
            [
             0.1111111111111111,
             "#46039f"
            ],
            [
             0.2222222222222222,
             "#7201a8"
            ],
            [
             0.3333333333333333,
             "#9c179e"
            ],
            [
             0.4444444444444444,
             "#bd3786"
            ],
            [
             0.5555555555555556,
             "#d8576b"
            ],
            [
             0.6666666666666666,
             "#ed7953"
            ],
            [
             0.7777777777777778,
             "#fb9f3a"
            ],
            [
             0.8888888888888888,
             "#fdca26"
            ],
            [
             1,
             "#f0f921"
            ]
           ]
          },
          "colorway": [
           "#636efa",
           "#EF553B",
           "#00cc96",
           "#ab63fa",
           "#FFA15A",
           "#19d3f3",
           "#FF6692",
           "#B6E880",
           "#FF97FF",
           "#FECB52"
          ],
          "font": {
           "color": "#2a3f5f"
          },
          "geo": {
           "bgcolor": "white",
           "lakecolor": "white",
           "landcolor": "#E5ECF6",
           "showlakes": true,
           "showland": true,
           "subunitcolor": "white"
          },
          "hoverlabel": {
           "align": "left"
          },
          "hovermode": "closest",
          "mapbox": {
           "style": "light"
          },
          "paper_bgcolor": "white",
          "plot_bgcolor": "#E5ECF6",
          "polar": {
           "angularaxis": {
            "gridcolor": "white",
            "linecolor": "white",
            "ticks": ""
           },
           "bgcolor": "#E5ECF6",
           "radialaxis": {
            "gridcolor": "white",
            "linecolor": "white",
            "ticks": ""
           }
          },
          "scene": {
           "xaxis": {
            "backgroundcolor": "#E5ECF6",
            "gridcolor": "white",
            "gridwidth": 2,
            "linecolor": "white",
            "showbackground": true,
            "ticks": "",
            "zerolinecolor": "white"
           },
           "yaxis": {
            "backgroundcolor": "#E5ECF6",
            "gridcolor": "white",
            "gridwidth": 2,
            "linecolor": "white",
            "showbackground": true,
            "ticks": "",
            "zerolinecolor": "white"
           },
           "zaxis": {
            "backgroundcolor": "#E5ECF6",
            "gridcolor": "white",
            "gridwidth": 2,
            "linecolor": "white",
            "showbackground": true,
            "ticks": "",
            "zerolinecolor": "white"
           }
          },
          "shapedefaults": {
           "line": {
            "color": "#2a3f5f"
           }
          },
          "ternary": {
           "aaxis": {
            "gridcolor": "white",
            "linecolor": "white",
            "ticks": ""
           },
           "baxis": {
            "gridcolor": "white",
            "linecolor": "white",
            "ticks": ""
           },
           "bgcolor": "#E5ECF6",
           "caxis": {
            "gridcolor": "white",
            "linecolor": "white",
            "ticks": ""
           }
          },
          "title": {
           "x": 0.05
          },
          "xaxis": {
           "automargin": true,
           "gridcolor": "white",
           "linecolor": "white",
           "ticks": "",
           "title": {
            "standoff": 15
           },
           "zerolinecolor": "white",
           "zerolinewidth": 2
          },
          "yaxis": {
           "automargin": true,
           "gridcolor": "white",
           "linecolor": "white",
           "ticks": "",
           "title": {
            "standoff": 15
           },
           "zerolinecolor": "white",
           "zerolinewidth": 2
          }
         }
        },
        "title": {
         "text": "Resorts Esquiables"
        },
        "width": 1000,
        "xaxis": {
         "anchor": "y",
         "categoryarray": [
          "breckenridge",
          "Matterhorn",
          "loveland",
          "aiguille-du-midi-chamonix",
          "telluride",
          "snowmass",
          "arapahoe-basin",
          "winter-park-resort",
          "valle-nevado",
          "keystone",
          "vallecitos",
          "la-parva",
          " Saas-Fee",
          "aspen-highlands",
          "la-grave-la-meije",
          "Les 2 Alpes",
          "dizin",
          "beaver-creek",
          "Tignes/Val d'Isère",
          ". Passo dello Stelvio (Stelvio Pass)",
          ". Pitztal Glacier (Pitztaler Gletscher)",
          "vail",
          "las-lenas",
          "aspen-mountain",
          "mammoth-mountain",
          "erciyes-kayseri",
          "Sölden",
          "el-coloradofarellones",
          "4 Vallées – Verbier/La Tzoumaz/Nendaz/Veysonnaz/Thyon",
          "Alpe d'Huez",
          "portillo",
          "Corvatsch/Furtschellas",
          "sahand",
          "sierra-nevada-pradollano",
          "gudauri",
          "Grands Montets – Argentière (Chamonix)",
          "Alagna Valsesia/Gressoney-La-Trinité/Champoluc/Frachey (Monterosa Ski)",
          "oukaimeden",
          "Arabba/Marmolada",
          " Hintertux Glacier (Hintertuxer Gletscher)",
          " Sulden am Ortler (Solda all'Ortles)",
          "Les 3 Vallées – Val Thorens/Les Menuires/Méribel/Courchevel",
          "Les Arcs/Peisey-Vallandry (Paradiski)",
          "afriski-mountain-resort",
          " Stubai Glacier (Stubaier Gletscher)",
          " Val Senales Glacier (Schnalstaler Gletscher)",
          "shirbad",
          "los-penitentes",
          "palandoeken-ejder-3200-world-ski-center",
          "La Plagne (Paradiski)",
          "shymbulak-chimbulak",
          "tetnuldi-mestia",
          ". Hohsaas – Saas-Grund",
          "konakli-ejder-3200-world-ski-center",
          " Moelltal Glacier (Mölltaler Gletscher)",
          "belalp-blatten",
          "Lauchernalp – Lötschental",
          "Kaunertal Glacier (Kaunertaler Gletscher)",
          "Gurgl – Obergurgl-Hochgurgl",
          "heavenly",
          "St. Moritz – Corviglia",
          "chapa-verde",
          "auli",
          "Kitzsteinhorn/Maiskogel – Kaprun",
          "saint-lucchandolin-anniviers",
          "Titlis – Engelberg",
          "Laax/Flims/Falera",
          "buttermilk-mountain",
          "glacier-3000-les-diablerets",
          " Bormio – Cima Bianca",
          "Diavolezza/Lagalb",
          "macugnaga",
          ". Pejo 3000",
          "Ponte di Legno/Tonale/Presena Glacier/Temù (Pontedilegno-Tonale)",
          "bonneval-sur-arc",
          "Grossglockner Heiligenblut",
          "los-puquios",
          "arolla",
          "Schilthorn – Mürren/Lauterbrunnen",
          "taiziling",
          "Gemsstock – Andermatt",
          "caviahue",
          "valchiavenna-madesimocampodolcino",
          " Vals 3000 – Dachberg",
          "suusamir-too-ashu-pass",
          "tiffindell",
          " Crans-Montana",
          "Cortina d'Ampezzo",
          "grimentzzinal",
          "solang-nullaha-kullu-valley",
          ". Santa Caterina Valfurva",
          "Ischgl/Samnaun – Silvretta Arena",
          " Aletsch Arena – Riederalp/Bettmeralp/Fiesch Eggishorn",
          "Arosa Lenzerheide",
          ". Grächen",
          "Parsenn (Davos Klosters)",
          "Disentis",
          "Serfaus-Fiss-Ladis",
          "St. Anton/St. Christoph/Stuben/Lech/Zürs/Warth/Schröcken – Ski Arlberg",
          "Serre Chevalier – Briançon/Chantemerle/Villeneuve-la-Salle/Le Monêtier-les-Bains",
          " Rifflsee",
          "val-cenis-lanslevillardlanslebourgtermignon",
          "molines-en-queyrassaint-veran",
          "Livigno",
          " Scuol – Motta Naluns",
          "squaw-valley",
          "courmayeur-checrouitval-veny",
          "boi-tauell",
          "varsrisoul-la-foret-blanche",
          "aussois",
          "la-norma",
          "Via Lattea – Sestriere/Sauze d’Oulx/San Sicario/Claviere/Montgenèvre",
          "lagazuoi5-torri-passo-giaupasso-falzarego",
          " Nauders am Reschenpass – Bergkastel",
          "pila",
          "valfrejus",
          "sunshine-village",
          "dena-kakan",
          "orcieres-merlette-1850",
          "bosques-de-monterreal-san-antonio-de-las-alazanas",
          ". Zugspitze",
          "les-orres",
          ". Savognin",
          "bakuriani",
          "puigmal",
          "minschuns-val-muestair-tschierv",
          "nevados-de-chillan",
          "pragelato",
          "ak-bulak-talgar",
          ". Dachstein Glacier (Dachsteingletscher)",
          "sierra-at-tahoe",
          "bardonecchia",
          " Kappl",
          "Sportgastein",
          "evolene",
          ". Vent",
          "puy-saint-vincent",
          "malam-jabba",
          "merga-bute",
          "passo-fedaia-pian-dei-fiacconi-marmolada",
          "espace-san-bernardo-la-rosierela-thuile",
          "nax-mont-noble",
          "Grandvalira – Pas de la Casa/Grau Roig/Soldeu/El Tarter/Canillo/Encamp",
          "lake-louise",
          " Ankogel – Mallnitz",
          "sarikamis",
          "alpine-meadows",
          " Cerler",
          " Schwemmalm",
          "Ordino Arcalís",
          "sainte-foy-tarentaise",
          " Les Sybelles – Le Corbier/La Toussuire/Les Bottières/St Colomban des Villards/St Sorlin/St Jean d’Arves",
          " Madrisa (Davos Klosters)",
          ". Leukerbad",
          "etna-southnicolosi",
          " Isola 2000",
          "safed-dara",
          "haider-alm-st-valentin-auf-der-haide-san-valentino-alla-muta",
          " Weissee Gletscherwelt – Uttendorf",
          "Jakobshorn (Davos Klosters)",
          "espace-lumiere-pra-loupval-dallos",
          "darlux-berguen",
          ". Pal/Arinsal – La Massana (Vallnord)",
          " Borovets",
          "bivio",
          " Bansko",
          " Bellwald",
          "le-grand-domaine-valmoreldoucycelliersst-francois-longchamp",
          " Bürchen/Törbel – Moosalp",
          "lagunillas",
          ". Alta Badia",
          "ardahan-yalnizcam",
          "cima-piazzisan-colombano-isolacciaoga",
          "saklikent",
          "rosswald-brig",
          "vallter-2000",
          " La Molina/Masella – Alp2500",
          "piau-engaly",
          "san-bernardino",
          "Brévent/Flégère (Chamonix)",
          "shahdag-sahdag",
          ". St. Jakob im Defereggental – Brunnalm",
          "brezovica",
          "les-karellis",
          " Kühtai",
          " Val Gardena (Gröden)",
          "Saint-Lary-Soulan",
          " Passo San Pellegrino/Falcade",
          " Baqueira/Beret",
          " Gitschberg Jochtal",
          " Klausberg – Skiworld Ahrntal",
          " Plose – Brixen (Bressanone)",
          "Madonna di Campiglio/Pinzolo/Folgàrida/Marilleva",
          ". Pfelders (Moos in Passeier)",
          " First – Grindelwald",
          "champorcher",
          "ak-tash-oruu-sai",
          " Grand Tourmalet/Pic du Midi – La Mongie/Barèges",
          "ceillac-en-queyras",
          "unterbaech-brandalpginals",
          "san-domenico-alpe-ciamporino",
          "Mayrhofen – Penken/Ahorn/Rastkogel/Eggalm",
          ". Watles – Malles Venosta (Mals)",
          "luz-ardiden",
          "st-jean-montclar",
          "bubi-dagi-agri",
          "Zillertal Arena – Zell am Ziller/Gerlos/Königsleiten/Hochkrimml",
          "chamois",
          ". Rinerhorn (Davos Klosters)",
          "argentera",
          "voras-kaimaktsalan",
          "arabba",
          "la-clusazmanigod",
          "Le Grand Massif – Flaine/Les Carroz/Morillon/Samoëns/Sixt",
          "porte-puymorens",
          ". Zuoz – Pizzet/Albanas",
          ". Reinswald (San Martino in Sarentino)",
          " See",
          " Auron (Saint-Etienne-de-Tinée)",
          "super-sauze",
          "crevacol",
          "kicking-horse-golden",
          "devoluy-superdevoluyla-joue-du-loup",
          "mount-olympos-vryssopoules",
          "abries",
          "gourette-eaux-bonnes",
          " Hochzeiger – Jerzens",
          "silk-road",
          "les-contamineshauteluce",
          " Meiringen-Hasliberg",
          "abali-van",
          "Silvretta Montafon",
          " Belvedere/Col Rodella/Ciampac/Buffaure – Canazei/Campitello/Alba/Pozza di Fassa",
          "ovronnaz",
          "le-seignus",
          "Großglockner Resort Kals-Matrei",
          "port-aine",
          "anzere",
          " Brigels/Waltensburg/Andiast",
          "le-lys-cauterets",
          "marmot-basin-jasper",
          ". Sillian – Thurntaler (Hochpustertal)",
          " Speikboden – Skiworld Ahrntal",
          "schatzalp-strela",
          "sainte-anne-la-condamine-la-condamine-chatelard",
          "crissolo-monviso",
          "furkel-trafoi-stilfs",
          "les-7-laux-prapoutelle-pleynetpipay",
          "heidbodme-saas-almagell",
          ". Grosseck/Speiereck – Mauterndorf/St. Michael",
          "corralco",
          " Peyragudes",
          "espace-cambre-daze-eynesaint-pierre-dels-forcats",
          "bosco-gurin-grossalp",
          "tschiertschen",
          " Belpiano (Schöneben)/Malga San Valentino (Haideralm)",
          "oropa-biella",
          " Latemar – Obereggen/Pampeago/Predazzo",
          "Kaltenbach – Hochzillertal/Hochfügen (SKi-optimal)",
          " Les Angles",
          "vercorin",
          "fortress-mountain",
          "puyvalador-rieutord",
          "la-covatilla-sierra-de-bejar",
          "panorama",
          "goderdzi-resort",
          "engstligenalp-adelboden",
          ". San Martino di Castrozza",
          "pralognan-la-vanoise",
          "Megève/Saint-Gervais",
          "valmalenco-alpe-palu",
          "bodrostkartala",
          ". Meran 2000",
          "soerenberg-rothorndorf",
          "hatsvali-mestia",
          "ax-3-domaines-ax-les-thermes",
          "naetschen-andermatt",
          ". Alpe Lusia – Moena/Bellamonte",
          "Axamer Lizum",
          "alpe-teglio-prato-valentino",
          "chelmos-kalavrita",
          "giw-visperterminen",
          " Carezza",
          "etna-nord-linguaglossa",
          "zil",
          "fideriser-heuberge-arflina",
          ". Pontresina",
          "gavarniegedre-les-especieres",
          "uludag-bursa",
          "turoa",
          "Kleine Scheidegg/Männlichen – Grindelwald/Wengen",
          " Rosa Khutor",
          "formigueres",
          " Obertauern",
          "port-del-comte",
          "Obersaxen/Mundaun/Val Lumnezia",
          "shigakogen-mountain-resort",
          "yokoteyama-shibutoge",
          "antagnod",
          ". Glungezer – Tulfes",
          "mount-baldy",
          "areches-beaufort",
          "cari",
          " Sonnenkopf – Klösterle",
          "mount-parnassos-fterolakkakellaria",
          "pelvouxvallouise",
          "Andermatt/Oberalp/Sedrun",
          " Gargellen",
          " Galtür – Silvapark",
          " Bad Gastein/Bad Hofgastein – Schlossalm/Angertal/Stubnerkogel",
          "whakapapa",
          "cogne-gran-paradiso",
          "kanin-sella-neveabovec",
          "espot-esqui",
          ". Vitosha/Aleko – Sofia",
          "elsigen-metsch-frutigen",
          "big-white",
          "whistler-blackcomb",
          "villar-darene",
          ". Zettersfeld – Lienz",
          " Kronplatz (Plan de Corones)",
          "castle-mountain",
          "astun",
          "panichishte",
          " Hochoetz – Oetz",
          "fendels",
          "rothwaldwasenalp-simplon-pass",
          "balmeles-autannes-vallorcinele-tour",
          "aprica",
          "kashka-suu",
          "rittner-horn-corno-del-renon-ritten-renon",
          "vicheres-liddes",
          "maseben-langtaufers-vallelunga",
          "toggenburg-wildhausunterwasseralt-st-johann",
          "vall-de-nuria",
          "nakiska",
          "Nordkette – Innsbruck",
          "pesciuem-airolo",
          "melchsee-frutt-kerns",
          "Les Portes du Soleil – Morzine/Avoriaz/Les Gets/Châtel/Morgins/Champéry",
          "Formigal",
          "tarscher-alm-malga-di-tarres-latsch-laces",
          ". Alpe Cermis – Cavalese",
          "colere",
          "jochgrimm-passo-oclini",
          "mount-parnassos-gerontovrachos",
          " Pizol – Bad Ragaz/Wangs",
          "crevoux",
          "chamrousse",
          "obertilliach-golzentipp",
          "torgnon",
          "pilatus-tateshina",
          ". Schlick 2000 – Fulpmes",
          "candanchu",
          "gran-sasso-campo-imperatore",
          "brusson-estoul",
          "falakro",
          "toguz-bulak",
          "revelstoke-mountain-resort",
          " Nebelhorn – Oberstdorf",
          "Flumserberg",
          ". Lachtal",
          "jeizinen-feselalp-gampelsteg",
          "tymfristos-velouchi",
          ". Alpe di Siusi (Seiser Alm)",
          " Katschberg",
          "passo-rolle-rolle-pass",
          "cerro-perito-moreno-el-bolson-laderas",
          " Splügen – Tambo",
          "valdesqui",
          "font-romeubolquere-pyrenees-2000",
          ". Venet – Landeck/Zams/Fliess",
          "balea-lac",
          ". Turracher Höhe",
          "leysin",
          "hochwang-goldgruben",
          "panticosa",
          "la-forclaz",
          "arvieux",
          "les-marecottes-salvan",
          "Adelboden/Lenk – Chuenisbärgli/Silleren/Hahnenmoos/Metsch",
          "eischoll",
          "innerkrems-kremsbruecke-krems-in-kaernten",
          "albiez-montrond",
          "planneralm-donnersbach",
          " 3 Zinnen Dolomites – Helm/Stiergarten/Rotwand/Kreuzbergpass",
          "la-fouly",
          "gspon-staldenried",
          "galdhoeppigen-sommerskisenter",
          "pleta-del-prat-tavascan",
          "champex-lac-orsieres",
          ". Tatranská Lomnica",
          "ciao-ontake-snow-resort",
          "alpe-du-grand-serre-la-morte",
          "catedral-alta-patagonia",
          ". Bergeralm – Steinach am Brenner",
          "apex-resort",
          "tschappinaurmein-heinzenberg",
          "brambrueeschdreibuendenstein-chur",
          " Zauchensee/Flachauwinkl",
          ". Rosskopf (Monte Cavallo) – Sterzing (Vipiteno)",
          ". Rauriser Hochalmbahnen – Rauris",
          "puerto-navacerrada",
          "le-chazelet",
          "stara-planina-babin-zub",
          "monesi-di-triora",
          "foppolocarona-brembo-ski",
          "thaiwoo",
          ". Aela – Maloja",
          "la-pierre-saint-martin",
          "egglila-videmanette-gstaadsaanenrougemont",
          " Wildkogel – Neukirchen/Bramberg",
          "davraz-mountain-resort-isparta",
          "emberger-alm-berg-im-drautal",
          "reallon",
          "goldeck-spittal-an-der-drau",
          "alto-sangro-roccarasorivisondoli",
          "le-collet-dallevard",
          "valdezcaray",
          "fernie",
          "mt-norquay-banff",
          "matroosberg",
          "chanavey",
          "nomugi-pass-nomugitoge",
          "luchon-superbagneres",
          ". Paganella – Andalo",
          "nara-leontica",
          "villarsgryonles-diablerets",
          "misurina-passo-tre-croci",
          "alto-campoo",
          " Kreischberg",
          "vasilitsa",
          ". Fanningberg",
          "wanlong",
          " Golm",
          "krippenstein-obertraun",
          "heidialm-skipark-falkert",
          " Elm im Sernftal",
          "sinaia",
          " Lermoos – Grubigstein",
          "schoenfeld-thomatal",
          "serre-eyraud-orcieres",
          "san-simone-brembo-ski",
          ". Civetta – Alleghe/Selva di Cadore/Palafavera/Zoldo",
          "villarrica-pucon",
          "le-grand-bornand",
          "genting-resort-secret-garden",
          "changchengling",
          "artouste",
          "guzet",
          ". Racines-Giovo (Ratschings-Jaufen)/Malga Calice (Kalcheralm)",
          "Saalbach Hinterglemm Leogang Fieberbrunn (Skicircus)",
          ". Monte Bondone",
          "mt-hutt",
          "mondole-ski-artesinafrabosa-sopranaprato-nevoso",
          "sun-peaks",
          "elfer-neustift",
          "terakoya-resort",
          "red-mountain-resort-rossland",
          "la-hoya",
          "sarn-heinzenberg",
          "forni-di-sopra",
          "koralpe",
          " Espace Diamant – Les Saisies/Notre-Dame-de-Bellecombe/Praz sur Arly/Flumet/Crest-Voland",
          ". Rosshütte – Seefeld",
          "passo-maniva",
          "piana-di-vigezzo-craveggiasanta-maria-maggiore",
          ". Babin Do – Bjelašnica",
          "febbio-2000-monte-cusna",
          "lagoraipasso-brocon-castello-tesino",
          "riserva-bianca-limone-piemonte",
          "michlifen",
          "pian-mune-paesana",
          " Diedamskopf – Schoppernau",
          "monte-magnola-ovindoli",
          " Bad Kleinkirchheim",
          "val-louron",
          "ichinose-family-resort",
          "valgrisenche",
          " Garmisch-Classic – Garmisch-Partenkirchen",
          "Damüls Mellau",
          ". Ladurns",
          "chabanon",
          "espace-villard-correncon-villard-de-lanscorrencon-en-vercors",
          "mt-dobson",
          "rochers-de-naye-montreux",
          "mount-hermon-neve-ativ",
          "brunni-engelberg",
          ". Catinaccio/Ciampedie – Vigo di Fassa/Pera di Fassa",
          "silvretta-bielerhoehe-partenen",
          ". Spieljoch – Fügen",
          "thredbo",
          "la-pinilla",
          "rasos-de-peguera",
          "perisher",
          " Großarltal/Dorfgastein",
          " Ifen",
          "san-isidro-zona-cebolledo",
          "prati-di-tivo",
          "lizzola",
          "hoch-imst-imst",
          " Ski Juwel Alpbachtal Wildschönau",
          "gressoney-saint-jean-weissmatten",
          "valbergbeuil-les-launes",
          "ceueze-2000-gap",
          " Kopaonik",
          " Schladming – Planai/​Hochwurzen/​Hauser Kaibling/​Reiteralm (4-Berge-Skischaukel)",
          "donezan-mijanes",
          ". Rinderberg/Saanerslochgrat/Horneggli – Zweisimmen/Saanenmöser/Schönried/St. Stephan",
          "ilgaz-mountain-resort-kastamonu",
          "okushiga-kogen",
          "graukogel-bad-gastein",
          "3-5-pigadia-naoussa",
          "Jasná Nízke Tatry – Chopok",
          "whitewater-nelson",
          " Nassfeld – Hermagor",
          "moleson",
          "panarotta-2002-valsugana",
          "betelberg-lenk",
          "klewenalpstockhuette-beckenriedemmetten",
          "saint-leger-les-melezes",
          "KitzSki – Kitzbühel/Kirchberg",
          "col-dornon",
          ". Malbun",
          "kitzbueheler-horn",
          "javalambre",
          "saint-michel-de-chaillol",
          "ascou-pailheres",
          "bernex",
          ". Rangger Köpfl – Oberperfuss",
          "thollon-les-memises",
          ". Brandnertal – Brand/Bürserberg",
          "ussita",
          "pescegallo-valgerola",
          "zaarour",
          " Hinterstoder – Höss",
          "Schmittenhöhe – Zell am See",
          "sappada",
          "axalp-ob-brienz",
          "padola-ski-area-comelico",
          "montecampione-alpiazprato-secondinoplan-di-montecampione",
          "vigla-pisoderiverno-florina",
          "kurucadag-bingoel",
          "campo-catino",
          ". Hochstein – Lienz",
          " Kasprowy Wierch – Zakopane",
          "higashitateyama",
          "kimberley",
          "porters",
          ". Snow Space Salzburg – Flachau/Wagrain/St. Johann-Alpendorf",
          "faschina-fontanella",
          ". Flachauwinkl/Kleinarl (Shuttleberg)",
          "valdelinares-sierra-de-gudar",
          "cimone-montecretosestolale-polle",
          "galsterberg-pruggern",
          "stoderzinken-groebming",
          " Kolašin 1450/Kolašin 1600",
          ". Krvavec",
          "zoncolan-ravasclettosutrio",
          "chapelco",
          ". Patscherkofel – Innsbruck-Igls",
          "serra-da-estrela",
          " Fellhorn/Kanzelwand – Oberstdorf/Riezlern",
          "praz-de-lyssommand-taningesmieussy",
          "Tauplitz – Bad Mitterndorf",
          "duolemeidi-mountain-resort-chongli",
          "kumanoyu-resort",
          "tschentenalp-adelboden",
          "treble-cone",
          "SkiWelt Wilder Kaiser-Brixental",
          "colle-di-joux",
          "charlotte-pass",
          "troodos-mount-olympos",
          "fuentes-de-invierno",
          "piani-di-bobbio",
          "feldis",
          "ala-di-stura",
          "niederhorn-beatenberg",
          "les-mont-dolmes",
          ". Walmendingerhorn/Heuberg – Mittelberg/Hirschegg",
          "corno-alle-scale-lizzano-in-belvedere",
          "the-remarkables",
          "las-araucariasllaima-vilcun",
          "wispile-gstaad",
          "transalpina-vidravoineasa",
          "sunnbueel-kandersteg",
          " Stoos – Fronalpstock/Klingenstock",
          "el-morredero",
          "biel-kinzig-buerglen",
          "ryuoo-ski-park",
          ". Pamporovo",
          "samedan",
          ". Ehrwalder Alm – Ehrwald",
          "tufandag",
          "roubion-les-buisses",
          "col-de-turinicamp-dargent",
          "ranca-ro",
          "campo-felice-rocca-di-cambio",
          "silver-star",
          "elatochori-katerini",
          ". Gerlitzen",
          "fox-peak",
          ". Les Houches/Saint-Gervais – Prarion/Bellevue (Chamonix)",
          " Hochkönig – Maria Alm/Dienten/Mühlbach",
          ". Hahnenkamm – Höfen/Reutte",
          "braunwald",
          "petzen-feistritz-ob-bleiburg",
          "wasserngrat-gstaad",
          "val-doronaye-larche",
          "rellerli-schoenried",
          "abetoneval-di-luce",
          "grimmialp",
          ". Jahorina",
          ". Kellerjoch – Schwaz",
          "weinebene-frantschach-sankt-gertraud",
          "hochrindl-sirnitz",
          "fageralm-forstau",
          "vitsi",
          "mount-olympus",
          "lorica",
          ". Mechi Chal – Chepelare",
          "campitello-matese",
          ". Grebenzen – St. Lambrecht",
          "les-mossesla-lecherette",
          "ghisoni",
          ". Wurzeralm – Spital am Pyhrn",
          "wiriehorn",
          "monte-terminillo",
          "piancavallo",
          "mutten",
          "le-mourtis",
          "sampeyre",
          "ostrakina-mainalon",
          "scanno-monte-rotondo",
          "cardrona",
          ". Steinplatte/Winklmoosalm – Waidring/Reit im Winkl",
          "la-sambuy-seythenex",
          ". Folgaria/Fiorentini",
          "le-lioran",
          "laye",
          "anilio",
          "moerlialp-giswil",
          "superbesse-puy-de-sancy",
          "ancelle",
          "seli-ski-area",
          "lailias-ski-area-serres",
          "piano-battaglia",
          "mitsumatakaguratashiro-mt-naeba",
          "mount-hotham",
          "val-darc-bessans",
          "le-mont-dore",
          "hirnkopf-flattnitz-gloednitz",
          "valgrande-pajares",
          ". Štrbské Pleso",
          "malga-varena-passo-lavaze",
          ". Rofan – Maurach",
          "monte-baldo-malcesinepra-alpesina",
          "gerlossteinramsberg-hainzenberg",
          "les-portes-du-mont-blanc-comblouxmegeve-le-jailletla-giettaz",
          "rein-in-taufers-riva-di-tures",
          ". Werfenweng",
          "punto-de-nieve-santa-ines",
          " Hoch-Ybrig – Unteriberg/Oberiberg",
          "happo-one-hakuba",
          "yachiho-kogen",
          "plateau-de-beille",
          ". Füssener Jöchle – Grän",
          "broken-river-ski-field",
          ". Neunerköpfle – Tannheim",
          ". Biberwier – Marienberg",
          "tonnerhuette-muehlen",
          "bruncu-spina",
          "st-oswald-kartitsch",
          "pescasseroli",
          " Riesneralm – Donnersbachwald",
          "klippitztoerl",
          ". Vigiljoch (Monte San Vigilio) – Lana",
          "la-quillane",
          "malga-san-giorgio",
          "buergeralm-aflenz",
          "vauplane-soleilhas",
          "hochkar-goestling",
          "lans-en-vercors",
          "goulier",
          "pian-delle-betulle-margno",
          "ichinose-yamanokami",
          "la-colmiane",
          "hautacam",
          " Grüsch Danusa",
          "roc-denfer-st-jean-daulps-la-grande-terchebellevaux-la-chevrerie",
          "mont-sereinmont-ventoux-nord",
          ". Christlum – Achenkirch",
          "monte-livata-subiaco-monna-dellorso",
          ". Jenner – Schönau am Königssee",
          ". Muttereralm – Mutters/Götzens",
          ". Jöchelspitze – Bach",
          "st-pierre-de-chartreuse-le-planolet",
          ". Vogel – Bohinj",
          "leitariegos",
          "spiazzi-di-gromo",
          "greolieres-les-neiges",
          "val-dese",
          ". Gazprom Mountain Resort",
          "poiana-brasov",
          "doganaccia-2000-cutigliano",
          "bannalp-oberrickenbach",
          "sonnenlift-praxmar",
          "pian-cales-san-bernardino",
          "tannenomori-okojo",
          "manning-park",
          "mt-buller",
          "naeba-mt-naeba",
          "selvarotonda-cittareale",
          "aillons-margeriaz",
          "camigliatello-silano",
          ". Laterns – Gapfohl",
          "hirayu-onsen",
          "hochkeil-am-hochkoenig",
          "echo-valley",
          "camurac",
          "fujimi-panorama",
          "passo-godi-scanno",
          "saualpe-eberstein",
          "piazzatorre",
          "tenna",
          "falls-creek",
          "untersberg-groedig",
          "prato-selva",
          "stuhleck-spital-am-semmering",
          "yamaboku-yamada-bokujo",
          " Loser – Altaussee",
          "osorno",
          "manzaneda",
          "rhemes-notre-dame",
          "col-de-porte",
          "radusa",
          "pont-despagne-cauterets",
          "temple-basin",
          "tarvisio-monte-lussari",
          "rigi",
          "gresse-en-vercors",
          "muesella-la-punt",
          "sonntag-stein",
          "kaisereggriggisalp-schwarzsee",
          "mt-lyford",
          "brusnica-fojnica",
          ". Berwang/Bichlbach/Rinnen",
          "nishitateyama",
          "batea-mahuida",
          "passy-plaine-joux",
          "monte-amiata",
          "alpe-di-mera-scopello",
          "dent-de-jaman-montreux",
          "val-pelens",
          "le-grand-puy",
          "chastreix-puy-de-sancy",
          "cerro-bayo",
          "tegelberg-schwangau",
          "lessert-abondance",
          "vallefura-pescocostanzo",
          "valdrome",
          "wendelstein-brannenburgosterhofen",
          "parang",
          "ebenalp-horn-wasserauenschwende",
          "niedere-andelsbuchbezau",
          "ichinose-diamond",
          ". Brauneck – Lenggries/Wegscheid",
          "autrans-la-sure",
          "salzstiegl-hirschegg",
          "vratna",
          "shirakabako-royal-hill",
          "nevache",
          "le-semnoz",
          "dragobrat",
          "bleymard-mont-lozere",
          "fanas",
          "gries-laengenfeld",
          "cirtkaya-bitlis",
          "font-durle-chaud-clapier",
          "pievepelago-santannapelago",
          "hohentauern",
          "col-de-rousset",
          "buegls-s-chanf",
          ". Grasgehren – Bolgengrat",
          "monte-piselli-san-giacomo",
          "col-du-barioz",
          "gruentenlifte-kranzegg-rettenberg",
          "green-park-resort-kartepe",
          "campo-stella-leonessa",
          "antermoia-san-martin-de-tor",
          "buendalift-davos",
          "pintura-bolognola",
          "borno-monte-altissimo",
          ". Hochkössen (Unterberghorn) – Kössen",
          "amden",
          "laber-oberammergau",
          "payel-di-valsavarenche-degioz",
          "oeschinensee-kandersteg",
          "govedartsi",
          "lelexcrozet",
          "niederthai-umhausen",
          "manganui-mount-taranaki",
          "campigna-montefalco",
          "madarasi-hargita",
          "st-magdalena-gsiesvalle-di-casies",
          "espace-dole-la-doleles-tuffes",
          "breitenberghochalpe-pfronten",
          "alpe-del-nevegal",
          "hochfelln-bergen",
          "serles-mieders",
          "krinnenalpe-nesselwaengle",
          "harghita-bai",
          ". Almenwelt Lofer",
          "guarda",
          "cardadacimetta-orselina",
          "gassan-glacier",
          "san-isidro-zona-salencias",
          "paltinis",
          "velika-planina",
          "mezenc-les-estables",
          ". Hörnerbahn – Bolsterlang",
          "zao-onsen",
          "realp",
          "chriso-elafi",
          "wirzweli-dallenwil",
          "audibergue",
          "wapiti-ski-hill-elkford",
          "rigi-scheideggburggeist",
          "st-antoenien",
          "valle-hermoso",
          "nozawa-onsen",
          ". Lavarone",
          "hudson-bay-mountain-smithers",
          "passo-lanciano",
          "aizu-kogen-takatsue",
          "mont-ventoux-sud",
          "capracotta",
          "orlovka",
          "kidoike",
          "coronet-peak",
          "ristolas",
          "south-tweedsmuir-park",
          ". Filzmoos",
          "piani-di-artavaggio-moggio",
          "busovaca",
          ". Ramsau am Dachstein – Rittisberg",
          "la-berra-la-roche",
          "recoaro-mille",
          "la-braye-chateau-doex",
          "charmey",
          "cret-benila-combe-la-chapelle-dabondance",
          "presolana",
          "gemeindealpe-mitterbach-am-erlaufsee",
          ". Feuerkogel – Ebensee",
          "bielmonte",
          "markbachjochlanerkoepfl-niederau",
          " Dachstein West – Gosau/Russbach/Annaberg",
          "provitis-ilias-metsovo",
          "wallberg-rottach-egern",
          "aiguilles",
          "pine-beak-sugadaira-kogen",
          "piane-di-mocogno",
          "hunter-mountain-shiobara",
          "selwyn-snowfields",
          ". Monte Popolo – Eben im Pongau",
          "hirmentazles-haberes-bellevauxhabere-poche",
          "baranci-haunold-san-candido-innichen",
          "cioss-prato-bedretto",
          "praebichl-vordernberg",
          "jaunpass-boltigen",
          "samjiyon",
          "selital-schwarzenbuehl",
          ". Kelchsau",
          "funiushan-indoor-skiing-luanchuan",
          ". St. Johann in Tirol/Oberndorf – Harschbichl",
          "schilt-mollis",
          "meaudre",
          "gaberlplankogel-salla-maria-lankowitz",
          "le-reposoirchalet-neuf",
          "cordon",
          "herzogstand-walchensee",
          "chalmazel",
          "hochhaederich-hittisau",
          "raxalpe-reichenau-an-der-rax",
          "kasberg-gruenau-im-almtal",
          "la-lorette-bourg-saint-pierre",
          "schilpario",
          "pian-neiretto",
          "campo-rotondo-cappadocia",
          "casaccia",
          "asahidake",
          "bichlalm",
          "arnoldstein-dreilaendereck",
          "meiho",
          "hasuike",
          "sky-resort-ulaanbaatar",
          "alpe-di-neggia",
          "st-gree-di-viola",
          "mythenregion",
          "bruesti-attinghausen",
          "sassotetto-santa-maria-maddalena",
          "mendelpass-monte-roen",
          "grandeco-snow-resort",
          "giant-resort",
          ". Kristberg – Silbertal",
          "mount-washington",
          "zum-zeri-passo-dei-due-santi",
          "navis",
          ". San Vito di Cadore",
          "altopiano-di-brentonico-polsasan-valentino",
          "les-rasses-sainte-croix",
          "hohwald-beatenberg-waldegg",
          ". Spitzingsee-Tegernsee",
          "visevnik-na-pokljuki",
          "mont-saxonnex",
          ". Radstadt/Altenmarkt",
          "jaun",
          "golte",
          "maruike",
          "gaissau-hintersee",
          "falken",
          "schattwaldzoeblen",
          "sun-valley-resort",
          ". Sudelfeld – Bayrischzell",
          "le-revard",
          "mount-baw-baw",
          ". Oberjoch (Bad Hindelang) – Iseler",
          "romme-nancy-sur-cluses",
          "pilsko-korbielow",
          "rossfeld-berchtesgaden-oberau",
          "blidinje-risovac",
          "la-poya-vallorcine",
          "takasu-snow-park",
          "pany-luzein",
          "valtgeva-sedrun",
          "sun-alpina-kashimayari",
          "agrafa-karamanoli",
          "separadorgiu",
          "rueschegg-eywald-lischboden",
          "chrea",
          "soriska-planina",
          "massif-du-noirmont-les-rousses",
          "minenohara-kogen",
          "kope",
          "aillon-le-jeune",
          "zlatar",
          "antillanca",
          "tectzinols-berguen",
          "azuga",
          "hidatakayama",
          "nova-ponente-deutschnofen",
          "dinner-plain",
          "auronzo-di-cadore-monte-agudo",
          "mijouxla-faucille",
          "saas-balen",
          ". Heutal – Unken",
          "wetterstein-lifts-wettersteinbahnen-ehrwald",
          "fairmont-hot-springs",
          "menthieres",
          "ribniska-koca-ribnisko-pohorje",
          "springenboden",
          "lagdeilago-santo-corniglio",
          "la-feclaz",
          "zwoelferhorn-st-gilgen",
          "la-jarjatte-lus-la-croix-haute",
          "vlasic",
          "karakoli",
          "rucas-di-bagnolo",
          "rieseralm-obdach",
          "harper-mountain",
          "rogla",
          "balme-di-lanzo",
          "ardez",
          ". Karwendel Bergbahn (Zwölferkopf) – Pertisau",
          "notre-dame-du-pre",
          "bourg-doueil",
          ". Jungholz",
          ". Gschwandtkopf – Seefeld",
          "huettegglift-weerberg",
          "wolzenalp-krummenau",
          ". Balderschwang – Hochschelpen/Riedberger Horn",
          "marbach-marbachegg",
          "iver-tara",
          "brunnalmhohe-veitsch-veitsch-st-barbara-im-muerztal",
          "careggine-alpi-apuane-monte-la-cima",
          "taesch",
          "les-brasses",
          "rossberg-oberwil",
          "la-croix-de-bauzon",
          "rohace-spalena",
          "funes-villnoess",
          "massif-de-la-serra-lamoura",
          "tornik-zlatibor",
          "malo-polje-igman",
          "myoko-akakura",
          "mottarone",
          "sattel-hochstuckli",
          "kiental",
          "mathon",
          "riepenlift-antholz-mittertal-anterselva-di-mezzo",
          "habkern-sattelegg",
          "schia-monte-caio",
          "gasse-ridnaun",
          "dent-de-vaulion-le-morez",
          "kobla-bohinj",
          "haut-asco",
          "st-oyen-flassin",
          "edelweiss",
          "ollomont",
          "prat-peyrot-mont-aigoual",
          "agriolefkes-pelion",
          "piobbico",
          "petersberg-monte-s-pietro-nova-ponente-deutschnofen",
          "marinzen-castelrotto-kastelruth",
          "kampenwand-aschau-im-chiemgau",
          "boedele-schwarzenberg",
          "lunada",
          "praded-figura",
          ". Nesselwang – Alpspitze (Alpspitzbahn)",
          "certovica",
          "fonna-glacier-ski-resort",
          "niederalpl-muerzsteg-neuberg-an-der-muerz",
          "bugnenets-savagnieres-saint-imier",
          ". Buchensteinwand (Pillersee) – St. Ulrich am Pillersee/St. Jakob in Haus/Hochfilzen",
          "martinske-hole",
          ". Arber",
          "les-hauderes-lhomazo",
          "postalm-am-wolfgangsee",
          "buron-wertach",
          ". Söllereck – Oberstdorf",
          "la-robella-buttes-val-de-travers",
          "Hemsedal",
          ". Mönichkirchen/Mariensee",
          "tarasp",
          "teichalm-fladnitz",
          "stary-smokovec-hrebienok",
          ". Feldberg – Seebuck/Grafenmatt/Fahl",
          "plainpalais",
          "tristeli-st-margrethenberg",
          "arena-platos",
          "shizuokashi-riverwell-ikawa",
          "monte-spada",
          "crystal-mountain-westbank",
          "praegraten-am-grossvenediger",
          "cypress-mountain",
          "teleconthey-mayens-de-conthey",
          "yongpyong-resort",
          "labbaye",
          "weissenbach-alpinwellt",
          "les-signaraux-la-motte-daveillans",
          "caldirola-monte-gropa",
          "oetscher-lackenhof-gaming",
          "pirstingerkogellift-sommeralm-hohenau-an-der-raab-passail",
          "conca-dellalben",
          "urnerboden",
          "metabief",
          "o2-resort-taebaek",
          ". Unternberg (Ruhpolding)",
          "saint-hilaire-du-touvet",
          "lessach",
          "seeberg-seewiesen-turnau",
          "colle-de-lys",
          "rienz-toblach-dobbiaco",
          "oze-tokura",
          ". Ofterschwang/Gunzesried – Ofterschwanger Horn",
          "mittagbahn-immenstadt",
          "terenten-terento",
          "sauris",
          "prags-braies",
          "wiesen-gruob",
          "laguiole",
          "tateshina-tokyu",
          "karuizawa-snow-park",
          "boden-pfafflar",
          "aeschiried",
          "passo-cereda",
          "le-desert-dentremont",
          "predaia-coredo",
          "minakami-houdaigi",
          ". Hörnle – Bad Kohlgrub",
          "bazora-gurtisfrastanz",
          "holzmeisterlifts-sommeralm-st-kathrein-am-offenegg",
          ". Todtnauberg",
          "lauenen",
          "hidden-valley-ab",
          "col-du-granier",
          "eremo-di-monte-carpegna",
          "iizuna-kogen",
          "kubinska-hola",
          "brameloup-saint-chely-daubrac",
          "taisten-tesido",
          "lantschlenz",
          "hochschwarzeck-ramsau-bei-berchtesgaden",
          "sarena",
          "ishizuchi",
          "praboure-saint-antheme",
          "akagiyama",
          "zao-sumikawa",
          "sun-mountain-yabuli",
          "ochapowace",
          "bukovel",
          "hemlock-valley",
          "vals",
          "kaiserau-admont",
          "heiti-gsteig-bei-gstaad",
          "jeongseon-alpine-centre",
          "koziakas-pertouli",
          "saint-urcize",
          "monte-fumaiolo-le-balze",
          "high1-resort",
          "bumbach-schangnau",
          "platak",
          "szklarska-poreba-szrenica",
          "spanov-vrh",
          "le-brassus",
          ". Donovaly (Park Snow)",
          "lana-lift-anras",
          "bacova-roven-vysna-boca",
          "pian-del-falco-sestola",
          "grenchenberg-grenchen",
          "hochmoos-leutasch",
          "les-pleiades",
          "faltschen-reichenbach",
          "ryokufu-resort",
          "gampluet",
          ". Belchen",
          "ramzova-bonera-serak",
          "sniezka-karpacz",
          "eriz",
          "trient",
          "kranzberg-mittenwald",
          "igrista-vlasenica",
          ". Zauberberg Semmering",
          "le-sappey-en-chartreuse",
          "masik-pass",
          "spieserlifte-unterjoch",
          "la-bresse-hohneck",
          "palot-pisogne",
          "zao-eboshi",
          ". Alfaierlift – Gschnitz",
          "col-de-marcieu-saint-bernard-du-touvet",
          "schnifisberg-schnifis",
          "les-plans-dhotonnes",
          "oberiberg",
          "la-corbatiere-la-roche-aux-crocs",
          "orgevauxles-avants",
          "trije-kralji",
          "pichl-gsies",
          "selfranga-klosters",
          "ruffre-monte-nock",
          "unterberg-pernitz",
          "grand-ballon",
          "stollenbach-bei-oberried",
          "whiteface-lake-placid",
          "le-markstein",
          "simonhoehe-st-urban",
          ". Hochficht",
          "steibis-imberg-oberstaufen",
          "annaberg",
          "sviscaki",
          "neusell-rothenthurm-biberegg",
          "norro-lift-adelboden",
          "pokljuka-goreljek",
          "zinkenlifte-duerrnberg-hallein",
          "gfoellberglift-holzgau",
          "appi-kogen",
          "mariborsko-pohorje-maribor",
          ". Schetteregg – Egg",
          "hakkoda",
          "naggler-alm-techendorf-weissensee",
          "schuttannen-hohenems",
          "wildentallift",
          "telgart",
          "wildstaettlift-wattenberg",
          "kujyumachi",
          "horni-domky-lysa-hora",
          "les-moussieres",
          "feichten",
          "golija-ivanjica",
          "la-chia-bulle",
          "rotecklift-tobadill",
          ". Götschen – Bischofswiesen",
          "araragi-kogen",
          "hauereck-st-kathrein-am-hauenstein",
          "passo-forcora-monte-cadrigna",
          "sommartel-le-locle",
          "koetschach-mauthen-vorhegg",
          "roeldal",
          "hochwechsellifts-moenichwald",
          "stryn-sommerski-tystigbreen",
          "raggal",
          "nasbinals",
          "col-de-larzelier",
          "gadmen",
          "pridolci",
          "balmberg",
          "feistritzsattel-trattenbach",
          "bramans-val-darc",
          "betania",
          "le-manon",
          "embach-hoerndl",
          "adelharz-and-breitensteinlifts-kranzegg-rettenberg",
          "archamps",
          "le-gaschney-petit-hohneck",
          "les-chosalets",
          "le-tanet",
          "cerkno",
          "lorient",
          "kerenzerberg-filzbach",
          "reither-kogel-reith-im-alpbachtal",
          "el-fraile",
          "katschwald-obdach",
          "meix-musy-pierre-a-feu-val-de-morteau",
          ". Kolbensattel – Oberammergau",
          "sonnenberglift-gries-im-sellrain",
          "mogno",
          " Åre",
          "prato-leventina",
          "yatsugatake-shizenbunkaen-guresuten-summer-ski-area",
          ". Trins",
          "buergeralpe-mariazell",
          "bellefontaine",
          "haldenkoepfle",
          "hinterfeld-moesern-telfs",
          "mount-seymour",
          "cerna-hora-janske-lazne",
          "vorderthal-skilift-waegital",
          "schnepfenried",
          ". Szczyrk Mountain Resort",
          "grand-val-oberdoerferberg",
          "skalka",
          "la-schlucht",
          "okuibuki",
          "herrenschwand",
          "bjorli",
          "neuleutasch-leutasch",
          " Gaustablikk – Rjukan",
          "steinberg-am-rofan",
          "schratten-fluehli",
          "la-golatte-smontoz-tavannes",
          "clearwater",
          "gurnigelbad",
          "czarna-gora-sienna",
          "thalerhoehe-wiederhofen-missen-wilhams",
          "grouse-mountain",
          "dalpe",
          "rouge-gazon",
          "canada-olympic-park-calgary",
          "mogosa",
          ". Keilberg (Klínovec)",
          "katashina-kogen-resort",
          "muggenbrunn",
          ". Les Planards",
          "muenstertal-wieden",
          "josefsberg-mitterbach-am-erlaufsee",
          "hauteville",
          "rankenlift",
          "petersbruendl-st-michael-im-lungau",
          "hoshino-resorts-tomamu",
          "blomberg-bad-toelzwackersberg",
          ". Špindlerův Mlýn",
          "karlift-heiterwang",
          "rencurel",
          "dolni-morava-kralicky-sneznik",
          "pfronten-steinach",
          "trostyan-mountain",
          "ballon-dalsace",
          "geigenbuehel",
          "gaaler-lifte-gaal",
          "skipark-erika-kojsovska-hola",
          "ski-mountain-park-sao-roque",
          "strandafjellet",
          "lammeralm-langenwang",
          "hoislifts-modriach-edelschrott",
          "cairngorm-mountain",
          "les-fourgs",
          "tramelan",
          "seebodenalp-kuessnacht",
          "buchberg-goldegg",
          "les-rafforts-hery-sur-ugine",
          "lajoux",
          "nevis-range",
          "hachi-kita-kogen",
          "cogolo",
          "menzenschwand-st-blasien-spiesshorn",
          "st-cergue",
          "pradibosco-prato-carnico",
          "norn-minakami",
          "adatara-kogen-resort",
          "obdach",
          "javornik",
          "campulung-moldovenesc",
          "shizukuishi",
          "stari-vrh",
          "corin-forest",
          "davidovy-boudy",
          "pec-pod-snezkou",
          "kranjska-gora",
          ". Fichtelberg – Oberwiesenthal",
          "pancir",
          "spechtenseelift-puergg-stainach-puergg",
          "lac-blanc",
          "le-larmont",
          "huendlethalkirchdorf-oberstaufen",
          "wunderwiese-puchberg-am-schneeberg",
          "ani-mt-moriyoshi",
          "ruzomberok-skipark",
          "la-pesse",
          "simas-lifte-st-peterst-corona",
          "grand-sunpia-inawashiro",
          "sollegg-appenzell",
          "furano",
          "spicak",
          "jakubkova-luka",
          "kandel",
          "pylypets",
          "alpe-furx-furx-zwischenwasser",
          "alberschwende-brueggelekopfdresslerbergtannerberg",
          "hochlitten-riefensberg",
          "schauinsland-hofsgrund",
          "breitnau",
          "bodental-unterbergen-ferlach",
          "atzmaennig-goldingen",
          "thoma-hinterzarten",
          "akita-hachimantai",
          "aizu-kogen-daikurayama",
          "porte-de-la-giraude",
          "karkogel-abtenau",
          "saint-nizier-du-moucherotte",
          "eibisberg-anger",
          "zahmer-kaiser-walchsee",
          "niseko-united-annapurigrand-hirafuhanazononiseko-village",
          "st-martin-im-tennengebirge",
          "mautgrube-oberau-berchtesgaden",
          "st-jakob-im-walde",
          "sonnberglifts-wald-am-schoberpass",
          "graix",
          "pian-san-giacomo",
          "groellerkopf-uebersaxen",
          ". Hirschberglifte – Kreuth",
          "la-loge-des-gardes",
          "saxeten-pintli",
          "montmin",
          "notschrei",
          "lengau",
          "hemberg",
          "saint-imier-mont-soleil",
          "luesen-luson",
          "shames-mountain",
          "norefjell",
          "numajiri",
          ". Nosal – Bystre",
          "flensa-seewis",
          "heimenschwand-buchholterberg",
          ". Hovden",
          "macesnovc-ratece",
          "gala-yuzawaishiuchi-maruyama",
          "tanzboden-ebnat-kappel",
          "kiroro",
          "bojanine-vode-nis-suva-planina",
          "drienica",
          "divcibare",
          ". Geilo",
          "ikawa-kainayama",
          "le-col-du-feu-lullin",
          "biwako-valley",
          "mouthe-massif-du-noirmont",
          "yuzawa-kogen-nunoba",
          "sonnenhanglifte-unterjoch",
          "bunloc-sacele",
          "haut-de-caux",
          "kroessbach",
          "le-chauffaud-val-de-morteau",
          ". Feldthurns (Velturno)",
          "cervenohorske-sedlo",
          "begovo-razdolje",
          "schwarzenbachlift-altglashuetten",
          "bachledovajezerskofrankova",
          "muehlegglift-hopfgarten-in-defereggen",
          "oberholz-farner",
          "hubelweid-heiligenschwendi",
          "thanner-hubel",
          "fischbach-schluchsee",
          "poelzl-lifte-kindberg",
          "weissbriach-gitschtal",
          "schwabenbergarena-turnau",
          "turmkogel-puchenstuben",
          "guttannen",
          "paluda-dalaas",
          "ski-taja-tatranska-javorina",
          "millruette-goetzis",
          "la-trelasse",
          "hochlecken-neukirchen-altmuenster",
          "rossa",
          "sonnenberglift-milders",
          ". Gålå",
          "les-genevez",
          "yokomuki-onsen",
          "mitteldorflift-doellach-grosskirchheim",
          "hofeck-hof-bernau-im-schwarzwald",
          "rochejean",
          "alpsteinblick-gonten",
          "payolle",
          "passo-penice",
          "dagali-fjellpark",
          "wenigzell",
          "buchenberg-buching-halblech",
          "knittellifte-elbigenalp",
          "arieseni-vartop",
          "riffenmatt-winterpark",
          "la-sagne",
          ". Mitterdorf (Almberg) – Mitterfirmiansreut",
          "st-hemma-edelschrott",
          "bozi-dar-neklid",
          "eck-riedelstein-arrach",
          "muckenkogel-lilienfeld",
          "le-reposoir-village",
          "gerardmer-la-mauselaine",
          "oberau-wildschoenau",
          "kreuzweg-neuenweg-hinterheubronn",
          "shimokura-area-hachimantai",
          "yanaba-parallel",
          "hahnbaum-st-johann-im-pongau",
          "hida-highland",
          "mitrovac-tara",
          ". Szymoszkowa",
          "hinterreit-saalfelden-am-steinernen-meer",
          "lofsdalen",
          "basse-ruche",
          ". Skeikampen – Gausdal",
          "gubalowka-zakopane",
          "goldiwil-multenegg-heiligenschwendi",
          "zadov-kobyla",
          "glodowka",
          ". Hemavan",
          "rostovo",
          "golsfjellet",
          "hinoemata",
          ". Geißkopf – Bischofsmais",
          "stowe",
          "lispach-la-bresse",
          "strazny",
          "jaworzyna-krynicka",
          "gujo-kogen",
          "friherrenberg-einsiedeln",
          "viehberg-sandl",
          "raten-oberaegeri",
          "ventron",
          "oberegg-skilift-st-anton",
          "chaux-neuve",
          ". Beitostølen",
          "ochsenstall",
          "vojsko",
          "le-frenz",
          "gruenberg-obsteig",
          "medicine-lodge",
          ". Sternstein – Bad Leonfelden",
          "konradshuettle-vils",
          "sachticky",
          "sapporo-kokusai-jozankei-kogen",
          "mauth",
          "unterstmatt",
          "brot-plamboz",
          "szyndzielnia-bielsko-biala",
          "liptovske-revuce",
          "rohrhardsberg-schonach",
          "schwaerzenlifts-eschach",
          " Trysil",
          "solheisen-skisenter",
          "kraehenberg-sibratsgfaell",
          "la-brevine",
          "sonnenlifts-roefleuten-pfronten",
          "pustevny-trojanovice",
          "stockerfeldlift-moessna-st-nikolai-im-soelktal-soelk",
          "kouty-nad-desnou",
          "homberg",
          "chuderhuesi-roethenbach",
          "male-ciche",
          "kvilda",
          "les-prevondes",
          ". Novako – Boží Dar",
          "saegenhof-urach",
          "la-cernay-blanche-la-chaux-de-gilley",
          "asahi-tengston",
          "zadov-churanovu-horejsu",
          "podobovets",
          "strednica-zdiar",
          "roessle-lift-schoenwald-im-schwarzwald",
          "la-cote-aux-fees",
          "kalte-herberge-urach",
          "hiroshima-kenmin-no-mori",
          "stixner-lift-missen-wilhams",
          "phoenix-park",
          "koenigsberg-hollenstein-an-der-ybbs",
          "forsteralm-waidhofen-an-der-ybbs",
          ". Tirolina (Haltjochlift) – Hinterthiersee",
          "geilolia-kikut-geilo",
          "celimbasa",
          "les-bagenelles-sainte-marie-aux-mines",
          "darmstaedter-huette",
          "borsec",
          "glencoe-mountain",
          "les-marmousetsmassif-dorbe-bois-damont",
          ". Le Tourchet",
          "champ-du-feu",
          "grub-kaien",
          "pfaender-bregenz",
          "spitzenbergkoepfle-innerlehen-bernau-im-schwarzwald",
          "hohe-winde-beinwil",
          "schneeberglifte-waldau-titisee-neustadt",
          ". Myrkdalen",
          "raudalen-alpinsenteret",
          "valdres-alpinsenter",
          "whispering-pines-worsley",
          "ghoech",
          "swieradow-zdroj",
          "velka-upa",
          "plai",
          "cerro-castor",
          "krahule",
          "sysendalen-eidfjord",
          "seibelseckle-seebach",
          "meander-skipark-oravice",
          "ilz",
          "fischenthal-aurueti-oberegg",
          "sagasserovy-boudy-velka-upa",
          "aichelberglifts-karlstift-bad-grosspertholz",
          "moosberglift-weissenbach-am-lech",
          "podbanske",
          "hohenbogen-neukirchen-bei-hl-blut",
          ". Steckenberg – Unterammergau",
          "pradis-ci-bedollo",
          "brandlift-scharnitz",
          "hyounosen-kokusai",
          "eisenbach",
          "hochplatte-marquartstein",
          "stanzach",
          "nollen-unteraegeri",
          ". Hawrań – Jurgów",
          "mosorny-gron-zawoja",
          "dobellifts-schoenwald-im-schwarzwald",
          "masun",
          "akazawa",
          "crni-vrh-bor",
          "velka-raca",
          "longchaumois-rosset",
          "oberwilhams-missen-wilhams",
          "aal-skisenter",
          "vidlic-pirot",
          "penkavci-vrch",
          "boeglerlift-alpbach",
          "taenndalen",
          "krasiya",
          "mount-sima",
          "latky-prasiva",
          "foncine-le-haut",
          " Kvitfjell",
          "velebno-baske-ostarije",
          "sljeme-medvednica-zagreb",
          "sahoro",
          "maiszinken-lunz-am-see",
          ". Pröller Skidreieck (St. Englmar)",
          "rossbachlift-nassereith",
          ". Hafjell",
          "salmo-ski-hill",
          "voegelinsegg-speicher",
          "schwaerzenbach-titisee-neustadt",
          "plesivec-abertamy",
          "hochkopf",
          "hasenhorn-todtnau",
          "haeselgehr",
          "gais",
          "zieleniec",
          "spaatind-skisenter",
          "nods",
          "kesselberg-oberkirnach-st-georgen",
          ". Markbuchen/Predigtstuhl (St. Englmar)",
          ". Ochsenkopf",
          "sonnenbichl-bad-wiessee",
          "certova-hora-harrachov",
          "rudnik-trsce",
          "szymkowka",
          "floitenlift-ginzling",
          "eggiwil-netschbuehl",
          "schmolllifte-steinhaus-am-semmering",
          "koprivna",
          "herlikovice-bubakov",
          "kekestetoe",
          "petehovac-delnice",
          "le-schlumpf-dolleren",
          "ruhestein-baiersbronn",
          "altinoran-ankara",
          "beli-bor-tara",
          "les-gentianes-morbier",
          "dorflift-sulzberg",
          "buce-rencisov",
          "johnsbach-admont",
          "funaesdalsberget",
          ". Archenstadel – Rinn",
          "liebenau",
          "fagernessfjellet-narvik",
          "almblicklifts-strallegg",
          ". Hundseck – Bühlertallifte",
          "dwie-doliny-wierchomla-malaszczawnik-piwniczna-zdrojmuszyna",
          "roggenboden",
          "ramundberget",
          "kandelblick",
          "steg-im-toesstal",
          "schwannerlift-weerberg",
          "herrischried",
          "panorama-area-hachimantai",
          ". Schneeberglifte – Mitterland (Thiersee)",
          "auerberg-bernbeuren",
          "ellegglifte-faistenoy-oy-mittelberg",
          "jested-liberec",
          "waldhaeuser-neuschoenau",
          "halblech",
          "ibach",
          "hornlift-froehnd",
          "aizu-kogen-nango",
          "kleinlobming",
          "zenitzen-winklern",
          ". Bischofsreut",
          "hittisberg-hittisau",
          "lammertallift-annaberg-lungoetz",
          "winterberglifte-schonach-im-schwarzwald",
          ". Mehliskopf",
          "luggi-leitner-lifts-scheidegg",
          "rothaus-grafenhausen",
          ". Witów",
          ". Harenda",
          "kreuzbachthallift-kreuzthal",
          "im-lehen-hoechenschwand",
          "janovky-milotin-zuberec",
          "rusutsu",
          "ricky-v-orlickych-horach",
          "la-combe-saint-pierre-charquemont",
          "bregtalliftstaatsberg-furtwangen",
          "ski-park-liptovska-teplicka",
          "wehrhalden",
          "ceske-zleby",
          "svycarska-bouda-abertamy",
          "plese-podkonice",
          "schmiedhornlift-wald-faistenau",
          "fjaetervaalen",
          "niedernsill",
          "stierhuette-falkau",
          "oberzeiring-poelstal",
          "panoramalifte-hopfen",
          "vogelskopf-baiersbronn",
          "boettingen",
          "horni-vltavice",
          "brabant-la-bresse",
          "voegelsberg-wattens",
          "el-calafate",
          "hochproeller",
          "la-bonade-grand-combe-chateleu-val-de-morteau",
          "suior",
          "glasenberg-maria-neustift",
          "hochstraesslifts-oberreute",
          ". Oedberg – Gmund-Ostin",
          ". Wurmberg – Braunlage",
          "brigachlift-oberkirnach-st-georgen",
          "alpensia-pyeongchangs-winter-olympic-park",
          "zuflucht-baiersbronn",
          "oberer-schlossberg-oberkirnach-st-georgen",
          "benecko",
          "schlossberg-oberkirnach-st-georgen",
          "hoernli-hemberg-baechli",
          "vitanova",
          "brotjacklriegel",
          "bela-komarna-vas",
          "le-poli-xonrupt-longemer",
          "waldrastlift-ehenbichl",
          "gohrersberg-kreuzthal",
          "voss-resort",
          "la-goulemont-miroir-maiche",
          "hautes-navieres-le-valtin",
          "stozek-wisla",
          "iberg-riedholz-maierhoefen",
          "bolton-valley",
          "pfannilift-neuhaus-schliersee",
          "kniebis",
          "am-grenzhang-tellerhaeuser-breitenbrunn",
          "sonnenlift-aigis-missen-wilhams",
          "klobouk-mala-moravka-ski-karlov",
          "roemerlift-buchenberg",
          ". Bialy Potok",
          "premyslov-jeleni",
          "larcenaire-bussang",
          "bukova-hora-cenkovicecervena-voda",
          "olczan-ski",
          ". Kaltenbronn",
          "kienleitenlift-brandenberg",
          "innisfail",
          "ostruzna-retezarna",
          ". Silberberg – Bodenmais",
          "rachowiec-zwardon",
          "bartek",
          "przy-kolibie",
          "skagahoegdi-gol",
          "hlidarfjall-akureyri",
          "hakodate-nanae",
          "wagnershalde-messstetten",
          "lainach-rangersdorf",
          "barmsee-kruen",
          "hodlekve-sogndal",
          "ski-seven-zakamenne",
          "opalisko-zavazna-poruba",
          "raffelmoos-elbach-fischbachau",
          "st-mary",
          "rusin-ski-bukowina-tatrzanska",
          "bungerloch-tarrenz",
          "oberfrauenwald-waldkirchen",
          "burgbuehl-obernheim",
          ". Vemdalsskalet",
          "langmattli-hergiswil",
          "bjoernrike",
          "sjusjoeen",
          "obersalzberg",
          "hirschkopf-carlsfeld",
          "bergbrunnenlift-gersbach",
          "waldskilift-wald-faistenau",
          "budzynski",
          "langmattlift-aftersteg-todtnau",
          "teplica-brezovica",
          "nakayamatoge-kogen",
          "bialy-krzyz-szczyrk",
          "birgitz",
          "praded-mala-moravka-ski-karlov",
          "heiden-bischofsberg",
          "zugerberg",
          "orava-snow-oravska-lesna",
          "nordseter-skicenter",
          "renan",
          "rajkovo-majdanpek",
          "chotarz-koscielisko",
          "suche",
          "blatten-speicher",
          "bankut",
          "schlossberg-tailfingen-albstadt",
          "studenov",
          "loeffingen-dittishausen",
          "naprava-jachymov-nove-mesto",
          "friedenweiler",
          "dalseter-espedalen",
          "walenstadtberg",
          "wasserkuppe",
          "le-grand-valtin-ban-sur-meurthe-clefcy",
          "hagenberglifte-sulzberg",
          "kraliky",
          "kreuzberg-bischofsheim-an-der-rhoen",
          "furtnerlifts-rohr-im-gebirge",
          "mackov-kamen-krupanj",
          "ebingen-albstadt",
          "aomori-spring",
          "sous-le-mont-tavannes",
          "ribnica-na-pohorju-ribnisko-pohorje",
          "wehingen",
          "hart-nusplingen",
          "goc",
          "kuhberglifte-lenzkirch-saig",
          "argental-weitnau",
          "rusel",
          "oberwaldlifte-faistenau",
          "linden-schindelberg",
          "moosbach",
          "am-ritter-gehlberg",
          "kohutka",
          "plejsy-krompachy",
          "fluckenlift-maierhoefen",
          "seeg",
          "philippsreut",
          "wasen-im-emmental",
          "st-corona-am-wechsel",
          "sami-swoi-gliczarow-dolny",
          "haeusern",
          "stadtwaldlift-rottenmann",
          ". Białka Tatrzańska – Kotelnica/Kaniówka/Bania",
          "wegierski-brenna",
          " Riksgränsen",
          "kusici-ivanjica",
          "pod-butorowym-koscielisko",
          "ski-sport-alm-burladingen",
          "gaehwil",
          "gigant-zakopane",
          "petersthal-oy-mittelberg",
          "raupennesthang-altenberg",
          "vargen",
          "aggenhausen-mahlstetten",
          "ziar-dolinky",
          "snieznica-kasina-wielka",
          "winterberglift-oberkirnach-st-georgen",
          "marela-kisovec-zagorje-ob-savi",
          "ojiro",
          "kirchschlag-bei-linz",
          "koziniec-czarna-gora",
          ". Lipno",
          "bitz",
          "glenshee",
          "brenden-uehlingen-birkendorf",
          "klema",
          "les-paccotsgranges-mont-chesau",
          "grunholzlift-au",
          ". Oberaudorf – Hocheck",
          "lohwaldhaeng-lindberg",
          "zbojska",
          "rettenegg",
          "samoty",
          "nagelkoepfl-piesendorf",
          "myto-pod-dumbierom",
          "zlaim-grundlsee",
          "altglashuette-baernau",
          "schneiderkopf-buch",
          "lake-songhua-resort",
          "hausberglift-waidring",
          "abisko",
          "inselsberg-bad-tabarz",
          "canyon-ski-area",
          "pardalowka-ugory-zakopane",
          "budzowski-wierch-zakopane",
          "lochwiesen-tiefenbach",
          "kyukamura-myoko-resort",
          "welli-hilli-park",
          "nad-nadrazimbelveder-zelezna-ruda",
          "bane-jakubovany",
          "spring-lake-ski-hill",
          ". Stinesser Lifte – Fischen i. Allgäu",
          "grapa-litwinka-czarna-gora",
          ". Idre Fjäll",
          "wildmooslift-oberau-berchtesgaden",
          "steinberglift-langfurth-schoefweg",
          "wengen-weitnau",
          "lucky-aeschi",
          "sinswang-oberstaufen",
          "alte-reite-rosshaupten",
          ". Kirchberglifte – Kreuth",
          ". Jáchymov Střed",
          "kollerlift-bischofswiesen",
          "duerbheim",
          ". Lindvallen/Högfjället (Sälen)",
          "salmendingen-burladingen",
          "sternenberg-schatzboel",
          "schmiedefeld-am-rennsteig",
          "voithenberg-furth-im-wald",
          "reichenberg-sankt-oswald-riedlhuette",
          "kreuthlift-bad-oberdorf",
          "eulenloch-langenbrand-schoemberg",
          "enzkloesterle",
          "oberstocken-tieringen",
          "tauchnerfeld-stall",
          ". Johanngeorgenstadt – Külliggut",
          ". Kapellenberg (St. Englmar)",
          "unter-tann-gosheim",
          "sulzberg-oberthannen",
          "slotwiny",
          "white-valley-matsubara",
          "schatzerlift-kirchberg",
          "mont-tremblant",
          "oberberg-weiler-simmerberg",
          "kloevsjoestorhogna",
          "motai",
          "nussbaumerlifte-hof-bei-salzburg",
          "sogn-skisenter",
          "hausen-ob-verena-hohenkarpfen",
          ". Tandådalen/Hundfjället (Sälen)",
          "taenndalsvallen",
          "hummelfjell",
          "rajecka-lesna",
          "tale",
          "jachenau-muehle",
          ". Greising – Deggendorf",
          "kralicak-hyncice-pod-susinoustribrnice",
          "bromberg-alm-boebing",
          "karlova-studanka",
          "oberhelfenschwil",
          "herzogsreut-hinterschmiding",
          ". Reith bei Kitzbühel",
          "cerny-dul",
          "zebra-bialka-tatrzanska",
          "slotwiny-arena",
          "annaberg-andelska-hora",
          "solan-vrchol",
          "strazne",
          "klepacov",
          "luisino-udoli",
          "rabenberg-breitenbrunn",
          "witthoh-emmingen-liptingen",
          "bildhaus-gommiswald-am-ricken",
          "geyersberg-freyung",
          "oetzlifte-rabenkopf-kochel-am-see",
          "arralifts-harmanschlag-st-martin",
          "gutachhalde-lenzkirch-kappel",
          "paseky-nad-jizerou",
          "sonnenberg-st-andreasberg",
          "gurten-bern",
          "kesselmannlifte-faistenau",
          "sadek-klenci-pod-cerchovem",
          "les-orvales-malleray",
          "geiersberg-hauzenberg",
          ". Donnstetten (Römerstein)",
          "kesselrain-heidelstein",
          "skalanka-zwardon",
          "czantoria-ustron",
          "prelac-horni-lomna",
          "rabenstein-zwiesel",
          "logarska-dolina",
          "mont-orford",
          "ibuki-no-sato",
          "destne",
          "eichfeldlift-turnau",
          "hansberg-st-johann-am-wimberg",
          "idealhanglift-niederdorf-obermaiselstein",
          "salamandra-resort-banska-stiavnica",
          "poniwiec",
          "wakasugi-kogen-oya",
          "dottingen-muensingen",
          "breitenwang",
          "nagy-hideg-hegy",
          ". Bleaml Alm – Neubau (Fichtelberg)",
          "platzhaus-leitn-stuhlfelden",
          "bedrichovka",
          "vurmovka",
          "dobsinska-masa",
          "bortelid",
          "kuncice-pod-sneznikem",
          "sachrang",
          "riedlberg-drachselsried",
          "ruchtal-onstmettingen-albstadt",
          "lipki-zakopane",
          "rehefeld-zaunhaus",
          "hudsons-hope-portage-mountain",
          "arnsberg",
          "lake-district-ski-club-raise",
          "silbersattel-steinach",
          "fallbachhang-oberhof",
          "baerenstein",
          "simmelsberg",
          "kappruet",
          "duerre-fichte-siegmundsburg",
          "katzenkopf-walchensee",
          "beskid-sport-arena-szczyrk",
          "siebenseelift-wildalpen",
          "mont-sutton",
          ". Willingen – Ettelsberg",
          "hesel-zainingen-roemerstein",
          "goldlauter-suhl",
          ". Sahnehang",
          "lechnerberg",
          "moosetallift-leisach",
          "baeretswil",
          ". Reiserhang – Gaißach",
          "pappenheimer-berg-ernstthal-lauscha",
          "genkingen-sonnenbuehl",
          "celjska-koca",
          "schwedenwall-hohe-hoelle",
          "ersteberg-masserberg",
          "simmersfeld",
          "neukirchen-am-teisenberg-teisendorf",
          "valcianska-dolina-valca-snowland",
          ". Im Salzwinkel – Zainingen (Römerstein)",
          "stoeten",
          "muehlleiten-klingenthal",
          "pod-wangiem",
          "awasuno",
          "bavorak-korenov",
          "bidingen",
          ". Dundret Lapland – Gällivare",
          "wachtberglifts-weyregg-am-attersee",
          "matraszentistvan-sipark",
          "osovje",
          "am-gruendelwald-joehstadt",
          ". Winterberg (Skiliftkarussell)",
          "torfhauslifte-altenau",
          "erpfingen-sonnenbuehl",
          "schwaebeleholzlift-sonthofen",
          "schneckenstein-tannenbergsthal",
          ". Grün-Maibrunn (St. Englmar)",
          "shijinglong",
          "kornberg",
          "gruenbach",
          ". Halde – Westerheim",
          "winterberger-nordhang",
          "moosenlift-uttendorf",
          "poehlberg-annaberg-buchholz",
          "dola-planken",
          "erbeskopf-thalfang",
          "tannerfeld-bayrischzell",
          "alte-golfwiese-oberhof",
          ". Klausenlift – Mehlmeisel",
          "hombergziegenhelle-snow-world-zueschen",
          "stoaninger-alm-schoenau-im-muehlkreis",
          "skipot-potucky",
          "magura-skipark-malastow",
          "ski-club-rhoen-fulda-schwedenschanze-simmelsberg",
          "dzikowiec-boguszow-gorce",
          "tanvaldsky-spicak",
          "kessellifts-inzell",
          "kolsassberg",
          "pfeffingen-albstadt",
          "certak-vaclavov-u-bruntalu-ski-karlov",
          ". Hunau – Bödefeld",
          "zuckerfeld",
          "baienberg-reuthe",
          "czarny-gron",
          "althuette-waldmuenchen",
          "poracska-dolina-porac-porac-park",
          "sankt-oswald-sankt-oswald-riedlhuette",
          "le-massif-de-charlevoix",
          "horben-lindenberg",
          "bublava-bleiberg",
          "bialy-jar-karpacz",
          "kreenheitstetten",
          "krpacovo",
          "polana-zielenska-wisla",
          "rotterhang-schellerhau",
          "maciejowa-rabka-zdroj",
          "bedrichov",
          "obidowa",
          "sakae-club",
          "u-capa-korenov-prichovice",
          "holzelfingen-lichtenstein-wintersport-arena",
          "fahrenberg-vohenstrauss",
          "beiwald-upfingen-st-johann",
          "sitzberg-fischingen",
          "gsahl-hauenstein-ifenthal",
          "lisak-stribrna",
          "cesky-jiretin",
          "moiwa",
          "geising",
          "paulusberg-sehmatal-neudorf",
          "rohy",
          "raunigwiese-kolbnitz-reisseck",
          "palenica-szczawnica",
          "neuhausen-ob-eck",
          "u-gruloka-poronin",
          "ronsberg",
          "galtis-arjeplog",
          "julius-vysna-slana",
          "kokava-linia",
          "mont-sainte-anne-beaupre",
          "altreichenau",
          "sindelna",
          ". Altastenberg",
          "stokinger-freudenstadt-lauterbad",
          "telnice",
          "ulovka-jamnik",
          "little-mac-mackenzie",
          "ochsenwang",
          "kozara",
          "severak",
          "nocksteinlifte-koppl",
          "willmandingen-skilift-laengloch",
          "duvedtegefjaell",
          "jizersky-kopec",
          "kasperske-hory",
          "am-schiessberg-crottendorf",
          "frauenau",
          "buchberg",
          "gagraslift-steingaden",
          "schlossberg-kuestelberg-medebach",
          "felderhalde-isny",
          "laichingen",
          "borowice",
          "brodok-porac",
          "maiergschwendt-ruhpolding",
          "park-kralja-matjaza-crna-na-koroskem",
          "laerchenhof-erpfendorf",
          ". Tärnaby",
          "cerna-ricka",
          "oberweissbach",
          "schorschi-lifte-st-georgen-am-walde",
          "sternrodt-bruchhausen",
          "neuhaus-am-rennweg",
          "richterbichl-rottenbuch",
          "oberbeuren-kaufbeuren",
          "jodla",
          "bile-karpaty-mikulcin-vrch",
          "pommernlift-inzell",
          "traifelberg-honau-lichtenstein",
          "razula",
          "staffelalp-zeglingen",
          "lukovska-banja",
          "hundsbach",
          "ski-bor-crni-vrh",
          "gruensteinlift-schoenau-am-koenigssee",
          "kirchdorf",
          "im-breiten-tal-schwabsoien",
          "wildenthal",
          "snowland-gramado",
          "dluga-polana-nowy-targ",
          "am-richtergrund-massive-snowpark-hermsdorf",
          "aschaulift-koppl",
          "limanowa",
          "joelster-skisenter",
          "sandern-ewattingen-wutach",
          "serafinov-skalite",
          "visalaje",
          "bohl-strassberg",
          "grainet-haidel",
          "truchtelfingen-albstadt",
          "saalhoehe",
          "bad-wildbad",
          "the-lecht",
          "sannokura",
          "schnee-erlebnisland-flattach",
          "bila",
          "heubach-masserberg",
          "chvatimech-valaska",
          ". Am Ried – Farchant",
          "sulzberglift-hammer-siegsdorf",
          "alsovka-medenec",
          "radegast-sihly-na-krasne",
          "beruku-yogo",
          "lent",
          "treisberg-schmitten",
          ". Hempelsberg/Geiersberg – Oberwarmensteinach",
          "engstingen",
          ". Pfulb – Schopfloch (Lenningen)",
          "stoeckerkopf-baiersbronn",
          "laworta-ustrzyki-dolne",
          "nakasato-kiyotsu",
          "jeunesse-kurikoma",
          "huetten-bizau",
          "czorsztyn-kluszkowce",
          "wurmsteinlift-flossenbuerg",
          "dickeloch-winterlingen",
          "oberwangen",
          "annaberg-sucha-rudna",
          "kaneyama",
          ". Bläsiberg – Wiesensteig",
          "gura-humorului",
          "dolni-dvur",
          ". Rabenkopf – Oberau",
          ". Schöneck (Skiwelt)",
          "poehlberg-geyersdorf",
          "doellberg-suhl",
          "lechbruck-am-see",
          "asahi-shizen",
          "oberau-berchtesgaden",
          "hart-highlands-prince-george",
          "skipark-racibor-oravsky-podzamok",
          "marianky-marianske-lazne",
          "mount-joy",
          "imajyo-365",
          "gehrenlift-bischofsgruen",
          "kegelberg-erlbach",
          "rejdova",
          "hidaka-kokusai",
          "zlatnik-fela",
          "tesak",
          "javornik-zalesi",
          "hoher-meissner-eschwegehessisch-lichtenau",
          "berglandlift-lackenhaeuser-neureichenau",
          "hoellkreuz-hoellhoehe-neukirchen-b-hl-blut",
          "kohleck-waldzell",
          "miroslav-lipova-lazne",
          "hennenstein-trochtelfingen",
          "branna",
          "boettental-mehrstetten",
          "forstwald-neuschoenau",
          "idre-himmelfjaell",
          "westernberg-ruhpolding",
          "iwakisan-hyakuzawa",
          "eibenstock",
          "pysna",
          "hoherodskopf-breungeshainer-hangrennwiese",
          "astenberg-wiesing",
          "gwynne-valley",
          "yogo-kogen",
          "reicheltberg-kurort-seiffen",
          "eberschwang-hausruck",
          "benzeck-blindau-reit-im-winkl",
          "herchenhainer-hoehe",
          "holzhau",
          "saporo-kraslice",
          "wolfsberglift-siegsdorf",
          "langewiese-hoehenhang",
          "bor-zwardon",
          "tsuchitaru",
          "machuzky",
          "mont-grand-fonds",
          "tettau-wildberg",
          "vraadal",
          "aldrov-vitkovice-witkowitz",
          "knaben",
          "gora-parkowa-krynica-zdroj",
          "jasenska-dolina-bela-dulice",
          "beskid-spytkowice",
          "fort-fun-winterwelt-bestwig",
          ". Ohlstadt",
          "lindauer-hang-schoensee",
          ". Postwiesen Skidorf – Neuastenberg",
          "minami-furano",
          "sachrovka",
          "grosser-feldberg-oberreifenberg-schmitten",
          "raliska",
          "ceske-petrovice",
          "hanawa-kazuno",
          "biocel-zlatnik",
          "bocksberg-hahnenklee",
          "nollen-hosenruck-wuppenau",
          "rena",
          "hiruzen-bear-valley",
          "zadzial-nowy-targ",
          "kosutka-hrinova",
          "czarny-kamien",
          "mytiny",
          "oberbaerenburg",
          "hohenfurch",
          "zakouti-harrachov",
          "szus-koniakow",
          "usseln",
          "obervellach",
          "takanbo",
          "carlisle-ski-club-yad-moss",
          "tylicz",
          "krpin-begunje",
          "nemira-slanic-moldova",
          "rasov-kliny",
          "schanze-schmallenberg",
          "lowther-hills",
          ". Ylläs",
          "mont-garceau",
          "cienkow-malinka-wisla",
          "sniezynka-lezyce",
          "trachselwald",
          "hohe-geba-traebes-stepfershausen",
          "mezivodi",
          "zloty-gron",
          "homole-jaworki",
          "sanov-cervena-voda",
          "grong",
          "lautlingen-albstadt",
          "zvicina",
          "wildberg-schafbueel",
          "altenfeld",
          "kanapee-muehlheim-an-der-donau",
          "cursdorf",
          "erbendorf-pfaben",
          "doebrastoecken-schwarzenbach-am-waldnaila",
          "vrchlabi-knezicky-vrch",
          "am-wasserturm-snow-fun-arena-dobel",
          "treffelhausen-boehmenkirch",
          "malenovice",
          "karolinka",
          "kotobiki-forest-park",
          "madrid-snow-zone",
          "seimberg-brotterode",
          "sedlonov",
          "u-hrbitova-cerny-dul",
          "kolorowa",
          "yuzawa-nakazato",
          "talblick-mitteltal-baiersbronn",
          "rabbit-hill-snow-resort",
          "solla-thurmansbang",
          "moninec-sedlec-prcice",
          ". Bláfjöll",
          "avalanche-dolni-moravice",
          "skalafell",
          "nunningen",
          ". Auf der Rieder – Eschenlohe",
          "heindlmuehle-wegscheid",
          "val-direne",
          "rimberg-schmallenberg",
          "deesbach",
          "parez",
          "am-crux-vesser-suhl",
          "pechberg-oberreifenberg-schmitten",
          "beiningen-blaubeuren",
          "gautefall",
          "sachty-vysoke-nad-jizerou",
          "ludwigsstadt",
          "neue-aecker-dobel",
          "wirtsberg-bartholomaeheubach",
          "trusetal",
          "ochsenkamp-bad-fredeburg-schmallenberg",
          "kamienicaboleslawow",
          "u-bambuchu",
          "schwarzer-mann-pruem",
          "schwoich",
          "fjellhaugen-skisenter",
          "kadernberg-schoenberg",
          "stok-karpatka",
          "voraufvogling-siegsdorf",
          "mukinje-plitvice",
          "tsuguro-kogen",
          "hakodateyama",
          "turystyczna",
          "glasberg-zwiesel",
          "tindastoll-saudarkrokur",
          ". Fleckllift – Warmensteinach",
          "zagron",
          "naspa-ski-garden",
          ". Hirtenteich – Essingen-Lauterburg/Aalen",
          "schloesslihang-st-gallen",
          "senozeta",
          "weisser-stein-hellenthal",
          "bedea-novaggio",
          ". Burglift – Stans",
          "nova-lhota",
          "tschardund-nenzing",
          "valley-ski-hill-alliance",
          "berger-anger-berg-im-drautal",
          "grafenau",
          "nowa-osada-wisla",
          "bad-haering",
          "encijan",
          "makovytsia-mizhgirya",
          "hora-svate-kateriny-st-katharinaberg",
          "dreieck-glarus",
          "tawatinaw-valley-pine-valley-resort",
          ". Ostalb – Aalen",
          "kronberg-st-georgen-im-attergau",
          "krajka-kraslice",
          "dobogoko",
          "oberhundem-kirchhundem",
          "muehldorf",
          "lommiswil-bitzirain",
          "horal",
          "an-der-kniebreche-steinbach-hallenberg",
          "steinrueckenlift-ettenhausen-schleching",
          "hohe-lied-gellinghausen-schmallenberg",
          "master-ski-tylicz",
          "antoni-fridingen-an-der-donau",
          "bergwiese-schwarzenbach-am-wald",
          "bistrita",
          "gucevo",
          "rauschenbachmuehle-arnsfeld",
          "birkholzlift-heinersreuth-presseck",
          "dole-pri-litiji",
          "dayongshan-huaxueguan",
          "ruhrquelle",
          "misty-ridge",
          "u-pekina-zlate-hory-dolni-udoli",
          "laiernberg-hettingen",
          "ascher-rauth-fuchstal",
          "pietkiewiczowka",
          "sunridge",
          "stok-wisla",
          "opalena",
          "falkenstein",
          "pricna-zlate-hory",
          "wiesinger-buehel-wiesing",
          "kreuzmoeslberg-berg",
          "henryk",
          "kamenec-jablonec-nad-jizerou",
          "ilmenau",
          "jaegerstrasse-klingenthal",
          "kaeppele-wittendorf-lossburg",
          "klaeppen",
          "karsee-wangen-im-allgaeu",
          "sentjost-nad-horjulom",
          "snow-valley-edmonton",
          "nakazato-snow-wood",
          "lauenhain-ludwigsstadt",
          "sitzambuch-schnaittenbach",
          "pfaring-angerberg",
          "bolbeno",
          "bosino",
          "edmonton-ski-club",
          "skolnity-wisla",
          "ravensberg-bad-sachsa",
          "primda",
          "matthias-schmidt-berg-st-andreasberg",
          "bruggen-greifenburg",
          "hrastlift-feistritz-an-der-gail",
          "horni-marsov",
          "okragla-gorka-kamianna",
          "bermsgruen-schwarzenberg",
          "stok-relaks",
          "piatra-neamt",
          "asahimura-budo",
          "karpatka-panorama",
          "salzburger-kopf-stein-neukirchrennerod",
          "waldskilift-schnittlingen-boehmenkirch",
          "jonsdorf",
          "javornik-jermanice",
          "asp-densbueren",
          "sackpfeife-biedenkopf",
          "weardale-ski-club",
          "schoenanger-rinchnach",
          "selce-cachovo",
          "hasslach-teuschnitz",
          "dellach-im-drautal",
          ". Kramsach",
          "kaiserlindenlift-gams-bei-hieflau",
          "ushidake-onsen",
          "skardsdalur-siglufjoerdur",
          "giller-hilchenbach-luetzel",
          "rueegsau",
          "kraimoos-bernau-am-chiemsee",
          "zlata-olesnice",
          "langenau-tettau",
          "zschorlau",
          "luzna",
          "regensberg-erlenhof-im-buck",
          "werda",
          "makovica-nizna-polianka",
          "kinosoo-ridge",
          "schwabenwiese-mindelheim",
          "wildewiese-sundern",
          "schulenberg-skialpinum",
          "am-brande-hohegeiss-braunlage",
          "hoellkopf-driedorf",
          "xpark-frantiskov-jindrichov",
          "zaluzi",
          "eikerapen",
          "tajov",
          "velke-ostre",
          "berghalde-penzberg",
          "schoenheide-stuetzengruen",
          "markersbach",
          "brandov",
          "izver-sodrazica",
          "ziegenberg-zwoenitz",
          "tannenberglift-immenreuth",
          "wartberg-laengenau-selb",
          "schmalzlalm-rettenbach",
          "buschberg-vorwerk-lengefeld",
          "hochberg-heidenheim-an-der-brenz",
          "schebdach-jungingen",
          "cihadlo",
          "eschenbuckel-betzweiler",
          "sky-shishiku",
          "duck-mountain-kamsack",
          "nordenau-schmallenberg",
          "vyshka",
          "greuth-gerstetten",
          "straza-bled",
          "stoneham-mountain-resort",
          "bottenwil-piz-graben",
          "polevsko",
          "bears-town",
          "mcgregor-stare-mesto-pod-sneznikem",
          "kamenec-teplice-nad-metuji",
          "mauertal-soehnstetten",
          "sandberg-bopfingen",
          "unterhuette-waldmuenchen",
          "heidersdorf",
          "gansberg",
          "elkeringhausen",
          ". Beuerberg",
          "knoten-oberrodrennerod",
          "vraclavek",
          "lausche-waltersdorf",
          "glonn",
          "ryterski-raj-rytro",
          "mont-saint-sauveur",
          "yuzawa-park",
          "myslenice",
          "rosenberg-klosterreichenbach-baiersbronn",
          "bukovnik",
          "hirtstein",
          "windheim-steinbach-am-wald",
          "urspring-lonsee",
          "hohenstein",
          "am-hexenwaeldle-krauchenwies",
          "rathauslifte-braunlage",
          "sayda-mortelgrund",
          "neusatz-bad-herrenalb",
          "schoene-aussicht-bad-steben",
          "frankenlift-wurzbach",
          "arft",
          "zasada",
          "koedellift-nordhalben",
          "dicki-weisslingen",
          "fuerstberg-eppenschlag",
          "goellsdorf-rottweil",
          "balsberg-unterwoessen",
          "hamry-bystre",
          "sacberk",
          "mont-orignal-lac-etchemin",
          "vernirovice",
          "poehla-schwarzenberg",
          "ladek-zdroj",
          "kovarna-horni-lipova",
          ". Hesselberg",
          "eisenberg-neuenstein",
          "huehnerfarm-ehrenfriedersdorf",
          "rusinowa-polana",
          "burov",
          "rittenberg-fercekovce-spisska-nova-ves",
          "hasselkopf-braunlage",
          "hohes-gras-kassel",
          "jalovec",
          "svoboda-nad-upou",
          "am-poppenberg-brilon",
          "am-hainberg-olbernhau",
          "zborov",
          "ramensteinhang-nattheim",
          "schwalefeld",
          "mammern-klingenzell",
          "berger-hoehe-wangen-im-allgaeu",
          "brennberglift-etzelwang",
          "buchsteinlift-reiflingviertel-st-gallen",
          "velykyj",
          "ernstberg-daun",
          "andreasberg-auerbacherzg",
          "rotberg-villigen",
          "petrikovice",
          "spies-betzenstein",
          "gaistaltalwiese-bad-herrenalb",
          "val-saint-come",
          "weissbach-an-der-alpenstrasse-schneizlreuth",
          "eismecke-ramsbeck",
          "spiegelthalerstrasse-clausthal-zellerfeld",
          "klepki-malinka-wisla",
          "kladky",
          "luce",
          ". Fahlenscheid – Olpe",
          "buchschirmhang-hilders",
          "hohe-acht-jammelshofen-kaltenborn",
          "merklin",
          "hirzenhain",
          "kaisersbach",
          "johannisstein-hain-oybin",
          "boebrach-bernried",
          "baldramsdorf",
          "dollberg-zueschneuhuetten",
          "furedalen-alpin-kvamskogen",
          "ledinica-ziri",
          "poseka-ravne-na-koroskem",
          "waldsportpark-ebersberg",
          "schorrberg-bad-marienberg",
          "weikersberg-koenigsbronn",
          "mont-ste-marie",
          "daemyung-vivaldi-park",
          "bromskirchen-am-hohen-stein",
          "albuch-heidenheim-schnaitheim",
          "fairview-ski-hill",
          ". Hohe Bracht – Lennestadt",
          "blasienberg-kirchheim-am-ries",
          "ludens-yuzawa",
          "hluboka-u-trhove-kamenice",
          "rosts-wiesen-augustusburg",
          "arlamow",
          "sellinghausen-schmallenberg",
          "stadtpark-thum",
          "landsberied",
          "trojak",
          "tschagael-schaan",
          "chateau-shiozawa",
          "kutsuki",
          "kocourov",
          "reinerzau",
          "foehrlimatt-wegenstetten",
          "thunderhill-benito",
          "monte-sperlasso-velburg",
          "rudno-zelezniki",
          "oscadnica",
          "monte-voggo-voggenthal-neumarkt-idopf",
          "hohenberg-rosenberg",
          "kaabdalis",
          "wolfsschlucht-pruem",
          "arnreit",
          "praestberget",
          "erlenberg-thurmansbang",
          "rettenbach-bernstein",
          "zeyers-wies-bolheim-herbrechtingen",
          "branaes",
          "kempaland-bukovec",
          "pippu",
          "butzberg-wunsiedel",
          "bromont",
          "luka-nad-jihlavou",
          "im-christseifen-wingeshausen-bad-berleburg",
          "bukovytsia-boryslav",
          "stary-gron-brenna",
          "au-webergletscher-bad-feilnbach",
          "hoellzachersbuk-sulzbuerg-muehlhausen",
          "seninka",
          "battenhausen-am-hohen-lohr",
          "szklana-gora-harbutowice",
          "klaushang-gornsdorf",
          "egg-hallau",
          "gschwend",
          "tuernental-fuernsal-dornhan",
          "rimski-vrelec",
          "mont-blanc",
          "mont-avalanche",
          "asessippi",
          "auf-der-rose-altenau",
          "moedalstrekket",
          "mugi-netstal",
          "mt-gilboa-ski-gilboa",
          "maeuseberg-daun",
          "froettmaninger-berg-munich",
          "hesselbacher-gletscher-bad-laasphe",
          "maalselv-fjellandsby",
          "suhara-ski-resort",
          "frauenzell-brennberg",
          "beskidek-szczyrk",
          "varingskollen",
          "marble-mountain-steady-brook-humber-valley",
          "tranzlberg-moosach-falkenberg",
          "allenheads",
          "lettenberg-neuffen",
          "langkampfen",
          "benneckenstein",
          "loeffelberg-herold-thum",
          "cieniawa",
          "sieben-linden-berg-arzberg",
          "malego-krola",
          "valtenberg-valtenhaeuser-neukirchlausitz",
          "schlossberg-haderlsdorf-beratzhausen",
          "johannisberg-freudenberg",
          "potstat",
          "kozinec-jilemnice",
          ". Oslo – Tryvann (Skimore)",
          ". Levi",
          "lichtenfels-lahm",
          ". Monte Kaolino – Hirschau (sand ski area)",
          "monte-kienader-bergkirchen",
          "duedinghausen-medebach",
          "holzhausen",
          "hoehn-schoenberg",
          "thier-des-rexhons-spa",
          "schleppe-alm-klagenfurt-am-woerthersee",
          "kadlecak",
          "loessnitz",
          "juxkopf-spiegelberg",
          "debowiec-bielsko-biala",
          "heumoederntal-treuchtlingen",
          "holthausen-schmallenberg",
          "oberliezheim-bissingen",
          "hasenleite-ortlesbrunn",
          "laubenthal",
          "plavy",
          ". Burbach",
          "schneitweg",
          "gerichtsberg-gelenau",
          "hammerbodenlift-grossreifling-landl",
          "lomnik-dacov-lom",
          "steinbrunnenlift-hintersteinbach",
          "osler-bluff-ski-club",
          "goettersberg-tittling",
          "vassfjellet-klaebutrondheim",
          "luosto",
          "oedengrub-kemnath-bei-fuhrnschwarzenfeld",
          "moya-hills",
          "kohlberglift-neuenrade",
          "hodkovice-nad-mohelkou",
          "mauersberg-grossrueckerswalde",
          "schloppach-bei-waldsassen",
          "devils-glen",
          "misinateto-pecs",
          "schlossberglift-wurmannsquick",
          "rugiswalde",
          "brandtner-lifte-hartkirchen",
          "siarena-epleny",
          "perlesreut",
          "zbraslav-u-brna",
          "rieder-weiher-dollnstein",
          "luhy-trnava",
          "muehlwiese-lerbach-osterode",
          "wimmerlifte-purgstall-bei-eggersdorf",
          "englaenderlifts-jakobsthal",
          ". Pyhä",
          "rother-bergski-ranch-driedorf",
          "wujskie",
          "konjiam-resort",
          "wakabuna-kogen",
          "schlossberg-osternohe",
          "hartenrod",
          "chlmec-skipark",
          "birkach-herrieden",
          "struznica",
          "olos",
          "wasentegernbach-loh-dorfen",
          ". Ruka",
          "wartenberg",
          "eschenfelden-hirschbach",
          "blockhaus-reichshof",
          "uebersfeld-marxheim",
          "dietikon",
          "neukirchen-lautertal",
          "pressath-wollau",
          "vestvatn",
          "towadako-onsen",
          "zempleni-hegy-satoraljaujhely",
          "isafjoerdur",
          "hardenbergmoellsiepen-meinerzhagen",
          "kopasz-hegy-tokaj",
          "na-smrtaku-jesenik",
          "witzberg-pockau",
          "val-de-wanne",
          "ebersdorf-saldenburg",
          "brenneralm-breitenfurt-bei-wien",
          "holderbank-skilift-engi",
          "zegiestow",
          "elysian-gangchon-resort",
          "saefsen",
          "muroran-kogen-danpara",
          "daaden",
          ". Kirburg",
          "schnorrenbach-loehrbach-birkenau",
          "streckewalde-grossrueckerswalde",
          "nanao-korosa",
          "big-bam-taylor",
          "schamhaupten-altmannstein",
          "ski-club-moerlenbach-mount-mackenheim",
          "zwoelfmorgental-wernigerode",
          "roethenhang-neuschleichach-oberaurach",
          "marmecke",
          "lisny",
          "dossenheim",
          "landerzhofen-greding",
          "holiday-mountain-mb",
          "moenchswald-mitteleschenbach",
          "alpine-ski-club-collingwood",
          "schlechteberg-ebersbachsachsen",
          "am-wasserturm-stollbergerzgeb",
          "truebenreute-dewangen-aalen",
          ". Hanslmühle – Mauern",
          "griminitzen-kirchbach",
          "frauensteinlift-oberkalbach",
          "am-muehlberg-einsiedel-chemnitz",
          "staffelberg-bad-staffelstein",
          "kramelskopf-steinbach",
          "am-tueppel-warstein",
          "kohlhof-heidelberg",
          "heigenbruecken",
          "kandrse-vidrga",
          "voevodyno",
          "kirgel-gaildorf",
          "rusava",
          "semily",
          "hassela",
          "star-hill-resort-cheonmasan",
          "rudletzholzer-hang-heideck",
          "schlipruethen",
          "taennicht-sohland-an-der-spree",
          "blue-mountain-resort-collingwood",
          "langenberg-geiselwind",
          "canmore-ski-village-higashikawa",
          "partenstein",
          "salla",
          "mont-saint-mathieu",
          "mertenberg-schnaittenbach",
          "schoenberg-niederurmelsdorf-siegenburg",
          "leinzell",
          "rindersteige-donzdorf",
          "kinsmen-little-red-river-park-prince-albert",
          "saariselkae",
          "oak-valley",
          "datenberg-bad-tabarz",
          "greifenstein",
          "am-zickesberg-setzelbach-rasdorf",
          "pungrat-besnica",
          "tromsoe",
          "entenberg",
          "georgian-peaks-club",
          "hirschbergarena-wickenrode-helsa",
          "le-relais-lac-beauport",
          "collenberg-halver",
          "ipponsugi",
          "iso-syoete-pudasjaervi",
          "harbecke",
          "hohensolms",
          "wehrsdorf-sohland-an-der-spree",
          "rumburk",
          "lubinka",
          "westerburg",
          "karigahara",
          "suishozan-kazuno",
          "kyowa",
          "mont-avila",
          "schwarzenberg-elstra",
          "hahn-reichshof",
          "morsbach-springe",
          "caledon-ski-club",
          "hatzesberg-ruderting",
          "beaver-valley-ski-club",
          "rothenberg-schnaittach",
          "hachenburg",
          "cisowa",
          "kamiskotia",
          "schleissberg-gickelsberg-ohorn",
          "suomu",
          "schierling",
          "huzele",
          "romme-alpin",
          "telegraf-kielce",
          "engaru-rock-valley",
          "mont-la-reserve-saint-donat-de-montcalm",
          "skyloft",
          "gedersberg-seiersberg",
          "mount-evergreen-kenora",
          "sauerberg-frammersbach",
          "kolmberg-neuhof-an-der-zenn",
          "palkovice",
          "katzenhalde-queidersbach",
          "vucici-ogulin",
          "ishiuchi-hanaoka",
          "klinek-predklasteri",
          "bjursaas-ski-center",
          "szilvasvarad",
          "dolberglift-saalhausen",
          "horseshoe-resort",
          "bueschergrund-freudenberg",
          "plauberg-falkenau",
          "hochsolling",
          "eversberg-meschede",
          "haenscheberg-neusalza-spremberg",
          "burgbernheim",
          "kirintoevaara",
          "kullstabackenelefantberget-hammarstrand",
          "mount-st-louis-moonstone",
          "matsudai",
          "hidden-valley-highlands",
          "gaisrueckleiten-wiesen",
          "vista-ridge",
          "hlubocky",
          "crabbe-mountain",
          "chicopee",
          "calabogie-peaks",
          ". Hohe Wand Wiese – Vienna (High Hills)",
          "guettersbach",
          "lakeridge-resort",
          "mansfield-ski-club",
          "jaervsoe",
          "tengamori",
          "falcon-ridge",
          "mrzla-dolina-horjul",
          "bielawa",
          "devils-elbow",
          "antoine-mountain",
          "janina-rogaska-slatina",
          "zellenberg-kukmirn",
          "heibek-bad-lauterberg",
          "nagyvillam-sipalya-visegrad",
          "val-dor",
          "am-wolf-herdorf",
          "breckerfeld-epscheid",
          "edelweiss-valley-ski-resort",
          "dollwiese-vienna",
          "oberndorf-jossgrund",
          "reichshof-schemmerhausen",
          "maelzerberg-schirgiswalde",
          "kalnica-sk",
          "drammen-skisenter",
          "przemysl",
          "sternberg-linderhofe-extertal",
          "glenmore-lodge",
          "holzhausen-externsteine-horn-bad-meinberg",
          "horotachi",
          ". Altenseelbach",
          "aizu-bange-choei",
          "laubendorf",
          "muggendorf",
          "midlothian-ski-centre",
          "mont-farlagne",
          "mont-bellevue",
          "chelmowa-gora-krasnobrod",
          "gora-kamiensk",
          "ukko-koli",
          "wola-nieszkowska",
          "boler-mountain-london",
          "yakurai",
          "laurentian-ski-hill-north-bay",
          "wermelskirchen-toeckelhausen",
          "glen-eden",
          "dalvik",
          "skillevollen-mo-i-rana",
          "mont-chilly",
          "lively",
          "wapiti-valley",
          "isaberg-hestra",
          "jacnia",
          "kungsberget",
          "mont-cascades",
          "jisan-forest-resort",
          "wentworth",
          "springe",
          "brimacombe-oshawa-ski-club",
          "babica",
          "halifax-ski-centre",
          "batorz",
          "getberget-fraensta",
          "rossendale",
          "trestle-ridge-terrace-bay",
          ". Amnéville-Les-Thermes – Snowhall (indoor ski area)",
          "camp-fortune",
          "lin-shan",
          "piekna-gora-goldap",
          "bawadi-mall-al-ain",
          "scheuerfeld",
          "nuestenbach-mosbach",
          ". Pendle Ski Club (dry slopes)",
          ". Wissen",
          "koide",
          "bobliwo",
          "ashibetsu",
          "sundsvall-soedra-berget",
          "kraljevica-zajecar",
          "mt-chinguacousy-brampton",
          "heihe-longzhu-yuandong",
          "almetjevsk",
          "himos",
          "yangji-pine-resort",
          "loch-insh-outdoor-centre",
          "zloty-stok-w-krzeszowie",
          "laajis-laajavuori",
          "aavasaksa",
          "liepkalnis-vilnius-ziemos-trasa",
          "cherkassy-vodyaniki",
          "szwajcaria-baltowska",
          "beauce-vallee-jonction",
          "kazimierz",
          ". SnowWorld Landgraaf (indoor ski area)",
          "ski-india-delhi",
          "rablow",
          "alice-hill-park-pembroke",
          "mount-fairweather-atikokan",
          "hattingen",
          "purnuvuori",
          "mont-pits-cabano",
          "wanda-harbin-mall",
          "munakas-nuepli-otepaeae",
          "uplands-ski-centre",
          "mustavaara",
          "dagmar-ski-resort",
          "makino-kogen",
          "vallaasen",
          "haekaerinteet",
          "shichinohechoei",
          "earl-bales-north-york-toronto",
          "parchatka",
          "plas-y-brenin",
          "tindaoexl-olafsfjoerdur",
          "kasurila",
          "vettenbacken-liden",
          "martock",
          "yogoshiyama",
          "kazan",
          "kiev-protasov-yar",
          "ski-egypt",
          "valbergsbacken-torsby",
          "skoenviksbacken",
          "mont-rigaud",
          "pontypool-ski-centre",
          "dabrowka-suwalki",
          "schneeerlebniswelt-seestadt-aspern-vienna",
          "yokote-park",
          "savivuori-viitasaari",
          "bungsberg",
          "alford-snow-sports-centre",
          "vaardkasen-haernoesand",
          "kidsgrove-ski-centre",
          "sundsvall-sidsjoebacken",
          "kosutnjak-belgrade",
          "dunakoemloed-paks",
          "lakis",
          ". Snow Arena – Druskininkai (indoor ski area)",
          "vishgora-vyshhorod",
          "hasamaeki",
          "eniwa-shimin",
          "do-mi-ski-dolbeau-mistassini",
          "wanlongbayi",
          "hervanta-mustavuori-tampere",
          "korkeakangas",
          "golebiewski-mikolajki",
          "ben-eoin",
          "calpis",
          "alhovuori",
          "park-szczesliwice-warsaw-warszawa",
          "stoke-ski-centre",
          ". The Snow Centre – Hemel Hempstead (indoor ski area)",
          "ellivuori",
          "dorog",
          "mount-martin-deep-river",
          "sayama",
          "mount-molson-petawawa",
          "lekotinmaeki",
          ". Snozone – Milton Keynes (indoor ski area)",
          "rybno",
          "numata-choei-takaho",
          "borgloh-hilter-uphoefen",
          "bifuka",
          "sisorarfiit-nuuk",
          "sotkanrinteet",
          "swadlincote-ski-snowboard-centre",
          "llandudno-ski-and-snowboard-centre",
          "woongjin-playdoci-snowdoci",
          "telford-ski-centre",
          ". Snow Dome Bispingen (indoor ski area)",
          "ruixiang-ice-snow-world",
          "bowles-snowsports-centre",
          "iasi",
          "gokazan-yubetsu",
          "terrebonne",
          "brentwood-park-ski-and-snowboard-centre",
          "ackers-outdoor-activity-centre",
          "sveitsin-hiihtokeskus-hyvinkaeae",
          "gloucester-ski-snowboard-centre",
          "llangrannog-ski-centre",
          "snowtropolis-senftenberg",
          "tupilak-aasiaat",
          "loisinord-noeux-les-mines",
          ". Bottrop (alpincenter) (indoor ski area)",
          ". Alpine Snowsports – Aldershot (dry slopes)",
          "newmilns-dry-ski-slope",
          "oesterlars-bornholm",
          "kanayasan",
          ". Alpenpark Neuss (indoor ski area)",
          "torquay-alpine-ski-club",
          "ozolkalns",
          "husavik",
          "vihti-ski-center",
          "silksworth-sports-complex",
          "lysa-gora-sopot",
          "kaustinen",
          ". Snow Valley – Peer (indoor ski area)",
          "ski-dubai-mall-of-the-emirates",
          "centre-de-plein-air-levis",
          "mielakka",
          "basingstoke-skizone",
          "ancrum-outdoor-centre",
          "brookvale-ski-park",
          "bryngfjordsbacken",
          "wittenburg-alpincenter-hamburg-wittenburg",
          "hammarbybacken-stockholm",
          "gosling-sports-park",
          "smart-ski-slopes-timisoara",
          "chatham-ski-centre",
          ". Ice Mountain (indoor ski area)",
          "tamworth-snowdome",
          "copenhill-copenhagen-planned",
          "bracknell-ski-centre",
          "batawa-ski-hill",
          "malta-ski-poznan-posen",
          ". SnowWorld Zoetermeer (indoor ski area)",
          ". Hedelands Skicenter",
          "ski-centre-sandyford",
          "mendip-snowsport-centre",
          "hiittenharju",
          "uuperin-rinteet",
          "longyearbyen",
          "qiaobo-ice-and-snow-world-peking",
          "condor-dry-ski-slope",
          "kendal-ski-centre",
          "ragnhildsborgbacken-soedertaelje",
          "runcorn-ski-centre",
          "bromley-ski-and-snowboard-centre",
          "aspen-antwerpen",
          "grani-backen-kauniainen",
          "southampton-snowsport-centre",
          "exeter-district-ski-club",
          "snozone-castleford",
          "alebacken",
          "kokonniemi-porvoo",
          "firpark-ski-centre",
          "indoorski-roedovre",
          "rucphen-skidome",
          "vimka-viimsi-maeepark",
          "warmwell-snowsports-centre",
          ". Chill Factore – Manchester (indoor ski area)",
          "kalli",
          "bassingbourn-snowsports-centre",
          "sandboarding-mesaieed-doha",
          "sandboarding-dubai",
          "baalsta-haabo",
          "skiplex-reading",
          "lumiparkki-kivikko",
          "jara-park-fontaniva",
          "hoch-hylkedal-kolding",
          ". Montana Snowcenter (indoor ski area)",
          "knockhatch-ski-centre",
          "christs-college-ski-club-guildford",
          "hirvensalo",
          "sandown-ski-centre",
          "qiaobo-ice-and-snow-world-shaoxing",
          "cardiff-ski-and-snowboard-centre",
          "glasgow-ski-centre",
          "polmonthill-ski-centre",
          "whickham-thorns-outdoor-activity-centre",
          "craigavon-ski-centre",
          "snow-planet-silverdale",
          "snow-factor-braehead-renfrew",
          "indoorski-breda",
          "snova-mizonokuchi-r246-nagasaki-city",
          "suffolk-ski-centre",
          "snova-shin-yokohama-yokohama-city",
          "koeykkyri",
          "alps-ice-and-snow-world-shenzhen-window-of-the-world",
          "oval-sports-centre",
          "pembrey-ski-slope",
          "snowplanet",
          ". De Uithof (indoor ski area)",
          "folkestone-ski-centre",
          "norfolk-snowsports-club",
          "carlisle-snowsports",
          "terneuzen-skidome",
          "snowtrax-alpine-activity-centre-christchurch",
          "snova-hashima-gifu",
          "ski-arena-aarhus",
          "rotterdam-indoorski",
          "tallington-lakes",
          "nieuwegein",
          "skicenter-edelweiss-brummen",
          "snowsportcenter-utrecht",
          "snow-town-saigon",
          "skiplex-chiswick",
          "summit-indoor-adventure-selby",
          "chelski-london",
          "indoor-ski-s-hertogenbosch",
          "skiindoor-obdam-koggenland",
          "ski-snowboard-xperience-boskoop-alphen-aan-den-rijn",
          "skiindoor-landsmeer",
          "kasadake",
          "yun-ding",
          "guangxiang",
          "pekarov",
          "borici-sjenica",
          "maeyama",
          "snoworld-marina-mall-abu-dhabi-planned"
         ],
         "categoryorder": "array",
         "domain": [
          0,
          1
         ],
         "tickangle": 85,
         "title": {
          "text": "Resorts"
         }
        },
        "yaxis": {
         "anchor": "x",
         "domain": [
          0,
          1
         ],
         "title": {
          "text": "Altitud"
         }
        }
       }
      }
     },
     "metadata": {},
     "output_type": "display_data"
    }
   ],
   "source": [
    "# Alturas de la montañas\n",
    "altitud['Orden'] = range(len(altitud))\n",
    "\n",
    "resort_order = altitud.sort_values(by='Orden')['Nombre del Resort'].unique()\n",
    "\n",
    "# Crear el gráfico de barras\n",
    "fig = px.bar(altitud.head(10), x='Nombre del Resort', y='Altitud', color='Continente',\n",
    "             category_orders={'Nombre del Resort': resort_order},\n",
    "             labels={'Nombre del Resort': 'Resort', 'Altitud': 'Altitud'},\n",
    "             hover_data=['Continente'], text='Altitud')\n",
    "\n",
    "fig.update_layout(title_text='Resorts Esquiables', xaxis_tickangle=85, width=1000, height=800)\n",
    "fig.update_xaxes(title='Resorts')\n",
    "fig.update_yaxes(title='Altitud')\n",
    "\n",
    "fig.show()"
   ]
  },
  {
   "cell_type": "code",
   "execution_count": 233,
   "metadata": {},
   "outputs": [
    {
     "data": {
      "application/vnd.plotly.v1+json": {
       "config": {
        "plotlyServerURL": "https://plot.ly"
       },
       "data": [
        {
         "alignmentgroup": "True",
         "customdata": [
          [
           "North America"
          ],
          [
           "North America"
          ],
          [
           "North America"
          ],
          [
           "North America"
          ],
          [
           "North America"
          ],
          [
           "North America"
          ],
          [
           "North America"
          ],
          [
           "North America"
          ],
          [
           "North America"
          ]
         ],
         "hovertemplate": "Continente=%{customdata[0]}<br>Resort=%{x}<br>Altitud=%{text}<extra></extra>",
         "legendgroup": "North America",
         "marker": {
          "color": "#636efa",
          "pattern": {
           "shape": ""
          }
         },
         "name": "North America",
         "offsetgroup": "North America",
         "orientation": "v",
         "showlegend": true,
         "text": [
          3914,
          3871,
          3815,
          3813,
          3790,
          3676,
          3651,
          3559,
          3488
         ],
         "textposition": "auto",
         "type": "bar",
         "x": [
          "breckenridge",
          "loveland",
          "telluride",
          "snowmass",
          "arapahoe-basin",
          "winter-park-resort",
          "keystone",
          "aspen-highlands",
          "beaver-creek"
         ],
         "xaxis": "x",
         "y": [
          3914,
          3871,
          3815,
          3813,
          3790,
          3676,
          3651,
          3559,
          3488
         ],
         "yaxis": "y"
        },
        {
         "alignmentgroup": "True",
         "customdata": [
          [
           "Europe"
          ],
          [
           "Europe"
          ],
          [
           "Europe"
          ],
          [
           "Europe"
          ],
          [
           "Europe"
          ],
          [
           "Europe"
          ],
          [
           "Europe"
          ]
         ],
         "hovertemplate": "Continente=%{customdata[0]}<br>Resort=%{x}<br>Altitud=%{text}<extra></extra>",
         "legendgroup": "Europe",
         "marker": {
          "color": "#EF553B",
          "pattern": {
           "shape": ""
          }
         },
         "name": "Europe",
         "offsetgroup": "Europe",
         "orientation": "v",
         "showlegend": true,
         "text": [
          3899,
          3842,
          3573,
          3534,
          3523,
          3456,
          3450
         ],
         "textposition": "auto",
         "type": "bar",
         "x": [
          "Matterhorn",
          "aiguille-du-midi-chamonix",
          " Saas-Fee",
          "la-grave-la-meije",
          "Les 2 Alpes",
          "Tignes/Val d'Isère",
          ". Passo dello Stelvio (Stelvio Pass)"
         ],
         "xaxis": "x",
         "y": [
          3899,
          3842,
          3573,
          3534,
          3523,
          3456,
          3450
         ],
         "yaxis": "y"
        },
        {
         "alignmentgroup": "True",
         "customdata": [
          [
           "South America"
          ],
          [
           "South America"
          ],
          [
           "South America"
          ]
         ],
         "hovertemplate": "Continente=%{customdata[0]}<br>Resort=%{x}<br>Altitud=%{text}<extra></extra>",
         "legendgroup": "South America",
         "marker": {
          "color": "#00cc96",
          "pattern": {
           "shape": ""
          }
         },
         "name": "South America",
         "offsetgroup": "South America",
         "orientation": "v",
         "showlegend": true,
         "text": [
          3670,
          3650,
          3574
         ],
         "textposition": "auto",
         "type": "bar",
         "x": [
          "valle-nevado",
          "vallecitos",
          "la-parva"
         ],
         "xaxis": "x",
         "y": [
          3670,
          3650,
          3574
         ],
         "yaxis": "y"
        },
        {
         "alignmentgroup": "True",
         "customdata": [
          [
           "Asia"
          ]
         ],
         "hovertemplate": "Continente=%{customdata[0]}<br>Resort=%{x}<br>Altitud=%{text}<extra></extra>",
         "legendgroup": "Asia",
         "marker": {
          "color": "#ab63fa",
          "pattern": {
           "shape": ""
          }
         },
         "name": "Asia",
         "offsetgroup": "Asia",
         "orientation": "v",
         "showlegend": true,
         "text": [
          3506
         ],
         "textposition": "auto",
         "type": "bar",
         "x": [
          "dizin"
         ],
         "xaxis": "x",
         "y": [
          3506
         ],
         "yaxis": "y"
        }
       ],
       "layout": {
        "barmode": "relative",
        "height": 800,
        "legend": {
         "title": {
          "text": "Continente"
         },
         "tracegroupgap": 0
        },
        "margin": {
         "t": 60
        },
        "template": {
         "data": {
          "bar": [
           {
            "error_x": {
             "color": "#2a3f5f"
            },
            "error_y": {
             "color": "#2a3f5f"
            },
            "marker": {
             "line": {
              "color": "#E5ECF6",
              "width": 0.5
             },
             "pattern": {
              "fillmode": "overlay",
              "size": 10,
              "solidity": 0.2
             }
            },
            "type": "bar"
           }
          ],
          "barpolar": [
           {
            "marker": {
             "line": {
              "color": "#E5ECF6",
              "width": 0.5
             },
             "pattern": {
              "fillmode": "overlay",
              "size": 10,
              "solidity": 0.2
             }
            },
            "type": "barpolar"
           }
          ],
          "carpet": [
           {
            "aaxis": {
             "endlinecolor": "#2a3f5f",
             "gridcolor": "white",
             "linecolor": "white",
             "minorgridcolor": "white",
             "startlinecolor": "#2a3f5f"
            },
            "baxis": {
             "endlinecolor": "#2a3f5f",
             "gridcolor": "white",
             "linecolor": "white",
             "minorgridcolor": "white",
             "startlinecolor": "#2a3f5f"
            },
            "type": "carpet"
           }
          ],
          "choropleth": [
           {
            "colorbar": {
             "outlinewidth": 0,
             "ticks": ""
            },
            "type": "choropleth"
           }
          ],
          "contour": [
           {
            "colorbar": {
             "outlinewidth": 0,
             "ticks": ""
            },
            "colorscale": [
             [
              0,
              "#0d0887"
             ],
             [
              0.1111111111111111,
              "#46039f"
             ],
             [
              0.2222222222222222,
              "#7201a8"
             ],
             [
              0.3333333333333333,
              "#9c179e"
             ],
             [
              0.4444444444444444,
              "#bd3786"
             ],
             [
              0.5555555555555556,
              "#d8576b"
             ],
             [
              0.6666666666666666,
              "#ed7953"
             ],
             [
              0.7777777777777778,
              "#fb9f3a"
             ],
             [
              0.8888888888888888,
              "#fdca26"
             ],
             [
              1,
              "#f0f921"
             ]
            ],
            "type": "contour"
           }
          ],
          "contourcarpet": [
           {
            "colorbar": {
             "outlinewidth": 0,
             "ticks": ""
            },
            "type": "contourcarpet"
           }
          ],
          "heatmap": [
           {
            "colorbar": {
             "outlinewidth": 0,
             "ticks": ""
            },
            "colorscale": [
             [
              0,
              "#0d0887"
             ],
             [
              0.1111111111111111,
              "#46039f"
             ],
             [
              0.2222222222222222,
              "#7201a8"
             ],
             [
              0.3333333333333333,
              "#9c179e"
             ],
             [
              0.4444444444444444,
              "#bd3786"
             ],
             [
              0.5555555555555556,
              "#d8576b"
             ],
             [
              0.6666666666666666,
              "#ed7953"
             ],
             [
              0.7777777777777778,
              "#fb9f3a"
             ],
             [
              0.8888888888888888,
              "#fdca26"
             ],
             [
              1,
              "#f0f921"
             ]
            ],
            "type": "heatmap"
           }
          ],
          "heatmapgl": [
           {
            "colorbar": {
             "outlinewidth": 0,
             "ticks": ""
            },
            "colorscale": [
             [
              0,
              "#0d0887"
             ],
             [
              0.1111111111111111,
              "#46039f"
             ],
             [
              0.2222222222222222,
              "#7201a8"
             ],
             [
              0.3333333333333333,
              "#9c179e"
             ],
             [
              0.4444444444444444,
              "#bd3786"
             ],
             [
              0.5555555555555556,
              "#d8576b"
             ],
             [
              0.6666666666666666,
              "#ed7953"
             ],
             [
              0.7777777777777778,
              "#fb9f3a"
             ],
             [
              0.8888888888888888,
              "#fdca26"
             ],
             [
              1,
              "#f0f921"
             ]
            ],
            "type": "heatmapgl"
           }
          ],
          "histogram": [
           {
            "marker": {
             "pattern": {
              "fillmode": "overlay",
              "size": 10,
              "solidity": 0.2
             }
            },
            "type": "histogram"
           }
          ],
          "histogram2d": [
           {
            "colorbar": {
             "outlinewidth": 0,
             "ticks": ""
            },
            "colorscale": [
             [
              0,
              "#0d0887"
             ],
             [
              0.1111111111111111,
              "#46039f"
             ],
             [
              0.2222222222222222,
              "#7201a8"
             ],
             [
              0.3333333333333333,
              "#9c179e"
             ],
             [
              0.4444444444444444,
              "#bd3786"
             ],
             [
              0.5555555555555556,
              "#d8576b"
             ],
             [
              0.6666666666666666,
              "#ed7953"
             ],
             [
              0.7777777777777778,
              "#fb9f3a"
             ],
             [
              0.8888888888888888,
              "#fdca26"
             ],
             [
              1,
              "#f0f921"
             ]
            ],
            "type": "histogram2d"
           }
          ],
          "histogram2dcontour": [
           {
            "colorbar": {
             "outlinewidth": 0,
             "ticks": ""
            },
            "colorscale": [
             [
              0,
              "#0d0887"
             ],
             [
              0.1111111111111111,
              "#46039f"
             ],
             [
              0.2222222222222222,
              "#7201a8"
             ],
             [
              0.3333333333333333,
              "#9c179e"
             ],
             [
              0.4444444444444444,
              "#bd3786"
             ],
             [
              0.5555555555555556,
              "#d8576b"
             ],
             [
              0.6666666666666666,
              "#ed7953"
             ],
             [
              0.7777777777777778,
              "#fb9f3a"
             ],
             [
              0.8888888888888888,
              "#fdca26"
             ],
             [
              1,
              "#f0f921"
             ]
            ],
            "type": "histogram2dcontour"
           }
          ],
          "mesh3d": [
           {
            "colorbar": {
             "outlinewidth": 0,
             "ticks": ""
            },
            "type": "mesh3d"
           }
          ],
          "parcoords": [
           {
            "line": {
             "colorbar": {
              "outlinewidth": 0,
              "ticks": ""
             }
            },
            "type": "parcoords"
           }
          ],
          "pie": [
           {
            "automargin": true,
            "type": "pie"
           }
          ],
          "scatter": [
           {
            "fillpattern": {
             "fillmode": "overlay",
             "size": 10,
             "solidity": 0.2
            },
            "type": "scatter"
           }
          ],
          "scatter3d": [
           {
            "line": {
             "colorbar": {
              "outlinewidth": 0,
              "ticks": ""
             }
            },
            "marker": {
             "colorbar": {
              "outlinewidth": 0,
              "ticks": ""
             }
            },
            "type": "scatter3d"
           }
          ],
          "scattercarpet": [
           {
            "marker": {
             "colorbar": {
              "outlinewidth": 0,
              "ticks": ""
             }
            },
            "type": "scattercarpet"
           }
          ],
          "scattergeo": [
           {
            "marker": {
             "colorbar": {
              "outlinewidth": 0,
              "ticks": ""
             }
            },
            "type": "scattergeo"
           }
          ],
          "scattergl": [
           {
            "marker": {
             "colorbar": {
              "outlinewidth": 0,
              "ticks": ""
             }
            },
            "type": "scattergl"
           }
          ],
          "scattermapbox": [
           {
            "marker": {
             "colorbar": {
              "outlinewidth": 0,
              "ticks": ""
             }
            },
            "type": "scattermapbox"
           }
          ],
          "scatterpolar": [
           {
            "marker": {
             "colorbar": {
              "outlinewidth": 0,
              "ticks": ""
             }
            },
            "type": "scatterpolar"
           }
          ],
          "scatterpolargl": [
           {
            "marker": {
             "colorbar": {
              "outlinewidth": 0,
              "ticks": ""
             }
            },
            "type": "scatterpolargl"
           }
          ],
          "scatterternary": [
           {
            "marker": {
             "colorbar": {
              "outlinewidth": 0,
              "ticks": ""
             }
            },
            "type": "scatterternary"
           }
          ],
          "surface": [
           {
            "colorbar": {
             "outlinewidth": 0,
             "ticks": ""
            },
            "colorscale": [
             [
              0,
              "#0d0887"
             ],
             [
              0.1111111111111111,
              "#46039f"
             ],
             [
              0.2222222222222222,
              "#7201a8"
             ],
             [
              0.3333333333333333,
              "#9c179e"
             ],
             [
              0.4444444444444444,
              "#bd3786"
             ],
             [
              0.5555555555555556,
              "#d8576b"
             ],
             [
              0.6666666666666666,
              "#ed7953"
             ],
             [
              0.7777777777777778,
              "#fb9f3a"
             ],
             [
              0.8888888888888888,
              "#fdca26"
             ],
             [
              1,
              "#f0f921"
             ]
            ],
            "type": "surface"
           }
          ],
          "table": [
           {
            "cells": {
             "fill": {
              "color": "#EBF0F8"
             },
             "line": {
              "color": "white"
             }
            },
            "header": {
             "fill": {
              "color": "#C8D4E3"
             },
             "line": {
              "color": "white"
             }
            },
            "type": "table"
           }
          ]
         },
         "layout": {
          "annotationdefaults": {
           "arrowcolor": "#2a3f5f",
           "arrowhead": 0,
           "arrowwidth": 1
          },
          "autotypenumbers": "strict",
          "coloraxis": {
           "colorbar": {
            "outlinewidth": 0,
            "ticks": ""
           }
          },
          "colorscale": {
           "diverging": [
            [
             0,
             "#8e0152"
            ],
            [
             0.1,
             "#c51b7d"
            ],
            [
             0.2,
             "#de77ae"
            ],
            [
             0.3,
             "#f1b6da"
            ],
            [
             0.4,
             "#fde0ef"
            ],
            [
             0.5,
             "#f7f7f7"
            ],
            [
             0.6,
             "#e6f5d0"
            ],
            [
             0.7,
             "#b8e186"
            ],
            [
             0.8,
             "#7fbc41"
            ],
            [
             0.9,
             "#4d9221"
            ],
            [
             1,
             "#276419"
            ]
           ],
           "sequential": [
            [
             0,
             "#0d0887"
            ],
            [
             0.1111111111111111,
             "#46039f"
            ],
            [
             0.2222222222222222,
             "#7201a8"
            ],
            [
             0.3333333333333333,
             "#9c179e"
            ],
            [
             0.4444444444444444,
             "#bd3786"
            ],
            [
             0.5555555555555556,
             "#d8576b"
            ],
            [
             0.6666666666666666,
             "#ed7953"
            ],
            [
             0.7777777777777778,
             "#fb9f3a"
            ],
            [
             0.8888888888888888,
             "#fdca26"
            ],
            [
             1,
             "#f0f921"
            ]
           ],
           "sequentialminus": [
            [
             0,
             "#0d0887"
            ],
            [
             0.1111111111111111,
             "#46039f"
            ],
            [
             0.2222222222222222,
             "#7201a8"
            ],
            [
             0.3333333333333333,
             "#9c179e"
            ],
            [
             0.4444444444444444,
             "#bd3786"
            ],
            [
             0.5555555555555556,
             "#d8576b"
            ],
            [
             0.6666666666666666,
             "#ed7953"
            ],
            [
             0.7777777777777778,
             "#fb9f3a"
            ],
            [
             0.8888888888888888,
             "#fdca26"
            ],
            [
             1,
             "#f0f921"
            ]
           ]
          },
          "colorway": [
           "#636efa",
           "#EF553B",
           "#00cc96",
           "#ab63fa",
           "#FFA15A",
           "#19d3f3",
           "#FF6692",
           "#B6E880",
           "#FF97FF",
           "#FECB52"
          ],
          "font": {
           "color": "#2a3f5f"
          },
          "geo": {
           "bgcolor": "white",
           "lakecolor": "white",
           "landcolor": "#E5ECF6",
           "showlakes": true,
           "showland": true,
           "subunitcolor": "white"
          },
          "hoverlabel": {
           "align": "left"
          },
          "hovermode": "closest",
          "mapbox": {
           "style": "light"
          },
          "paper_bgcolor": "white",
          "plot_bgcolor": "#E5ECF6",
          "polar": {
           "angularaxis": {
            "gridcolor": "white",
            "linecolor": "white",
            "ticks": ""
           },
           "bgcolor": "#E5ECF6",
           "radialaxis": {
            "gridcolor": "white",
            "linecolor": "white",
            "ticks": ""
           }
          },
          "scene": {
           "xaxis": {
            "backgroundcolor": "#E5ECF6",
            "gridcolor": "white",
            "gridwidth": 2,
            "linecolor": "white",
            "showbackground": true,
            "ticks": "",
            "zerolinecolor": "white"
           },
           "yaxis": {
            "backgroundcolor": "#E5ECF6",
            "gridcolor": "white",
            "gridwidth": 2,
            "linecolor": "white",
            "showbackground": true,
            "ticks": "",
            "zerolinecolor": "white"
           },
           "zaxis": {
            "backgroundcolor": "#E5ECF6",
            "gridcolor": "white",
            "gridwidth": 2,
            "linecolor": "white",
            "showbackground": true,
            "ticks": "",
            "zerolinecolor": "white"
           }
          },
          "shapedefaults": {
           "line": {
            "color": "#2a3f5f"
           }
          },
          "ternary": {
           "aaxis": {
            "gridcolor": "white",
            "linecolor": "white",
            "ticks": ""
           },
           "baxis": {
            "gridcolor": "white",
            "linecolor": "white",
            "ticks": ""
           },
           "bgcolor": "#E5ECF6",
           "caxis": {
            "gridcolor": "white",
            "linecolor": "white",
            "ticks": ""
           }
          },
          "title": {
           "x": 0.05
          },
          "xaxis": {
           "automargin": true,
           "gridcolor": "white",
           "linecolor": "white",
           "ticks": "",
           "title": {
            "standoff": 15
           },
           "zerolinecolor": "white",
           "zerolinewidth": 2
          },
          "yaxis": {
           "automargin": true,
           "gridcolor": "white",
           "linecolor": "white",
           "ticks": "",
           "title": {
            "standoff": 15
           },
           "zerolinecolor": "white",
           "zerolinewidth": 2
          }
         }
        },
        "title": {
         "text": "Resorts Esquiables"
        },
        "width": 1000,
        "xaxis": {
         "anchor": "y",
         "domain": [
          0,
          1
         ],
         "tickangle": 85,
         "title": {
          "text": "Resorts"
         }
        },
        "yaxis": {
         "anchor": "x",
         "domain": [
          0,
          1
         ],
         "title": {
          "text": "Altitud"
         }
        }
       }
      }
     },
     "metadata": {},
     "output_type": "display_data"
    }
   ],
   "source": [
    "fig = px.bar(altitud, x='Nombre del Resort', y='Altitud', color='Continente',\n",
    "             labels={'Nombre del Resort': 'Resort', 'Altitud': 'Altitud'},\n",
    "             hover_data=['Continente'], text='Altitud')\n",
    "\n",
    "fig.update_layout(title_text='Resorts Esquiables', xaxis_tickangle=85, width=1000, height=800)\n",
    "fig.update_xaxes(title = 'Resorts')\n",
    "fig.update_yaxes(title = 'Altitud')\n",
    "\n",
    "fig.show()"
   ]
  },
  {
   "cell_type": "code",
   "execution_count": 130,
   "metadata": {},
   "outputs": [],
   "source": [
    "\n",
    "y_ticks = np.arange(0, 200+1, 20)\n"
   ]
  },
  {
   "cell_type": "code",
   "execution_count": 135,
   "metadata": {},
   "outputs": [
    {
     "data": {
      "application/vnd.plotly.v1+json": {
       "config": {
        "plotlyServerURL": "https://plot.ly"
       },
       "data": [
        {
         "alignmentgroup": "True",
         "customdata": [
          [
           "Europe"
          ],
          [
           "Europe"
          ],
          [
           "Europe"
          ],
          [
           "Europe"
          ],
          [
           "Europe"
          ],
          [
           "Europe"
          ],
          [
           "Europe"
          ],
          [
           "Europe"
          ],
          [
           "Europe"
          ],
          [
           "Europe"
          ],
          [
           "Europe"
          ],
          [
           "Europe"
          ],
          [
           "Europe"
          ],
          [
           "Europe"
          ],
          [
           "Europe"
          ],
          [
           "Europe"
          ],
          [
           "Europe"
          ],
          [
           "Europe"
          ],
          [
           "Europe"
          ],
          [
           "Europe"
          ],
          [
           "Europe"
          ],
          [
           "Europe"
          ],
          [
           "Europe"
          ],
          [
           "Europe"
          ],
          [
           "Europe"
          ],
          [
           "Europe"
          ],
          [
           "Europe"
          ],
          [
           "Europe"
          ],
          [
           "Europe"
          ],
          [
           "Europe"
          ],
          [
           "Europe"
          ],
          [
           "Europe"
          ],
          [
           "Europe"
          ],
          [
           "Europe"
          ],
          [
           "Europe"
          ],
          [
           "Europe"
          ],
          [
           "Europe"
          ],
          [
           "Europe"
          ],
          [
           "Europe"
          ],
          [
           "Europe"
          ]
         ],
         "hovertemplate": "Continente=%{customdata[0]}<br>Resort=%{x}<br>Km de Freeride=%{y}<br>Esqui de fondo y senderos=%{text}<extra></extra>",
         "legendgroup": "Europe",
         "marker": {
          "color": "#636efa",
          "pattern": {
           "shape": ""
          }
         },
         "name": "Europe",
         "offsetgroup": "Europe",
         "orientation": "v",
         "showlegend": true,
         "text": [
          4,
          4,
          5,
          3,
          4,
          5,
          3,
          4,
          4,
          2,
          4,
          4,
          3,
          3,
          4,
          1,
          2,
          5,
          3,
          3,
          5,
          3,
          3,
          3,
          2,
          3,
          4,
          4,
          3,
          5,
          4,
          5,
          4,
          4,
          4,
          2,
          3,
          3,
          3,
          3
         ],
         "textposition": "auto",
         "type": "bar",
         "x": [
          "St. Anton/St. Christoph/Stuben/Lech/Zürs/Warth/Schröcken – Ski Arlberg",
          "Les 3 Vallées – Val Thorens/Les Menuires/Méribel/Courchevel",
          "KitzSki – Kitzbühel/Kirchberg",
          "Matterhorn",
          "Serfaus-Fiss-Ladis",
          "SkiWelt Wilder Kaiser-Brixental",
          "Silvretta Montafon",
          "Tignes/Val d'Isère",
          "Ischgl/Samnaun – Silvretta Arena",
          " Aletsch Arena – Riederalp/Bettmeralp/Fiesch Eggishorn",
          "Jakobshorn (Davos Klosters)",
          ". Brandnertal – Brand/Bürserberg",
          ". Grebenzen – St. Lambrecht",
          ". Flachauwinkl/Kleinarl (Shuttleberg)",
          " Nauders am Reschenpass – Bergkastel",
          ". Laterns – Gapfohl",
          ". Lachtal",
          "Diavolezza/Lagalb",
          " Großarltal/Dorfgastein",
          "Mayrhofen – Penken/Ahorn/Rastkogel/Eggalm",
          "St. Moritz – Corviglia",
          " Hochkönig – Maria Alm/Dienten/Mühlbach",
          "Schmittenhöhe – Zell am See",
          ". Belchen",
          " Hochzeiger – Jerzens",
          "Damüls Mellau",
          ". Todtnauberg",
          ". St. Jakob im Defereggental – Brunnalm",
          " Moelltal Glacier (Mölltaler Gletscher)",
          "Parsenn (Davos Klosters)",
          " Ski Juwel Alpbachtal Wildschönau",
          ". Levi",
          ". Rinerhorn (Davos Klosters)",
          ". Oberjoch (Bad Hindelang) – Iseler",
          " Galtür – Silvapark",
          ". Feuerkogel – Ebensee",
          "Gemsstock – Andermatt",
          "Flumserberg",
          ". Leukerbad",
          "Laax/Flims/Falera"
         ],
         "xaxis": "x",
         "y": [
          200,
          50,
          45,
          38,
          28,
          26,
          23,
          20,
          15,
          15,
          13,
          13,
          13,
          12,
          11,
          11,
          10,
          10,
          9.7,
          8.7,
          8,
          8,
          8,
          8,
          8,
          7.7,
          6.8,
          6.7,
          6.7,
          6.3,
          6.3,
          6.2,
          6,
          6,
          6,
          6,
          6,
          6,
          6,
          5.8
         ],
         "yaxis": "y"
        }
       ],
       "layout": {
        "barmode": "relative",
        "height": 800,
        "legend": {
         "title": {
          "text": "Continente"
         },
         "tracegroupgap": 0
        },
        "margin": {
         "t": 60
        },
        "template": {
         "data": {
          "bar": [
           {
            "error_x": {
             "color": "#2a3f5f"
            },
            "error_y": {
             "color": "#2a3f5f"
            },
            "marker": {
             "line": {
              "color": "#E5ECF6",
              "width": 0.5
             },
             "pattern": {
              "fillmode": "overlay",
              "size": 10,
              "solidity": 0.2
             }
            },
            "type": "bar"
           }
          ],
          "barpolar": [
           {
            "marker": {
             "line": {
              "color": "#E5ECF6",
              "width": 0.5
             },
             "pattern": {
              "fillmode": "overlay",
              "size": 10,
              "solidity": 0.2
             }
            },
            "type": "barpolar"
           }
          ],
          "carpet": [
           {
            "aaxis": {
             "endlinecolor": "#2a3f5f",
             "gridcolor": "white",
             "linecolor": "white",
             "minorgridcolor": "white",
             "startlinecolor": "#2a3f5f"
            },
            "baxis": {
             "endlinecolor": "#2a3f5f",
             "gridcolor": "white",
             "linecolor": "white",
             "minorgridcolor": "white",
             "startlinecolor": "#2a3f5f"
            },
            "type": "carpet"
           }
          ],
          "choropleth": [
           {
            "colorbar": {
             "outlinewidth": 0,
             "ticks": ""
            },
            "type": "choropleth"
           }
          ],
          "contour": [
           {
            "colorbar": {
             "outlinewidth": 0,
             "ticks": ""
            },
            "colorscale": [
             [
              0,
              "#0d0887"
             ],
             [
              0.1111111111111111,
              "#46039f"
             ],
             [
              0.2222222222222222,
              "#7201a8"
             ],
             [
              0.3333333333333333,
              "#9c179e"
             ],
             [
              0.4444444444444444,
              "#bd3786"
             ],
             [
              0.5555555555555556,
              "#d8576b"
             ],
             [
              0.6666666666666666,
              "#ed7953"
             ],
             [
              0.7777777777777778,
              "#fb9f3a"
             ],
             [
              0.8888888888888888,
              "#fdca26"
             ],
             [
              1,
              "#f0f921"
             ]
            ],
            "type": "contour"
           }
          ],
          "contourcarpet": [
           {
            "colorbar": {
             "outlinewidth": 0,
             "ticks": ""
            },
            "type": "contourcarpet"
           }
          ],
          "heatmap": [
           {
            "colorbar": {
             "outlinewidth": 0,
             "ticks": ""
            },
            "colorscale": [
             [
              0,
              "#0d0887"
             ],
             [
              0.1111111111111111,
              "#46039f"
             ],
             [
              0.2222222222222222,
              "#7201a8"
             ],
             [
              0.3333333333333333,
              "#9c179e"
             ],
             [
              0.4444444444444444,
              "#bd3786"
             ],
             [
              0.5555555555555556,
              "#d8576b"
             ],
             [
              0.6666666666666666,
              "#ed7953"
             ],
             [
              0.7777777777777778,
              "#fb9f3a"
             ],
             [
              0.8888888888888888,
              "#fdca26"
             ],
             [
              1,
              "#f0f921"
             ]
            ],
            "type": "heatmap"
           }
          ],
          "heatmapgl": [
           {
            "colorbar": {
             "outlinewidth": 0,
             "ticks": ""
            },
            "colorscale": [
             [
              0,
              "#0d0887"
             ],
             [
              0.1111111111111111,
              "#46039f"
             ],
             [
              0.2222222222222222,
              "#7201a8"
             ],
             [
              0.3333333333333333,
              "#9c179e"
             ],
             [
              0.4444444444444444,
              "#bd3786"
             ],
             [
              0.5555555555555556,
              "#d8576b"
             ],
             [
              0.6666666666666666,
              "#ed7953"
             ],
             [
              0.7777777777777778,
              "#fb9f3a"
             ],
             [
              0.8888888888888888,
              "#fdca26"
             ],
             [
              1,
              "#f0f921"
             ]
            ],
            "type": "heatmapgl"
           }
          ],
          "histogram": [
           {
            "marker": {
             "pattern": {
              "fillmode": "overlay",
              "size": 10,
              "solidity": 0.2
             }
            },
            "type": "histogram"
           }
          ],
          "histogram2d": [
           {
            "colorbar": {
             "outlinewidth": 0,
             "ticks": ""
            },
            "colorscale": [
             [
              0,
              "#0d0887"
             ],
             [
              0.1111111111111111,
              "#46039f"
             ],
             [
              0.2222222222222222,
              "#7201a8"
             ],
             [
              0.3333333333333333,
              "#9c179e"
             ],
             [
              0.4444444444444444,
              "#bd3786"
             ],
             [
              0.5555555555555556,
              "#d8576b"
             ],
             [
              0.6666666666666666,
              "#ed7953"
             ],
             [
              0.7777777777777778,
              "#fb9f3a"
             ],
             [
              0.8888888888888888,
              "#fdca26"
             ],
             [
              1,
              "#f0f921"
             ]
            ],
            "type": "histogram2d"
           }
          ],
          "histogram2dcontour": [
           {
            "colorbar": {
             "outlinewidth": 0,
             "ticks": ""
            },
            "colorscale": [
             [
              0,
              "#0d0887"
             ],
             [
              0.1111111111111111,
              "#46039f"
             ],
             [
              0.2222222222222222,
              "#7201a8"
             ],
             [
              0.3333333333333333,
              "#9c179e"
             ],
             [
              0.4444444444444444,
              "#bd3786"
             ],
             [
              0.5555555555555556,
              "#d8576b"
             ],
             [
              0.6666666666666666,
              "#ed7953"
             ],
             [
              0.7777777777777778,
              "#fb9f3a"
             ],
             [
              0.8888888888888888,
              "#fdca26"
             ],
             [
              1,
              "#f0f921"
             ]
            ],
            "type": "histogram2dcontour"
           }
          ],
          "mesh3d": [
           {
            "colorbar": {
             "outlinewidth": 0,
             "ticks": ""
            },
            "type": "mesh3d"
           }
          ],
          "parcoords": [
           {
            "line": {
             "colorbar": {
              "outlinewidth": 0,
              "ticks": ""
             }
            },
            "type": "parcoords"
           }
          ],
          "pie": [
           {
            "automargin": true,
            "type": "pie"
           }
          ],
          "scatter": [
           {
            "fillpattern": {
             "fillmode": "overlay",
             "size": 10,
             "solidity": 0.2
            },
            "type": "scatter"
           }
          ],
          "scatter3d": [
           {
            "line": {
             "colorbar": {
              "outlinewidth": 0,
              "ticks": ""
             }
            },
            "marker": {
             "colorbar": {
              "outlinewidth": 0,
              "ticks": ""
             }
            },
            "type": "scatter3d"
           }
          ],
          "scattercarpet": [
           {
            "marker": {
             "colorbar": {
              "outlinewidth": 0,
              "ticks": ""
             }
            },
            "type": "scattercarpet"
           }
          ],
          "scattergeo": [
           {
            "marker": {
             "colorbar": {
              "outlinewidth": 0,
              "ticks": ""
             }
            },
            "type": "scattergeo"
           }
          ],
          "scattergl": [
           {
            "marker": {
             "colorbar": {
              "outlinewidth": 0,
              "ticks": ""
             }
            },
            "type": "scattergl"
           }
          ],
          "scattermapbox": [
           {
            "marker": {
             "colorbar": {
              "outlinewidth": 0,
              "ticks": ""
             }
            },
            "type": "scattermapbox"
           }
          ],
          "scatterpolar": [
           {
            "marker": {
             "colorbar": {
              "outlinewidth": 0,
              "ticks": ""
             }
            },
            "type": "scatterpolar"
           }
          ],
          "scatterpolargl": [
           {
            "marker": {
             "colorbar": {
              "outlinewidth": 0,
              "ticks": ""
             }
            },
            "type": "scatterpolargl"
           }
          ],
          "scatterternary": [
           {
            "marker": {
             "colorbar": {
              "outlinewidth": 0,
              "ticks": ""
             }
            },
            "type": "scatterternary"
           }
          ],
          "surface": [
           {
            "colorbar": {
             "outlinewidth": 0,
             "ticks": ""
            },
            "colorscale": [
             [
              0,
              "#0d0887"
             ],
             [
              0.1111111111111111,
              "#46039f"
             ],
             [
              0.2222222222222222,
              "#7201a8"
             ],
             [
              0.3333333333333333,
              "#9c179e"
             ],
             [
              0.4444444444444444,
              "#bd3786"
             ],
             [
              0.5555555555555556,
              "#d8576b"
             ],
             [
              0.6666666666666666,
              "#ed7953"
             ],
             [
              0.7777777777777778,
              "#fb9f3a"
             ],
             [
              0.8888888888888888,
              "#fdca26"
             ],
             [
              1,
              "#f0f921"
             ]
            ],
            "type": "surface"
           }
          ],
          "table": [
           {
            "cells": {
             "fill": {
              "color": "#EBF0F8"
             },
             "line": {
              "color": "white"
             }
            },
            "header": {
             "fill": {
              "color": "#C8D4E3"
             },
             "line": {
              "color": "white"
             }
            },
            "type": "table"
           }
          ]
         },
         "layout": {
          "annotationdefaults": {
           "arrowcolor": "#2a3f5f",
           "arrowhead": 0,
           "arrowwidth": 1
          },
          "autotypenumbers": "strict",
          "coloraxis": {
           "colorbar": {
            "outlinewidth": 0,
            "ticks": ""
           }
          },
          "colorscale": {
           "diverging": [
            [
             0,
             "#8e0152"
            ],
            [
             0.1,
             "#c51b7d"
            ],
            [
             0.2,
             "#de77ae"
            ],
            [
             0.3,
             "#f1b6da"
            ],
            [
             0.4,
             "#fde0ef"
            ],
            [
             0.5,
             "#f7f7f7"
            ],
            [
             0.6,
             "#e6f5d0"
            ],
            [
             0.7,
             "#b8e186"
            ],
            [
             0.8,
             "#7fbc41"
            ],
            [
             0.9,
             "#4d9221"
            ],
            [
             1,
             "#276419"
            ]
           ],
           "sequential": [
            [
             0,
             "#0d0887"
            ],
            [
             0.1111111111111111,
             "#46039f"
            ],
            [
             0.2222222222222222,
             "#7201a8"
            ],
            [
             0.3333333333333333,
             "#9c179e"
            ],
            [
             0.4444444444444444,
             "#bd3786"
            ],
            [
             0.5555555555555556,
             "#d8576b"
            ],
            [
             0.6666666666666666,
             "#ed7953"
            ],
            [
             0.7777777777777778,
             "#fb9f3a"
            ],
            [
             0.8888888888888888,
             "#fdca26"
            ],
            [
             1,
             "#f0f921"
            ]
           ],
           "sequentialminus": [
            [
             0,
             "#0d0887"
            ],
            [
             0.1111111111111111,
             "#46039f"
            ],
            [
             0.2222222222222222,
             "#7201a8"
            ],
            [
             0.3333333333333333,
             "#9c179e"
            ],
            [
             0.4444444444444444,
             "#bd3786"
            ],
            [
             0.5555555555555556,
             "#d8576b"
            ],
            [
             0.6666666666666666,
             "#ed7953"
            ],
            [
             0.7777777777777778,
             "#fb9f3a"
            ],
            [
             0.8888888888888888,
             "#fdca26"
            ],
            [
             1,
             "#f0f921"
            ]
           ]
          },
          "colorway": [
           "#636efa",
           "#EF553B",
           "#00cc96",
           "#ab63fa",
           "#FFA15A",
           "#19d3f3",
           "#FF6692",
           "#B6E880",
           "#FF97FF",
           "#FECB52"
          ],
          "font": {
           "color": "#2a3f5f"
          },
          "geo": {
           "bgcolor": "white",
           "lakecolor": "white",
           "landcolor": "#E5ECF6",
           "showlakes": true,
           "showland": true,
           "subunitcolor": "white"
          },
          "hoverlabel": {
           "align": "left"
          },
          "hovermode": "closest",
          "mapbox": {
           "style": "light"
          },
          "paper_bgcolor": "white",
          "plot_bgcolor": "#E5ECF6",
          "polar": {
           "angularaxis": {
            "gridcolor": "white",
            "linecolor": "white",
            "ticks": ""
           },
           "bgcolor": "#E5ECF6",
           "radialaxis": {
            "gridcolor": "white",
            "linecolor": "white",
            "ticks": ""
           }
          },
          "scene": {
           "xaxis": {
            "backgroundcolor": "#E5ECF6",
            "gridcolor": "white",
            "gridwidth": 2,
            "linecolor": "white",
            "showbackground": true,
            "ticks": "",
            "zerolinecolor": "white"
           },
           "yaxis": {
            "backgroundcolor": "#E5ECF6",
            "gridcolor": "white",
            "gridwidth": 2,
            "linecolor": "white",
            "showbackground": true,
            "ticks": "",
            "zerolinecolor": "white"
           },
           "zaxis": {
            "backgroundcolor": "#E5ECF6",
            "gridcolor": "white",
            "gridwidth": 2,
            "linecolor": "white",
            "showbackground": true,
            "ticks": "",
            "zerolinecolor": "white"
           }
          },
          "shapedefaults": {
           "line": {
            "color": "#2a3f5f"
           }
          },
          "ternary": {
           "aaxis": {
            "gridcolor": "white",
            "linecolor": "white",
            "ticks": ""
           },
           "baxis": {
            "gridcolor": "white",
            "linecolor": "white",
            "ticks": ""
           },
           "bgcolor": "#E5ECF6",
           "caxis": {
            "gridcolor": "white",
            "linecolor": "white",
            "ticks": ""
           }
          },
          "title": {
           "x": 0.05
          },
          "xaxis": {
           "automargin": true,
           "gridcolor": "white",
           "linecolor": "white",
           "ticks": "",
           "title": {
            "standoff": 15
           },
           "zerolinecolor": "white",
           "zerolinewidth": 2
          },
          "yaxis": {
           "automargin": true,
           "gridcolor": "white",
           "linecolor": "white",
           "ticks": "",
           "title": {
            "standoff": 15
           },
           "zerolinecolor": "white",
           "zerolinewidth": 2
          }
         }
        },
        "title": {
         "text": "KM freeride"
        },
        "width": 1000,
        "xaxis": {
         "anchor": "y",
         "domain": [
          0,
          1
         ],
         "tickangle": 85,
         "title": {
          "text": "Resorts"
         }
        },
        "yaxis": {
         "anchor": "x",
         "domain": [
          0,
          1
         ],
         "tickvals": [
          0,
          20,
          40,
          60,
          80,
          100,
          120,
          140,
          160,
          180,
          200
         ],
         "title": {
          "text": "Altitud"
         }
        }
       }
      }
     },
     "metadata": {},
     "output_type": "display_data"
    }
   ],
   "source": [
    "# Km freeride\n",
    "\n",
    "freeride = pistas[['Nombre del Resort','Continente','Km de Freeride','Esqui de fondo y senderos']].sort_values(ascending=False,by='Km de Freeride')\n",
    "freeride.dropna(inplace=True)\n",
    "\n",
    "fig = px.bar(freeride.head(40), x='Nombre del Resort', y='Km de Freeride', color='Continente',\n",
    "             #category_orders={'Nombre del Resort': resort_order},\n",
    "             labels={'Nombre del Resort': 'Resort', 'Km de Freeride': 'Km de Freeride'},\n",
    "             hover_data=['Continente'], text='Esqui de fondo y senderos')\n",
    "fig.update_layout(title_text='KM freeride', xaxis_tickangle=85, width=1000, height=800)\n",
    "fig.update_xaxes(title = 'Resorts')\n",
    "y_ticks = np.arange(0, 201, 20)\n",
    "fig.update_yaxes(title = 'Altitud', tickvals=y_ticks)\n",
    "\n",
    "\n",
    "fig.show()"
   ]
  },
  {
   "cell_type": "code",
   "execution_count": 237,
   "metadata": {},
   "outputs": [
    {
     "data": {
      "text/html": [
       "<div>\n",
       "<style scoped>\n",
       "    .dataframe tbody tr th:only-of-type {\n",
       "        vertical-align: middle;\n",
       "    }\n",
       "\n",
       "    .dataframe tbody tr th {\n",
       "        vertical-align: top;\n",
       "    }\n",
       "\n",
       "    .dataframe thead th {\n",
       "        text-align: right;\n",
       "    }\n",
       "</style>\n",
       "<table border=\"1\" class=\"dataframe\">\n",
       "  <thead>\n",
       "    <tr style=\"text-align: right;\">\n",
       "      <th></th>\n",
       "      <th>País</th>\n",
       "      <th>Continente</th>\n",
       "      <th>ISO Code</th>\n",
       "      <th>Nombre del Resort</th>\n",
       "    </tr>\n",
       "  </thead>\n",
       "  <tbody>\n",
       "    <tr>\n",
       "      <th>0</th>\n",
       "      <td>Germany</td>\n",
       "      <td>Europe</td>\n",
       "      <td>DEU</td>\n",
       "      <td>653</td>\n",
       "    </tr>\n",
       "    <tr>\n",
       "      <th>1</th>\n",
       "      <td>Austria</td>\n",
       "      <td>Europe</td>\n",
       "      <td>AUT</td>\n",
       "      <td>379</td>\n",
       "    </tr>\n",
       "    <tr>\n",
       "      <th>2</th>\n",
       "      <td>Switzerland</td>\n",
       "      <td>Europe</td>\n",
       "      <td>CHE</td>\n",
       "      <td>293</td>\n",
       "    </tr>\n",
       "    <tr>\n",
       "      <th>3</th>\n",
       "      <td>France</td>\n",
       "      <td>Europe</td>\n",
       "      <td>FRA</td>\n",
       "      <td>241</td>\n",
       "    </tr>\n",
       "    <tr>\n",
       "      <th>4</th>\n",
       "      <td>Italy</td>\n",
       "      <td>Europe</td>\n",
       "      <td>ITA</td>\n",
       "      <td>213</td>\n",
       "    </tr>\n",
       "    <tr>\n",
       "      <th>...</th>\n",
       "      <td>...</td>\n",
       "      <td>...</td>\n",
       "      <td>...</td>\n",
       "      <td>...</td>\n",
       "    </tr>\n",
       "    <tr>\n",
       "      <th>64</th>\n",
       "      <td>Latvia</td>\n",
       "      <td>Europe</td>\n",
       "      <td>LVA</td>\n",
       "      <td>1</td>\n",
       "    </tr>\n",
       "    <tr>\n",
       "      <th>65</th>\n",
       "      <td>Ireland</td>\n",
       "      <td>Europe</td>\n",
       "      <td>IRL</td>\n",
       "      <td>1</td>\n",
       "    </tr>\n",
       "    <tr>\n",
       "      <th>66</th>\n",
       "      <td>Egypt</td>\n",
       "      <td>Africa</td>\n",
       "      <td>EGY</td>\n",
       "      <td>1</td>\n",
       "    </tr>\n",
       "    <tr>\n",
       "      <th>67</th>\n",
       "      <td>Cyprus</td>\n",
       "      <td>Asia</td>\n",
       "      <td>CYP</td>\n",
       "      <td>1</td>\n",
       "    </tr>\n",
       "    <tr>\n",
       "      <th>68</th>\n",
       "      <td>Kosovo</td>\n",
       "      <td>Europe</td>\n",
       "      <td>SRB</td>\n",
       "      <td>1</td>\n",
       "    </tr>\n",
       "  </tbody>\n",
       "</table>\n",
       "<p>69 rows × 4 columns</p>\n",
       "</div>"
      ],
      "text/plain": [
       "           País Continente ISO Code  Nombre del Resort\n",
       "0       Germany     Europe      DEU                653\n",
       "1       Austria     Europe      AUT                379\n",
       "2   Switzerland     Europe      CHE                293\n",
       "3        France     Europe      FRA                241\n",
       "4         Italy     Europe      ITA                213\n",
       "..          ...        ...      ...                ...\n",
       "64       Latvia     Europe      LVA                  1\n",
       "65      Ireland     Europe      IRL                  1\n",
       "66        Egypt     Africa      EGY                  1\n",
       "67       Cyprus       Asia      CYP                  1\n",
       "68       Kosovo     Europe      SRB                  1\n",
       "\n",
       "[69 rows x 4 columns]"
      ]
     },
     "execution_count": 237,
     "metadata": {},
     "output_type": "execute_result"
    }
   ],
   "source": [
    "# Pistas por Pais\n",
    "\n",
    "pistas_pais = pistas.groupby(['País','Continente','ISO Code'])['Nombre del Resort'].count().sort_values(ascending=False)\n",
    "pistas_pais = pd.DataFrame(pistas_pais).reset_index()\n",
    "pistas_pais"
   ]
  },
  {
   "cell_type": "code",
   "execution_count": 238,
   "metadata": {},
   "outputs": [
    {
     "data": {
      "application/vnd.plotly.v1+json": {
       "config": {
        "plotlyServerURL": "https://plot.ly"
       },
       "data": [
        {
         "geo": "geo",
         "hovertemplate": "<b>%{hovertext}</b><br><br>Continente=Europe<br>Nombre del Resort=%{marker.size}<br>ISO Code=%{location}<extra></extra>",
         "hovertext": [
          "Germany",
          "Austria",
          "Switzerland",
          "France",
          "Italy",
          "Czech Republic",
          "Poland",
          "United Kingdom",
          "Slovakia",
          "Norway",
          "Sweden",
          "Slovenia",
          "Finland",
          "Spain",
          "Romania",
          "Greece",
          "Serbia",
          "Netherlands",
          "Ukraine",
          "Hungary",
          "Bosnia and Herzegovina",
          "Iceland",
          "Croatia",
          "Bulgaria",
          "Denmark",
          "Belgium",
          "Liechtenstein",
          "Andorra",
          "Lithuania",
          "Estonia",
          "Russia",
          "Portugal",
          "Montenegro",
          "Latvia",
          "Ireland",
          "Kosovo"
         ],
         "legendgroup": "Europe",
         "locations": [
          "DEU",
          "AUT",
          "CHE",
          "FRA",
          "ITA",
          "CZE",
          "POL",
          "GBR",
          "SVK",
          "NOR",
          "SWE",
          "SVN",
          "FIN",
          "ESP",
          "ROU",
          "GRC",
          "SRB",
          "NLD",
          "UKR",
          "HUN",
          "BIH",
          "ISL",
          "HRV",
          "BGR",
          "DNK",
          "BEL",
          "LIE",
          "AND",
          "LTU",
          "EST",
          "RUS",
          "PRT",
          "MNE",
          "LVA",
          "IRL",
          "SRB"
         ],
         "marker": {
          "color": "#636efa",
          "size": [
           653,
           379,
           293,
           241,
           213,
           172,
           131,
           74,
           67,
           56,
           49,
           49,
           41,
           35,
           23,
           22,
           20,
           16,
           16,
           13,
           12,
           9,
           9,
           8,
           6,
           5,
           3,
           3,
           2,
           2,
           2,
           1,
           1,
           1,
           1,
           1
          ],
          "sizemode": "area",
          "sizeref": 1.6325,
          "symbol": "circle"
         },
         "mode": "markers",
         "name": "Europe",
         "showlegend": true,
         "type": "scattergeo"
        },
        {
         "geo": "geo",
         "hovertemplate": "<b>%{hovertext}</b><br><br>Continente=Asia<br>Nombre del Resort=%{marker.size}<br>ISO Code=%{location}<extra></extra>",
         "hovertext": [
          "Japan",
          "China",
          "Turkey",
          "South Korea",
          "Georgia",
          "Kyrgyzstan",
          "Iran",
          "United Arab Emirates",
          "India",
          "Kazakhstan",
          "North Korea",
          "Israel",
          "Azerbaijan",
          "Qatar",
          "Pakistan",
          "Mongolia",
          "Lebanon",
          "Cyprus"
         ],
         "legendgroup": "Asia",
         "locations": [
          "JPN",
          "CHN",
          "TUR",
          "KOR",
          "GEO",
          "KGZ",
          "IRN",
          "ARE",
          "IND",
          "KAZ",
          "PRK",
          "ISR",
          "AZE",
          "QAT",
          "PAK",
          "MNG",
          "LBN",
          "CYP"
         ],
         "marker": {
          "color": "#EF553B",
          "size": [
           171,
           22,
           16,
           16,
           6,
           6,
           4,
           4,
           3,
           2,
           2,
           2,
           2,
           1,
           1,
           1,
           1,
           1
          ],
          "sizemode": "area",
          "sizeref": 1.6325,
          "symbol": "circle"
         },
         "mode": "markers",
         "name": "Asia",
         "showlegend": true,
         "type": "scattergeo"
        },
        {
         "geo": "geo",
         "hovertemplate": "<b>%{hovertext}</b><br><br>Continente=North America<br>Nombre del Resort=%{marker.size}<br>ISO Code=%{location}<extra></extra>",
         "hovertext": [
          "Canada",
          "USA",
          "Greenland",
          "Mexico"
         ],
         "legendgroup": "North America",
         "locations": [
          "CAN",
          "USA",
          "GRL",
          "MEX"
         ],
         "marker": {
          "color": "#00cc96",
          "size": [
           140,
           20,
           2,
           1
          ],
          "sizemode": "area",
          "sizeref": 1.6325,
          "symbol": "circle"
         },
         "mode": "markers",
         "name": "North America",
         "showlegend": true,
         "type": "scattergeo"
        },
        {
         "geo": "geo",
         "hovertemplate": "<b>%{hovertext}</b><br><br>Continente=Australia and Oceania<br>Nombre del Resort=%{marker.size}<br>ISO Code=%{location}<extra></extra>",
         "hovertext": [
          "New Zealand",
          "Australia"
         ],
         "legendgroup": "Australia and Oceania",
         "locations": [
          "NZL",
          "AUS"
         ],
         "marker": {
          "color": "#ab63fa",
          "size": [
           16,
           10
          ],
          "sizemode": "area",
          "sizeref": 1.6325,
          "symbol": "circle"
         },
         "mode": "markers",
         "name": "Australia and Oceania",
         "showlegend": true,
         "type": "scattergeo"
        },
        {
         "geo": "geo",
         "hovertemplate": "<b>%{hovertext}</b><br><br>Continente=South America<br>Nombre del Resort=%{marker.size}<br>ISO Code=%{location}<extra></extra>",
         "hovertext": [
          "Chile",
          "Argentina",
          "Brazil"
         ],
         "legendgroup": "South America",
         "locations": [
          "CHL",
          "ARG",
          "BRA"
         ],
         "marker": {
          "color": "#FFA15A",
          "size": [
           14,
           13,
           2
          ],
          "sizemode": "area",
          "sizeref": 1.6325,
          "symbol": "circle"
         },
         "mode": "markers",
         "name": "South America",
         "showlegend": true,
         "type": "scattergeo"
        },
        {
         "geo": "geo",
         "hovertemplate": "<b>%{hovertext}</b><br><br>Continente=Russia<br>Nombre del Resort=%{marker.size}<br>ISO Code=%{location}<extra></extra>",
         "hovertext": [
          "Southern Russia"
         ],
         "legendgroup": "Russia",
         "locations": [
          "Not found"
         ],
         "marker": {
          "color": "#19d3f3",
          "size": [
           2
          ],
          "sizemode": "area",
          "sizeref": 1.6325,
          "symbol": "circle"
         },
         "mode": "markers",
         "name": "Russia",
         "showlegend": true,
         "type": "scattergeo"
        },
        {
         "geo": "geo",
         "hovertemplate": "<b>%{hovertext}</b><br><br>Continente=Africa<br>Nombre del Resort=%{marker.size}<br>ISO Code=%{location}<extra></extra>",
         "hovertext": [
          "Morocco",
          "South Africa",
          "Algeria",
          "Lesotho",
          "Egypt"
         ],
         "legendgroup": "Africa",
         "locations": [
          "MAR",
          "ZAF",
          "DZA",
          "LSO",
          "EGY"
         ],
         "marker": {
          "color": "#FF6692",
          "size": [
           2,
           2,
           1,
           1,
           1
          ],
          "sizemode": "area",
          "sizeref": 1.6325,
          "symbol": "circle"
         },
         "mode": "markers",
         "name": "Africa",
         "showlegend": true,
         "type": "scattergeo"
        }
       ],
       "layout": {
        "geo": {
         "center": {},
         "domain": {
          "x": [
           0,
           1
          ],
          "y": [
           0,
           1
          ]
         },
         "projection": {
          "type": "natural earth"
         }
        },
        "legend": {
         "itemsizing": "constant",
         "title": {
          "text": "Continente"
         },
         "tracegroupgap": 0
        },
        "margin": {
         "t": 60
        },
        "template": {
         "data": {
          "bar": [
           {
            "error_x": {
             "color": "#2a3f5f"
            },
            "error_y": {
             "color": "#2a3f5f"
            },
            "marker": {
             "line": {
              "color": "#E5ECF6",
              "width": 0.5
             },
             "pattern": {
              "fillmode": "overlay",
              "size": 10,
              "solidity": 0.2
             }
            },
            "type": "bar"
           }
          ],
          "barpolar": [
           {
            "marker": {
             "line": {
              "color": "#E5ECF6",
              "width": 0.5
             },
             "pattern": {
              "fillmode": "overlay",
              "size": 10,
              "solidity": 0.2
             }
            },
            "type": "barpolar"
           }
          ],
          "carpet": [
           {
            "aaxis": {
             "endlinecolor": "#2a3f5f",
             "gridcolor": "white",
             "linecolor": "white",
             "minorgridcolor": "white",
             "startlinecolor": "#2a3f5f"
            },
            "baxis": {
             "endlinecolor": "#2a3f5f",
             "gridcolor": "white",
             "linecolor": "white",
             "minorgridcolor": "white",
             "startlinecolor": "#2a3f5f"
            },
            "type": "carpet"
           }
          ],
          "choropleth": [
           {
            "colorbar": {
             "outlinewidth": 0,
             "ticks": ""
            },
            "type": "choropleth"
           }
          ],
          "contour": [
           {
            "colorbar": {
             "outlinewidth": 0,
             "ticks": ""
            },
            "colorscale": [
             [
              0,
              "#0d0887"
             ],
             [
              0.1111111111111111,
              "#46039f"
             ],
             [
              0.2222222222222222,
              "#7201a8"
             ],
             [
              0.3333333333333333,
              "#9c179e"
             ],
             [
              0.4444444444444444,
              "#bd3786"
             ],
             [
              0.5555555555555556,
              "#d8576b"
             ],
             [
              0.6666666666666666,
              "#ed7953"
             ],
             [
              0.7777777777777778,
              "#fb9f3a"
             ],
             [
              0.8888888888888888,
              "#fdca26"
             ],
             [
              1,
              "#f0f921"
             ]
            ],
            "type": "contour"
           }
          ],
          "contourcarpet": [
           {
            "colorbar": {
             "outlinewidth": 0,
             "ticks": ""
            },
            "type": "contourcarpet"
           }
          ],
          "heatmap": [
           {
            "colorbar": {
             "outlinewidth": 0,
             "ticks": ""
            },
            "colorscale": [
             [
              0,
              "#0d0887"
             ],
             [
              0.1111111111111111,
              "#46039f"
             ],
             [
              0.2222222222222222,
              "#7201a8"
             ],
             [
              0.3333333333333333,
              "#9c179e"
             ],
             [
              0.4444444444444444,
              "#bd3786"
             ],
             [
              0.5555555555555556,
              "#d8576b"
             ],
             [
              0.6666666666666666,
              "#ed7953"
             ],
             [
              0.7777777777777778,
              "#fb9f3a"
             ],
             [
              0.8888888888888888,
              "#fdca26"
             ],
             [
              1,
              "#f0f921"
             ]
            ],
            "type": "heatmap"
           }
          ],
          "heatmapgl": [
           {
            "colorbar": {
             "outlinewidth": 0,
             "ticks": ""
            },
            "colorscale": [
             [
              0,
              "#0d0887"
             ],
             [
              0.1111111111111111,
              "#46039f"
             ],
             [
              0.2222222222222222,
              "#7201a8"
             ],
             [
              0.3333333333333333,
              "#9c179e"
             ],
             [
              0.4444444444444444,
              "#bd3786"
             ],
             [
              0.5555555555555556,
              "#d8576b"
             ],
             [
              0.6666666666666666,
              "#ed7953"
             ],
             [
              0.7777777777777778,
              "#fb9f3a"
             ],
             [
              0.8888888888888888,
              "#fdca26"
             ],
             [
              1,
              "#f0f921"
             ]
            ],
            "type": "heatmapgl"
           }
          ],
          "histogram": [
           {
            "marker": {
             "pattern": {
              "fillmode": "overlay",
              "size": 10,
              "solidity": 0.2
             }
            },
            "type": "histogram"
           }
          ],
          "histogram2d": [
           {
            "colorbar": {
             "outlinewidth": 0,
             "ticks": ""
            },
            "colorscale": [
             [
              0,
              "#0d0887"
             ],
             [
              0.1111111111111111,
              "#46039f"
             ],
             [
              0.2222222222222222,
              "#7201a8"
             ],
             [
              0.3333333333333333,
              "#9c179e"
             ],
             [
              0.4444444444444444,
              "#bd3786"
             ],
             [
              0.5555555555555556,
              "#d8576b"
             ],
             [
              0.6666666666666666,
              "#ed7953"
             ],
             [
              0.7777777777777778,
              "#fb9f3a"
             ],
             [
              0.8888888888888888,
              "#fdca26"
             ],
             [
              1,
              "#f0f921"
             ]
            ],
            "type": "histogram2d"
           }
          ],
          "histogram2dcontour": [
           {
            "colorbar": {
             "outlinewidth": 0,
             "ticks": ""
            },
            "colorscale": [
             [
              0,
              "#0d0887"
             ],
             [
              0.1111111111111111,
              "#46039f"
             ],
             [
              0.2222222222222222,
              "#7201a8"
             ],
             [
              0.3333333333333333,
              "#9c179e"
             ],
             [
              0.4444444444444444,
              "#bd3786"
             ],
             [
              0.5555555555555556,
              "#d8576b"
             ],
             [
              0.6666666666666666,
              "#ed7953"
             ],
             [
              0.7777777777777778,
              "#fb9f3a"
             ],
             [
              0.8888888888888888,
              "#fdca26"
             ],
             [
              1,
              "#f0f921"
             ]
            ],
            "type": "histogram2dcontour"
           }
          ],
          "mesh3d": [
           {
            "colorbar": {
             "outlinewidth": 0,
             "ticks": ""
            },
            "type": "mesh3d"
           }
          ],
          "parcoords": [
           {
            "line": {
             "colorbar": {
              "outlinewidth": 0,
              "ticks": ""
             }
            },
            "type": "parcoords"
           }
          ],
          "pie": [
           {
            "automargin": true,
            "type": "pie"
           }
          ],
          "scatter": [
           {
            "fillpattern": {
             "fillmode": "overlay",
             "size": 10,
             "solidity": 0.2
            },
            "type": "scatter"
           }
          ],
          "scatter3d": [
           {
            "line": {
             "colorbar": {
              "outlinewidth": 0,
              "ticks": ""
             }
            },
            "marker": {
             "colorbar": {
              "outlinewidth": 0,
              "ticks": ""
             }
            },
            "type": "scatter3d"
           }
          ],
          "scattercarpet": [
           {
            "marker": {
             "colorbar": {
              "outlinewidth": 0,
              "ticks": ""
             }
            },
            "type": "scattercarpet"
           }
          ],
          "scattergeo": [
           {
            "marker": {
             "colorbar": {
              "outlinewidth": 0,
              "ticks": ""
             }
            },
            "type": "scattergeo"
           }
          ],
          "scattergl": [
           {
            "marker": {
             "colorbar": {
              "outlinewidth": 0,
              "ticks": ""
             }
            },
            "type": "scattergl"
           }
          ],
          "scattermapbox": [
           {
            "marker": {
             "colorbar": {
              "outlinewidth": 0,
              "ticks": ""
             }
            },
            "type": "scattermapbox"
           }
          ],
          "scatterpolar": [
           {
            "marker": {
             "colorbar": {
              "outlinewidth": 0,
              "ticks": ""
             }
            },
            "type": "scatterpolar"
           }
          ],
          "scatterpolargl": [
           {
            "marker": {
             "colorbar": {
              "outlinewidth": 0,
              "ticks": ""
             }
            },
            "type": "scatterpolargl"
           }
          ],
          "scatterternary": [
           {
            "marker": {
             "colorbar": {
              "outlinewidth": 0,
              "ticks": ""
             }
            },
            "type": "scatterternary"
           }
          ],
          "surface": [
           {
            "colorbar": {
             "outlinewidth": 0,
             "ticks": ""
            },
            "colorscale": [
             [
              0,
              "#0d0887"
             ],
             [
              0.1111111111111111,
              "#46039f"
             ],
             [
              0.2222222222222222,
              "#7201a8"
             ],
             [
              0.3333333333333333,
              "#9c179e"
             ],
             [
              0.4444444444444444,
              "#bd3786"
             ],
             [
              0.5555555555555556,
              "#d8576b"
             ],
             [
              0.6666666666666666,
              "#ed7953"
             ],
             [
              0.7777777777777778,
              "#fb9f3a"
             ],
             [
              0.8888888888888888,
              "#fdca26"
             ],
             [
              1,
              "#f0f921"
             ]
            ],
            "type": "surface"
           }
          ],
          "table": [
           {
            "cells": {
             "fill": {
              "color": "#EBF0F8"
             },
             "line": {
              "color": "white"
             }
            },
            "header": {
             "fill": {
              "color": "#C8D4E3"
             },
             "line": {
              "color": "white"
             }
            },
            "type": "table"
           }
          ]
         },
         "layout": {
          "annotationdefaults": {
           "arrowcolor": "#2a3f5f",
           "arrowhead": 0,
           "arrowwidth": 1
          },
          "autotypenumbers": "strict",
          "coloraxis": {
           "colorbar": {
            "outlinewidth": 0,
            "ticks": ""
           }
          },
          "colorscale": {
           "diverging": [
            [
             0,
             "#8e0152"
            ],
            [
             0.1,
             "#c51b7d"
            ],
            [
             0.2,
             "#de77ae"
            ],
            [
             0.3,
             "#f1b6da"
            ],
            [
             0.4,
             "#fde0ef"
            ],
            [
             0.5,
             "#f7f7f7"
            ],
            [
             0.6,
             "#e6f5d0"
            ],
            [
             0.7,
             "#b8e186"
            ],
            [
             0.8,
             "#7fbc41"
            ],
            [
             0.9,
             "#4d9221"
            ],
            [
             1,
             "#276419"
            ]
           ],
           "sequential": [
            [
             0,
             "#0d0887"
            ],
            [
             0.1111111111111111,
             "#46039f"
            ],
            [
             0.2222222222222222,
             "#7201a8"
            ],
            [
             0.3333333333333333,
             "#9c179e"
            ],
            [
             0.4444444444444444,
             "#bd3786"
            ],
            [
             0.5555555555555556,
             "#d8576b"
            ],
            [
             0.6666666666666666,
             "#ed7953"
            ],
            [
             0.7777777777777778,
             "#fb9f3a"
            ],
            [
             0.8888888888888888,
             "#fdca26"
            ],
            [
             1,
             "#f0f921"
            ]
           ],
           "sequentialminus": [
            [
             0,
             "#0d0887"
            ],
            [
             0.1111111111111111,
             "#46039f"
            ],
            [
             0.2222222222222222,
             "#7201a8"
            ],
            [
             0.3333333333333333,
             "#9c179e"
            ],
            [
             0.4444444444444444,
             "#bd3786"
            ],
            [
             0.5555555555555556,
             "#d8576b"
            ],
            [
             0.6666666666666666,
             "#ed7953"
            ],
            [
             0.7777777777777778,
             "#fb9f3a"
            ],
            [
             0.8888888888888888,
             "#fdca26"
            ],
            [
             1,
             "#f0f921"
            ]
           ]
          },
          "colorway": [
           "#636efa",
           "#EF553B",
           "#00cc96",
           "#ab63fa",
           "#FFA15A",
           "#19d3f3",
           "#FF6692",
           "#B6E880",
           "#FF97FF",
           "#FECB52"
          ],
          "font": {
           "color": "#2a3f5f"
          },
          "geo": {
           "bgcolor": "white",
           "lakecolor": "white",
           "landcolor": "#E5ECF6",
           "showlakes": true,
           "showland": true,
           "subunitcolor": "white"
          },
          "hoverlabel": {
           "align": "left"
          },
          "hovermode": "closest",
          "mapbox": {
           "style": "light"
          },
          "paper_bgcolor": "white",
          "plot_bgcolor": "#E5ECF6",
          "polar": {
           "angularaxis": {
            "gridcolor": "white",
            "linecolor": "white",
            "ticks": ""
           },
           "bgcolor": "#E5ECF6",
           "radialaxis": {
            "gridcolor": "white",
            "linecolor": "white",
            "ticks": ""
           }
          },
          "scene": {
           "xaxis": {
            "backgroundcolor": "#E5ECF6",
            "gridcolor": "white",
            "gridwidth": 2,
            "linecolor": "white",
            "showbackground": true,
            "ticks": "",
            "zerolinecolor": "white"
           },
           "yaxis": {
            "backgroundcolor": "#E5ECF6",
            "gridcolor": "white",
            "gridwidth": 2,
            "linecolor": "white",
            "showbackground": true,
            "ticks": "",
            "zerolinecolor": "white"
           },
           "zaxis": {
            "backgroundcolor": "#E5ECF6",
            "gridcolor": "white",
            "gridwidth": 2,
            "linecolor": "white",
            "showbackground": true,
            "ticks": "",
            "zerolinecolor": "white"
           }
          },
          "shapedefaults": {
           "line": {
            "color": "#2a3f5f"
           }
          },
          "ternary": {
           "aaxis": {
            "gridcolor": "white",
            "linecolor": "white",
            "ticks": ""
           },
           "baxis": {
            "gridcolor": "white",
            "linecolor": "white",
            "ticks": ""
           },
           "bgcolor": "#E5ECF6",
           "caxis": {
            "gridcolor": "white",
            "linecolor": "white",
            "ticks": ""
           }
          },
          "title": {
           "x": 0.05
          },
          "xaxis": {
           "automargin": true,
           "gridcolor": "white",
           "linecolor": "white",
           "ticks": "",
           "title": {
            "standoff": 15
           },
           "zerolinecolor": "white",
           "zerolinewidth": 2
          },
          "yaxis": {
           "automargin": true,
           "gridcolor": "white",
           "linecolor": "white",
           "ticks": "",
           "title": {
            "standoff": 15
           },
           "zerolinecolor": "white",
           "zerolinewidth": 2
          }
         }
        }
       }
      }
     },
     "metadata": {},
     "output_type": "display_data"
    }
   ],
   "source": [
    "# Sacamos un mapa con el numero de pistas que hay por Pais\n",
    "fig = px.scatter_geo(pistas_pais, locations=pistas_pais['ISO Code'], color=pistas_pais.Continente,\n",
    "                     hover_name=pistas_pais.País, size=pistas_pais['Nombre del Resort'],\n",
    "                     projection=\"natural earth\")\n",
    "\n",
    "fig.show()"
   ]
  },
  {
   "attachments": {},
   "cell_type": "markdown",
   "metadata": {},
   "source": [
    "\n",
    "# Pie chart dividido por contienennte y cada pie chart por dificultad"
   ]
  },
  {
   "cell_type": "code",
   "execution_count": 271,
   "metadata": {},
   "outputs": [
    {
     "data": {
      "application/vnd.plotly.v1+json": {
       "config": {
        "plotlyServerURL": "https://plot.ly"
       },
       "data": [
        {
         "alignmentgroup": "True",
         "customdata": [
          [
           "North America"
          ],
          [
           "North America"
          ],
          [
           "North America"
          ]
         ],
         "hovertemplate": "Continente=%{customdata[0]}<br>Resorts=%{x}<br>Rate=%{text}<extra></extra>",
         "legendgroup": "North America",
         "marker": {
          "color": "#636efa",
          "pattern": {
           "shape": ""
          }
         },
         "name": "North America",
         "offsetgroup": "North America",
         "orientation": "v",
         "showlegend": true,
         "text": [
          5,
          5,
          5
         ],
         "textposition": "auto",
         "type": "bar",
         "x": [
          "whistler-blackcomb",
          "vail",
          "snowmass"
         ],
         "xaxis": "x",
         "y": [
          5,
          5,
          5
         ],
         "yaxis": "y"
        },
        {
         "alignmentgroup": "True",
         "customdata": [
          [
           "Europe"
          ],
          [
           "Europe"
          ],
          [
           "Europe"
          ],
          [
           "Europe"
          ],
          [
           "Europe"
          ],
          [
           "Europe"
          ],
          [
           "Europe"
          ],
          [
           "Europe"
          ],
          [
           "Europe"
          ],
          [
           "Europe"
          ],
          [
           "Europe"
          ],
          [
           "Europe"
          ],
          [
           "Europe"
          ],
          [
           "Europe"
          ],
          [
           "Europe"
          ],
          [
           "Europe"
          ],
          [
           "Europe"
          ]
         ],
         "hovertemplate": "Continente=%{customdata[0]}<br>Resorts=%{x}<br>Rate=%{text}<extra></extra>",
         "legendgroup": "Europe",
         "marker": {
          "color": "#EF553B",
          "pattern": {
           "shape": ""
          }
         },
         "name": "Europe",
         "offsetgroup": "Europe",
         "orientation": "v",
         "showlegend": true,
         "text": [
          5,
          4.9,
          4.8,
          4.8,
          4.8,
          4.8,
          4.7,
          4.7,
          4.7,
          4.7,
          4.7,
          4.7,
          4.7,
          4.7,
          4.6,
          4.6,
          4.6
         ],
         "textposition": "auto",
         "type": "bar",
         "x": [
          "arabba",
          "KitzSki – Kitzbühel/Kirchberg",
          "Ischgl/Samnaun – Silvretta Arena",
          "SkiWelt Wilder Kaiser-Brixental",
          "St. Anton/St. Christoph/Stuben/Lech/Zürs/Warth/Schröcken – Ski Arlberg",
          "Serfaus-Fiss-Ladis",
          "Arosa Lenzerheide",
          " Val Gardena (Gröden)",
          "St. Moritz – Corviglia",
          "Zillertal Arena – Zell am Ziller/Gerlos/Königsleiten/Hochkrimml",
          "Saalbach Hinterglemm Leogang Fieberbrunn (Skicircus)",
          " Schladming – Planai/​Hochwurzen/​Hauser Kaibling/​Reiteralm (4-Berge-Skischaukel)",
          "Sölden",
          "Kaltenbach – Hochzillertal/Hochfügen (SKi-optimal)",
          "Mayrhofen – Penken/Ahorn/Rastkogel/Eggalm",
          "Silvretta Montafon",
          "Madonna di Campiglio/Pinzolo/Folgàrida/Marilleva"
         ],
         "xaxis": "x",
         "y": [
          5,
          4.9,
          4.8,
          4.8,
          4.8,
          4.8,
          4.7,
          4.7,
          4.7,
          4.7,
          4.7,
          4.7,
          4.7,
          4.7,
          4.6,
          4.6,
          4.6
         ],
         "yaxis": "y"
        }
       ],
       "layout": {
        "barmode": "relative",
        "height": 800,
        "legend": {
         "title": {
          "text": "Continente"
         },
         "tracegroupgap": 0
        },
        "margin": {
         "t": 60
        },
        "template": {
         "data": {
          "bar": [
           {
            "error_x": {
             "color": "#2a3f5f"
            },
            "error_y": {
             "color": "#2a3f5f"
            },
            "marker": {
             "line": {
              "color": "#E5ECF6",
              "width": 0.5
             },
             "pattern": {
              "fillmode": "overlay",
              "size": 10,
              "solidity": 0.2
             }
            },
            "type": "bar"
           }
          ],
          "barpolar": [
           {
            "marker": {
             "line": {
              "color": "#E5ECF6",
              "width": 0.5
             },
             "pattern": {
              "fillmode": "overlay",
              "size": 10,
              "solidity": 0.2
             }
            },
            "type": "barpolar"
           }
          ],
          "carpet": [
           {
            "aaxis": {
             "endlinecolor": "#2a3f5f",
             "gridcolor": "white",
             "linecolor": "white",
             "minorgridcolor": "white",
             "startlinecolor": "#2a3f5f"
            },
            "baxis": {
             "endlinecolor": "#2a3f5f",
             "gridcolor": "white",
             "linecolor": "white",
             "minorgridcolor": "white",
             "startlinecolor": "#2a3f5f"
            },
            "type": "carpet"
           }
          ],
          "choropleth": [
           {
            "colorbar": {
             "outlinewidth": 0,
             "ticks": ""
            },
            "type": "choropleth"
           }
          ],
          "contour": [
           {
            "colorbar": {
             "outlinewidth": 0,
             "ticks": ""
            },
            "colorscale": [
             [
              0,
              "#0d0887"
             ],
             [
              0.1111111111111111,
              "#46039f"
             ],
             [
              0.2222222222222222,
              "#7201a8"
             ],
             [
              0.3333333333333333,
              "#9c179e"
             ],
             [
              0.4444444444444444,
              "#bd3786"
             ],
             [
              0.5555555555555556,
              "#d8576b"
             ],
             [
              0.6666666666666666,
              "#ed7953"
             ],
             [
              0.7777777777777778,
              "#fb9f3a"
             ],
             [
              0.8888888888888888,
              "#fdca26"
             ],
             [
              1,
              "#f0f921"
             ]
            ],
            "type": "contour"
           }
          ],
          "contourcarpet": [
           {
            "colorbar": {
             "outlinewidth": 0,
             "ticks": ""
            },
            "type": "contourcarpet"
           }
          ],
          "heatmap": [
           {
            "colorbar": {
             "outlinewidth": 0,
             "ticks": ""
            },
            "colorscale": [
             [
              0,
              "#0d0887"
             ],
             [
              0.1111111111111111,
              "#46039f"
             ],
             [
              0.2222222222222222,
              "#7201a8"
             ],
             [
              0.3333333333333333,
              "#9c179e"
             ],
             [
              0.4444444444444444,
              "#bd3786"
             ],
             [
              0.5555555555555556,
              "#d8576b"
             ],
             [
              0.6666666666666666,
              "#ed7953"
             ],
             [
              0.7777777777777778,
              "#fb9f3a"
             ],
             [
              0.8888888888888888,
              "#fdca26"
             ],
             [
              1,
              "#f0f921"
             ]
            ],
            "type": "heatmap"
           }
          ],
          "heatmapgl": [
           {
            "colorbar": {
             "outlinewidth": 0,
             "ticks": ""
            },
            "colorscale": [
             [
              0,
              "#0d0887"
             ],
             [
              0.1111111111111111,
              "#46039f"
             ],
             [
              0.2222222222222222,
              "#7201a8"
             ],
             [
              0.3333333333333333,
              "#9c179e"
             ],
             [
              0.4444444444444444,
              "#bd3786"
             ],
             [
              0.5555555555555556,
              "#d8576b"
             ],
             [
              0.6666666666666666,
              "#ed7953"
             ],
             [
              0.7777777777777778,
              "#fb9f3a"
             ],
             [
              0.8888888888888888,
              "#fdca26"
             ],
             [
              1,
              "#f0f921"
             ]
            ],
            "type": "heatmapgl"
           }
          ],
          "histogram": [
           {
            "marker": {
             "pattern": {
              "fillmode": "overlay",
              "size": 10,
              "solidity": 0.2
             }
            },
            "type": "histogram"
           }
          ],
          "histogram2d": [
           {
            "colorbar": {
             "outlinewidth": 0,
             "ticks": ""
            },
            "colorscale": [
             [
              0,
              "#0d0887"
             ],
             [
              0.1111111111111111,
              "#46039f"
             ],
             [
              0.2222222222222222,
              "#7201a8"
             ],
             [
              0.3333333333333333,
              "#9c179e"
             ],
             [
              0.4444444444444444,
              "#bd3786"
             ],
             [
              0.5555555555555556,
              "#d8576b"
             ],
             [
              0.6666666666666666,
              "#ed7953"
             ],
             [
              0.7777777777777778,
              "#fb9f3a"
             ],
             [
              0.8888888888888888,
              "#fdca26"
             ],
             [
              1,
              "#f0f921"
             ]
            ],
            "type": "histogram2d"
           }
          ],
          "histogram2dcontour": [
           {
            "colorbar": {
             "outlinewidth": 0,
             "ticks": ""
            },
            "colorscale": [
             [
              0,
              "#0d0887"
             ],
             [
              0.1111111111111111,
              "#46039f"
             ],
             [
              0.2222222222222222,
              "#7201a8"
             ],
             [
              0.3333333333333333,
              "#9c179e"
             ],
             [
              0.4444444444444444,
              "#bd3786"
             ],
             [
              0.5555555555555556,
              "#d8576b"
             ],
             [
              0.6666666666666666,
              "#ed7953"
             ],
             [
              0.7777777777777778,
              "#fb9f3a"
             ],
             [
              0.8888888888888888,
              "#fdca26"
             ],
             [
              1,
              "#f0f921"
             ]
            ],
            "type": "histogram2dcontour"
           }
          ],
          "mesh3d": [
           {
            "colorbar": {
             "outlinewidth": 0,
             "ticks": ""
            },
            "type": "mesh3d"
           }
          ],
          "parcoords": [
           {
            "line": {
             "colorbar": {
              "outlinewidth": 0,
              "ticks": ""
             }
            },
            "type": "parcoords"
           }
          ],
          "pie": [
           {
            "automargin": true,
            "type": "pie"
           }
          ],
          "scatter": [
           {
            "fillpattern": {
             "fillmode": "overlay",
             "size": 10,
             "solidity": 0.2
            },
            "type": "scatter"
           }
          ],
          "scatter3d": [
           {
            "line": {
             "colorbar": {
              "outlinewidth": 0,
              "ticks": ""
             }
            },
            "marker": {
             "colorbar": {
              "outlinewidth": 0,
              "ticks": ""
             }
            },
            "type": "scatter3d"
           }
          ],
          "scattercarpet": [
           {
            "marker": {
             "colorbar": {
              "outlinewidth": 0,
              "ticks": ""
             }
            },
            "type": "scattercarpet"
           }
          ],
          "scattergeo": [
           {
            "marker": {
             "colorbar": {
              "outlinewidth": 0,
              "ticks": ""
             }
            },
            "type": "scattergeo"
           }
          ],
          "scattergl": [
           {
            "marker": {
             "colorbar": {
              "outlinewidth": 0,
              "ticks": ""
             }
            },
            "type": "scattergl"
           }
          ],
          "scattermapbox": [
           {
            "marker": {
             "colorbar": {
              "outlinewidth": 0,
              "ticks": ""
             }
            },
            "type": "scattermapbox"
           }
          ],
          "scatterpolar": [
           {
            "marker": {
             "colorbar": {
              "outlinewidth": 0,
              "ticks": ""
             }
            },
            "type": "scatterpolar"
           }
          ],
          "scatterpolargl": [
           {
            "marker": {
             "colorbar": {
              "outlinewidth": 0,
              "ticks": ""
             }
            },
            "type": "scatterpolargl"
           }
          ],
          "scatterternary": [
           {
            "marker": {
             "colorbar": {
              "outlinewidth": 0,
              "ticks": ""
             }
            },
            "type": "scatterternary"
           }
          ],
          "surface": [
           {
            "colorbar": {
             "outlinewidth": 0,
             "ticks": ""
            },
            "colorscale": [
             [
              0,
              "#0d0887"
             ],
             [
              0.1111111111111111,
              "#46039f"
             ],
             [
              0.2222222222222222,
              "#7201a8"
             ],
             [
              0.3333333333333333,
              "#9c179e"
             ],
             [
              0.4444444444444444,
              "#bd3786"
             ],
             [
              0.5555555555555556,
              "#d8576b"
             ],
             [
              0.6666666666666666,
              "#ed7953"
             ],
             [
              0.7777777777777778,
              "#fb9f3a"
             ],
             [
              0.8888888888888888,
              "#fdca26"
             ],
             [
              1,
              "#f0f921"
             ]
            ],
            "type": "surface"
           }
          ],
          "table": [
           {
            "cells": {
             "fill": {
              "color": "#EBF0F8"
             },
             "line": {
              "color": "white"
             }
            },
            "header": {
             "fill": {
              "color": "#C8D4E3"
             },
             "line": {
              "color": "white"
             }
            },
            "type": "table"
           }
          ]
         },
         "layout": {
          "annotationdefaults": {
           "arrowcolor": "#2a3f5f",
           "arrowhead": 0,
           "arrowwidth": 1
          },
          "autotypenumbers": "strict",
          "coloraxis": {
           "colorbar": {
            "outlinewidth": 0,
            "ticks": ""
           }
          },
          "colorscale": {
           "diverging": [
            [
             0,
             "#8e0152"
            ],
            [
             0.1,
             "#c51b7d"
            ],
            [
             0.2,
             "#de77ae"
            ],
            [
             0.3,
             "#f1b6da"
            ],
            [
             0.4,
             "#fde0ef"
            ],
            [
             0.5,
             "#f7f7f7"
            ],
            [
             0.6,
             "#e6f5d0"
            ],
            [
             0.7,
             "#b8e186"
            ],
            [
             0.8,
             "#7fbc41"
            ],
            [
             0.9,
             "#4d9221"
            ],
            [
             1,
             "#276419"
            ]
           ],
           "sequential": [
            [
             0,
             "#0d0887"
            ],
            [
             0.1111111111111111,
             "#46039f"
            ],
            [
             0.2222222222222222,
             "#7201a8"
            ],
            [
             0.3333333333333333,
             "#9c179e"
            ],
            [
             0.4444444444444444,
             "#bd3786"
            ],
            [
             0.5555555555555556,
             "#d8576b"
            ],
            [
             0.6666666666666666,
             "#ed7953"
            ],
            [
             0.7777777777777778,
             "#fb9f3a"
            ],
            [
             0.8888888888888888,
             "#fdca26"
            ],
            [
             1,
             "#f0f921"
            ]
           ],
           "sequentialminus": [
            [
             0,
             "#0d0887"
            ],
            [
             0.1111111111111111,
             "#46039f"
            ],
            [
             0.2222222222222222,
             "#7201a8"
            ],
            [
             0.3333333333333333,
             "#9c179e"
            ],
            [
             0.4444444444444444,
             "#bd3786"
            ],
            [
             0.5555555555555556,
             "#d8576b"
            ],
            [
             0.6666666666666666,
             "#ed7953"
            ],
            [
             0.7777777777777778,
             "#fb9f3a"
            ],
            [
             0.8888888888888888,
             "#fdca26"
            ],
            [
             1,
             "#f0f921"
            ]
           ]
          },
          "colorway": [
           "#636efa",
           "#EF553B",
           "#00cc96",
           "#ab63fa",
           "#FFA15A",
           "#19d3f3",
           "#FF6692",
           "#B6E880",
           "#FF97FF",
           "#FECB52"
          ],
          "font": {
           "color": "#2a3f5f"
          },
          "geo": {
           "bgcolor": "white",
           "lakecolor": "white",
           "landcolor": "#E5ECF6",
           "showlakes": true,
           "showland": true,
           "subunitcolor": "white"
          },
          "hoverlabel": {
           "align": "left"
          },
          "hovermode": "closest",
          "mapbox": {
           "style": "light"
          },
          "paper_bgcolor": "white",
          "plot_bgcolor": "#E5ECF6",
          "polar": {
           "angularaxis": {
            "gridcolor": "white",
            "linecolor": "white",
            "ticks": ""
           },
           "bgcolor": "#E5ECF6",
           "radialaxis": {
            "gridcolor": "white",
            "linecolor": "white",
            "ticks": ""
           }
          },
          "scene": {
           "xaxis": {
            "backgroundcolor": "#E5ECF6",
            "gridcolor": "white",
            "gridwidth": 2,
            "linecolor": "white",
            "showbackground": true,
            "ticks": "",
            "zerolinecolor": "white"
           },
           "yaxis": {
            "backgroundcolor": "#E5ECF6",
            "gridcolor": "white",
            "gridwidth": 2,
            "linecolor": "white",
            "showbackground": true,
            "ticks": "",
            "zerolinecolor": "white"
           },
           "zaxis": {
            "backgroundcolor": "#E5ECF6",
            "gridcolor": "white",
            "gridwidth": 2,
            "linecolor": "white",
            "showbackground": true,
            "ticks": "",
            "zerolinecolor": "white"
           }
          },
          "shapedefaults": {
           "line": {
            "color": "#2a3f5f"
           }
          },
          "ternary": {
           "aaxis": {
            "gridcolor": "white",
            "linecolor": "white",
            "ticks": ""
           },
           "baxis": {
            "gridcolor": "white",
            "linecolor": "white",
            "ticks": ""
           },
           "bgcolor": "#E5ECF6",
           "caxis": {
            "gridcolor": "white",
            "linecolor": "white",
            "ticks": ""
           }
          },
          "title": {
           "x": 0.05
          },
          "xaxis": {
           "automargin": true,
           "gridcolor": "white",
           "linecolor": "white",
           "ticks": "",
           "title": {
            "standoff": 15
           },
           "zerolinecolor": "white",
           "zerolinewidth": 2
          },
          "yaxis": {
           "automargin": true,
           "gridcolor": "white",
           "linecolor": "white",
           "ticks": "",
           "title": {
            "standoff": 15
           },
           "zerolinecolor": "white",
           "zerolinewidth": 2
          }
         }
        },
        "title": {
         "text": "Valoración"
        },
        "width": 1000,
        "xaxis": {
         "anchor": "y",
         "categoryarray": [
          "whistler-blackcomb",
          "arabba",
          "vail",
          "snowmass",
          "KitzSki – Kitzbühel/Kirchberg",
          "Ischgl/Samnaun – Silvretta Arena",
          "SkiWelt Wilder Kaiser-Brixental",
          "St. Anton/St. Christoph/Stuben/Lech/Zürs/Warth/Schröcken – Ski Arlberg",
          "Serfaus-Fiss-Ladis",
          "Arosa Lenzerheide",
          " Val Gardena (Gröden)",
          "St. Moritz – Corviglia",
          "Zillertal Arena – Zell am Ziller/Gerlos/Königsleiten/Hochkrimml",
          "Saalbach Hinterglemm Leogang Fieberbrunn (Skicircus)",
          " Schladming – Planai/​Hochwurzen/​Hauser Kaibling/​Reiteralm (4-Berge-Skischaukel)",
          "Sölden",
          "Kaltenbach – Hochzillertal/Hochfügen (SKi-optimal)",
          "Mayrhofen – Penken/Ahorn/Rastkogel/Eggalm",
          "Silvretta Montafon",
          "Madonna di Campiglio/Pinzolo/Folgàrida/Marilleva",
          "Les 3 Vallées – Val Thorens/Les Menuires/Méribel/Courchevel",
          "Tignes/Val d'Isère",
          " Kronplatz (Plan de Corones)",
          "Laax/Flims/Falera",
          "Gurgl – Obergurgl-Hochgurgl",
          " Obertauern",
          "Matterhorn",
          " Hochkönig – Maria Alm/Dienten/Mühlbach",
          ". Snow Space Salzburg – Flachau/Wagrain/St. Johann-Alpendorf",
          " Bad Gastein/Bad Hofgastein – Schlossalm/Angertal/Stubnerkogel",
          "Schmittenhöhe – Zell am See",
          "catedral-alta-patagonia",
          " Wildkogel – Neukirchen/Bramberg",
          " Latemar – Obereggen/Pampeago/Predazzo",
          "Grandvalira – Pas de la Casa/Grau Roig/Soldeu/El Tarter/Canillo/Encamp",
          "Kitzsteinhorn/Maiskogel – Kaprun",
          "Adelboden/Lenk – Chuenisbärgli/Silleren/Hahnenmoos/Metsch",
          "Andermatt/Oberalp/Sedrun",
          " Aletsch Arena – Riederalp/Bettmeralp/Fiesch Eggishorn",
          "La Plagne (Paradiski)",
          "Serre Chevalier – Briançon/Chantemerle/Villeneuve-la-Salle/Le Monêtier-les-Bains",
          "Les 2 Alpes",
          "Titlis – Engelberg",
          " Scuol – Motta Naluns",
          "Les Portes du Soleil – Morzine/Avoriaz/Les Gets/Châtel/Morgins/Champéry",
          ". Levi",
          " La Molina/Masella – Alp2500",
          "4 Vallées – Verbier/La Tzoumaz/Nendaz/Veysonnaz/Thyon",
          " 3 Zinnen Dolomites – Helm/Stiergarten/Rotwand/Kreuzbergpass",
          " Katschberg",
          ". Turracher Höhe",
          ". Alpe di Siusi (Seiser Alm)",
          "Livigno",
          "red-mountain-resort-rossland",
          ". Alta Badia",
          " Klausberg – Skiworld Ahrntal",
          "Saint-Lary-Soulan",
          "Ponte di Legno/Tonale/Presena Glacier/Temù (Pontedilegno-Tonale)",
          "Parsenn (Davos Klosters)",
          "Kleine Scheidegg/Männlichen – Grindelwald/Wengen",
          " Nassfeld – Hermagor",
          " Gitschberg Jochtal",
          "Alpe d'Huez",
          "Obersaxen/Mundaun/Val Lumnezia",
          "Flumserberg",
          " Nauders am Reschenpass – Bergkastel",
          "Großglockner Resort Kals-Matrei",
          ". Steinplatte/Winklmoosalm – Waidring/Reit im Winkl",
          "Damüls Mellau",
          " Ski Juwel Alpbachtal Wildschönau",
          "Jakobshorn (Davos Klosters)",
          " Kopaonik",
          " Speikboden – Skiworld Ahrntal",
          " Passo San Pellegrino/Falcade",
          " Belvedere/Col Rodella/Ciampac/Buffaure – Canazei/Campitello/Alba/Pozza di Fassa",
          "Via Lattea – Sestriere/Sauze d’Oulx/San Sicario/Claviere/Montgenèvre",
          " Carezza",
          " Belpiano (Schöneben)/Malga San Valentino (Haideralm)",
          " Trysil",
          " Baqueira/Beret",
          " Bansko",
          "Les Arcs/Peisey-Vallandry (Paradiski)",
          "Le Grand Massif – Flaine/Les Carroz/Morillon/Samoëns/Sixt",
          ". Paganella – Andalo",
          "Arabba/Marmolada",
          " Espace Diamant – Les Saisies/Notre-Dame-de-Bellecombe/Praz sur Arly/Flumet/Crest-Voland",
          "Corvatsch/Furtschellas",
          "Megève/Saint-Gervais",
          " Kühtai",
          " Stubai Glacier (Stubaier Gletscher)",
          " Großarltal/Dorfgastein",
          " Zauchensee/Flachauwinkl",
          "Hemsedal",
          "fernie",
          " Cerler",
          ". Ruka",
          " Åre",
          ". Pyhä",
          ". Ylläs",
          ". Hafjell",
          "telluride",
          " Les Sybelles – Le Corbier/La Toussuire/Les Bottières/St Colomban des Villards/St Sorlin/St Jean d’Arves",
          "Cortina d'Ampezzo",
          "panorama",
          "silver-star",
          "sun-peaks",
          "sunshine-village",
          ". San Martino di Castrozza",
          ". Racines-Giovo (Ratschings-Jaufen)/Malga Calice (Kalcheralm)",
          ". Folgaria/Fiorentini",
          ". Civetta – Alleghe/Selva di Cadore/Palafavera/Zoldo",
          " Plose – Brixen (Bressanone)",
          "Alagna Valsesia/Gressoney-La-Trinité/Champoluc/Frachey (Monterosa Ski)",
          ". Alpe Lusia – Moena/Bellamonte",
          " Peyragudes",
          "mont-tremblant",
          "winter-park-resort",
          "squaw-valley",
          "mammoth-mountain",
          "keystone",
          "heavenly",
          "breckenridge",
          "beaver-creek",
          "aspen-highlands",
          " Les Angles",
          "Jasná Nízke Tatry – Chopok",
          "Formigal",
          "big-white",
          ". Radstadt/Altenmarkt",
          "lake-louise",
          " Galtür – Silvapark",
          " Dachstein West – Gosau/Russbach/Annaberg",
          " First – Grindelwald",
          " Saas-Fee",
          "Tauplitz – Bad Mitterndorf",
          " Hochzeiger – Jerzens",
          ". St. Johann in Tirol/Oberndorf – Harschbichl",
          " Hintertux Glacier (Hintertuxer Gletscher)",
          " Golm",
          ". Rinderberg/Saanerslochgrat/Horneggli – Zweisimmen/Saanenmöser/Schönried/St. Stephan",
          " Lermoos – Grubigstein",
          ". Almenwelt Lofer",
          " Kvitfjell",
          "espace-san-bernardo-la-rosierela-thuile",
          "le-grand-domaine-valmoreldoucycelliersst-francois-longchamp",
          "varsrisoul-la-foret-blanche",
          "mt-buller",
          "perisher",
          " Stoos – Fronalpstock/Klingenstock",
          " Kreischberg",
          " Hochoetz – Oetz",
          ". Idre Fjäll",
          ". Hemavan",
          ". Sillian – Thurntaler (Hochpustertal)",
          " Hinterstoder – Höss",
          " Fellhorn/Kanzelwand – Oberstdorf/Riezlern",
          ". Spieljoch – Fügen",
          "shigakogen-mountain-resort",
          "espace-lumiere-pra-loupval-dallos",
          "espace-villard-correncon-villard-de-lanscorrencon-en-vercors",
          "la-clusazmanigod",
          "les-7-laux-prapoutelle-pleynetpipay",
          "val-cenis-lanslevillardlanslebourgtermignon",
          ". St. Jakob im Defereggental – Brunnalm",
          ". Hohsaas – Saas-Grund",
          ". Alpe Cermis – Cavalese",
          ". Monte Bondone",
          ". Ladurns",
          ". Ehrwalder Alm – Ehrwald",
          ". Brandnertal – Brand/Bürserberg",
          " Riesneralm – Donnersbachwald",
          " Bad Kleinkirchheim",
          "Axamer Lizum",
          ". Pitztal Glacier (Pitztaler Gletscher)",
          " Pizol – Bad Ragaz/Wangs",
          "les-contamineshauteluce",
          ". Tandådalen/Hundfjället (Sälen)",
          "grimentzzinal",
          " Brigels/Waltensburg/Andiast",
          " Meiringen-Hasliberg",
          "Lauchernalp – Lötschental",
          ". Myrkdalen",
          " Hoch-Ybrig – Unteriberg/Oberiberg",
          "falls-creek",
          " Garmisch-Classic – Garmisch-Partenkirchen",
          ". Pejo 3000",
          ". Rosskopf (Monte Cavallo) – Sterzing (Vipiteno)",
          " Sulden am Ortler (Solda all'Ortles)",
          ". Hörnerbahn – Bolsterlang",
          ". Meran 2000",
          " Val Senales Glacier (Schnalstaler Gletscher)",
          " Schwemmalm",
          ". Catinaccio/Ciampedie – Vigo di Fassa/Pera di Fassa",
          ". Rauriser Hochalmbahnen – Rauris",
          " Gargellen",
          ". Berwang/Bichlbach/Rinnen",
          " Moelltal Glacier (Mölltaler Gletscher)",
          ". Grosseck/Speiereck – Mauterndorf/St. Michael",
          ". Flachauwinkl/Kleinarl (Shuttleberg)",
          ". Gerlitzen",
          " Kappl",
          " Borovets",
          ". Lachtal",
          "Kaunertal Glacier (Kaunertaler Gletscher)",
          ". Bergeralm – Steinach am Brenner",
          ". Christlum – Achenkirch",
          ". Jahorina",
          ". Špindlerův Mlýn",
          ". Lindvallen/Högfjället (Sälen)",
          ". Dundret Lapland – Gällivare",
          ". Arber",
          " Elm im Sernftal",
          ". Hovden",
          ". Geilo",
          ". Ofterschwang/Gunzesried – Ofterschwanger Horn",
          " Nebelhorn – Oberstdorf",
          ". Söllereck – Oberstdorf",
          ". Schlick 2000 – Fulpmes",
          " See",
          " Loser – Altaussee",
          " Madrisa (Davos Klosters)",
          ". Filzmoos",
          " Ifen",
          ". Oberjoch (Bad Hindelang) – Iseler",
          " Diedamskopf – Schoppernau",
          "sierra-nevada-pradollano",
          " Crans-Montana",
          " Grand Tourmalet/Pic du Midi – La Mongie/Barèges",
          "Disentis",
          " Isola 2000",
          ". Les Houches/Saint-Gervais – Prarion/Bellevue (Chamonix)",
          "Schilthorn – Mürren/Lauterbrunnen",
          "Brévent/Flégère (Chamonix)",
          ". Pal/Arinsal – La Massana (Vallnord)",
          ". Sudelfeld – Bayrischzell",
          ". Pfelders (Moos in Passeier)",
          ". Pamporovo",
          "bardonecchia",
          ". Reinswald (San Martino in Sarentino)",
          " Auron (Saint-Etienne-de-Tinée)",
          "les-orres",
          "devoluy-superdevoluyla-joue-du-loup",
          "chamrousse",
          ". Savognin",
          "mont-sainte-anne-beaupre",
          "thredbo",
          "Diavolezza/Lagalb",
          ". Vogel – Bohinj",
          ". Skeikampen – Gausdal",
          "Gemsstock – Andermatt",
          " Grüsch Danusa",
          ". Zuoz – Pizzet/Albanas",
          " Rosa Khutor",
          ". Szczyrk Mountain Resort",
          ". Vemdalsskalet",
          " Kolašin 1450/Kolašin 1600",
          "alto-sangro-roccarasorivisondoli",
          "orcieres-merlette-1850",
          ". Patscherkofel – Innsbruck-Igls",
          ". Hochficht",
          ". Rosshütte – Seefeld",
          "Grossglockner Heiligenblut",
          "Sportgastein",
          ". Mönichkirchen/Mariensee",
          ". Glungezer – Tulfes",
          ". Zettersfeld – Lienz",
          ". Brauneck – Lenggries/Wegscheid",
          "egglila-videmanette-gstaadsaanenrougemont",
          ". Spitzingsee-Tegernsee",
          "belalp-blatten",
          ". Venet – Landeck/Zams/Fliess",
          "villarsgryonles-diablerets",
          " Splügen – Tambo",
          " Bellwald",
          "ax-3-domaines-ax-les-thermes",
          ". Rinerhorn (Davos Klosters)",
          " Sonnenkopf – Klösterle",
          " Gaustablikk – Rjukan",
          ". Hochkössen (Unterberghorn) – Kössen",
          ". Vent",
          " Weissee Gletscherwelt – Uttendorf",
          " Rifflsee",
          "le-grand-bornand",
          ". Werfenweng",
          ". Malbun",
          "les-portes-du-mont-blanc-comblouxmegeve-le-jailletla-giettaz",
          "puy-saint-vincent",
          "valfrejus",
          "Grands Montets – Argentière (Chamonix)",
          ". Feldberg – Seebuck/Grafenmatt/Fahl",
          ". Tatranská Lomnica",
          ". Nesselwang – Alpspitze (Alpspitzbahn)",
          "apex-resort",
          ". Krvavec",
          "Ordino Arcalís",
          ". Watles – Malles Venosta (Mals)",
          " Bormio – Cima Bianca",
          "mondole-ski-artesinafrabosa-sopranaprato-nevoso",
          "mount-washington",
          ". Walmendingerhorn/Heuberg – Mittelberg/Hirschegg",
          ". Wurzeralm – Spital am Pyhrn",
          ". Muttereralm – Mutters/Götzens",
          ". Biberwier – Marienberg",
          " Riksgränsen",
          ". Jenner – Schönau am Königssee",
          "bukovel",
          "la-norma",
          "piau-engaly",
          "valbergbeuil-les-launes",
          "erciyes-kayseri",
          ". Grächen",
          "anzere",
          ". Lavarone",
          "aprica",
          " Bürchen/Törbel – Moosalp",
          "betelberg-lenk",
          "saint-lucchandolin-anniviers",
          "soerenberg-rothorndorf",
          "toggenburg-wildhausunterwasseralt-st-johann",
          "aussois",
          "las-lenas",
          ". Białka Tatrzańska – Kotelnica/Kaniówka/Bania",
          ". Donovaly (Park Snow)",
          "areches-beaufort",
          "goldeck-spittal-an-der-drau",
          ". Winterberg (Skiliftkarussell)",
          ". Balderschwang – Hochschelpen/Riedberger Horn",
          ". Mitterdorf (Almberg) – Mitterfirmiansreut",
          ". Alpenpark Neuss (indoor ski area)",
          "sainte-foy-tarentaise",
          ". Grasgehren – Bolgengrat",
          ". Oslo – Tryvann (Skimore)",
          ". Gålå",
          "voss-resort",
          ". Fichtelberg – Oberwiesenthal",
          ". Keilberg (Klínovec)",
          "luz-ardiden",
          "les-karellis",
          "super-sauze",
          ". Hahnenkamm – Höfen/Reutte",
          ". Ramsau am Dachstein – Rittisberg",
          ". Jöchelspitze – Bach",
          ". Grebenzen – St. Lambrecht",
          " Ankogel – Mallnitz",
          ". Feuerkogel – Ebensee",
          ". Fanningberg",
          "happo-one-hakuba",
          "riserva-bianca-limone-piemonte",
          "pila",
          "cimone-montecretosestolale-polle",
          ". Laterns – Gapfohl",
          ". Buchensteinwand (Pillersee) – St. Ulrich am Pillersee/St. Jakob in Haus/Hochfilzen",
          ". Monte Popolo – Eben im Pongau",
          ". Tärnaby",
          ". Götschen – Bischofswiesen",
          ". Snow Dome Bispingen (indoor ski area)",
          ". Oberaudorf – Hocheck",
          ". Ochsenkopf",
          "charmey",
          ". Lipno",
          "boi-tauell",
          "les-marecottes-salvan",
          "leysin",
          "melchsee-frutt-kerns",
          "ovronnaz",
          "vercorin",
          " Vals 3000 – Dachberg",
          ". Santa Caterina Valfurva",
          "valchiavenna-madesimocampodolcino",
          "courmayeur-checrouitval-veny",
          "abetoneval-di-luce",
          "st-jean-montclar",
          "porte-puymorens",
          "le-seignus",
          "le-lioran",
          "font-romeubolquere-pyrenees-2000",
          "mount-parnassos-fterolakkakellaria",
          ". SnowWorld Landgraaf (indoor ski area)",
          ". Gazprom Mountain Resort",
          "zao-onsen",
          "gourette-eaux-bonnes",
          "san-domenico-alpe-ciamporino",
          ". Rangger Köpfl – Oberperfuss",
          ". Jungholz",
          "whitewater-nelson",
          "el-coloradofarellones",
          "Nordkette – Innsbruck",
          ". Gschwandtkopf – Seefeld",
          ". Zauberberg Semmering",
          "appi-kogen",
          ". Vitosha/Aleko – Sofia",
          "alpe-du-grand-serre-la-morte",
          "tschiertschen",
          "markbachjochlanerkoepfl-niederau",
          "innerkrems-kremsbruecke-krems-in-kaernten",
          "hirmentazles-haberes-bellevauxhabere-poche",
          ". Leukerbad",
          "glacier-3000-les-diablerets",
          "wasserngrat-gstaad",
          "stuhleck-spital-am-semmering",
          "montecampione-alpiazprato-secondinoplan-di-montecampione",
          "mythenregion",
          "la-berra-la-roche",
          "cari",
          "braunwald",
          "bosco-gurin-grossalp",
          ". Beitostølen",
          "strandafjellet",
          "nozawa-onsen",
          ". Babin Do – Bjelašnica",
          ". Štrbské Pleso",
          "lelexcrozet",
          "le-lys-cauterets",
          "praz-de-lyssommand-taningesmieussy",
          "thollon-les-memises",
          "nara-leontica",
          "mount-hotham",
          "st-pierre-de-chartreuse-le-planolet",
          "panticosa",
          "kanin-sella-neveabovec",
          "mariborsko-pohorje-maribor",
          "campo-felice-rocca-di-cambio",
          "zoncolan-ravasclettosutrio",
          "chapelco",
          "tarvisio-monte-lussari",
          "port-del-comte",
          "pragelato",
          ". Kolbensattel – Oberammergau",
          "piani-di-bobbio",
          "candanchu",
          "astun",
          "espot-esqui",
          ". Willingen – Ettelsberg",
          "taenndalen",
          ". San Vito di Cadore",
          "cardrona",
          "rusutsu",
          "valle-nevado",
          "rittner-horn-corno-del-renon-ritten-renon",
          "lofsdalen",
          "alpine-meadows",
          "niseko-united-annapurigrand-hirafuhanazononiseko-village",
          "arapahoe-basin",
          "romme-alpin",
          "torgnon",
          "klaeppen",
          "branaes",
          "mt-hutt",
          "whakapapa",
          "valmalenco-alpe-palu",
          "bromont",
          "nevis-range",
          "nevados-de-chillan",
          "cypress-mountain",
          "castle-mountain",
          "naeba-mt-naeba",
          "port-aine",
          "norefjell",
          "champorcher",
          "valdezcaray",
          "revelstoke-mountain-resort",
          ". Mechi Chal – Chepelare",
          "abries",
          "palandoeken-ejder-3200-world-ski-center",
          ". Bláfjöll",
          "whiteface-lake-placid",
          "nakiska",
          "stowe",
          "cerkno",
          "stari-vrh",
          "antagnod",
          "foppolocarona-brembo-ski",
          "piana-di-vigezzo-craveggiasanta-maria-maggiore",
          "lagazuoi5-torri-passo-giaupasso-falzarego",
          "lorica",
          "macugnaga",
          "monte-magnola-ovindoli",
          "sinaia",
          "sierra-at-tahoe",
          "loveland",
          "mount-hermon-neve-ativ",
          "la-pinilla",
          "padola-ski-area-comelico",
          "bolton-valley",
          "aspen-mountain",
          "buttermilk-mountain",
          "artouste",
          "kaisereggriggisalp-schwarzsee",
          "marmot-basin-jasper",
          "le-mont-dore",
          ". Postwiesen Skidorf – Neuastenberg",
          "les-brasses",
          ". Geißkopf – Bischofsmais",
          "mont-blanc",
          "luchon-superbagneres",
          ". Pröller Skidreieck (St. Englmar)",
          "metabief",
          "pralognan-la-vanoise",
          "mont-saint-sauveur",
          "roc-denfer-st-jean-daulps-la-grande-terchebellevaux-la-chevrerie",
          "superbesse-puy-de-sancy",
          ". Kristberg – Silbertal",
          ". Reith bei Kitzbühel",
          ". Schetteregg – Egg",
          ". Neunerköpfle – Tannheim",
          ". Füssener Jöchle – Grän",
          "san-bernardino",
          "pesciuem-airolo",
          "nax-mont-noble",
          "la-braye-chateau-doex",
          "klewenalpstockhuette-beckenriedemmetten",
          "jaun",
          "evolene",
          "brambrueeschdreibuendenstein-chur",
          "le-collet-dallevard",
          ". Zugspitze",
          "la-colmiane",
          "petzen-feistritz-ob-bleiburg",
          "guzet",
          "gerardmer-la-mauselaine",
          "bonneval-sur-arc",
          "kasberg-gruenau-im-almtal",
          "kimberley",
          "kicking-horse-golden",
          "kitzbueheler-horn",
          "balmeles-autannes-vallorcinele-tour",
          "praebichl-vordernberg",
          "hoch-imst-imst",
          "le-massif-de-charlevoix",
          "huendlethalkirchdorf-oberstaufen",
          "hudson-bay-mountain-smithers",
          "cima-piazzisan-colombano-isolacciaoga",
          "wispile-gstaad",
          "bjorli",
          "oeschinensee-kandersteg",
          "moleson",
          "marbach-marbachegg",
          "giw-visperterminen",
          "elsigen-metsch-frutigen",
          "darlux-berguen",
          "glencoe-mountain",
          "glenshee",
          "cerna-hora-janske-lazne",
          "horni-domky-lysa-hora",
          "gautefall",
          ". Passo dello Stelvio (Stelvio Pass)",
          "steibis-imberg-oberstaufen",
          "crevacol",
          "campitello-matese",
          "altopiano-di-brentonico-polsasan-valentino",
          "alpe-del-nevegal",
          "kobla-bohinj",
          "crissolo-monviso",
          "forni-di-sopra",
          ". Schöneck (Skiwelt)",
          ". Belchen",
          "gran-sasso-campo-imperatore",
          "gressoney-saint-jean-weissmatten",
          "arolla",
          "passo-maniva",
          "piancavallo",
          "sun-mountain-yabuli",
          "valgrande-pajares",
          "alto-campoo",
          "prati-di-tivo",
          "falakro",
          "baranci-haunold-san-candido-innichen",
          "mount-baldy",
          "tornik-zlatibor",
          "kouty-nad-desnou",
          ". Dachstein Glacier (Dachsteingletscher)",
          "arnoldstein-dreilaendereck",
          "reallon",
          "gemeindealpe-mitterbach-am-erlaufsee",
          "hochkar-goestling",
          "karkogel-abtenau",
          "bernex",
          "albiez-montrond",
          "gaissau-hintersee",
          "ceillac-en-queyras",
          "chabanon",
          "gavarniegedre-les-especieres",
          "la-pierre-saint-martin",
          "stoeten",
          "mijouxla-faucille",
          "molines-en-queyrassaint-veran",
          "pelvouxvallouise",
          "la-parva",
          "buergeralpe-mariazell",
          "obertilliach-golzentipp",
          ". Hochstein – Lienz",
          ". Karwendel Bergbahn (Zwölferkopf) – Pertisau",
          ". Rofan – Maurach",
          "galsterberg-pruggern",
          "sainte-anne-la-condamine-la-condamine-chatelard",
          "coronet-peak",
          "ramundberget",
          "roubion-les-buisses",
          "gudauri",
          "puigmal",
          "puerto-navacerrada",
          "lizzola",
          "valdesqui",
          "corno-alle-scale-lizzano-in-belvedere",
          "colere",
          "meaudre",
          "argentera",
          "val-louron",
          "bielmonte",
          "san-isidro-zona-cebolledo",
          "campo-stella-leonessa",
          "alpe-di-mera-scopello",
          "saint-leger-les-melezes",
          "formigueres",
          "hochwang-goldgruben",
          "furano",
          "mont-orford",
          "kranjska-gora",
          "panarotta-2002-valsugana",
          "pescasseroli",
          "kampenwand-aschau-im-chiemgau",
          ". Steckenberg – Unterammergau",
          "czarna-gora-sienna",
          "szklarska-poreba-szrenica",
          "zieleniec",
          " Kasprowy Wierch – Zakopane",
          ". Szymoszkowa",
          "villarrica-pucon",
          "bivio",
          "lake-songhua-resort",
          "meander-skipark-oravice",
          "ruzomberok-skipark",
          "velka-raca",
          "vratna",
          "spiazzi-di-gromo",
          "lessert-abondance",
          "sappada",
          "sampeyre",
          "bugnenets-savagnieres-saint-imier",
          "champex-lac-orsieres",
          "pian-mune-paesana",
          "la-covatilla-sierra-de-bejar",
          "auronzo-di-cadore-monte-agudo",
          "le-semnoz",
          "poiana-brasov",
          "la-robella-buttes-val-de-travers",
          "les-mossesla-lecherette",
          "ceueze-2000-gap",
          "sarn-heinzenberg",
          "le-grand-puy",
          "sattel-hochstuckli",
          "unterbaech-brandalpginals",
          ". Kelchsau",
          "vraadal",
          ". Kellerjoch – Schwaz",
          "planneralm-donnersbach",
          "vassfjellet-klaebutrondheim",
          "la-bresse-hohneck",
          "oetscher-lackenhof-gaming",
          "aillon-le-jeune",
          "brezovica",
          "aillons-margeriaz",
          "klippitztoerl",
          "ancelle",
          "ascou-pailheres",
          "cairngorm-mountain",
          "fendels",
          "audibergue",
          "plesivec-abertamy",
          "autrans-la-sure",
          "boedele-schwarzenberg",
          "chalmazel",
          "col-de-rousset",
          "wiriehorn",
          "kiroro",
          "tschentenalp-adelboden",
          "kloevsjoestorhogna",
          "la-fouly",
          "piazzatorre",
          "bjoernrike",
          "funaesdalsberget",
          "stara-planina-babin-zub",
          "le-mourtis",
          "duvedtegefjaell",
          "bjursaas-ski-center",
          "vasilitsa",
          "stoneham-mountain-resort",
          "bakuriani",
          "uludag-bursa",
          ". Snow Arena – Druskininkai (indoor ski area)",
          "corralco",
          ". Hawrań – Jurgów",
          ". SnowWorld Zoetermeer (indoor ski area)",
          ". Burglift – Stans",
          ". Vigiljoch (Monte San Vigilio) – Lana",
          ". Todtnauberg",
          ". Altastenberg",
          ". Unternberg (Ruhpolding)",
          ". Silberberg – Bodenmais",
          ". Les Planards",
          ". Heutal – Unken",
          "caviahue",
          "cerro-castor",
          "fortress-mountain",
          "espace-dole-la-doleles-tuffes",
          "mitsumatakaguratashiro-mt-naeba",
          "takasu-snow-park",
          "yongpyong-resort",
          "blue-mountain-resort-collingwood",
          "sahoro",
          "koralpe",
          "los-penitentes",
          "les-mont-dolmes",
          "treble-cone",
          "shames-mountain",
          "tschappinaurmein-heinzenberg",
          "rothwaldwasenalp-simplon-pass",
          "antillanca",
          "gala-yuzawaishiuchi-maruyama",
          "wanlong",
          "hautacam",
          "minschuns-val-muestair-tschierv",
          "konakli-ejder-3200-world-ski-center",
          "aomori-spring",
          "portillo",
          "crevoux",
          "lans-en-vercors",
          "aizu-kogen-takatsue",
          "turoa",
          "mt-lyford",
          "fox-peak",
          "gresse-en-vercors",
          "chapa-verde",
          "shahdag-sahdag",
          "shizukuishi",
          "myoko-akakura",
          "rellerli-schoenried",
          "hoshino-resorts-tomamu",
          "amden",
          "fagernessfjellet-narvik",
          "naetschen-andermatt",
          "hachi-kita-kogen",
          "camp-fortune",
          "thaiwoo",
          "high1-resort",
          "shymbulak-chimbulak",
          "puyvalador-rieutord",
          "manning-park",
          "crystal-mountain-westbank",
          "crabbe-mountain",
          "les-rasses-sainte-croix",
          "krippenstein-obertraun",
          "osler-bluff-ski-club",
          "borno-monte-altissimo",
          "alpine-ski-club-collingwood",
          "dizin",
          "fjaetervaalen",
          "arvieux",
          "tufandag",
          "hochrindl-sirnitz",
          "masik-pass",
          "gruentenlifte-kranzegg-rettenberg",
          "marble-mountain-steady-brook-humber-valley",
          "harper-mountain",
          "unterberg-pernitz",
          "mottarone",
          "mount-st-louis-moonstone",
          "mont-sutton",
          "green-park-resort-kartepe",
          "mont-cascades",
          "hassela",
          "tetnuldi-mestia",
          "espace-cambre-daze-eynesaint-pierre-dels-forcats",
          "greolieres-les-neiges",
          "sun-alpina-kashimayari",
          "alberschwende-brueggelekopfdresslerbergtannerberg",
          "moerlialp-giswil",
          "fageralm-forstau",
          "tarscher-alm-malga-di-tarres-latsch-laces",
          "maalselv-fjellandsby",
          "the-lecht",
          "balea-lac",
          "chastreix-puy-de-sancy",
          "seli-ski-area",
          "meiho",
          "krinnenalpe-nesselwaengle",
          "zaarour",
          "brusson-estoul",
          "rueschegg-eywald-lischboden",
          "eischoll",
          "forsteralm-waidhofen-an-der-ybbs",
          "breitenberghochalpe-pfronten",
          "axalp-ob-brienz",
          "la-hoya",
          "vicheres-liddes",
          "genting-resort-secret-garden",
          "val-saint-come",
          "kubinska-hola",
          "engstligenalp-adelboden",
          "saint-michel-de-chaillol",
          "weinebene-frantschach-sankt-gertraud",
          "mont-la-reserve-saint-donat-de-montcalm",
          "mont-avila",
          "mont-orignal-lac-etchemin",
          "aeschiried",
          "cordon",
          "o2-resort-taebaek",
          "le-relais-lac-beauport",
          "passo-rolle-rolle-pass",
          "koenigsberg-hollenstein-an-der-ybbs",
          "phoenix-park",
          "prato-selva",
          "kranzberg-mittenwald",
          "zao-eboshi",
          "kreuzberg-bischofsheim-an-der-rhoen",
          "roeldal",
          "yokoteyama-shibutoge",
          "heidbodme-saas-almagell",
          "hirnkopf-flattnitz-gloednitz",
          "beaver-valley-ski-club",
          "la-forclaz",
          "ryuoo-ski-park",
          "fideriser-heuberge-arflina",
          "lagunillas",
          "camurac",
          "las-araucariasllaima-vilcun",
          "schia-monte-caio",
          "graukogel-bad-gastein",
          "osorno",
          "minakami-houdaigi",
          "canyon-ski-area",
          "wendelstein-brannenburgosterhofen",
          "mittagbahn-immenstadt",
          "wolzenalp-krummenau",
          "font-durle-chaud-clapier",
          "voras-kaimaktsalan",
          "trostyan-mountain",
          "doganaccia-2000-cutigliano",
          "javalambre",
          "les-plans-dhotonnes",
          "hakodate-nanae",
          "tramelan",
          "sarikamis",
          "suomu",
          "val-direne",
          "pec-pod-snezkou",
          "lac-blanc",
          "chelmos-kalavrita",
          "elatochori-katerini",
          "cerro-bayo",
          "cerro-perito-moreno-el-bolson-laderas",
          "niedere-andelsbuchbezau",
          "ak-bulak-talgar",
          "hauteville",
          "hlidarfjall-akureyri",
          "bears-town",
          "dwie-doliny-wierchomla-malaszczawnik-piwniczna-zdrojmuszyna",
          "alpe-teglio-prato-valentino",
          "heidialm-skipark-falkert",
          "massif-de-la-serra-lamoura",
          "antoine-mountain",
          "untersberg-groedig",
          "elfer-neustift",
          "bachledovajezerskofrankova",
          "saefsen",
          "grimmialp",
          "campo-catino",
          "hohentauern",
          "donezan-mijanes",
          "passy-plaine-joux",
          "mont-sereinmont-ventoux-nord",
          "zil",
          "ebenalp-horn-wasserauenschwende",
          "rogla",
          "hakkoda",
          "grandeco-snow-resort",
          "sonnberglifts-wald-am-schoberpass",
          "simonhoehe-st-urban",
          "salzstiegl-hirschegg",
          "rieseralm-obdach",
          "sapporo-kokusai-jozankei-kogen",
          "iso-syoete-pudasjaervi",
          "silk-road",
          "buergeralm-aflenz",
          "oukaimeden",
          "niederalpl-muerzsteg-neuberg-an-der-muerz",
          "himos",
          "emberger-alm-berg-im-drautal",
          "porters",
          "aizu-kogen-daikurayama",
          "la-sambuy-seythenex",
          "3-5-pigadia-naoussa",
          "selvarotonda-cittareale",
          "laye",
          "sassotetto-santa-maria-maddalena",
          "welli-hilli-park",
          "schatzalp-strela",
          "lagoraipasso-brocon-castello-tesino",
          "monesi-di-triora",
          "panichishte",
          "vigla-pisoderiverno-florina",
          "herlikovice-bubakov",
          "cret-benila-combe-la-chapelle-dabondance",
          "annaberg",
          "pescegallo-valgerola",
          "rosswald-brig",
          "dolni-morava-kralicky-sneznik",
          "hodlekve-sogndal",
          "saklikent",
          "etna-nord-linguaglossa",
          "sogn-skisenter",
          "pippu",
          "panorama-area-hachimantai",
          "vallter-2000",
          "jeongseon-alpine-centre",
          "ussita",
          "grong",
          "valdrome",
          "azuga",
          "paseky-nad-jizerou",
          ". Sternstein – Bad Leonfelden",
          "villar-darene",
          "jested-liberec",
          "sky-resort-ulaanbaatar",
          "vlasic",
          "ventron",
          "selwyn-snowfields",
          "arnsberg",
          "serre-eyraud-orcieres",
          "dragobrat",
          "krasiya",
          "le-markstein",
          "prat-peyrot-mont-aigoual",
          "isafjoerdur",
          "massif-du-noirmont-les-rousses",
          "adelharz-and-breitensteinlifts-kranzegg-rettenberg",
          "brunnalmhohe-veitsch-veitsch-st-barbara-im-muerztal",
          "valdelinares-sierra-de-gudar",
          "mount-baw-baw",
          "laguiole",
          "tegelberg-schwangau",
          "skagahoegdi-gol",
          "geilolia-kikut-geilo",
          "bozi-dar-neklid",
          "muenstertal-wieden",
          "aal-skisenter",
          "valdres-alpinsenter",
          "salla",
          "ramzova-bonera-serak",
          "buron-wertach",
          "kaabdalis",
          "manzaneda",
          "pilsko-korbielow",
          "sachticky",
          "charlotte-pass",
          "kope",
          "raudalen-alpinsenteret",
          "la-feclaz",
          "skalka",
          "zwoelferhorn-st-gilgen",
          "faschina-fontanella",
          "kashka-suu",
          "okushiga-kogen",
          "okuibuki",
          "nomugi-pass-nomugitoge",
          "neusell-rothenthurm-biberegg",
          "rigi",
          "rossberg-oberwil",
          "hidaka-kokusai",
          "grand-sunpia-inawashiro",
          "gassan-glacier",
          "edelweiss",
          "chateau-shiozawa",
          "biwako-valley",
          "wentworth",
          "duolemeidi-mountain-resort-chongli",
          "toguz-bulak",
          "ryokufu-resort",
          ". Wurmberg – Braunlage",
          "ala-di-stura",
          "asahi-tengston",
          "ani-mt-moriyoshi",
          "chamois",
          "cogne-gran-paradiso",
          "aizu-kogen-nango",
          "adatara-kogen-resort",
          "eremo-di-monte-carpegna",
          "febbio-2000-monte-cusna",
          "furkel-trafoi-stilfs",
          "haider-alm-st-valentin-auf-der-haide-san-valentino-alla-muta",
          "monte-amiata",
          "monte-baldo-malcesinepra-alpesina",
          "pine-beak-sugadaira-kogen",
          "labbaye",
          "monte-terminillo",
          "grouse-mountain",
          "zahmer-kaiser-walchsee",
          "wetterstein-lifts-wettersteinbahnen-ehrwald",
          "mont-farlagne",
          "mont-garceau",
          "mont-grand-fonds",
          "mont-rigaud",
          "mont-saint-mathieu",
          "mont-ste-marie",
          "mount-seymour",
          "schwabenbergarena-turnau",
          "schuttannen-hohenems",
          "mount-sima",
          "mt-norquay-banff",
          "hemlock-valley",
          "georgian-peaks-club",
          "schattwaldzoeblen",
          "fairmont-hot-springs",
          "brunni-engelberg",
          "bumbach-schangnau",
          "dent-de-vaulion-le-morez",
          "feldis",
          "ochapowace",
          "ben-eoin",
          "asessippi",
          "yuzawa-kogen-nunoba",
          "jaunpass-boltigen",
          "jeizinen-feselalp-gampelsteg",
          "kerenzerberg-filzbach",
          "kiental",
          "shimokura-area-hachimantai",
          "davraz-mountain-resort-isparta",
          ". Hörnle – Bad Kohlgrub",
          "recoaro-mille",
          "hochhaederich-hittisau",
          "manganui-mount-taranaki",
          "mount-olympus",
          "scanno-monte-rotondo",
          "san-simone-brembo-ski",
          "mt-dobson",
          "kirchdorf",
          "broken-river-ski-field",
          "temple-basin",
          "the-remarkables",
          "st-gree-di-viola",
          "gerlossteinramsberg-hainzenberg",
          "abali-van",
          "pievepelago-santannapelago",
          "passo-lanciano",
          "koetschach-mauthen-vorhegg",
          "goderdzi-resort",
          "hyounosen-kokusai",
          "sollegg-appenzell",
          "hunter-mountain-shiobara",
          "pustevny-trojanovice",
          "leitariegos",
          "selital-schwarzenbuehl",
          "oropa-biella",
          "fuentes-de-invierno",
          "kralicak-hyncice-pod-susinoustribrnice",
          "iizuna-kogen",
          "imajyo-365",
          "jeunesse-kurikoma",
          "harghita-bai",
          "katashina-kogen-resort",
          "ichinose-family-resort",
          "los-puquios",
          "presolana",
          "raggal",
          "soriska-planina",
          "pintura-bolognola",
          "wapiti-ski-hill-elkford",
          "javornik",
          "golte",
          "bela-komarna-vas",
          "postalm-am-wolfgangsee",
          "vrchlabi-knezicky-vrch",
          "echo-valley",
          "luosto",
          "tanvaldsky-spicak",
          "saariselkae",
          "spicak",
          "moiwa",
          "champ-du-feu",
          "ciao-ontake-snow-resort",
          "minenohara-kogen",
          "les-pleiades",
          "certova-hora-harrachov",
          "spieserlifte-unterjoch",
          "rossfeld-berchtesgaden-oberau",
          "orava-snow-oravska-lesna",
          "clearwater",
          "skipark-racibor-oravsky-podzamok",
          "biel-kinzig-buerglen",
          "atzmaennig-goldingen",
          "hochmoos-leutasch",
          "hidden-valley-ab",
          "hochkeil-am-hochkoenig",
          "sonntag-stein",
          "stoderzinken-groebming",
          "mont-avalanche",
          "kamiskotia",
          "wunderwiese-puchberg-am-schneeberg",
          "zinkenlifte-duerrnberg-hallein",
          "janovky-milotin-zuberec",
          "spitzenbergkoepfle-innerlehen-bernau-im-schwarzwald",
          "cerny-dul",
          "calabogie-peaks",
          "bukova-hora-cenkovicecervena-voda",
          "bleymard-mont-lozere",
          "numajiri",
          "sjusjoeen",
          "oze-tokura",
          "siarena-epleny",
          "parang",
          "yamaboku-yamada-bokujo",
          "habkern-sattelegg",
          "galtis-arjeplog",
          "jaervsoe",
          "kungsberget",
          "zao-sumikawa",
          "vallefura-pescocostanzo",
          "zum-zeri-passo-dei-due-santi",
          "whispering-pines-worsley",
          "aichelberglifts-karlstift-bad-grosspertholz",
          "vall-de-nuria",
          "daemyung-vivaldi-park",
          "menthieres",
          "jisan-forest-resort",
          "suusamir-too-ashu-pass",
          "schnepfenried",
          "colle-di-joux",
          "jaworzyna-krynicka",
          "skalafell",
          "konjiam-resort",
          "rouge-gazon",
          "lammeralm-langenwang",
          "mont-ventoux-sud",
          "plai",
          "pylypets",
          "grand-ballon",
          "le-revard",
          "pian-delle-betulle-margno",
          "jochgrimm-passo-oclini",
          "le-gaschney-petit-hohneck",
          "monte-livata-subiaco-monna-dellorso",
          "tymfristos-velouchi",
          "transalpina-vidravoineasa",
          "skipark-erika-kojsovska-hola",
          "mont-saxonnex",
          "col-de-porte",
          "etna-southnicolosi",
          "passo-fedaia-pian-dei-fiacconi-marmolada",
          "herzogstand-walchensee",
          "bodrostkartala",
          "saint-hilaire-du-touvet",
          "schilt-mollis",
          "sniezka-karpacz",
          "bazora-gurtisfrastanz",
          "sunnbueel-kandersteg",
          "joelster-skisenter",
          "ardahan-yalnizcam",
          "rigi-scheideggburggeist",
          "la-grave-la-meije",
          "asahidake",
          "serles-mieders",
          "monte-piselli-san-giacomo",
          "niederhorn-beatenberg",
          "radusa",
          "yanaba-parallel",
          "isaberg-hestra",
          "yuzawa-park",
          "heiden-bischofsberg",
          "igrista-vlasenica",
          "le-reposoir-village",
          "yuzawa-nakazato",
          "podobovets",
          "hemberg",
          "vestvatn",
          "wakasugi-kogen-oya",
          "ojiro",
          "dagali-fjellpark",
          "tylicz",
          "fonna-glacier-ski-resort",
          "bublava-bleiberg",
          "wegierski-brenna",
          "bila",
          "madarasi-hargita",
          "hummelfjell",
          "benecko",
          "rena",
          "wakabuna-kogen",
          "lorient",
          "linden-schindelberg",
          "solheisen-skisenter",
          "oak-valley",
          "le-brassus",
          "shirakabako-royal-hill",
          "suhara-ski-resort",
          "le-tanet",
          "piane-di-mocogno",
          "gspon-staldenried",
          "brimacombe-oshawa-ski-club",
          "grub-kaien",
          "chanavey",
          "devils-elbow",
          "buchenberg-buching-halblech",
          "valcianska-dolina-valca-snowland",
          "ilgaz-mountain-resort-kastamonu",
          "maseben-langtaufers-vallelunga",
          "balmberg",
          "chriso-elafi",
          "hoislifts-modriach-edelschrott",
          "glen-eden",
          "hochwechsellifts-moenichwald",
          "misurina-passo-tre-croci",
          "ostrakina-mainalon",
          "la-jarjatte-lus-la-croix-haute",
          "hinterreit-saalfelden-am-steinernen-meer",
          "seeberg-seewiesen-turnau",
          "hauereck-st-kathrein-am-hauenstein",
          "goulier",
          "st-martin-im-tennengebirge",
          "el-fraile",
          "gaaler-lifte-gaal",
          "kinosoo-ridge",
          "dalvik",
          "horseshoe-resort",
          "eck-riedelstein-arrach",
          "strednica-zdiar",
          "malga-san-giorgio",
          "le-chazelet",
          "zuckerfeld",
          "wildewiese-sundern",
          "kazan",
          "vallaasen",
          "valgrisenche",
          "boler-mountain-london",
          "naspa-ski-garden",
          "eriz",
          "certovica",
          "simmelsberg",
          "jasenska-dolina-bela-dulice",
          "haldenkoepfle",
          "pfronten-steinach",
          "caledon-ski-club",
          "muggenbrunn",
          "skardsdalur-siglufjoerdur",
          "martinske-hole",
          "cardadacimetta-orselina",
          "hohenbogen-neukirchen-bei-hl-blut",
          "rohace-spalena",
          "anilio",
          "hochfelln-bergen",
          "bortelid",
          "caldirola-monte-gropa",
          "hidatakayama",
          "telnice",
          "buchberg-goldegg",
          "col-de-larzelier",
          "hatsvali-mestia",
          "ukko-koli",
          "changchengling",
          "skyloft",
          "higashitateyama",
          "spanov-vrh",
          "kohutka",
          "kuncice-pod-sneznikem",
          "elysian-gangchon-resort",
          "ak-tash-oruu-sai",
          "haekaerinteet",
          "raxalpe-reichenau-an-der-rax",
          "moya-hills",
          "mouthe-massif-du-noirmont",
          "steg-im-toesstal",
          "wapiti-valley",
          "saint-urcize",
          "wirzweli-dallenwil",
          "orlovka",
          "brameloup-saint-chely-daubrac",
          "tawatinaw-valley-pine-valley-resort",
          "san-isidro-zona-salencias",
          "praded-mala-moravka-ski-karlov",
          "platak",
          "rachowiec-zwardon",
          "arieseni-vartop",
          "vauplane-soleilhas",
          "salmo-ski-hill",
          "canmore-ski-village-higashikawa",
          "pany-luzein",
          "prato-leventina",
          "kyowa",
          "naggler-alm-techendorf-weissensee",
          "serra-da-estrela",
          "springenboden",
          "olos",
          "cienkow-malinka-wisla",
          "karigahara",
          "piobbico",
          "pleta-del-prat-tavascan",
          "val-dese",
          "rasos-de-peguera",
          "shijinglong",
          "reither-kogel-reith-im-alpbachtal",
          "bunloc-sacele",
          "bichlalm",
          "romme-nancy-sur-cluses",
          "careggine-alpi-apuane-monte-la-cima",
          "wallberg-rottach-egern",
          "vorderthal-skilift-waegital",
          "laber-oberammergau",
          "auli",
          "mogosa",
          "pfaender-bregenz",
          "hahnbaum-st-johann-im-pongau",
          "asahimura-budo",
          "col-dornon",
          "st-mary",
          "vallecitos",
          "fujimi-panorama",
          "muckenkogel-lilienfeld",
          "hochschwarzeck-ramsau-bei-berchtesgaden",
          "hofeck-hof-bernau-im-schwarzwald",
          "chicopee",
          "menzenschwand-st-blasien-spiesshorn",
          "hochplatte-marquartstein",
          "beskid-sport-arena-szczyrk",
          "hombergziegenhelle-snow-world-zueschen",
          "matthias-schmidt-berg-st-andreasberg",
          "agriolefkes-pelion",
          "severak",
          "ludwigsstadt",
          "loessnitz",
          "solan-vrchol",
          "sachty-vysoke-nad-jizerou",
          "sahand",
          "holzelfingen-lichtenstein-wintersport-arena",
          "nakasato-kiyotsu",
          "do-mi-ski-dolbeau-mistassini",
          "beruku-yogo",
          "mount-joy",
          "bubi-dagi-agri",
          "taiziling",
          "cirtkaya-bitlis",
          "nagyvillam-sipalya-visegrad",
          "lakeridge-resort",
          "mansfield-ski-club",
          "martock",
          "medicine-lodge",
          "mont-bellevue",
          "lin-shan",
          "hidden-valley-highlands",
          "wanda-harbin-mall",
          "velika-planina",
          "wanlongbayi",
          "studenov",
          "park-kralja-matjaza-crna-na-koroskem",
          "provitis-ilias-metsovo",
          "marela-kisovec-zagorje-ob-savi",
          "vista-ridge",
          "thunderhill-benito",
          "fairview-ski-hill",
          "duck-mountain-kamsack",
          "bocksberg-hahnenklee",
          "devils-glen",
          "u-capa-korenov-prichovice",
          "dagmar-ski-resort",
          "halblech",
          "alpensia-pyeongchangs-winter-olympic-park",
          "obersalzberg",
          "engaru-rock-valley",
          "oberwilhams-missen-wilhams",
          "pappenheimer-berg-ernstthal-lauscha",
          "bankut",
          "nagy-hideg-hegy",
          "pilatus-tateshina",
          "kamenec-jablonec-nad-jizerou",
          "ranca-ro",
          "suior",
          "sakae-club",
          "lisak-stribrna",
          "luzna",
          "nad-nadrazimbelveder-zelezna-ruda",
          "naprava-jachymov-nove-mesto",
          "pancir",
          "ashibetsu",
          "lake-district-ski-club-raise",
          "takanbo",
          "terakoya-resort",
          "petrikovice",
          "nowa-osada-wisla",
          "iwakisan-hyakuzawa",
          "star-hill-resort-cheonmasan",
          "norn-minakami",
          "rusin-ski-bukowina-tatrzanska",
          "cervenohorske-sedlo",
          "slotwiny",
          "minami-furano",
          "nishitateyama",
          "kumanoyu-resort",
          "kotobiki-forest-park",
          "karuizawa-snow-park",
          "destne",
          "campulung-moldovenesc",
          "bedrichov",
          "asahi-shizen",
          "avalanche-dolni-moravice",
          "aldrov-vitkovice-witkowitz",
          "cesky-jiretin",
          "kekestetoe",
          "master-ski-tylicz",
          "yachiho-kogen",
          "horotachi",
          "czorsztyn-kluszkowce",
          "beauce-vallee-jonction",
          "hakodateyama",
          "yangji-pine-resort",
          "giant-resort",
          "gubalowka-zakopane",
          "brookvale-ski-park",
          "sonnenberg-st-andreasberg",
          "ski-sport-alm-burladingen",
          "tettau-wildberg",
          "simmersfeld",
          "silbersattel-steinach",
          "schwaerzenlifts-eschach",
          "czantoria-ustron",
          "schulenberg-skialpinum",
          "sachrang",
          "ravensberg-bad-sachsa",
          "ricky-v-orlickych-horach",
          "thalerhoehe-wiederhofen-missen-wilhams",
          "hiroshima-kenmin-no-mori",
          "malo-polje-igman",
          "praded-figura",
          "hirayu-onsen",
          "yogo-kogen",
          "carlisle-ski-club-yad-moss",
          "rostovo",
          "sljeme-medvednica-zagreb",
          "male-ciche",
          "brusnica-fojnica",
          "thoma-hinterzarten",
          "blidinje-risovac",
          "rabbit-hill-snow-resort",
          "rasov-kliny",
          "homole-jaworki",
          "hanawa-kazuno",
          "wasserkuppe",
          "voithenberg-furth-im-wald",
          "matraszentistvan-sipark",
          "troodos-mount-olympos",
          "le-desert-dentremont",
          "passo-godi-scanno",
          "rein-in-taufers-riva-di-tures",
          "paluda-dalaas",
          "prags-braies",
          "piano-battaglia",
          "poelzl-lifte-kindberg",
          "stary-smokovec-hrebienok",
          "pian-neiretto",
          "rotecklift-tobadill",
          "vihti-ski-center",
          "el-morredero",
          "rienz-toblach-dobbiaco",
          "lunada",
          "ski-seven-zakamenne",
          "schoenfeld-thomatal",
          "palot-pisogne",
          "marinzen-castelrotto-kastelruth",
          "rajecka-lesna",
          "st-jakob-im-walde",
          "st-oswald-kartitsch",
          "teichalm-fladnitz",
          "laajis-laajavuori",
          "obdach",
          "turmkogel-puchenstuben",
          "kirchschlag-bei-linz",
          "hochlitten-riefensberg",
          "holzmeisterlifts-sommeralm-st-kathrein-am-offenegg",
          "vitanova",
          "ballon-dalsace",
          "josefsberg-mitterbach-am-erlaufsee",
          "kaiserau-admont",
          "telgart",
          "plainpalais",
          "aiguilles",
          "pont-despagne-cauterets",
          "kasurila",
          "rencurel",
          "val-darc-bessans",
          "val-pelens",
          "alhovuori",
          "calpis",
          "maiszinken-lunz-am-see",
          "schilpario",
          "rucas-di-bagnolo",
          "niederthai-umhausen",
          "tonnerhuette-muehlen",
          "viehberg-sandl",
          "hagenberglifte-sulzberg",
          "hohe-winde-beinwil",
          "st-antoenien",
          "fischenthal-aurueti-oberegg",
          "liptovske-revuce",
          "sommartel-le-locle",
          "friherrenberg-einsiedeln",
          "schratten-fluehli",
          "grand-val-oberdoerferberg",
          "vargen",
          "bacova-roven-vysna-boca",
          "hohwald-beatenberg-waldegg",
          "eggiwil-netschbuehl",
          "buce-rencisov",
          "homberg",
          "le-frenz",
          "la-chia-bulle",
          "oberholz-farner",
          "la-corbatiere-la-roche-aux-crocs",
          "la-cote-aux-fees",
          "oberegg-skilift-st-anton",
          "mutten",
          "st-cergue",
          "tanzboden-ebnat-kappel",
          "wachtberglifts-weyregg-am-attersee",
          "alpsteinblick-gonten",
          "camigliatello-silano",
          "bruncu-spina",
          "weissbriach-gitschtal",
          "drammen-skisenter",
          "fjellhaugen-skisenter",
          "furedalen-alpin-kvamskogen",
          "golsfjellet",
          "plese-podkonice",
          "moedalstrekket",
          "spaatind-skisenter",
          "dent-de-jaman-montreux",
          "bannalp-oberrickenbach",
          "stryn-sommerski-tystigbreen",
          "tromsoe",
          "varingskollen",
          "plejsy-krompachy",
          "kappruet",
          "opalisko-zavazna-poruba",
          "tenna",
          "myto-pod-dumbierom",
          "hochlecken-neukirchen-altmuenster",
          "les-genevez",
          "les-rafforts-hery-sur-ugine",
          "les-bagenelles-sainte-marie-aux-mines",
          "mezenc-les-estables",
          "la-loge-des-gardes",
          "almblicklifts-strallegg",
          "glasenberg-maria-neustift",
          "la-croix-de-bauzon",
          "col-de-turinicamp-dargent",
          "brabant-la-bresse",
          "eibisberg-anger",
          "ghisoni",
          "furtnerlifts-rohr-im-gebirge",
          "lispach-la-bresse",
          "embach-hoerndl",
          "groellerkopf-uebersaxen",
          "arralifts-harmanschlag-st-martin",
          "les-fourgs",
          "col-de-marcieu-saint-bernard-du-touvet",
          "le-manon",
          "le-sappey-en-chartreuse",
          "abisko",
          "mount-parnassos-gerontovrachos",
          "szyndzielnia-bielsko-biala",
          "schnifisberg-schnifis",
          "hammarbybacken-stockholm",
          "idre-himmelfjaell",
          "la-combe-saint-pierre-charquemont",
          "busovaca",
          "valtgeva-sedrun",
          "sysendalen-eidfjord",
          "kozara",
          "pridolci",
          "la-goulemont-miroir-maiche",
          "les-gentianes-morbier",
          "bourg-doueil",
          "kullstabackenelefantberget-hammarstrand",
          "praestberget",
          "hida-highland",
          "le-reposoirchalet-neuf",
          "hasuike",
          "makovytsia-mizhgirya",
          "le-schlumpf-dolleren",
          "la-pesse",
          "winterberglifte-schonach-im-schwarzwald",
          "gujo-kogen",
          "tectzinols-berguen",
          "cherkassy-vodyaniki",
          "gokazan-yubetsu",
          "wurmsteinlift-flossenbuerg",
          "teleconthey-mayens-de-conthey",
          "bukovytsia-boryslav",
          "zloty-gron",
          "zschorlau",
          "tristeli-st-margrethenberg",
          "vitsi",
          "alsovka-medenec",
          "skillevollen-mo-i-rana",
          "voegelinsegg-speicher",
          "ceske-zleby",
          "davidovy-boudy",
          "szymkowka",
          "dolni-dvur",
          "rajkovo-majdanpek",
          "araragi-kogen",
          "szwajcaria-baltowska",
          "campigna-montefalco",
          "hlubocky",
          "szus-koniakow",
          "campo-rotondo-cappadocia",
          "hodkovice-nad-mohelkou",
          "akita-hachimantai",
          "akazawa",
          "szklana-gora-harbutowice",
          "capracotta",
          "horni-vltavice",
          "swieradow-zdroj",
          "javornik-jermanice",
          "ceske-petrovice",
          "certak-vaclavov-u-bruntalu-ski-karlov",
          "eikerapen",
          "wujskie",
          "nordseter-skicenter",
          "annaberg-andelska-hora",
          "zebra-bialka-tatrzanska",
          "annaberg-sucha-rudna",
          "zagron",
          "wasen-im-emmental",
          "bifuka",
          "awasuno",
          "knaben",
          "cerna-ricka",
          "la-bonade-grand-combe-chateleu-val-de-morteau",
          "bile-karpaty-mikulcin-vrch",
          "biocel-zlatnik",
          "galdhoeppigen-sommerskisenter",
          "branna",
          "les-moussieres",
          "hautes-navieres-le-valtin",
          "burov",
          "le-poli-xonrupt-longemer",
          "selfranga-klosters",
          "wengen-weitnau",
          "sonnenhanglifte-unterjoch",
          "lajoux",
          "la-schlucht",
          "schwarzenbachlift-altglashuetten",
          "schwarzer-mann-pruem",
          "la-quillane",
          "oberiberg",
          "la-poya-vallorcine",
          "sellinghausen-schmallenberg",
          "karakoli",
          "drienica",
          "matsudai",
          "chvatimech-valaska",
          "sinswang-oberstaufen",
          "maruike",
          "chlmec-skipark",
          "maeyama",
          "ludens-yuzawa",
          "koziakas-pertouli",
          "lailias-ski-area-serres",
          "schwalefeld",
          "jakubkova-luka",
          "motai",
          "le-col-du-feu-lullin",
          "numata-choei-takaho",
          "mogno",
          "schloppach-bei-waldsassen",
          "muesella-la-punt",
          "schlossberg-kuestelberg-medebach",
          "schlossberg-oberkirnach-st-georgen",
          "schlossberg-osternohe",
          "schlossberg-tailfingen-albstadt",
          "schmiedefeld-am-rennsteig",
          "muroran-kogen-danpara",
          "nods",
          "schneeberglifte-waldau-titisee-neustadt",
          "nollen-unteraegeri",
          "nanao-korosa",
          "larcenaire-bussang",
          "schoenheide-stuetzengruen",
          "schorrberg-bad-marienberg",
          "julius-vysna-slana",
          "sonnenbichl-bad-wiessee",
          "sonnenlift-aigis-missen-wilhams",
          "velykyj",
          "kyukamura-myoko-resort",
          "ishizuchi",
          "ishiuchi-hanaoka",
          "unterstmatt",
          "ikawa-kainayama",
          "usseln",
          "vogelskopf-baiersbronn",
          "vaardkasen-haernoesand",
          "ichinose-yamanokami",
          "waldhaeuser-neuschoenau",
          "ichinose-diamond",
          "ibuki-no-sato",
          "taenndalsvallen",
          "samedan",
          "sundsvall-soedra-berget",
          "hiruzen-bear-valley",
          "seebodenalp-kuessnacht",
          "suche",
          "hinoemata",
          "sundsvall-sidsjoebacken",
          "treisberg-schmitten",
          "treffelhausen-boehmenkirch",
          "kanayasan",
          "mount-olympos-vryssopoules",
          "brodok-porac",
          "bane-jakubovany",
          "springe",
          "kutsuki",
          "realp",
          "kujyumachi",
          "koide",
          "sternrodt-bruchhausen",
          "stixner-lift-missen-wilhams",
          "kaneyama",
          "le-larmont",
          "stokinger-freudenstadt-lauterbad",
          "stollenbach-bei-oberried",
          "sulzberg-oberthannen",
          "kasadake",
          "rochers-de-naye-montreux",
          "vettenbacken-liden",
          "vyshka",
          "javornik-zalesi",
          "kasperske-hory",
          "graix",
          "olczan-ski",
          "pokljuka-goreljek",
          "poseka-ravne-na-koroskem",
          "ribnica-na-pohorju-ribnisko-pohorje",
          "ribniska-koca-ribnisko-pohorje",
          "rimski-vrelec",
          "liepkalnis-vilnius-ziemos-trasa",
          "sauris",
          "senozeta",
          "meix-musy-pierre-a-feu-val-de-morteau",
          "weardale-ski-club",
          "piekna-gora-goldap",
          "straza-bled",
          "sviscaki",
          "trije-kralji",
          "ulovka-jamnik",
          "bistrita",
          "visevnik-na-pokljuki",
          "aavasaksa",
          "palenica-szczawnica",
          "hasamaeki",
          "osovje",
          "val-de-wanne",
          "poniwiec",
          "zvicina",
          "lekotinmaeki",
          "lakis",
          "col-du-barioz",
          "kokonniemi-porvoo",
          "przemysl",
          "kirintoevaara",
          "kaustinen",
          "celjska-koca",
          "hervanta-mustavuori-tampere",
          "arena-platos",
          "riepenlift-antholz-mittertal-anterselva-di-mezzo",
          "kalli",
          "hirvensalo",
          "ruffre-monte-nock",
          "hiittenharju",
          "krpin-begunje",
          "macesnovc-ratece",
          "val-doronaye-larche",
          "thanner-hubel",
          "colle-de-lys",
          "rochejean",
          "montmin",
          "gora-kamiensk",
          "nemira-slanic-moldova",
          "grapa-litwinka-czarna-gora",
          "nasbinals",
          "henryk",
          "notre-dame-du-pre",
          "huzele",
          "nevache",
          "kamienicaboleslawow",
          "magura-skipark-malastow",
          "maciejowa-rabka-zdroj",
          "gura-humorului",
          "bellefontaine",
          "kazimierz",
          "klepki-malinka-wisla",
          "koziniec-czarna-gora",
          "ladek-zdroj",
          "laworta-ustrzyki-dolne",
          "glodowka",
          "paltinis",
          "dzikowiec-boguszow-gorce",
          "beskid-spytkowice",
          "ristolas",
          "okragla-gorka-kamianna",
          "lowther-hills",
          "arlamow",
          "babica",
          "st-magdalena-gsiesvalle-di-casies",
          "batorz",
          "praboure-saint-antheme",
          "bialy-jar-karpacz",
          "mosorny-gron-zawoja",
          "allenheads",
          "bobliwo",
          "aiguille-du-midi-chamonix",
          "cisowa",
          "borsec",
          "czarny-gron",
          "myslenice",
          "piatra-neamt",
          "zlata-olesnice",
          "rablow",
          "col-du-granier",
          "zborov",
          "malenovice",
          "marianky-marianske-lazne",
          "malga-varena-passo-lavaze",
          "foncine-le-haut",
          "mezivodi",
          "miroslav-lipova-lazne",
          "moninec-sedlec-prcice",
          "mendelpass-monte-roen",
          "monte-fumaiolo-le-balze",
          "goc",
          "ostruzna-retezarna",
          "divcibare",
          "crni-vrh-bor",
          "ollomont",
          "bojanine-vode-nis-suva-planina",
          "plavy",
          "potstat",
          "govedartsi",
          "safed-dara",
          "machuzky",
          "luka-nad-jihlavou",
          "luhy-trnava",
          "klobouk-mala-moravka-ski-karlov",
          "aizu-bange-choei",
          "conca-dellalben",
          "funes-villnoess",
          "karolinka",
          "limanowa",
          "kladky",
          "klepacov",
          "klinek-predklasteri",
          "stozek-wisla",
          "iver-tara",
          "stok-wisla",
          "gasse-ridnaun",
          "koprivna",
          "lagdeilago-santo-corniglio",
          "kozinec-jilemnice",
          "merga-bute",
          "kurucadag-bingoel",
          "kvilda",
          "prelac-horni-lomna",
          "tindaoexl-olafsfjoerdur",
          "premyslov-jeleni",
          "u-bambuchu",
          "svoboda-nad-upou",
          "sami-swoi-gliczarow-dolny",
          "svycarska-bouda-abertamy",
          "purnuvuori",
          "ryterski-raj-rytro",
          "mustavaara",
          "tesak",
          "trojak",
          "mielakka",
          "strazne",
          "rybno",
          "velka-upa",
          "vurmovka",
          "xpark-frantiskov-jindrichov",
          "zadov-churanovu-horejsu",
          "zadov-kobyla",
          "tindastoll-saudarkrokur",
          "predaia-coredo",
          "strazny",
          "sotkanrinteet",
          "pricna-zlate-hory",
          "passo-forcora-monte-cadrigna",
          "punto-de-nieve-santa-ines",
          "pysna",
          "shirbad",
          "snieznica-kasina-wielka",
          "schauinsland-hofsgrund",
          "les-signaraux-la-motte-daveillans",
          "razula",
          "slotwiny-arena",
          "sachrovka",
          "sveitsin-hiihtokeskus-hyvinkaeae",
          "skolnity-wisla",
          "passo-penice",
          "skalanka-zwardon",
          "payel-di-valsavarenche-degioz",
          "samoty",
          "sedlonov",
          "pian-del-falco-sestola",
          "uuperin-rinteet",
          "raliska",
          "ellivuori",
          "schanze-schmallenberg",
          "hasenhorn-todtnau",
          "tajov",
          "gschwend",
          "trestle-ridge-terrace-bay",
          "praegraten-am-grossvenediger",
          "sunridge",
          "ski-taja-tatranska-javorina",
          "raunigwiese-kolbnitz-reisseck",
          "spring-lake-ski-hill",
          "snow-valley-edmonton",
          "schwannerlift-weerberg",
          "roggenboden",
          "saualpe-eberstein",
          "heigenbruecken",
          "herrenschwand",
          "herrischried",
          "schmolllifte-steinhaus-am-semmering",
          "schneiderkopf-buch",
          "hirzenhain",
          "uplands-ski-centre",
          "pirstingerkogellift-sommeralm-hohenau-an-der-raab-passail",
          "valley-ski-hill-alliance",
          "petersbruendl-st-michael-im-lungau",
          "falken",
          "fallbachhang-oberhof",
          "nagelkoepfl-piesendorf",
          "fischbach-schluchsee",
          "fort-fun-winterwelt-bestwig",
          "niedernsill",
          "heihe-longzhu-yuandong",
          "nocksteinlifte-koppl",
          "nussbaumerlifte-hof-bei-salzburg",
          "geising",
          "genkingen-sonnenbuehl",
          "oberau-wildschoenau",
          "obervellach",
          "oberwaldlifte-faistenau",
          "gohrersberg-kreuzthal",
          "goldlauter-suhl",
          "grafenau",
          "schorschi-lifte-st-georgen-am-walde",
          "serafinov-skalite",
          "millruette-goetzis",
          "kessellifts-inzell",
          "jachenau-muehle",
          "johannisberg-freudenberg",
          "misty-ridge",
          "tschardund-nenzing",
          "kalte-herberge-urach",
          "kandel",
          "kandelblick",
          "kegelberg-erlbach",
          "kniebis",
          "selce-cachovo",
          "laurentian-ski-hill-north-bay",
          "wenigzell",
          "wiesinger-buehel-wiesing",
          "kornberg",
          "wildentallift",
          "poracska-dolina-porac-porac-park",
          "podbanske",
          "kuhberglifte-lenzkirch-saig",
          "inselsberg-bad-tabarz",
          "stoaninger-alm-schoenau-im-muehlkreis",
          "mont-chilly",
          "steinberg-am-rofan",
          "hochstraesslifts-oberreute",
          "mount-fairweather-atikokan",
          "mount-evergreen-kenora",
          "salamandra-resort-banska-stiavnica",
          "hohe-acht-jammelshofen-kaltenborn",
          "siebenseelift-wildalpen",
          "hohe-lied-gellinghausen-schmallenberg",
          "silvretta-bielerhoehe-partenen",
          "simas-lifte-st-peterst-corona",
          "hoher-meissner-eschwegehessisch-lichtenau",
          "hoherodskopf-breungeshainer-hangrennwiese",
          "spechtenseelift-puergg-stainach-puergg",
          "holzhau",
          "st-corona-am-wechsel",
          "hornlift-froehnd",
          "st-hemma-edelschrott",
          "iberg-riedholz-maierhoefen",
          "fahrenberg-vohenstrauss",
          "mathon",
          "zlaim-grundlsee",
          "feistritzsattel-trattenbach",
          "am-brande-hohegeiss-braunlage",
          "misinateto-pecs",
          "eberschwang-hausruck",
          "am-gruendelwald-joehstadt",
          "dunakoemloed-paks",
          "am-ritter-gehlberg",
          "am-schiessberg-crottendorf",
          "dobogoko",
          "antoni-fridingen-an-der-donau",
          "gfoellberglift-holzgau",
          "arft",
          "argental-weitnau",
          "ozolkalns",
          "gaberlplankogel-salla-maria-lankowitz",
          "michlifen",
          "baerenstein",
          "solang-nullaha-kullu-valley",
          "geigenbuehel",
          "altreichenau",
          "altglashuette-baernau",
          "szilvasvarad",
          "zempleni-hegy-satoraljaujhely",
          "tiffindell",
          "matroosberg",
          "malam-jabba",
          "samjiyon",
          "alpe-furx-furx-zwischenwasser",
          "astenberg-wiesing",
          "dinner-plain",
          "velebno-baske-ostarije",
          "rudnik-trsce",
          "mukinje-plitvice",
          "celimbasa",
          "birgitz",
          "boden-pfafflar",
          "bodental-unterbergen-ferlach",
          "brandlift-scharnitz",
          "buchsteinlift-reiflingviertel-st-gallen",
          "batea-mahuida",
          "valle-hermoso",
          "benzeck-blindau-reit-im-winkl",
          "erbeskopf-thalfang",
          "eibenstock",
          "kraehenberg-sibratsgfaell",
          "kronberg-st-georgen-im-attergau",
          "dottingen-muensingen",
          "laerchenhof-erpfendorf",
          "lammertallift-annaberg-lungoetz",
          "lana-lift-anras",
          "ebingen-albstadt",
          "tale",
          "eisenbach",
          "bergbrunnenlift-gersbach",
          "eisenberg-neuenstein",
          "lechnerberg",
          "ellegglifte-faistenoy-oy-mittelberg",
          "englaenderlifts-jakobsthal",
          "engstingen",
          "lessach",
          "enzkloesterle",
          "liebenau",
          "konradshuettle-vils",
          "kolsassberg",
          "dobellifts-schoenwald-im-schwarzwald",
          "knittellifte-elbigenalp",
          "berglandlift-lackenhaeuser-neureichenau",
          "bergwiese-schwarzenbach-am-wald",
          "griminitzen-kirchbach",
          "gruenberg-obsteig",
          "birkholzlift-heinersreuth-presseck",
          "grunholzlift-au",
          "hansberg-st-johann-am-wimberg",
          "tupilak-aasiaat",
          "hittisberg-hittisau",
          "huettegglift-weerberg",
          "brennberglift-etzelwang",
          "bromberg-alm-boebing",
          "brotjacklriegel",
          "johnsbach-admont",
          "teplica-brezovica",
          "karlift-heiterwang",
          "kleinlobming",
          "holiday-mountain-mb",
          "heubach-masserberg",
          "hart-highlands-prince-george",
          "tsuguro-kogen",
          "krahule",
          "white-valley-matsubara",
          "heiti-gsteig-bei-gstaad",
          "paulusberg-sehmatal-neudorf",
          "heimenschwand-buchholterberg",
          "kraliky",
          "panoramalifte-hopfen",
          "oetzlifte-rabenkopf-kochel-am-see",
          "alpe-di-neggia",
          "krpacovo",
          "yokote-park",
          "latky-prasiva",
          "oberfrauenwald-waldkirchen",
          "almetjevsk",
          "alice-hill-park-pembroke",
          "oberberg-weiler-simmerberg",
          "ghoech",
          "gampluet",
          "gais",
          "batawa-ski-hill",
          "neukirchen-am-teisenberg-teisendorf",
          "foehrlimatt-wegenstetten",
          "flensa-seewis",
          "faltschen-reichenbach",
          "dreieck-glarus",
          "ushidake-onsen",
          "tsuchitaru",
          "chuderhuesi-roethenbach",
          "towadako-onsen",
          "sauerberg-frammersbach",
          "lauenen",
          "sandberg-bopfingen",
          "salmendingen-burladingen",
          "saegenhof-urach",
          "kalnica-sk",
          "sannokura",
          "ruhestein-baiersbronn",
          "shichinohechoei",
          "la-lorette-bourg-saint-pierre",
          "la-golatte-smontoz-tavannes",
          "rothaus-grafenhausen",
          "kokava-linia",
          "suishozan-kazuno",
          "sun-valley-resort",
          "reichenberg-sankt-oswald-riedlhuette",
          "reicheltberg-kurort-seiffen",
          "rehefeld-zaunhaus",
          "kosutka-hrinova",
          "raupennesthang-altenberg",
          "rankenlift",
          "raffelmoos-elbach-fischbachau",
          "tannenomori-okojo",
          "tateshina-tokyu",
          "tengamori",
          "monte-kienader-bergkirchen",
          "yogoshiyama",
          "pian-cales-san-bernardino",
          "lausche-waltersdorf",
          "basse-ruche",
          "luggi-leitner-lifts-scheidegg",
          "edmonton-ski-club",
          "langmattlift-aftersteg-todtnau",
          "langewiese-hoehenhang",
          "baeretswil",
          "bruesti-attinghausen",
          "falcon-ridge",
          "gwynne-valley",
          "earl-bales-north-york-toronto",
          "kesselmannlifte-faistenau",
          "weissenbach-alpinwellt",
          "cieniawa",
          "kohleck-waldzell",
          "chelmowa-gora-krasnobrod",
          "terenten-terento",
          "budzowski-wierch-zakopane",
          "dluga-polana-nowy-targ",
          "archamps",
          "debowiec-bielsko-biala",
          "taisten-tesido",
          "buschberg-vorwerk-lengefeld",
          "lively",
          "kaiserlindenlift-gams-bei-hieflau",
          "golebiewski-mikolajki",
          "little-mac-mackenzie",
          "raten-oberaegeri",
          "velke-ostre",
          "sonnenlifts-roefleuten-pfronten",
          "jacnia",
          "borowice",
          "kesselberg-oberkirnach-st-georgen",
          "dickeloch-winterlingen",
          "torfhauslifte-altenau",
          "logarska-dolina",
          "navis",
          "trusetal",
          "yokomuki-onsen",
          "thier-des-rexhons-spa",
          "moosetallift-leisach",
          "moosberglift-weissenbach-am-lech",
          "mitteldorflift-doellach-grosskirchheim",
          "ersteberg-masserberg",
          "sentjost-nad-horjulom",
          "traifelberg-honau-lichtenstein",
          "jalovec",
          "steinberglift-langfurth-schoefweg",
          "tannenberglift-immenreuth",
          "taennicht-sohland-an-der-spree",
          "lindauer-hang-schoensee",
          "yakurai",
          "saint-nizier-du-moucherotte",
          "stoeckerkopf-baiersbronn",
          "zuflucht-baiersbronn",
          "rossendale",
          "karsee-wangen-im-allgaeu",
          "kidoike",
          "jodla",
          "ramensteinhang-nattheim",
          "sisorarfiit-nuuk",
          "waldskilift-wald-faistenau",
          "brenneralm-breitenfurt-bei-wien",
          "kopasz-hegy-tokaj",
          "rothenberg-schnaittach",
          "kramelskopf-steinbach",
          "wildstaettlift-wattenberg",
          "nakazato-snow-wood",
          "albuch-heidenheim-schnaitheim",
          "husavik",
          "haut-asco",
          "aggenhausen-mahlstetten",
          "ruhrquelle",
          "zadzial-nowy-targ",
          "brandtner-lifte-hartkirchen",
          "boettental-mehrstetten",
          "innisfail",
          "antermoia-san-martin-de-tor",
          "kiev-protasov-yar",
          "vucici-ogulin",
          "baienberg-reuthe",
          "lantschlenz",
          "voevodyno",
          "schlipruethen",
          "munakas-nuepli-otepaeae",
          "ski-egypt",
          "le-chauffaud-val-de-morteau",
          "stary-gron-brenna",
          "am-poppenberg-brilon",
          "am-richtergrund-massive-snowpark-hermsdorf",
          "rosts-wiesen-augustusburg",
          "frankenlift-wurzbach",
          "rathauslifte-braunlage",
          "zlatar",
          "lubinka",
          "ski-club-rhoen-fulda-schwedenschanze-simmelsberg",
          "dalseter-espedalen",
          "sitzambuch-schnaittenbach",
          "la-brevine",
          "battenhausen-am-hohen-lohr",
          "parchatka",
          "pardalowka-ugory-zakopane",
          "riedlberg-drachselsried",
          "rimberg-schmallenberg",
          "bad-wildbad",
          "seimberg-brotterode",
          "oberwangen",
          "ziar-dolinky",
          "roessle-lift-schoenwald-im-schwarzwald",
          "longchaumois-rosset",
          "schwarzenberg-elstra",
          "betania",
          "an-der-kniebreche-steinbach-hallenberg",
          "rohrhardsberg-schonach",
          "oesterlars-bornholm",
          "krajka-kraslice",
          "schatzerlift-kirchberg",
          "neukirchen-lautertal",
          "opalena",
          "weisser-stein-hellenthal",
          "sindelna",
          "nova-lhota",
          "hartenrod",
          "hoellkreuz-hoellhoehe-neukirchen-b-hl-blut",
          "weissbach-an-der-alpenstrasse-schneizlreuth",
          "stadtwaldlift-rottenmann",
          "savivuori-viitasaari",
          "gaehwil",
          "petersberg-monte-s-pietro-nova-ponente-deutschnofen",
          "makovica-nizna-polianka",
          "wolfsberglift-siegsdorf",
          "klema",
          "wolfsschlucht-pruem",
          "kempaland-bukovec",
          "oberbaerenburg",
          "vernirovice",
          "visalaje",
          "vraclavek",
          "saporo-kraslice",
          "moenchswald-mitteleschenbach",
          "oscadnica",
          "herchenhainer-hoehe",
          "heumoederntal-treuchtlingen",
          "primda",
          "ski-park-liptovska-teplicka",
          "hesselbacher-gletscher-bad-laasphe",
          "morsbach-springe",
          "schmiedhornlift-wald-faistenau",
          "polevsko",
          "fanas",
          "kocourov",
          "mount-martin-deep-river",
          "nova-ponente-deutschnofen",
          "schleppe-alm-klagenfurt-am-woerthersee",
          "dena-kakan",
          "rusava",
          "schwoich",
          "big-bam-taylor",
          "heibek-bad-lauterberg",
          "mont-pits-cabano",
          "parez",
          "hoehn-schoenberg",
          "val-dor",
          "u-hrbitova-cerny-dul",
          "skoenviksbacken",
          "sonnenberglift-gries-im-sellrain",
          "luisino-udoli",
          "gehrenlift-bischofsgruen",
          "korkeakangas",
          "bukovnik",
          "unterhuette-waldmuenchen",
          "lisny",
          "mauersberg-grossrueckerswalde",
          "luesen-luson",
          "geyersberg-freyung",
          "gurnigelbad",
          "grenchenberg-grenchen",
          "dole-pri-litiji",
          "geiersberg-hauzenberg",
          "glonn",
          "getberget-fraensta",
          "pradibosco-prato-carnico",
          "rejdova",
          "karlova-studanka",
          "izver-sodrazica",
          "rittenberg-fercekovce-spisska-nova-ves",
          "grainet-haidel",
          "buegls-s-chanf",
          "ski-mountain-park-sao-roque",
          "bosques-de-monterreal-san-antonio-de-las-alazanas",
          "staffelalp-zeglingen",
          "chrea",
          "agrafa-karamanoli",
          "oberhelfenschwil",
          "altinoran-ankara",
          "trachselwald",
          "lent",
          "feichten",
          "sternenberg-schatzboel",
          "ardez",
          "mt-gilboa-ski-gilboa",
          "sonnenlift-praxmar",
          "walenstadtberg",
          "les-paccotsgranges-mont-chesau",
          "taesch",
          "vimka-viimsi-maeepark",
          "les-prevondes",
          "eichfeldlift-turnau",
          "la-trelasse",
          "casaccia",
          "arnreit",
          "boeglerlift-alpbach",
          "balme-di-lanzo",
          "el-calafate",
          "mugi-netstal",
          "begovo-razdolje",
          "la-cernay-blanche-la-chaux-de-gilley",
          "buendalift-davos",
          "shizuokashi-riverwell-ikawa",
          "petehovac-delnice",
          "langmattli-hergiswil",
          "baldramsdorf",
          "centre-de-plein-air-levis",
          "bruggen-greifenburg",
          "bungerloch-tarrenz",
          "nollen-hosenruck-wuppenau",
          "zellenberg-kukmirn",
          "tarasp",
          "sonnenberglift-milders",
          "monte-spada",
          "wimmerlifte-purgstall-bei-eggersdorf",
          "bad-haering",
          "zenitzen-winklern",
          "la-sagne",
          "dellach-im-drautal",
          "cioss-prato-bedretto",
          "dorflift-sulzberg",
          "sayama",
          "aschaulift-koppl",
          "bildhaus-gommiswald-am-ricken",
          "sky-shishiku",
          "rossa",
          "lengau",
          "separadorgiu",
          "rhemes-notre-dame",
          "riffenmatt-winterpark",
          "hoernli-hemberg-baechli",
          "oberzeiring-poelstal",
          "blatten-speicher",
          "saint-imier-mont-soleil",
          "midlothian-ski-centre",
          "lainach-rangersdorf",
          "voegelsberg-wattens",
          "kroessbach",
          "bedea-novaggio",
          "regensberg-erlenhof-im-buck",
          "gloucester-ski-snowboard-centre",
          "saas-balen",
          "vals",
          "les-orvales-malleray",
          "urnerboden",
          "qiaobo-ice-and-snow-world-peking",
          "neuleutasch-leutasch",
          "hoch-hylkedal-kolding",
          "ipponsugi",
          "copenhill-copenhagen-planned",
          "saalhoehe",
          "rueegsau",
          "muehlegglift-hopfgarten-in-defereggen",
          "cogolo",
          "haut-de-caux",
          "muehldorf",
          "stockerfeldlift-moessna-st-nikolai-im-soelktal-soelk",
          "yatsugatake-shizenbunkaen-guresuten-summer-ski-area",
          "guttannen",
          "eniwa-shimin",
          "bottenwil-piz-graben",
          "bracknell-ski-centre",
          "pichl-gsies",
          "schloesslihang-st-gallen",
          "rossbachlift-nassereith",
          "bolbeno",
          "hammerbodenlift-grossreifling-landl",
          "sous-le-mont-tavannes",
          "makino-kogen",
          "qiaobo-ice-and-snow-world-shaoxing",
          "bramans-val-darc",
          "gries-laengenfeld",
          "kinsmen-little-red-river-park-prince-albert",
          "hubelweid-heiligenschwendi",
          "asp-densbueren",
          "gedersberg-seiersberg",
          "passo-cereda",
          "gaisrueckleiten-wiesen",
          "chaux-neuve",
          "brot-plamboz",
          "iasi",
          "hinterfeld-moesern-telfs",
          "katschwald-obdach",
          "holderbank-skilift-engi",
          "woongjin-playdoci-snowdoci",
          "kienleitenlift-brandenberg",
          "platzhaus-leitn-stuhlfelden",
          "terrebonne",
          "stanzach",
          "rettenbach-bernstein",
          "hrastlift-feistritz-an-der-gail",
          "waldrastlift-ehenbichl",
          "huetten-bizau",
          "piani-di-artavaggio-moggio",
          "south-tweedsmuir-park",
          "gadmen",
          "rettenegg",
          "stoke-ski-centre",
          "brigachlift-oberkirnach-st-georgen",
          "pressath-wollau",
          "poehla-schwarzenberg",
          "friedenweiler",
          "frauensteinlift-oberkalbach",
          "frauenau",
          "fluckenlift-maierhoefen",
          "schlechteberg-ebersbachsachsen",
          "felderhalde-isny",
          "schlossberg-haderlsdorf-beratzhausen",
          "schlossberglift-wurmannsquick",
          "schmalzlalm-rettenbach",
          "falkenstein",
          "schneitweg",
          "schnorrenbach-loehrbach-birkenau",
          "schoenanger-rinchnach",
          "eulenloch-langenbrand-schoemberg",
          "schoene-aussicht-bad-steben",
          "schwabenwiese-mindelheim",
          "schwaebeleholzlift-sonthofen",
          "eschenbuckel-betzweiler",
          "seeg",
          "seibelseckle-seebach",
          "sieben-linden-berg-arzberg",
          "erpfingen-sonnenbuehl",
          "dobsinska-masa",
          "sayda-mortelgrund",
          "sankt-oswald-sankt-oswald-riedlhuette",
          "sandern-ewattingen-wutach",
          "rindersteige-donzdorf",
          "poehlberg-geyersdorf",
          "pommernlift-inzell",
          "giller-hilchenbach-luetzel",
          "rabenberg-breitenbrunn",
          "rabenstein-zwiesel",
          "rauschenbachmuehle-arnsfeld",
          "gerichtsberg-gelenau",
          "gaistaltalwiese-bad-herrenalb",
          "reinerzau",
          "rieder-weiher-dollnstein",
          "fuerstberg-eppenschlag",
          "salzburger-kopf-stein-neukirchrennerod",
          "roemerlift-buchenberg",
          "roethenhang-neuschleichach-oberaurach",
          "ronsberg",
          "rother-bergski-ranch-driedorf",
          "rotterhang-schellerhau",
          "ruchtal-onstmettingen-albstadt",
          "rudletzholzer-hang-heideck",
          "rugiswalde",
          "froettmaninger-berg-munich",
          "sackpfeife-biedenkopf",
          "ski-club-moerlenbach-mount-mackenheim",
          "ernstberg-daun",
          "snowtropolis-senftenberg",
          "wildmooslift-oberau-berchtesgaden",
          "dollberg-zueschneuhuetten",
          "wehingen",
          "wehrhalden",
          "weikersberg-koenigsbronn",
          "doellberg-suhl",
          "werda",
          "wermelskirchen-toeckelhausen",
          "westerburg",
          "westernberg-ruhpolding",
          "hohe-geba-traebes-stepfershausen",
          "deesbach",
          "wartberg-laengenau-selb",
          "windheim-steinbach-am-wald",
          "winterberger-nordhang",
          "winterberglift-oberkirnach-st-georgen",
          "wittenburg-alpincenter-hamburg-wittenburg",
          "witthoh-emmingen-liptingen",
          "witzberg-pockau",
          "zeyers-wies-bolheim-herbrechtingen",
          "ziegenberg-zwoenitz",
          "ragnhildsborgbacken-soedertaelje",
          "darmstaedter-huette",
          "dossenheim",
          "waldsportpark-ebersberg",
          "spiegelthalerstrasse-clausthal-zellerfeld",
          "talblick-mitteltal-baiersbronn",
          "spies-betzenstein",
          "stadtpark-thum",
          "erbendorf-pfaben",
          "steinbrunnenlift-hintersteinbach",
          "steinrueckenlift-ettenhausen-schleching",
          "sternberg-linderhofe-extertal",
          "entenberg",
          "stierhuette-falkau",
          "elkeringhausen",
          "sulzberglift-hammer-siegsdorf",
          "tannerfeld-bayrischzell",
          "waldskilift-schnittlingen-boehmenkirch",
          "eismecke-ramsbeck",
          "tranzlberg-moosach-falkenberg",
          "truchtelfingen-albstadt",
          "truebenreute-dewangen-aalen",
          "ebersdorf-saldenburg",
          "duerre-fichte-siegmundsburg",
          "unter-tann-gosheim",
          "urspring-lonsee",
          "valtenberg-valtenhaeuser-neukirchlausitz",
          "voraufvogling-siegsdorf",
          "poehlberg-annaberg-buchholz",
          "plauberg-falkenau",
          "bryngfjordsbacken",
          "glasberg-zwiesel",
          "kirgel-gaildorf",
          "klaushang-gornsdorf",
          "knoten-oberrodrennerod",
          "koedellift-nordhalben",
          "kohlberglift-neuenrade",
          "hochberg-heidenheim-an-der-brenz",
          "kollerlift-bischofswiesen",
          "kolmberg-neuhof-an-der-zenn",
          "kraimoos-bernau-am-chiemsee",
          "kreenheitstetten",
          "kreuthlift-bad-oberdorf",
          "kreuzbachthallift-kreuzthal",
          "kreuzmoeslberg-berg",
          "kreuzweg-neuenweg-hinterheubronn",
          "laichingen",
          "laiernberg-hettingen",
          "hirschkopf-carlsfeld",
          "langenau-tettau",
          "hesel-zainingen-roemerstein",
          "laubenthal",
          "lauenhain-ludwigsstadt",
          "lautlingen-albstadt",
          "lechbruck-am-see",
          "hochkopf",
          "katzenkopf-walchensee",
          "katzenhalde-queidersbach",
          "hochsolling",
          "hoellzachersbuk-sulzbuerg-muehlhausen",
          "hohensolms",
          "hohenstein",
          "hohes-gras-kassel",
          "hoellkopf-driedorf",
          "holzhausen",
          "holzhausen-externsteine-horn-bad-meinberg",
          "huehnerfarm-ehrenfriedersdorf",
          "hundsbach",
          "ibach",
          "ilmenau",
          "kanapee-muehlheim-an-der-donau",
          "im-breiten-tal-schwabsoien",
          "im-christseifen-wingeshausen-bad-berleburg",
          "hochproeller",
          "jaegerstrasse-klingenthal",
          "johannisstein-hain-oybin",
          "jonsdorf",
          "juxkopf-spiegelberg",
          "kadernberg-schoenberg",
          "kaeppele-wittendorf-lossburg",
          "kaisersbach",
          "herzogsreut-hinterschmiding",
          "lettenberg-neuffen",
          "lichtenfels-lahm",
          "oberndorf-jossgrund",
          "neuhausen-ob-eck",
          "notschrei",
          "gutachhalde-lenzkirch-kappel",
          "guettersbach",
          "gruensteinlift-schoenau-am-koenigssee",
          "gruenbach",
          "oberer-schlossberg-oberkirnach-st-georgen",
          "oberhundem-kirchhundem",
          "grosser-feldberg-oberreifenberg-schmitten",
          "greuth-gerstetten",
          "oberstocken-tieringen",
          "haeusern",
          "goettersberg-tittling",
          "ochsenkamp-bad-fredeburg-schmallenberg",
          "ochsenstall",
          "ochsenwang",
          "partenstein",
          "pechberg-oberreifenberg-schmitten",
          "perlesreut",
          "petersthal-oy-mittelberg",
          "pfannilift-neuhaus-schliersee",
          "pfeffingen-albstadt",
          "neuhaus-am-rennweg",
          "hahn-reichshof",
          "hennenstein-trochtelfingen",
          "mauth",
          "lochwiesen-tiefenbach",
          "loeffelberg-herold-thum",
          "loeffingen-dittishausen",
          "lohwaldhaeng-lindberg",
          "heindlmuehle-wegscheid",
          "maeuseberg-daun",
          "maiergschwendt-ruhpolding",
          "markersbach",
          "heidersdorf",
          "hausen-ob-verena-hohenkarpfen",
          "hattingen",
          "lomnik-dacov-lom",
          "mertenberg-schnaittenbach",
          "hasslach-teuschnitz",
          "hasselkopf-braunlage",
          "hasenleite-ortlesbrunn",
          "monte-sperlasso-velburg",
          "hart-nusplingen",
          "monte-voggo-voggenthal-neumarkt-idopf",
          "hardenbergmoellsiepen-meinerzhagen",
          "harbecke",
          "muehlwiese-lerbach-osterode",
          "zwoelfmorgental-wernigerode",
          "doebrastoecken-schwarzenbach-am-waldnaila",
          "baalsta-haabo",
          "berghalde-penzberg",
          "beli-bor-tara",
          "beiwald-upfingen-st-johann",
          "beiningen-blaubeuren",
          "barmsee-kruen",
          "balsberg-unterwoessen",
          "auf-der-rose-altenau",
          "auerberg-bernbeuren",
          "au-webergletscher-bad-feilnbach",
          "andreasberg-auerbacherzg",
          "alebacken",
          "am-zickesberg-setzelbach-rasdorf",
          "am-wolf-herdorf",
          "am-tueppel-warstein",
          "am-hexenwaeldle-krauchenwies",
          "am-hainberg-olbernhau",
          "benneckenstein",
          "bermsgruen-schwarzenberg",
          "janina-rogaska-slatina",
          "vojsko",
          "boettingen",
          "ledinica-ziri",
          "luce",
          "masun",
          "boebrach-bernried",
          "mrzla-dolina-horjul",
          "zbojska",
          "blomberg-bad-toelzwackersberg",
          "blockhaus-reichshof",
          "blasienberg-kirchheim-am-ries",
          "grani-backen-kauniainen",
          "rudno-zelezniki",
          "ski-bor-crni-vrh",
          "birkach-herrieden",
          "bidingen",
          "althuette-waldmuenchen",
          "altenfeld",
          "bartek",
          "alte-reite-rosshaupten",
          "loisinord-noeux-les-mines",
          "rusinowa-polana",
          "sniezynka-lezyce",
          "stok-karpatka",
          "stok-relaks",
          "struznica",
          "telegraf-kielce",
          "u-gruloka-poronin",
          "wola-nieszkowska",
          "zloty-stok-w-krzeszowie",
          "tschagael-schaan",
          "les-chosalets",
          "ilz",
          "le-grand-valtin-ban-sur-meurthe-clefcy",
          "nieuwegein",
          "przy-kolibie",
          "polana-zielenska-wisla",
          "pod-wangiem",
          "gigant-zakopane",
          "alte-golfwiese-oberhof",
          "bialy-krzyz-szczyrk",
          "bor-zwardon",
          "chotarz-koscielisko",
          "porte-de-la-giraude",
          "dabrowka-suwalki",
          "payolle",
          "pod-butorowym-koscielisko",
          "karpatka-panorama",
          "kolorowa",
          "lipki-zakopane",
          "lysa-gora-sopot",
          "obidowa",
          "pietkiewiczowka",
          "borgloh-hilter-uphoefen",
          "hohenberg-rosenberg",
          "rumburk",
          "radegast-sihly-na-krasne",
          "encijan",
          "sagasserovy-boudy-velka-upa",
          "sadek-klenci-pod-cerchovem",
          "sacberk",
          "jizersky-kopec",
          "bueschergrund-freudenberg",
          "mcgregor-stare-mesto-pod-sneznikem",
          "rohy",
          "cihadlo",
          "burgbuehl-obernheim",
          "madrid-snow-zone",
          "penkavci-vrch",
          "merklin",
          "pekarov",
          "brandov",
          "borici-sjenica",
          "palkovice",
          "golija-ivanjica",
          "breitnau",
          "buchberg",
          "horni-marsov",
          "mytiny",
          "buchschirmhang-hilders",
          "bedrichovka",
          "gucevo",
          "sanov-cervena-voda",
          "bavorak-korenov",
          "semily",
          "kusici-ivanjica",
          "horal",
          "hora-svate-kateriny-st-katharinaberg",
          "hluboka-u-trhove-kamenice",
          "mitrovac-tara",
          "zlatnik-fela",
          "zbraslav-u-brna",
          "zasada",
          "kamenec-teplice-nad-metuji",
          "hamry-bystre",
          "kovarna-horni-lipova",
          "gansberg",
          "lukovska-banja",
          "bregtalliftstaatsberg-furtwangen",
          "bromskirchen-am-hohen-stein",
          "kadlecak",
          "zakouti-harrachov",
          "lumiparkki-kivikko",
          "u-pekina-zlate-hory-dolni-udoli",
          "kraljevica-zajecar",
          "brenden-uehlingen-birkendorf",
          "skipot-potucky",
          "seninka",
          "bosino",
          "eversberg-meschede",
          "sandboarding-mesaieed-doha",
          "mt-chinguacousy-brampton",
          "hirschbergarena-wickenrode-helsa",
          "hirtstein",
          "schneeerlebniswelt-seestadt-aspern-vienna",
          "schnee-erlebnisland-flattach",
          "duedinghausen-medebach",
          ". Mehliskopf",
          ". Kaltenbronn",
          ". Fahlenscheid – Olpe",
          ". Wissen",
          ". Burbach",
          ". Altenseelbach",
          "duerbheim",
          ". Stinesser Lifte – Fischen i. Allgäu",
          ". Schneeberglifte – Mitterland (Thiersee)",
          "datenberg-bad-tabarz",
          "dolberglift-saalhausen",
          ". Beuerberg",
          ". Tirolina (Haltjochlift) – Hinterthiersee",
          "snowland-gramado",
          ". Hirschberglifte – Kreuth",
          ". Hirtenteich – Essingen-Lauterburg/Aalen",
          "ski-centre-sandyford",
          ". Hohe Wand Wiese – Vienna (High Hills)",
          ". Trins",
          "daaden",
          ". Alfaierlift – Gschnitz",
          ". Hundseck – Bühlertallifte",
          ". Archenstadel – Rinn",
          "cursdorf",
          ". Kramsach",
          ". Markbuchen/Predigtstuhl (St. Englmar)",
          "collenberg-halver",
          "mount-molson-petawawa",
          "butzberg-wunsiedel",
          ". Kapellenberg (St. Englmar)",
          ". Grün-Maibrunn (St. Englmar)",
          ". Sahnehang",
          "burgbernheim",
          ". Reiserhang – Gaißach",
          ". Hunau – Bödefeld",
          "bungsberg",
          ". Hesselberg",
          "sandboarding-dubai",
          ". Bottrop (alpincenter) (indoor ski area)",
          "dollwiese-vienna",
          "am-crux-vesser-suhl",
          "am-grenzhang-tellerhaeuser-breitenbrunn",
          "langkampfen",
          "am-muehlberg-einsiedel-chemnitz",
          "dorog",
          "am-wasserturm-snow-fun-arena-dobel",
          "am-wasserturm-stollbergerzgeb",
          "ascher-rauth-fuchstal",
          "ski-india-delhi",
          "alps-ice-and-snow-world-shenzhen-window-of-the-world",
          "gagraslift-steingaden",
          "dayongshan-huaxueguan",
          "berger-hoehe-wangen-im-allgaeu",
          "funiushan-indoor-skiing-luanchuan",
          "erlenberg-thurmansbang",
          "bitz",
          "haeselgehr",
          "afriski-mountain-resort",
          "guangxiang",
          "frauenzell-brennberg",
          "snow-planet-silverdale",
          "yun-ding",
          "forstwald-neuschoenau",
          "ruixiang-ice-snow-world",
          "breckerfeld-epscheid",
          "hausberglift-waidring",
          "eschenfelden-hirschbach",
          "moosenlift-uttendorf",
          "bohl-strassberg",
          "goellsdorf-rottweil",
          "greifenstein",
          "corin-forest",
          ". Monte Kaolino – Hirschau (sand ski area)",
          ". Johanngeorgenstadt – Külliggut",
          ". Klausenlift – Mehlmeisel",
          "hatzesberg-ruderting",
          ". Hempelsberg/Geiersberg – Oberwarmensteinach",
          ". Fleckllift – Warmensteinach",
          ". Bleaml Alm – Neubau (Fichtelberg)",
          "berger-anger-berg-im-drautal",
          ". Greising – Deggendorf",
          ". Pfulb – Schopfloch (Lenningen)",
          ". Ostalb – Aalen",
          ". Im Salzwinkel – Zainingen (Römerstein)",
          "snoworld-marina-mall-abu-dhabi-planned",
          "ski-dubai-mall-of-the-emirates",
          "bawadi-mall-al-ain",
          ". Halde – Westerheim",
          ". Donnstetten (Römerstein)",
          ". Ohlstadt",
          ". Am Ried – Farchant",
          "haenscheberg-neusalza-spremberg",
          "hachenburg",
          ". Kirburg",
          ". Bischofsreut",
          ". Kirchberglifte – Kreuth",
          "breitenwang",
          ". Oedberg – Gmund-Ostin",
          ". Hanslmühle – Mauern",
          ". Hohe Bracht – Lennestadt",
          ". Rabenkopf – Oberau",
          "pfaring-angerberg",
          "floitenlift-ginzling",
          "terneuzen-skidome",
          "hohenfurch",
          "mendip-snowsport-centre",
          "runcorn-ski-centre",
          ". Harenda",
          "pontypool-ski-centre",
          "polmonthill-ski-centre",
          "plas-y-brenin",
          "pembrey-ski-slope",
          "oval-sports-centre",
          "norfolk-snowsports-club",
          "newmilns-dry-ski-slope",
          ". Witów",
          ". Bialy Potok",
          "silksworth-sports-complex",
          "loch-insh-outdoor-centre",
          "llangrannog-ski-centre",
          "llandudno-ski-and-snowboard-centre",
          "knockhatch-ski-centre",
          "kidsgrove-ski-centre",
          "kendal-ski-centre",
          "halifax-ski-centre",
          "gosling-sports-park",
          "beskidek-szczyrk",
          "glenmore-lodge",
          "sandown-ski-centre",
          "skiplex-chiswick",
          "folkestone-ski-centre",
          "torquay-alpine-ski-club",
          "ski-arena-aarhus",
          "indoorski-roedovre",
          ". Hedelands Skicenter",
          "pungrat-besnica",
          "aspen-antwerpen",
          ". Ice Mountain (indoor ski area)",
          ". Snow Valley – Peer (indoor ski area)",
          "whickham-thorns-outdoor-activity-centre",
          ". Auf der Rieder – Eschenlohe",
          "warmwell-snowsports-centre",
          "telford-ski-centre",
          "skiplex-reading",
          "tamworth-snowdome",
          "tallington-lakes",
          "swadlincote-ski-snowboard-centre",
          "summit-indoor-adventure-selby",
          "suffolk-ski-centre",
          ". Nosal – Bystre",
          "southampton-snowsport-centre",
          "snozone-castleford",
          "snowtrax-alpine-activity-centre-christchurch",
          "snow-factor-braehead-renfrew",
          "glasgow-ski-centre",
          "firpark-ski-centre",
          "kandrse-vidrga",
          "vishgora-vyshhorod",
          "czarny-kamien",
          "plateau-de-beille",
          "gora-parkowa-krynica-zdroj",
          "malego-krola",
          "malta-ski-poznan-posen",
          "park-szczesliwice-warsaw-warszawa",
          "turystyczna",
          "zegiestow",
          "les-marmousetsmassif-dorbe-bois-damont",
          "dola-planken",
          ". De Uithof (indoor ski area)",
          ". Amnéville-Les-Thermes – Snowhall (indoor ski area)",
          ". Montana Snowcenter (indoor ski area)",
          "indoor-ski-s-hertogenbosch",
          "indoorski-breda",
          "rotterdam-indoorski",
          "rucphen-skidome",
          "ski-snowboard-xperience-boskoop-alphen-aan-den-rijn",
          "skicenter-edelweiss-brummen",
          "skiindoor-landsmeer",
          "skiindoor-obdam-koggenland",
          "snowplanet",
          "smart-ski-slopes-timisoara",
          ". Le Tourchet",
          "exeter-district-ski-club",
          "bowles-snowsports-centre",
          "craigavon-ski-centre",
          "condor-dry-ski-slope",
          "christs-college-ski-club-guildford",
          "chelski-london",
          "chatham-ski-centre",
          "carlisle-snowsports",
          "st-oyen-flassin",
          "cardiff-ski-and-snowboard-centre",
          "bromley-ski-and-snowboard-centre",
          "brentwood-park-ski-and-snowboard-centre",
          "bassingbourn-snowsports-centre",
          "budzynski",
          "basingstoke-skizone",
          "ancrum-outdoor-centre",
          "bielawa",
          "alford-snow-sports-centre",
          "ackers-outdoor-activity-centre",
          ". The Snow Centre – Hemel Hempstead (indoor ski area)",
          ". Snozone – Milton Keynes (indoor ski area)",
          ". Pendle Ski Club (dry slopes)",
          ". Chill Factore – Manchester (indoor ski area)",
          ". Alpine Snowsports – Aldershot (dry slopes)",
          "sarena",
          "koeykkyri",
          "holthausen-schmallenberg",
          "oberweissbach",
          "neue-aecker-dobel",
          "neusatz-bad-herrenalb",
          "nuestenbach-mosbach",
          "oberau-berchtesgaden",
          "oberbeuren-kaufbeuren",
          "goldiwil-multenegg-heiligenschwendi",
          "oberliezheim-bissingen",
          "gsahl-hauenstein-ifenthal",
          "guarda",
          "gurten-bern",
          "oedengrub-kemnath-bei-fuhrnschwarzenfeld",
          "muehlleiten-klingenthal",
          "philippsreut",
          "snowsportcenter-utrecht",
          "horben-lindenberg",
          "reichshof-schemmerhausen",
          "richterbichl-rottenbuch",
          "snova-shin-yokohama-yokohama-city",
          "snova-mizonokuchi-r246-nagasaki-city",
          "snova-hashima-gifu",
          "rosenberg-klosterreichenbach-baiersbronn",
          "rusel",
          "muggendorf",
          "moosbach",
          "zaluzi",
          "langenberg-geiselwind",
          "idealhanglift-niederdorf-obermaiselstein",
          "im-lehen-hoechenschwand",
          "tauchnerfeld-stall",
          "kesselrain-heidelstein",
          "kohlhof-heidelberg",
          "hudsons-hope-portage-mountain",
          ". Aela – Maloja",
          ". Pontresina",
          "landerzhofen-greding",
          "landsberied",
          "laubendorf",
          "egg-hallau",
          "leinzell",
          "edelweiss-valley-ski-resort",
          "maelzerberg-schirgiswalde",
          "marmecke",
          "mauertal-soehnstetten",
          "mautgrube-oberau-berchtesgaden",
          "dalpe",
          "canada-olympic-park-calgary",
          "dicki-weisslingen",
          "dietikon",
          "schamhaupten-altmannstein",
          "les-hauderes-lhomazo",
          "schebdach-jungingen",
          "wiesen-gruob",
          "wartenberg",
          "wasentegernbach-loh-dorfen",
          "wehrsdorf-sohland-an-der-spree",
          "sitzberg-fischingen",
          "wildenthal",
          "willmandingen-skilift-laengloch",
          "wirtsberg-bartholomaeheubach",
          "trient",
          ". Jáchymov Střed",
          ". Novako – Boží Dar",
          "wildberg-schafbueel",
          "wagnershalde-messstetten",
          "longyearbyen",
          "zugerberg",
          ". Feldthurns (Velturno)",
          "vidlic-pirot",
          "akagiyama",
          "mackov-kamen-krupanj",
          "jara-park-fontaniva",
          "kosutnjak-belgrade",
          "na-smrtaku-jesenik",
          "pradis-ci-bedollo",
          "saxeten-pintli",
          "uebersfeld-marxheim",
          "scheuerfeld",
          "tuernental-fuernsal-dornhan",
          "schierling",
          "lommiswil-bitzirain",
          "lucky-aeschi",
          "mammern-klingenzell",
          "schleissberg-gickelsberg-ohorn",
          "schneckenstein-tannenbergsthal",
          "schoenberg-niederurmelsdorf-siegenburg",
          "norro-lift-adelboden",
          "nunningen",
          "schwaerzenbach-titisee-neustadt",
          "schwedenwall-hohe-hoelle",
          "orgevauxles-avants",
          "pian-san-giacomo",
          "snow-town-saigon",
          "solla-thurmansbang",
          "staffelberg-bad-staffelstein",
          "renan",
          "streckewalde-grossrueckerswalde",
          "valbergsbacken-torsby",
          "rotberg-villigen",
          ". Bläsiberg – Wiesensteig",
          "nakayamatoge-kogen",
          "nordenau-schmallenberg"
         ],
         "categoryorder": "array",
         "domain": [
          0,
          1
         ],
         "tickangle": 85,
         "title": {
          "text": "Resorts"
         }
        },
        "yaxis": {
         "anchor": "x",
         "domain": [
          0,
          1
         ],
         "title": {
          "text": "Rate"
         }
        }
       }
      }
     },
     "metadata": {},
     "output_type": "display_data"
    }
   ],
   "source": [
    "# Visualizacion de las valoraciones de cada Resort\n",
    "rate = pistas[['Nombre del Resort','Continente','Pais','Rate']].sort_values(by='Rate', ascending=False)\n",
    "\n",
    "rate['Orden'] = range(len(rate))\n",
    "\n",
    "resort_order = rate.sort_values(by='Orden')['Nombre del Resort'].unique()\n",
    "\n",
    "fig = px.bar(rate.head(20), x='Nombre del Resort', y='Rate', color='Continente',\n",
    "                category_orders={'Nombre del Resort': resort_order},\n",
    "             labels={'Nombre del Resort': 'Resorts', 'Rate': 'Rate'},\n",
    "             hover_data=['Continente'], text='Rate')\n",
    "\n",
    "fig.update_layout(title_text='Valoración', xaxis_tickangle=85, width=1000, height=800)\n",
    "fig.update_xaxes(title = 'Resorts')\n",
    "fig.update_yaxes(title = 'Rate')\n",
    "\n",
    "fig.show()"
   ]
  },
  {
   "cell_type": "code",
   "execution_count": 53,
   "metadata": {},
   "outputs": [
    {
     "data": {
      "text/plain": [
       "<AxesSubplot: xlabel='Continente', ylabel='Precio'>"
      ]
     },
     "execution_count": 53,
     "metadata": {},
     "output_type": "execute_result"
    },
    {
     "data": {
      "image/png": "[encoded data removed]",
      "text/plain": [
       "<Figure size 1200x600 with 1 Axes>"
      ]
     },
     "metadata": {},
     "output_type": "display_data"
    }
   ],
   "source": [
    "# Box Plot con los precios por contienete \n",
    "\n",
    "# Con esto ordenamos los continentes para que se vean ordenados, tan solo los continentes y esto lo sacamos con index.\n",
    "pistas_orden = pistas.groupby('Continente')[['Precio']].mean().sort_values(ascending=False, by='Precio').index\n",
    " \n",
    "plt.figure(figsize=(12,6))\n",
    "sns.boxplot(x = pistas['Continente'],y = pistas['Precio'], order=pistas_orden)"
   ]
  }
 ],
 "metadata": {
  "kernelspec": {
   "display_name": "toolkit",
   "language": "python",
   "name": "python3"
  },
  "language_info": {
   "codemirror_mode": {
    "name": "ipython",
    "version": 3
   },
   "file_extension": ".py",
   "mimetype": "text/x-python",
   "name": "python",
   "nbconvert_exporter": "python",
   "pygments_lexer": "ipython3",
   "version": "3.10.9"
  },
  "orig_nbformat": 4
 },
 "nbformat": 4,
 "nbformat_minor": 2
}
