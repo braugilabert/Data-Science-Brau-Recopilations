{
 "cells": [
  {
   "cell_type": "markdown",
   "id": "34eae0bc",
   "metadata": {
    "id": "34eae0bc"
   },
   "source": [
    "<img src=\"https://www.aseafi.es/wp-content/uploads/2020/09/Afi-Escuela.png\" alt=\"Drawing\" width=\"300\"/>\n",
    "\n",
    "# Preprocesado de la información\n",
    "\n",
    "\n",
    "**Verónica Ruiz Méndez - Septiembre 2022**\n",
    "\n",
    "Curso Introducción a Machine Learning - Afi Escuela de Finanzas\n",
    "\n",
    "*Autor*: [Verónica Ruiz Méndez](https://www.linkedin.com/in/veronica-ruiz-mendez/) "
   ]
  },
  {
   "cell_type": "markdown",
   "id": "ca561817",
   "metadata": {
    "id": "ca561817"
   },
   "source": [
    "Los datos han sido obtenidos del siguiente [enlace](https://github.com/datadista/datasets/tree/master/COVID%2019)."
   ]
  },
  {
   "cell_type": "code",
   "execution_count": 1,
   "id": "35b4f01b",
   "metadata": {
    "id": "35b4f01b"
   },
   "outputs": [],
   "source": [
    "import pandas as pd\n",
    "import numpy as np\n",
    "import matplotlib.pyplot as plt\n",
    "import seaborn as sns"
   ]
  },
  {
   "cell_type": "markdown",
   "id": "WIQ6PxPBXusJ",
   "metadata": {
    "id": "WIQ6PxPBXusJ"
   },
   "source": [
    "Ejecutamos las siguientes líneas para poder conectarnos con nuestros documentos de Drive."
   ]
  },
  {
   "cell_type": "code",
   "execution_count": 3,
   "id": "kGTGgneoXtlJ",
   "metadata": {
    "colab": {
     "base_uri": "https://localhost:8080/"
    },
    "id": "kGTGgneoXtlJ",
    "outputId": "9242f87f-7ed5-45b4-ab88-f393a8251ef0"
   },
   "outputs": [
    {
     "name": "stdout",
     "output_type": "stream",
     "text": [
      "Mounted at /content/drive\n"
     ]
    }
   ],
   "source": [
    "from google.colab import drive\n",
    "drive.mount('/content/drive')"
   ]
  },
  {
   "cell_type": "code",
   "execution_count": 4,
   "id": "ACPKt2LDX0qs",
   "metadata": {
    "colab": {
     "base_uri": "https://localhost:8080/"
    },
    "id": "ACPKt2LDX0qs",
    "outputId": "a8fe1883-9bc2-44ee-916a-17046f9a6d26"
   },
   "outputs": [
    {
     "name": "stdout",
     "output_type": "stream",
     "text": [
      "/content/drive/My Drive/CLASES/IntroduccionDS/Ejemplos\n"
     ]
    }
   ],
   "source": [
    "%cd drive/My Drive/CLASES/IntroduccionDS/Ejemplos"
   ]
  },
  {
   "cell_type": "code",
   "execution_count": 3,
   "id": "c907cbfd",
   "metadata": {
    "id": "c907cbfd"
   },
   "outputs": [],
   "source": [
    "df = pd.read_csv('data/new_ccaa_covid19_datos_sanidad_nueva_serie.csv')"
   ]
  },
  {
   "cell_type": "code",
   "execution_count": 4,
   "id": "c08c50d1",
   "metadata": {
    "colab": {
     "base_uri": "https://localhost:8080/",
     "height": 424
    },
    "id": "c08c50d1",
    "outputId": "b7234758-1088-4b40-9306-e05be6102d03"
   },
   "outputs": [
    {
     "data": {
      "text/html": [
       "<div>\n",
       "<style scoped>\n",
       "    .dataframe tbody tr th:only-of-type {\n",
       "        vertical-align: middle;\n",
       "    }\n",
       "\n",
       "    .dataframe tbody tr th {\n",
       "        vertical-align: top;\n",
       "    }\n",
       "\n",
       "    .dataframe thead th {\n",
       "        text-align: right;\n",
       "    }\n",
       "</style>\n",
       "<table border=\"1\" class=\"dataframe\">\n",
       "  <thead>\n",
       "    <tr style=\"text-align: right;\">\n",
       "      <th></th>\n",
       "      <th>Fecha;cod_ine;CCAA;Casos;Fallecidos;Hospitalizados;UCI</th>\n",
       "    </tr>\n",
       "  </thead>\n",
       "  <tbody>\n",
       "    <tr>\n",
       "      <th>0</th>\n",
       "      <td>2020-01-01;0;No consta;0;0;0;0.0</td>\n",
       "    </tr>\n",
       "    <tr>\n",
       "      <th>1</th>\n",
       "      <td>2020-01-01;1;Andalucía;0;0;3;0.0</td>\n",
       "    </tr>\n",
       "    <tr>\n",
       "      <th>2</th>\n",
       "      <td>2020-01-01;2;Aragón;0;0;0;0.0</td>\n",
       "    </tr>\n",
       "    <tr>\n",
       "      <th>3</th>\n",
       "      <td>2020-01-01;3;Asturias;0;0;0;0.0</td>\n",
       "    </tr>\n",
       "    <tr>\n",
       "      <th>4</th>\n",
       "      <td>2020-01-01;4;Baleares;0;0;0;</td>\n",
       "    </tr>\n",
       "    <tr>\n",
       "      <th>...</th>\n",
       "      <td>...</td>\n",
       "    </tr>\n",
       "    <tr>\n",
       "      <th>16235</th>\n",
       "      <td>2022-03-22;15;Navarra;0;0;0;0.0</td>\n",
       "    </tr>\n",
       "    <tr>\n",
       "      <th>16236</th>\n",
       "      <td>2022-03-22;16;País Vasco;41;0;0;0.0</td>\n",
       "    </tr>\n",
       "    <tr>\n",
       "      <th>16237</th>\n",
       "      <td>2022-03-22;17;La Rioja;0;0;0;0.0</td>\n",
       "    </tr>\n",
       "    <tr>\n",
       "      <th>16238</th>\n",
       "      <td>2022-03-22;18;Ceuta;6;0;0;0.0</td>\n",
       "    </tr>\n",
       "    <tr>\n",
       "      <th>16239</th>\n",
       "      <td>2022-03-22;19;Melilla;0;0;0;0.0</td>\n",
       "    </tr>\n",
       "  </tbody>\n",
       "</table>\n",
       "<p>16240 rows × 1 columns</p>\n",
       "</div>"
      ],
      "text/plain": [
       "      Fecha;cod_ine;CCAA;Casos;Fallecidos;Hospitalizados;UCI\n",
       "0                       2020-01-01;0;No consta;0;0;0;0.0    \n",
       "1                       2020-01-01;1;Andalucía;0;0;3;0.0    \n",
       "2                          2020-01-01;2;Aragón;0;0;0;0.0    \n",
       "3                        2020-01-01;3;Asturias;0;0;0;0.0    \n",
       "4                           2020-01-01;4;Baleares;0;0;0;    \n",
       "...                                                  ...    \n",
       "16235                    2022-03-22;15;Navarra;0;0;0;0.0    \n",
       "16236                2022-03-22;16;País Vasco;41;0;0;0.0    \n",
       "16237                   2022-03-22;17;La Rioja;0;0;0;0.0    \n",
       "16238                      2022-03-22;18;Ceuta;6;0;0;0.0    \n",
       "16239                    2022-03-22;19;Melilla;0;0;0;0.0    \n",
       "\n",
       "[16240 rows x 1 columns]"
      ]
     },
     "execution_count": 4,
     "metadata": {},
     "output_type": "execute_result"
    }
   ],
   "source": [
    "df"
   ]
  },
  {
   "cell_type": "markdown",
   "id": "68fd63a2",
   "metadata": {
    "id": "68fd63a2"
   },
   "source": [
    "<font color='#d64040'>**¡CUIDADO!**</font> Hay que indicar el separador utilizado en el set de datos para leerlo correctamente."
   ]
  },
  {
   "cell_type": "code",
   "execution_count": 5,
   "id": "f01e067e",
   "metadata": {
    "id": "f01e067e"
   },
   "outputs": [],
   "source": [
    "df = pd.read_csv('data/new_ccaa_covid19_datos_sanidad_nueva_serie.csv', sep=';')"
   ]
  },
  {
   "cell_type": "code",
   "execution_count": 6,
   "id": "9195df4c",
   "metadata": {
    "colab": {
     "base_uri": "https://localhost:8080/",
     "height": 424
    },
    "id": "9195df4c",
    "outputId": "5c2cc10d-54a3-4e3a-c5cf-9397b2149603"
   },
   "outputs": [
    {
     "data": {
      "text/html": [
       "<div>\n",
       "<style scoped>\n",
       "    .dataframe tbody tr th:only-of-type {\n",
       "        vertical-align: middle;\n",
       "    }\n",
       "\n",
       "    .dataframe tbody tr th {\n",
       "        vertical-align: top;\n",
       "    }\n",
       "\n",
       "    .dataframe thead th {\n",
       "        text-align: right;\n",
       "    }\n",
       "</style>\n",
       "<table border=\"1\" class=\"dataframe\">\n",
       "  <thead>\n",
       "    <tr style=\"text-align: right;\">\n",
       "      <th></th>\n",
       "      <th>Fecha</th>\n",
       "      <th>cod_ine</th>\n",
       "      <th>CCAA</th>\n",
       "      <th>Casos</th>\n",
       "      <th>Fallecidos</th>\n",
       "      <th>Hospitalizados</th>\n",
       "      <th>UCI</th>\n",
       "    </tr>\n",
       "  </thead>\n",
       "  <tbody>\n",
       "    <tr>\n",
       "      <th>0</th>\n",
       "      <td>2020-01-01</td>\n",
       "      <td>0</td>\n",
       "      <td>No consta</td>\n",
       "      <td>0</td>\n",
       "      <td>0</td>\n",
       "      <td>0</td>\n",
       "      <td>0.0</td>\n",
       "    </tr>\n",
       "    <tr>\n",
       "      <th>1</th>\n",
       "      <td>2020-01-01</td>\n",
       "      <td>1</td>\n",
       "      <td>Andalucía</td>\n",
       "      <td>0</td>\n",
       "      <td>0</td>\n",
       "      <td>3</td>\n",
       "      <td>0.0</td>\n",
       "    </tr>\n",
       "    <tr>\n",
       "      <th>2</th>\n",
       "      <td>2020-01-01</td>\n",
       "      <td>2</td>\n",
       "      <td>Aragón</td>\n",
       "      <td>0</td>\n",
       "      <td>0</td>\n",
       "      <td>0</td>\n",
       "      <td>0.0</td>\n",
       "    </tr>\n",
       "    <tr>\n",
       "      <th>3</th>\n",
       "      <td>2020-01-01</td>\n",
       "      <td>3</td>\n",
       "      <td>Asturias</td>\n",
       "      <td>0</td>\n",
       "      <td>0</td>\n",
       "      <td>0</td>\n",
       "      <td>0.0</td>\n",
       "    </tr>\n",
       "    <tr>\n",
       "      <th>4</th>\n",
       "      <td>2020-01-01</td>\n",
       "      <td>4</td>\n",
       "      <td>Baleares</td>\n",
       "      <td>0</td>\n",
       "      <td>0</td>\n",
       "      <td>0</td>\n",
       "      <td>NaN</td>\n",
       "    </tr>\n",
       "    <tr>\n",
       "      <th>...</th>\n",
       "      <td>...</td>\n",
       "      <td>...</td>\n",
       "      <td>...</td>\n",
       "      <td>...</td>\n",
       "      <td>...</td>\n",
       "      <td>...</td>\n",
       "      <td>...</td>\n",
       "    </tr>\n",
       "    <tr>\n",
       "      <th>16235</th>\n",
       "      <td>2022-03-22</td>\n",
       "      <td>15</td>\n",
       "      <td>Navarra</td>\n",
       "      <td>0</td>\n",
       "      <td>0</td>\n",
       "      <td>0</td>\n",
       "      <td>0.0</td>\n",
       "    </tr>\n",
       "    <tr>\n",
       "      <th>16236</th>\n",
       "      <td>2022-03-22</td>\n",
       "      <td>16</td>\n",
       "      <td>País Vasco</td>\n",
       "      <td>41</td>\n",
       "      <td>0</td>\n",
       "      <td>0</td>\n",
       "      <td>0.0</td>\n",
       "    </tr>\n",
       "    <tr>\n",
       "      <th>16237</th>\n",
       "      <td>2022-03-22</td>\n",
       "      <td>17</td>\n",
       "      <td>La Rioja</td>\n",
       "      <td>0</td>\n",
       "      <td>0</td>\n",
       "      <td>0</td>\n",
       "      <td>0.0</td>\n",
       "    </tr>\n",
       "    <tr>\n",
       "      <th>16238</th>\n",
       "      <td>2022-03-22</td>\n",
       "      <td>18</td>\n",
       "      <td>Ceuta</td>\n",
       "      <td>6</td>\n",
       "      <td>0</td>\n",
       "      <td>0</td>\n",
       "      <td>0.0</td>\n",
       "    </tr>\n",
       "    <tr>\n",
       "      <th>16239</th>\n",
       "      <td>2022-03-22</td>\n",
       "      <td>19</td>\n",
       "      <td>Melilla</td>\n",
       "      <td>0</td>\n",
       "      <td>0</td>\n",
       "      <td>0</td>\n",
       "      <td>0.0</td>\n",
       "    </tr>\n",
       "  </tbody>\n",
       "</table>\n",
       "<p>16240 rows × 7 columns</p>\n",
       "</div>"
      ],
      "text/plain": [
       "            Fecha  cod_ine        CCAA  Casos  Fallecidos  Hospitalizados  UCI\n",
       "0      2020-01-01        0   No consta      0           0               0  0.0\n",
       "1      2020-01-01        1   Andalucía      0           0               3  0.0\n",
       "2      2020-01-01        2      Aragón      0           0               0  0.0\n",
       "3      2020-01-01        3    Asturias      0           0               0  0.0\n",
       "4      2020-01-01        4    Baleares      0           0               0  NaN\n",
       "...           ...      ...         ...    ...         ...             ...  ...\n",
       "16235  2022-03-22       15     Navarra      0           0               0  0.0\n",
       "16236  2022-03-22       16  País Vasco     41           0               0  0.0\n",
       "16237  2022-03-22       17    La Rioja      0           0               0  0.0\n",
       "16238  2022-03-22       18       Ceuta      6           0               0  0.0\n",
       "16239  2022-03-22       19     Melilla      0           0               0  0.0\n",
       "\n",
       "[16240 rows x 7 columns]"
      ]
     },
     "execution_count": 6,
     "metadata": {},
     "output_type": "execute_result"
    }
   ],
   "source": [
    "df"
   ]
  },
  {
   "cell_type": "markdown",
   "id": "b62e2bb0",
   "metadata": {
    "id": "b62e2bb0"
   },
   "source": [
    "Comprobamos las dimensiones de nuestro set de datos."
   ]
  },
  {
   "cell_type": "code",
   "execution_count": 9,
   "id": "14910872",
   "metadata": {
    "colab": {
     "base_uri": "https://localhost:8080/"
    },
    "id": "14910872",
    "outputId": "8a406669-1e9a-4d78-ba44-58ad1ebfba62"
   },
   "outputs": [
    {
     "data": {
      "text/plain": [
       "(16240, 7)"
      ]
     },
     "execution_count": 9,
     "metadata": {},
     "output_type": "execute_result"
    }
   ],
   "source": [
    "df.shape"
   ]
  },
  {
   "cell_type": "markdown",
   "id": "309b0cd8",
   "metadata": {
    "id": "309b0cd8"
   },
   "source": [
    "Para cada variable, obtenemos sus estadísticos."
   ]
  },
  {
   "cell_type": "code",
   "execution_count": 10,
   "id": "098ea51c",
   "metadata": {
    "colab": {
     "base_uri": "https://localhost:8080/",
     "height": 300
    },
    "id": "098ea51c",
    "outputId": "9e8131f8-044b-470c-d1d9-f2368ae2e563"
   },
   "outputs": [
    {
     "data": {
      "text/html": [
       "\n",
       "  <div id=\"df-73004e77-a0e6-4537-a851-eceb89953c7c\">\n",
       "    <div class=\"colab-df-container\">\n",
       "      <div>\n",
       "<style scoped>\n",
       "    .dataframe tbody tr th:only-of-type {\n",
       "        vertical-align: middle;\n",
       "    }\n",
       "\n",
       "    .dataframe tbody tr th {\n",
       "        vertical-align: top;\n",
       "    }\n",
       "\n",
       "    .dataframe thead th {\n",
       "        text-align: right;\n",
       "    }\n",
       "</style>\n",
       "<table border=\"1\" class=\"dataframe\">\n",
       "  <thead>\n",
       "    <tr style=\"text-align: right;\">\n",
       "      <th></th>\n",
       "      <th>cod_ine</th>\n",
       "      <th>Casos</th>\n",
       "      <th>Fallecidos</th>\n",
       "      <th>Hospitalizados</th>\n",
       "      <th>UCI</th>\n",
       "    </tr>\n",
       "  </thead>\n",
       "  <tbody>\n",
       "    <tr>\n",
       "      <th>count</th>\n",
       "      <td>16240.000000</td>\n",
       "      <td>16240.000000</td>\n",
       "      <td>16240.000000</td>\n",
       "      <td>16240.000000</td>\n",
       "      <td>16237.000000</td>\n",
       "    </tr>\n",
       "    <tr>\n",
       "      <th>mean</th>\n",
       "      <td>9.500000</td>\n",
       "      <td>702.638116</td>\n",
       "      <td>6.288116</td>\n",
       "      <td>31.466687</td>\n",
       "      <td>2.999877</td>\n",
       "    </tr>\n",
       "    <tr>\n",
       "      <th>std</th>\n",
       "      <td>5.766459</td>\n",
       "      <td>2132.534557</td>\n",
       "      <td>16.083299</td>\n",
       "      <td>75.481605</td>\n",
       "      <td>6.543758</td>\n",
       "    </tr>\n",
       "    <tr>\n",
       "      <th>min</th>\n",
       "      <td>0.000000</td>\n",
       "      <td>0.000000</td>\n",
       "      <td>0.000000</td>\n",
       "      <td>0.000000</td>\n",
       "      <td>0.000000</td>\n",
       "    </tr>\n",
       "    <tr>\n",
       "      <th>25%</th>\n",
       "      <td>4.750000</td>\n",
       "      <td>21.000000</td>\n",
       "      <td>0.000000</td>\n",
       "      <td>2.000000</td>\n",
       "      <td>0.000000</td>\n",
       "    </tr>\n",
       "    <tr>\n",
       "      <th>50%</th>\n",
       "      <td>9.500000</td>\n",
       "      <td>124.000000</td>\n",
       "      <td>1.000000</td>\n",
       "      <td>9.000000</td>\n",
       "      <td>1.000000</td>\n",
       "    </tr>\n",
       "    <tr>\n",
       "      <th>75%</th>\n",
       "      <td>14.250000</td>\n",
       "      <td>499.000000</td>\n",
       "      <td>6.000000</td>\n",
       "      <td>30.000000</td>\n",
       "      <td>3.000000</td>\n",
       "    </tr>\n",
       "    <tr>\n",
       "      <th>max</th>\n",
       "      <td>19.000000</td>\n",
       "      <td>46222.000000</td>\n",
       "      <td>334.000000</td>\n",
       "      <td>1934.000000</td>\n",
       "      <td>135.000000</td>\n",
       "    </tr>\n",
       "  </tbody>\n",
       "</table>\n",
       "</div>\n",
       "      <button class=\"colab-df-convert\" onclick=\"convertToInteractive('df-73004e77-a0e6-4537-a851-eceb89953c7c')\"\n",
       "              title=\"Convert this dataframe to an interactive table.\"\n",
       "              style=\"display:none;\">\n",
       "        \n",
       "  <svg xmlns=\"http://www.w3.org/2000/svg\" height=\"24px\"viewBox=\"0 0 24 24\"\n",
       "       width=\"24px\">\n",
       "    <path d=\"M0 0h24v24H0V0z\" fill=\"none\"/>\n",
       "    <path d=\"M18.56 5.44l.94 2.06.94-2.06 2.06-.94-2.06-.94-.94-2.06-.94 2.06-2.06.94zm-11 1L8.5 8.5l.94-2.06 2.06-.94-2.06-.94L8.5 2.5l-.94 2.06-2.06.94zm10 10l.94 2.06.94-2.06 2.06-.94-2.06-.94-.94-2.06-.94 2.06-2.06.94z\"/><path d=\"M17.41 7.96l-1.37-1.37c-.4-.4-.92-.59-1.43-.59-.52 0-1.04.2-1.43.59L10.3 9.45l-7.72 7.72c-.78.78-.78 2.05 0 2.83L4 21.41c.39.39.9.59 1.41.59.51 0 1.02-.2 1.41-.59l7.78-7.78 2.81-2.81c.8-.78.8-2.07 0-2.86zM5.41 20L4 18.59l7.72-7.72 1.47 1.35L5.41 20z\"/>\n",
       "  </svg>\n",
       "      </button>\n",
       "      \n",
       "  <style>\n",
       "    .colab-df-container {\n",
       "      display:flex;\n",
       "      flex-wrap:wrap;\n",
       "      gap: 12px;\n",
       "    }\n",
       "\n",
       "    .colab-df-convert {\n",
       "      background-color: #E8F0FE;\n",
       "      border: none;\n",
       "      border-radius: 50%;\n",
       "      cursor: pointer;\n",
       "      display: none;\n",
       "      fill: #1967D2;\n",
       "      height: 32px;\n",
       "      padding: 0 0 0 0;\n",
       "      width: 32px;\n",
       "    }\n",
       "\n",
       "    .colab-df-convert:hover {\n",
       "      background-color: #E2EBFA;\n",
       "      box-shadow: 0px 1px 2px rgba(60, 64, 67, 0.3), 0px 1px 3px 1px rgba(60, 64, 67, 0.15);\n",
       "      fill: #174EA6;\n",
       "    }\n",
       "\n",
       "    [theme=dark] .colab-df-convert {\n",
       "      background-color: #3B4455;\n",
       "      fill: #D2E3FC;\n",
       "    }\n",
       "\n",
       "    [theme=dark] .colab-df-convert:hover {\n",
       "      background-color: #434B5C;\n",
       "      box-shadow: 0px 1px 3px 1px rgba(0, 0, 0, 0.15);\n",
       "      filter: drop-shadow(0px 1px 2px rgba(0, 0, 0, 0.3));\n",
       "      fill: #FFFFFF;\n",
       "    }\n",
       "  </style>\n",
       "\n",
       "      <script>\n",
       "        const buttonEl =\n",
       "          document.querySelector('#df-73004e77-a0e6-4537-a851-eceb89953c7c button.colab-df-convert');\n",
       "        buttonEl.style.display =\n",
       "          google.colab.kernel.accessAllowed ? 'block' : 'none';\n",
       "\n",
       "        async function convertToInteractive(key) {\n",
       "          const element = document.querySelector('#df-73004e77-a0e6-4537-a851-eceb89953c7c');\n",
       "          const dataTable =\n",
       "            await google.colab.kernel.invokeFunction('convertToInteractive',\n",
       "                                                     [key], {});\n",
       "          if (!dataTable) return;\n",
       "\n",
       "          const docLinkHtml = 'Like what you see? Visit the ' +\n",
       "            '<a target=\"_blank\" href=https://colab.research.google.com/notebooks/data_table.ipynb>data table notebook</a>'\n",
       "            + ' to learn more about interactive tables.';\n",
       "          element.innerHTML = '';\n",
       "          dataTable['output_type'] = 'display_data';\n",
       "          await google.colab.output.renderOutput(dataTable, element);\n",
       "          const docLink = document.createElement('div');\n",
       "          docLink.innerHTML = docLinkHtml;\n",
       "          element.appendChild(docLink);\n",
       "        }\n",
       "      </script>\n",
       "    </div>\n",
       "  </div>\n",
       "  "
      ],
      "text/plain": [
       "            cod_ine         Casos    Fallecidos  Hospitalizados           UCI\n",
       "count  16240.000000  16240.000000  16240.000000    16240.000000  16237.000000\n",
       "mean       9.500000    702.638116      6.288116       31.466687      2.999877\n",
       "std        5.766459   2132.534557     16.083299       75.481605      6.543758\n",
       "min        0.000000      0.000000      0.000000        0.000000      0.000000\n",
       "25%        4.750000     21.000000      0.000000        2.000000      0.000000\n",
       "50%        9.500000    124.000000      1.000000        9.000000      1.000000\n",
       "75%       14.250000    499.000000      6.000000       30.000000      3.000000\n",
       "max       19.000000  46222.000000    334.000000     1934.000000    135.000000"
      ]
     },
     "execution_count": 10,
     "metadata": {},
     "output_type": "execute_result"
    }
   ],
   "source": [
    "df.describe()"
   ]
  },
  {
   "cell_type": "markdown",
   "id": "ed1414ae",
   "metadata": {
    "id": "ed1414ae"
   },
   "source": [
    "Detectamos que la variable UCI contiene algunos missings values, comprobamos que esto es cierto."
   ]
  },
  {
   "cell_type": "markdown",
   "id": "45c37bab",
   "metadata": {
    "id": "45c37bab"
   },
   "source": [
    "### Missing values"
   ]
  },
  {
   "cell_type": "code",
   "execution_count": null,
   "id": "a750d5ed",
   "metadata": {
    "id": "a750d5ed"
   },
   "outputs": [],
   "source": [
    "df.isnull()"
   ]
  },
  {
   "cell_type": "code",
   "execution_count": null,
   "id": "2649f20e",
   "metadata": {
    "id": "2649f20e",
    "outputId": "a38101f4-1a6e-4ffb-bfcc-beefe64ddf63"
   },
   "outputs": [
    {
     "data": {
      "text/html": [
       "<div>\n",
       "<style scoped>\n",
       "    .dataframe tbody tr th:only-of-type {\n",
       "        vertical-align: middle;\n",
       "    }\n",
       "\n",
       "    .dataframe tbody tr th {\n",
       "        vertical-align: top;\n",
       "    }\n",
       "\n",
       "    .dataframe thead th {\n",
       "        text-align: right;\n",
       "    }\n",
       "</style>\n",
       "<table border=\"1\" class=\"dataframe\">\n",
       "  <thead>\n",
       "    <tr style=\"text-align: right;\">\n",
       "      <th></th>\n",
       "      <th>Fecha</th>\n",
       "      <th>cod_ine</th>\n",
       "      <th>CCAA</th>\n",
       "      <th>Casos</th>\n",
       "      <th>Fallecidos</th>\n",
       "      <th>Hospitalizados</th>\n",
       "      <th>UCI</th>\n",
       "    </tr>\n",
       "  </thead>\n",
       "  <tbody>\n",
       "    <tr>\n",
       "      <th>0</th>\n",
       "      <td>True</td>\n",
       "      <td>True</td>\n",
       "      <td>True</td>\n",
       "      <td>True</td>\n",
       "      <td>True</td>\n",
       "      <td>True</td>\n",
       "      <td>True</td>\n",
       "    </tr>\n",
       "    <tr>\n",
       "      <th>1</th>\n",
       "      <td>True</td>\n",
       "      <td>True</td>\n",
       "      <td>True</td>\n",
       "      <td>True</td>\n",
       "      <td>True</td>\n",
       "      <td>True</td>\n",
       "      <td>True</td>\n",
       "    </tr>\n",
       "    <tr>\n",
       "      <th>2</th>\n",
       "      <td>True</td>\n",
       "      <td>True</td>\n",
       "      <td>True</td>\n",
       "      <td>True</td>\n",
       "      <td>True</td>\n",
       "      <td>True</td>\n",
       "      <td>True</td>\n",
       "    </tr>\n",
       "    <tr>\n",
       "      <th>3</th>\n",
       "      <td>True</td>\n",
       "      <td>True</td>\n",
       "      <td>True</td>\n",
       "      <td>True</td>\n",
       "      <td>True</td>\n",
       "      <td>True</td>\n",
       "      <td>True</td>\n",
       "    </tr>\n",
       "    <tr>\n",
       "      <th>4</th>\n",
       "      <td>True</td>\n",
       "      <td>True</td>\n",
       "      <td>True</td>\n",
       "      <td>True</td>\n",
       "      <td>True</td>\n",
       "      <td>True</td>\n",
       "      <td>False</td>\n",
       "    </tr>\n",
       "    <tr>\n",
       "      <th>...</th>\n",
       "      <td>...</td>\n",
       "      <td>...</td>\n",
       "      <td>...</td>\n",
       "      <td>...</td>\n",
       "      <td>...</td>\n",
       "      <td>...</td>\n",
       "      <td>...</td>\n",
       "    </tr>\n",
       "    <tr>\n",
       "      <th>16235</th>\n",
       "      <td>True</td>\n",
       "      <td>True</td>\n",
       "      <td>True</td>\n",
       "      <td>True</td>\n",
       "      <td>True</td>\n",
       "      <td>True</td>\n",
       "      <td>True</td>\n",
       "    </tr>\n",
       "    <tr>\n",
       "      <th>16236</th>\n",
       "      <td>True</td>\n",
       "      <td>True</td>\n",
       "      <td>True</td>\n",
       "      <td>True</td>\n",
       "      <td>True</td>\n",
       "      <td>True</td>\n",
       "      <td>True</td>\n",
       "    </tr>\n",
       "    <tr>\n",
       "      <th>16237</th>\n",
       "      <td>True</td>\n",
       "      <td>True</td>\n",
       "      <td>True</td>\n",
       "      <td>True</td>\n",
       "      <td>True</td>\n",
       "      <td>True</td>\n",
       "      <td>True</td>\n",
       "    </tr>\n",
       "    <tr>\n",
       "      <th>16238</th>\n",
       "      <td>True</td>\n",
       "      <td>True</td>\n",
       "      <td>True</td>\n",
       "      <td>True</td>\n",
       "      <td>True</td>\n",
       "      <td>True</td>\n",
       "      <td>True</td>\n",
       "    </tr>\n",
       "    <tr>\n",
       "      <th>16239</th>\n",
       "      <td>True</td>\n",
       "      <td>True</td>\n",
       "      <td>True</td>\n",
       "      <td>True</td>\n",
       "      <td>True</td>\n",
       "      <td>True</td>\n",
       "      <td>True</td>\n",
       "    </tr>\n",
       "  </tbody>\n",
       "</table>\n",
       "<p>16240 rows × 7 columns</p>\n",
       "</div>"
      ],
      "text/plain": [
       "       Fecha  cod_ine  CCAA  Casos  Fallecidos  Hospitalizados    UCI\n",
       "0       True     True  True   True        True            True   True\n",
       "1       True     True  True   True        True            True   True\n",
       "2       True     True  True   True        True            True   True\n",
       "3       True     True  True   True        True            True   True\n",
       "4       True     True  True   True        True            True  False\n",
       "...      ...      ...   ...    ...         ...             ...    ...\n",
       "16235   True     True  True   True        True            True   True\n",
       "16236   True     True  True   True        True            True   True\n",
       "16237   True     True  True   True        True            True   True\n",
       "16238   True     True  True   True        True            True   True\n",
       "16239   True     True  True   True        True            True   True\n",
       "\n",
       "[16240 rows x 7 columns]"
      ]
     },
     "execution_count": 9,
     "metadata": {},
     "output_type": "execute_result"
    }
   ],
   "source": [
    "df.notnull()"
   ]
  },
  {
   "cell_type": "code",
   "execution_count": null,
   "id": "3812e283",
   "metadata": {
    "id": "3812e283",
    "outputId": "b72bc8d2-ddb2-4685-d6df-9d4a54395ee8"
   },
   "outputs": [
    {
     "data": {
      "text/plain": [
       "Fecha             0\n",
       "cod_ine           0\n",
       "CCAA              0\n",
       "Casos             0\n",
       "Fallecidos        0\n",
       "Hospitalizados    0\n",
       "UCI               3\n",
       "dtype: int64"
      ]
     },
     "execution_count": 42,
     "metadata": {},
     "output_type": "execute_result"
    }
   ],
   "source": [
    "df.isna().sum()"
   ]
  },
  {
   "cell_type": "markdown",
   "id": "f1dea906",
   "metadata": {
    "id": "f1dea906"
   },
   "source": [
    "Comprobamos que, efectivamente, tres de los registros de la variable UCI contienen missing values. \n",
    "\n",
    "Podemos eliminarlos o imputarlos."
   ]
  },
  {
   "cell_type": "code",
   "execution_count": null,
   "id": "a61c0816",
   "metadata": {
    "id": "a61c0816",
    "outputId": "e0f78cc5-8bff-480a-a503-b1be5b7d3221"
   },
   "outputs": [
    {
     "data": {
      "text/html": [
       "<div>\n",
       "<style scoped>\n",
       "    .dataframe tbody tr th:only-of-type {\n",
       "        vertical-align: middle;\n",
       "    }\n",
       "\n",
       "    .dataframe tbody tr th {\n",
       "        vertical-align: top;\n",
       "    }\n",
       "\n",
       "    .dataframe thead th {\n",
       "        text-align: right;\n",
       "    }\n",
       "</style>\n",
       "<table border=\"1\" class=\"dataframe\">\n",
       "  <thead>\n",
       "    <tr style=\"text-align: right;\">\n",
       "      <th></th>\n",
       "      <th>Fecha</th>\n",
       "      <th>cod_ine</th>\n",
       "      <th>CCAA</th>\n",
       "      <th>Casos</th>\n",
       "      <th>Fallecidos</th>\n",
       "      <th>Hospitalizados</th>\n",
       "      <th>UCI</th>\n",
       "    </tr>\n",
       "  </thead>\n",
       "  <tbody>\n",
       "    <tr>\n",
       "      <th>4</th>\n",
       "      <td>2020-01-01</td>\n",
       "      <td>4</td>\n",
       "      <td>Baleares</td>\n",
       "      <td>0</td>\n",
       "      <td>0</td>\n",
       "      <td>0</td>\n",
       "      <td>NaN</td>\n",
       "    </tr>\n",
       "    <tr>\n",
       "      <th>65</th>\n",
       "      <td>2020-01-04</td>\n",
       "      <td>5</td>\n",
       "      <td>Canarias</td>\n",
       "      <td>0</td>\n",
       "      <td>0</td>\n",
       "      <td>0</td>\n",
       "      <td>NaN</td>\n",
       "    </tr>\n",
       "    <tr>\n",
       "      <th>1068</th>\n",
       "      <td>2020-02-23</td>\n",
       "      <td>8</td>\n",
       "      <td>Castilla La Mancha</td>\n",
       "      <td>0</td>\n",
       "      <td>0</td>\n",
       "      <td>0</td>\n",
       "      <td>NaN</td>\n",
       "    </tr>\n",
       "  </tbody>\n",
       "</table>\n",
       "</div>"
      ],
      "text/plain": [
       "           Fecha  cod_ine                CCAA  Casos  Fallecidos  \\\n",
       "4     2020-01-01        4            Baleares      0           0   \n",
       "65    2020-01-04        5            Canarias      0           0   \n",
       "1068  2020-02-23        8  Castilla La Mancha      0           0   \n",
       "\n",
       "      Hospitalizados  UCI  \n",
       "4                  0  NaN  \n",
       "65                 0  NaN  \n",
       "1068               0  NaN  "
      ]
     },
     "execution_count": 43,
     "metadata": {},
     "output_type": "execute_result"
    }
   ],
   "source": [
    "df[df.UCI.isna()]"
   ]
  },
  {
   "cell_type": "markdown",
   "id": "3ded2de7",
   "metadata": {
    "id": "3ded2de7"
   },
   "source": [
    "Para no perder registros, decidimos imputar a 0 los valores missing."
   ]
  },
  {
   "cell_type": "code",
   "execution_count": null,
   "id": "925ab844",
   "metadata": {
    "id": "925ab844"
   },
   "outputs": [],
   "source": [
    "df['UCI'] = df['UCI'].fillna(0)"
   ]
  },
  {
   "cell_type": "markdown",
   "id": "4bc5d624",
   "metadata": {
    "id": "4bc5d624"
   },
   "source": [
    "Comprobamos que hemos imputado los missings."
   ]
  },
  {
   "cell_type": "code",
   "execution_count": null,
   "id": "9d137c6a",
   "metadata": {
    "id": "9d137c6a",
    "outputId": "06060538-2202-4d21-bcdc-6efbce1b4bcf"
   },
   "outputs": [
    {
     "data": {
      "text/plain": [
       "Fecha             0\n",
       "cod_ine           0\n",
       "CCAA              0\n",
       "Casos             0\n",
       "Fallecidos        0\n",
       "Hospitalizados    0\n",
       "UCI               0\n",
       "dtype: int64"
      ]
     },
     "execution_count": 45,
     "metadata": {},
     "output_type": "execute_result"
    }
   ],
   "source": [
    "df.isna().sum()"
   ]
  },
  {
   "cell_type": "markdown",
   "id": "948c754f",
   "metadata": {
    "id": "948c754f"
   },
   "source": [
    "### Outliers"
   ]
  },
  {
   "cell_type": "code",
   "execution_count": null,
   "id": "da51c2e4",
   "metadata": {
    "id": "da51c2e4",
    "outputId": "bfd9f52f-1dd1-46c0-e21c-81b672462637"
   },
   "outputs": [
    {
     "data": {
      "text/plain": [
       "Index(['Fecha', 'cod_ine', 'CCAA', 'Casos', 'Fallecidos', 'Hospitalizados',\n",
       "       'UCI'],\n",
       "      dtype='object')"
      ]
     },
     "execution_count": 10,
     "metadata": {},
     "output_type": "execute_result"
    }
   ],
   "source": [
    "df.columns"
   ]
  },
  {
   "cell_type": "code",
   "execution_count": null,
   "id": "e39a733a",
   "metadata": {
    "id": "e39a733a"
   },
   "outputs": [],
   "source": [
    "num_cols = ['Casos', 'Fallecidos', 'Hospitalizados','UCI']"
   ]
  },
  {
   "cell_type": "code",
   "execution_count": null,
   "id": "9471af73",
   "metadata": {
    "id": "9471af73",
    "outputId": "a2e7dfd5-6f62-4898-da75-9d29abf95a94"
   },
   "outputs": [
    {
     "data": {
      "image/png": "[encoded data removed]",
      "text/plain": [
       "<Figure size 1296x648 with 1 Axes>"
      ]
     },
     "metadata": {
      "needs_background": "light"
     },
     "output_type": "display_data"
    }
   ],
   "source": [
    "plt.figure(figsize=(18,9))\n",
    "df[num_cols].boxplot()\n",
    "plt.title(\"Variables numéricas\", fontsize=20)\n",
    "plt.show()"
   ]
  },
  {
   "cell_type": "markdown",
   "id": "3059c5f1",
   "metadata": {
    "id": "3059c5f1"
   },
   "source": [
    "Observamos que la variable 'Casos' tiene bastantes valores anómalos, comprobamos de cuántos registros se trata y si tiene sentido en nuestro problema."
   ]
  },
  {
   "cell_type": "code",
   "execution_count": null,
   "id": "5df173cf",
   "metadata": {
    "id": "5df173cf",
    "outputId": "68feb81a-ff70-4648-aadc-85bebbe42531"
   },
   "outputs": [
    {
     "data": {
      "text/html": [
       "<div>\n",
       "<style scoped>\n",
       "    .dataframe tbody tr th:only-of-type {\n",
       "        vertical-align: middle;\n",
       "    }\n",
       "\n",
       "    .dataframe tbody tr th {\n",
       "        vertical-align: top;\n",
       "    }\n",
       "\n",
       "    .dataframe thead th {\n",
       "        text-align: right;\n",
       "    }\n",
       "</style>\n",
       "<table border=\"1\" class=\"dataframe\">\n",
       "  <thead>\n",
       "    <tr style=\"text-align: right;\">\n",
       "      <th></th>\n",
       "      <th>Fecha</th>\n",
       "      <th>cod_ine</th>\n",
       "      <th>CCAA</th>\n",
       "      <th>Casos</th>\n",
       "      <th>Fallecidos</th>\n",
       "      <th>Hospitalizados</th>\n",
       "      <th>UCI</th>\n",
       "    </tr>\n",
       "  </thead>\n",
       "  <tbody>\n",
       "    <tr>\n",
       "      <th>1393</th>\n",
       "      <td>2020-03-10</td>\n",
       "      <td>13</td>\n",
       "      <td>Madrid</td>\n",
       "      <td>660</td>\n",
       "      <td>25</td>\n",
       "      <td>411</td>\n",
       "      <td>34.0</td>\n",
       "    </tr>\n",
       "    <tr>\n",
       "      <th>1413</th>\n",
       "      <td>2020-03-11</td>\n",
       "      <td>13</td>\n",
       "      <td>Madrid</td>\n",
       "      <td>836</td>\n",
       "      <td>25</td>\n",
       "      <td>548</td>\n",
       "      <td>47.0</td>\n",
       "    </tr>\n",
       "    <tr>\n",
       "      <th>1433</th>\n",
       "      <td>2020-03-12</td>\n",
       "      <td>13</td>\n",
       "      <td>Madrid</td>\n",
       "      <td>975</td>\n",
       "      <td>39</td>\n",
       "      <td>584</td>\n",
       "      <td>51.0</td>\n",
       "    </tr>\n",
       "    <tr>\n",
       "      <th>1453</th>\n",
       "      <td>2020-03-13</td>\n",
       "      <td>13</td>\n",
       "      <td>Madrid</td>\n",
       "      <td>889</td>\n",
       "      <td>48</td>\n",
       "      <td>586</td>\n",
       "      <td>76.0</td>\n",
       "    </tr>\n",
       "    <tr>\n",
       "      <th>1473</th>\n",
       "      <td>2020-03-14</td>\n",
       "      <td>13</td>\n",
       "      <td>Madrid</td>\n",
       "      <td>899</td>\n",
       "      <td>64</td>\n",
       "      <td>637</td>\n",
       "      <td>66.0</td>\n",
       "    </tr>\n",
       "    <tr>\n",
       "      <th>...</th>\n",
       "      <td>...</td>\n",
       "      <td>...</td>\n",
       "      <td>...</td>\n",
       "      <td>...</td>\n",
       "      <td>...</td>\n",
       "      <td>...</td>\n",
       "      <td>...</td>\n",
       "    </tr>\n",
       "    <tr>\n",
       "      <th>16211</th>\n",
       "      <td>2022-03-21</td>\n",
       "      <td>11</td>\n",
       "      <td>Extremadura</td>\n",
       "      <td>870</td>\n",
       "      <td>0</td>\n",
       "      <td>3</td>\n",
       "      <td>0.0</td>\n",
       "    </tr>\n",
       "    <tr>\n",
       "      <th>16212</th>\n",
       "      <td>2022-03-21</td>\n",
       "      <td>12</td>\n",
       "      <td>Galicia</td>\n",
       "      <td>1231</td>\n",
       "      <td>0</td>\n",
       "      <td>37</td>\n",
       "      <td>0.0</td>\n",
       "    </tr>\n",
       "    <tr>\n",
       "      <th>16213</th>\n",
       "      <td>2022-03-21</td>\n",
       "      <td>13</td>\n",
       "      <td>Madrid</td>\n",
       "      <td>1800</td>\n",
       "      <td>0</td>\n",
       "      <td>24</td>\n",
       "      <td>1.0</td>\n",
       "    </tr>\n",
       "    <tr>\n",
       "      <th>16214</th>\n",
       "      <td>2022-03-21</td>\n",
       "      <td>14</td>\n",
       "      <td>Murcia</td>\n",
       "      <td>550</td>\n",
       "      <td>3</td>\n",
       "      <td>1</td>\n",
       "      <td>0.0</td>\n",
       "    </tr>\n",
       "    <tr>\n",
       "      <th>16216</th>\n",
       "      <td>2022-03-21</td>\n",
       "      <td>16</td>\n",
       "      <td>País Vasco</td>\n",
       "      <td>923</td>\n",
       "      <td>0</td>\n",
       "      <td>0</td>\n",
       "      <td>0.0</td>\n",
       "    </tr>\n",
       "  </tbody>\n",
       "</table>\n",
       "<p>4054 rows × 7 columns</p>\n",
       "</div>"
      ],
      "text/plain": [
       "            Fecha  cod_ine         CCAA  Casos  Fallecidos  Hospitalizados  \\\n",
       "1393   2020-03-10       13       Madrid    660          25             411   \n",
       "1413   2020-03-11       13       Madrid    836          25             548   \n",
       "1433   2020-03-12       13       Madrid    975          39             584   \n",
       "1453   2020-03-13       13       Madrid    889          48             586   \n",
       "1473   2020-03-14       13       Madrid    899          64             637   \n",
       "...           ...      ...          ...    ...         ...             ...   \n",
       "16211  2022-03-21       11  Extremadura    870           0               3   \n",
       "16212  2022-03-21       12      Galicia   1231           0              37   \n",
       "16213  2022-03-21       13       Madrid   1800           0              24   \n",
       "16214  2022-03-21       14       Murcia    550           3               1   \n",
       "16216  2022-03-21       16   País Vasco    923           0               0   \n",
       "\n",
       "        UCI  \n",
       "1393   34.0  \n",
       "1413   47.0  \n",
       "1433   51.0  \n",
       "1453   76.0  \n",
       "1473   66.0  \n",
       "...     ...  \n",
       "16211   0.0  \n",
       "16212   0.0  \n",
       "16213   1.0  \n",
       "16214   0.0  \n",
       "16216   0.0  \n",
       "\n",
       "[4054 rows x 7 columns]"
      ]
     },
     "execution_count": 13,
     "metadata": {},
     "output_type": "execute_result"
    }
   ],
   "source": [
    "df[df['Casos'] > 500]"
   ]
  },
  {
   "cell_type": "markdown",
   "id": "6793e46b",
   "metadata": {
    "id": "6793e46b"
   },
   "source": [
    "Comprobamos que se trata de registros válidos, pese a ser outliers, por lo que no hacemos modificaciones ni transformaciones."
   ]
  },
  {
   "cell_type": "markdown",
   "id": "06ff807f",
   "metadata": {
    "id": "06ff807f"
   },
   "source": [
    "### Transformación de variables"
   ]
  },
  {
   "cell_type": "code",
   "execution_count": null,
   "id": "b1c33288",
   "metadata": {
    "id": "b1c33288",
    "outputId": "33e2c552-df16-4c9a-eefd-657009343745"
   },
   "outputs": [
    {
     "data": {
      "text/plain": [
       "Fecha              object\n",
       "cod_ine             int64\n",
       "CCAA               object\n",
       "Casos               int64\n",
       "Fallecidos          int64\n",
       "Hospitalizados      int64\n",
       "UCI               float64\n",
       "dtype: object"
      ]
     },
     "execution_count": 15,
     "metadata": {},
     "output_type": "execute_result"
    }
   ],
   "source": [
    "df.dtypes"
   ]
  },
  {
   "cell_type": "markdown",
   "id": "08c6095f",
   "metadata": {
    "id": "08c6095f"
   },
   "source": [
    "La variable *Fecha* es de tipo string, debemos cambiarla a tipo datetime. De manera análoga ocurre con *cod_ine*, la identifica como de tipo entero, pero debería ser un string, ya que se trata de un código identificador."
   ]
  },
  {
   "cell_type": "code",
   "execution_count": null,
   "id": "5dd58577",
   "metadata": {
    "id": "5dd58577"
   },
   "outputs": [],
   "source": [
    "df['Fecha'] = pd.to_datetime(df['Fecha'])"
   ]
  },
  {
   "cell_type": "code",
   "execution_count": null,
   "id": "fc5cedcf",
   "metadata": {
    "id": "fc5cedcf"
   },
   "outputs": [],
   "source": [
    "df['cod_ine'] = df['cod_ine'].astype(str)"
   ]
  },
  {
   "cell_type": "code",
   "execution_count": null,
   "id": "3cb469b1",
   "metadata": {
    "id": "3cb469b1",
    "outputId": "27388aa8-69d3-4348-9455-495e8462b639"
   },
   "outputs": [
    {
     "data": {
      "text/plain": [
       "Fecha             datetime64[ns]\n",
       "cod_ine                   object\n",
       "CCAA                      object\n",
       "Casos                      int64\n",
       "Fallecidos                 int64\n",
       "Hospitalizados             int64\n",
       "UCI                      float64\n",
       "dtype: object"
      ]
     },
     "execution_count": 18,
     "metadata": {},
     "output_type": "execute_result"
    }
   ],
   "source": [
    "df.dtypes"
   ]
  },
  {
   "cell_type": "code",
   "execution_count": null,
   "id": "da3e7e87",
   "metadata": {
    "id": "da3e7e87",
    "outputId": "a9cb12f7-2234-4cb6-9104-c1b5a616a515"
   },
   "outputs": [
    {
     "data": {
      "text/html": [
       "<div>\n",
       "<style scoped>\n",
       "    .dataframe tbody tr th:only-of-type {\n",
       "        vertical-align: middle;\n",
       "    }\n",
       "\n",
       "    .dataframe tbody tr th {\n",
       "        vertical-align: top;\n",
       "    }\n",
       "\n",
       "    .dataframe thead th {\n",
       "        text-align: right;\n",
       "    }\n",
       "</style>\n",
       "<table border=\"1\" class=\"dataframe\">\n",
       "  <thead>\n",
       "    <tr style=\"text-align: right;\">\n",
       "      <th></th>\n",
       "      <th>Fecha</th>\n",
       "      <th>cod_ine</th>\n",
       "      <th>CCAA</th>\n",
       "      <th>Casos</th>\n",
       "      <th>Fallecidos</th>\n",
       "      <th>Hospitalizados</th>\n",
       "      <th>UCI</th>\n",
       "    </tr>\n",
       "  </thead>\n",
       "  <tbody>\n",
       "    <tr>\n",
       "      <th>0</th>\n",
       "      <td>2020-01-01</td>\n",
       "      <td>0</td>\n",
       "      <td>No consta</td>\n",
       "      <td>0</td>\n",
       "      <td>0</td>\n",
       "      <td>0</td>\n",
       "      <td>0.0</td>\n",
       "    </tr>\n",
       "    <tr>\n",
       "      <th>1</th>\n",
       "      <td>2020-01-01</td>\n",
       "      <td>1</td>\n",
       "      <td>Andalucía</td>\n",
       "      <td>0</td>\n",
       "      <td>0</td>\n",
       "      <td>3</td>\n",
       "      <td>0.0</td>\n",
       "    </tr>\n",
       "    <tr>\n",
       "      <th>2</th>\n",
       "      <td>2020-01-01</td>\n",
       "      <td>2</td>\n",
       "      <td>Aragón</td>\n",
       "      <td>0</td>\n",
       "      <td>0</td>\n",
       "      <td>0</td>\n",
       "      <td>0.0</td>\n",
       "    </tr>\n",
       "    <tr>\n",
       "      <th>3</th>\n",
       "      <td>2020-01-01</td>\n",
       "      <td>3</td>\n",
       "      <td>Asturias</td>\n",
       "      <td>0</td>\n",
       "      <td>0</td>\n",
       "      <td>0</td>\n",
       "      <td>0.0</td>\n",
       "    </tr>\n",
       "    <tr>\n",
       "      <th>4</th>\n",
       "      <td>2020-01-01</td>\n",
       "      <td>4</td>\n",
       "      <td>Baleares</td>\n",
       "      <td>0</td>\n",
       "      <td>0</td>\n",
       "      <td>0</td>\n",
       "      <td>NaN</td>\n",
       "    </tr>\n",
       "  </tbody>\n",
       "</table>\n",
       "</div>"
      ],
      "text/plain": [
       "       Fecha cod_ine       CCAA  Casos  Fallecidos  Hospitalizados  UCI\n",
       "0 2020-01-01       0  No consta      0           0               0  0.0\n",
       "1 2020-01-01       1  Andalucía      0           0               3  0.0\n",
       "2 2020-01-01       2     Aragón      0           0               0  0.0\n",
       "3 2020-01-01       3   Asturias      0           0               0  0.0\n",
       "4 2020-01-01       4   Baleares      0           0               0  NaN"
      ]
     },
     "execution_count": 19,
     "metadata": {},
     "output_type": "execute_result"
    }
   ],
   "source": [
    "df.head()"
   ]
  },
  {
   "cell_type": "markdown",
   "id": "6b822e96",
   "metadata": {
    "id": "6b822e96"
   },
   "source": [
    "Comprobamos si tenemos todas las Comunidades Autónomas."
   ]
  },
  {
   "cell_type": "code",
   "execution_count": null,
   "id": "9a371122",
   "metadata": {
    "id": "9a371122",
    "outputId": "a414a4cf-0332-493e-a2f6-738fa62d78ec"
   },
   "outputs": [
    {
     "data": {
      "text/plain": [
       "array(['No consta', 'Andalucía', 'Aragón', 'Asturias', 'Baleares',\n",
       "       'Canarias', 'Cantabria', 'Castilla y León', 'Castilla La Mancha',\n",
       "       'Cataluña', 'C. Valenciana', 'Extremadura', 'Galicia', 'Madrid',\n",
       "       'Murcia', 'Navarra', 'País Vasco', 'La Rioja', 'Ceuta', 'Melilla'],\n",
       "      dtype=object)"
      ]
     },
     "execution_count": 20,
     "metadata": {},
     "output_type": "execute_result"
    }
   ],
   "source": [
    "pd.unique(df['CCAA'])"
   ]
  },
  {
   "cell_type": "code",
   "execution_count": null,
   "id": "e6d9c7d5",
   "metadata": {
    "id": "e6d9c7d5",
    "outputId": "96ac661a-035c-4424-db68-a5f44bb8ca0f"
   },
   "outputs": [
    {
     "data": {
      "text/plain": [
       "20"
      ]
     },
     "execution_count": 21,
     "metadata": {},
     "output_type": "execute_result"
    }
   ],
   "source": [
    "len(pd.unique(df['CCAA']))"
   ]
  },
  {
   "cell_type": "markdown",
   "id": "9627ac58",
   "metadata": {
    "id": "9627ac58"
   },
   "source": [
    "Eliminamos aquellos registros en los que no tenemos información de Comunidad Autónoma, es decir, aquellos etiquetados como 'No consta'."
   ]
  },
  {
   "cell_type": "code",
   "execution_count": null,
   "id": "69fabe3d",
   "metadata": {
    "id": "69fabe3d",
    "outputId": "5f74eb58-abe0-4e3f-fbf9-76807948977c"
   },
   "outputs": [
    {
     "data": {
      "text/html": [
       "<div>\n",
       "<style scoped>\n",
       "    .dataframe tbody tr th:only-of-type {\n",
       "        vertical-align: middle;\n",
       "    }\n",
       "\n",
       "    .dataframe tbody tr th {\n",
       "        vertical-align: top;\n",
       "    }\n",
       "\n",
       "    .dataframe thead th {\n",
       "        text-align: right;\n",
       "    }\n",
       "</style>\n",
       "<table border=\"1\" class=\"dataframe\">\n",
       "  <thead>\n",
       "    <tr style=\"text-align: right;\">\n",
       "      <th></th>\n",
       "      <th>Fecha</th>\n",
       "      <th>cod_ine</th>\n",
       "      <th>CCAA</th>\n",
       "      <th>Casos</th>\n",
       "      <th>Fallecidos</th>\n",
       "      <th>Hospitalizados</th>\n",
       "      <th>UCI</th>\n",
       "    </tr>\n",
       "  </thead>\n",
       "  <tbody>\n",
       "    <tr>\n",
       "      <th>1</th>\n",
       "      <td>2020-01-01</td>\n",
       "      <td>1</td>\n",
       "      <td>Andalucía</td>\n",
       "      <td>0</td>\n",
       "      <td>0</td>\n",
       "      <td>3</td>\n",
       "      <td>0.0</td>\n",
       "    </tr>\n",
       "    <tr>\n",
       "      <th>2</th>\n",
       "      <td>2020-01-01</td>\n",
       "      <td>2</td>\n",
       "      <td>Aragón</td>\n",
       "      <td>0</td>\n",
       "      <td>0</td>\n",
       "      <td>0</td>\n",
       "      <td>0.0</td>\n",
       "    </tr>\n",
       "    <tr>\n",
       "      <th>3</th>\n",
       "      <td>2020-01-01</td>\n",
       "      <td>3</td>\n",
       "      <td>Asturias</td>\n",
       "      <td>0</td>\n",
       "      <td>0</td>\n",
       "      <td>0</td>\n",
       "      <td>0.0</td>\n",
       "    </tr>\n",
       "    <tr>\n",
       "      <th>4</th>\n",
       "      <td>2020-01-01</td>\n",
       "      <td>4</td>\n",
       "      <td>Baleares</td>\n",
       "      <td>0</td>\n",
       "      <td>0</td>\n",
       "      <td>0</td>\n",
       "      <td>NaN</td>\n",
       "    </tr>\n",
       "    <tr>\n",
       "      <th>5</th>\n",
       "      <td>2020-01-01</td>\n",
       "      <td>5</td>\n",
       "      <td>Canarias</td>\n",
       "      <td>0</td>\n",
       "      <td>0</td>\n",
       "      <td>0</td>\n",
       "      <td>0.0</td>\n",
       "    </tr>\n",
       "    <tr>\n",
       "      <th>...</th>\n",
       "      <td>...</td>\n",
       "      <td>...</td>\n",
       "      <td>...</td>\n",
       "      <td>...</td>\n",
       "      <td>...</td>\n",
       "      <td>...</td>\n",
       "      <td>...</td>\n",
       "    </tr>\n",
       "    <tr>\n",
       "      <th>16235</th>\n",
       "      <td>2022-03-22</td>\n",
       "      <td>15</td>\n",
       "      <td>Navarra</td>\n",
       "      <td>0</td>\n",
       "      <td>0</td>\n",
       "      <td>0</td>\n",
       "      <td>0.0</td>\n",
       "    </tr>\n",
       "    <tr>\n",
       "      <th>16236</th>\n",
       "      <td>2022-03-22</td>\n",
       "      <td>16</td>\n",
       "      <td>País Vasco</td>\n",
       "      <td>41</td>\n",
       "      <td>0</td>\n",
       "      <td>0</td>\n",
       "      <td>0.0</td>\n",
       "    </tr>\n",
       "    <tr>\n",
       "      <th>16237</th>\n",
       "      <td>2022-03-22</td>\n",
       "      <td>17</td>\n",
       "      <td>La Rioja</td>\n",
       "      <td>0</td>\n",
       "      <td>0</td>\n",
       "      <td>0</td>\n",
       "      <td>0.0</td>\n",
       "    </tr>\n",
       "    <tr>\n",
       "      <th>16238</th>\n",
       "      <td>2022-03-22</td>\n",
       "      <td>18</td>\n",
       "      <td>Ceuta</td>\n",
       "      <td>6</td>\n",
       "      <td>0</td>\n",
       "      <td>0</td>\n",
       "      <td>0.0</td>\n",
       "    </tr>\n",
       "    <tr>\n",
       "      <th>16239</th>\n",
       "      <td>2022-03-22</td>\n",
       "      <td>19</td>\n",
       "      <td>Melilla</td>\n",
       "      <td>0</td>\n",
       "      <td>0</td>\n",
       "      <td>0</td>\n",
       "      <td>0.0</td>\n",
       "    </tr>\n",
       "  </tbody>\n",
       "</table>\n",
       "<p>15428 rows × 7 columns</p>\n",
       "</div>"
      ],
      "text/plain": [
       "           Fecha cod_ine        CCAA  Casos  Fallecidos  Hospitalizados  UCI\n",
       "1     2020-01-01       1   Andalucía      0           0               3  0.0\n",
       "2     2020-01-01       2      Aragón      0           0               0  0.0\n",
       "3     2020-01-01       3    Asturias      0           0               0  0.0\n",
       "4     2020-01-01       4    Baleares      0           0               0  NaN\n",
       "5     2020-01-01       5    Canarias      0           0               0  0.0\n",
       "...          ...     ...         ...    ...         ...             ...  ...\n",
       "16235 2022-03-22      15     Navarra      0           0               0  0.0\n",
       "16236 2022-03-22      16  País Vasco     41           0               0  0.0\n",
       "16237 2022-03-22      17    La Rioja      0           0               0  0.0\n",
       "16238 2022-03-22      18       Ceuta      6           0               0  0.0\n",
       "16239 2022-03-22      19     Melilla      0           0               0  0.0\n",
       "\n",
       "[15428 rows x 7 columns]"
      ]
     },
     "execution_count": 22,
     "metadata": {},
     "output_type": "execute_result"
    }
   ],
   "source": [
    "df = df[df['CCAA'] != 'No consta']\n",
    "df"
   ]
  },
  {
   "cell_type": "code",
   "execution_count": null,
   "id": "06454f61",
   "metadata": {
    "id": "06454f61",
    "outputId": "27776ab9-f501-4e0a-a6df-6afa60304f95"
   },
   "outputs": [
    {
     "data": {
      "text/plain": [
       "array(['Andalucía', 'Aragón', 'Asturias', 'Baleares', 'Canarias',\n",
       "       'Cantabria', 'Castilla y León', 'Castilla La Mancha', 'Cataluña',\n",
       "       'C. Valenciana', 'Extremadura', 'Galicia', 'Madrid', 'Murcia',\n",
       "       'Navarra', 'País Vasco', 'La Rioja', 'Ceuta', 'Melilla'],\n",
       "      dtype=object)"
      ]
     },
     "execution_count": 23,
     "metadata": {},
     "output_type": "execute_result"
    }
   ],
   "source": [
    "pd.unique(df['CCAA'])"
   ]
  },
  {
   "cell_type": "markdown",
   "id": "fff40e24",
   "metadata": {
    "id": "fff40e24"
   },
   "source": [
    "Para tener una visión de los datos que tenemos por Comunidad Autónoma, realizamos un contador de valores."
   ]
  },
  {
   "cell_type": "code",
   "execution_count": null,
   "id": "7d725c3a",
   "metadata": {
    "id": "7d725c3a",
    "outputId": "1a62faa8-6b22-45d9-b8c0-046fca3af285"
   },
   "outputs": [
    {
     "data": {
      "text/plain": [
       "Andalucía             812\n",
       "Extremadura           812\n",
       "Ceuta                 812\n",
       "La Rioja              812\n",
       "País Vasco            812\n",
       "Navarra               812\n",
       "Murcia                812\n",
       "Madrid                812\n",
       "Galicia               812\n",
       "C. Valenciana         812\n",
       "Aragón                812\n",
       "Cataluña              812\n",
       "Castilla La Mancha    812\n",
       "Castilla y León       812\n",
       "Cantabria             812\n",
       "Canarias              812\n",
       "Baleares              812\n",
       "Asturias              812\n",
       "Melilla               812\n",
       "Name: CCAA, dtype: int64"
      ]
     },
     "execution_count": 24,
     "metadata": {},
     "output_type": "execute_result"
    }
   ],
   "source": [
    "df['CCAA'].value_counts()"
   ]
  },
  {
   "cell_type": "markdown",
   "id": "5cc89bc0",
   "metadata": {
    "id": "5cc89bc0"
   },
   "source": [
    "### Correlación"
   ]
  },
  {
   "cell_type": "code",
   "execution_count": null,
   "id": "f67bbf8f",
   "metadata": {
    "id": "f67bbf8f",
    "outputId": "597d6904-7a10-43d5-c039-53331c8dca6a"
   },
   "outputs": [
    {
     "data": {
      "text/html": [
       "<div>\n",
       "<style scoped>\n",
       "    .dataframe tbody tr th:only-of-type {\n",
       "        vertical-align: middle;\n",
       "    }\n",
       "\n",
       "    .dataframe tbody tr th {\n",
       "        vertical-align: top;\n",
       "    }\n",
       "\n",
       "    .dataframe thead th {\n",
       "        text-align: right;\n",
       "    }\n",
       "</style>\n",
       "<table border=\"1\" class=\"dataframe\">\n",
       "  <thead>\n",
       "    <tr style=\"text-align: right;\">\n",
       "      <th></th>\n",
       "      <th>Casos</th>\n",
       "      <th>Fallecidos</th>\n",
       "      <th>Hospitalizados</th>\n",
       "      <th>UCI</th>\n",
       "    </tr>\n",
       "  </thead>\n",
       "  <tbody>\n",
       "    <tr>\n",
       "      <th>Casos</th>\n",
       "      <td>1.000000</td>\n",
       "      <td>0.255770</td>\n",
       "      <td>0.354454</td>\n",
       "      <td>0.292894</td>\n",
       "    </tr>\n",
       "    <tr>\n",
       "      <th>Fallecidos</th>\n",
       "      <td>0.255770</td>\n",
       "      <td>1.000000</td>\n",
       "      <td>0.831016</td>\n",
       "      <td>0.758748</td>\n",
       "    </tr>\n",
       "    <tr>\n",
       "      <th>Hospitalizados</th>\n",
       "      <td>0.354454</td>\n",
       "      <td>0.831016</td>\n",
       "      <td>1.000000</td>\n",
       "      <td>0.927336</td>\n",
       "    </tr>\n",
       "    <tr>\n",
       "      <th>UCI</th>\n",
       "      <td>0.292894</td>\n",
       "      <td>0.758748</td>\n",
       "      <td>0.927336</td>\n",
       "      <td>1.000000</td>\n",
       "    </tr>\n",
       "  </tbody>\n",
       "</table>\n",
       "</div>"
      ],
      "text/plain": [
       "                   Casos  Fallecidos  Hospitalizados       UCI\n",
       "Casos           1.000000    0.255770        0.354454  0.292894\n",
       "Fallecidos      0.255770    1.000000        0.831016  0.758748\n",
       "Hospitalizados  0.354454    0.831016        1.000000  0.927336\n",
       "UCI             0.292894    0.758748        0.927336  1.000000"
      ]
     },
     "execution_count": 25,
     "metadata": {},
     "output_type": "execute_result"
    }
   ],
   "source": [
    "df.corr()"
   ]
  },
  {
   "cell_type": "code",
   "execution_count": null,
   "id": "c1762353",
   "metadata": {
    "id": "c1762353",
    "outputId": "0be635b9-da71-420b-e35c-4c291584fd1a"
   },
   "outputs": [
    {
     "data": {
      "image/png": "[encoded data removed]",
      "text/plain": [
       "<Figure size 432x288 with 2 Axes>"
      ]
     },
     "metadata": {
      "needs_background": "light"
     },
     "output_type": "display_data"
    }
   ],
   "source": [
    "sns.heatmap(df.corr(), annot = True, cmap=\"YlGnBu\") \n",
    "plt.show()"
   ]
  },
  {
   "cell_type": "markdown",
   "id": "16af41db",
   "metadata": {
    "id": "16af41db"
   },
   "source": [
    "Generamos histograma de las variables para entender cómo se distribuyen."
   ]
  },
  {
   "cell_type": "code",
   "execution_count": null,
   "id": "9080e066",
   "metadata": {
    "id": "9080e066",
    "outputId": "068f4d80-1184-4bf4-b9ab-18519a695364"
   },
   "outputs": [
    {
     "data": {
      "image/png": "[encoded data removed]",
      "text/plain": [
       "<Figure size 842.4x595.44 with 1 Axes>"
      ]
     },
     "metadata": {},
     "output_type": "display_data"
    }
   ],
   "source": [
    "sns.set(rc={'figure.figsize':(11.7,8.27)})\n",
    "plt.hist(df['Casos'],color =\"brown\", bins=30)\n",
    "plt.xlabel(\"Histograma de variable Casos\")\n",
    "plt.show()"
   ]
  },
  {
   "cell_type": "code",
   "execution_count": null,
   "id": "0e33082a",
   "metadata": {
    "id": "0e33082a",
    "outputId": "1c611d9d-98a1-4360-e14f-a211f0b1ef40"
   },
   "outputs": [
    {
     "data": {
      "image/png": "[encoded data removed]",
      "text/plain": [
       "<Figure size 842.4x595.44 with 1 Axes>"
      ]
     },
     "metadata": {},
     "output_type": "display_data"
    }
   ],
   "source": [
    "sns.set(rc={'figure.figsize':(11.7,8.27)})\n",
    "plt.hist(df['Fallecidos'],color =\"brown\", bins=30)\n",
    "plt.xlabel(\"Histograma de variable Fallecidos\")\n",
    "plt.show()"
   ]
  },
  {
   "cell_type": "code",
   "execution_count": null,
   "id": "7d76d2c2",
   "metadata": {
    "id": "7d76d2c2",
    "outputId": "83ea01c6-3d34-493d-c9d5-a408abbd7f05"
   },
   "outputs": [
    {
     "data": {
      "image/png": "[encoded data removed]",
      "text/plain": [
       "<Figure size 842.4x595.44 with 1 Axes>"
      ]
     },
     "metadata": {},
     "output_type": "display_data"
    }
   ],
   "source": [
    "sns.set(rc={'figure.figsize':(11.7,8.27)})\n",
    "plt.hist(df['Hospitalizados'],color =\"brown\", bins=30)\n",
    "plt.xlabel(\"Histograma de variable Hospitalizados\")\n",
    "plt.show()"
   ]
  },
  {
   "cell_type": "code",
   "execution_count": null,
   "id": "430888f0",
   "metadata": {
    "id": "430888f0",
    "outputId": "b38d07ef-740a-410d-b514-301f9beb572c"
   },
   "outputs": [
    {
     "data": {
      "image/png": "[encoded data removed]",
      "text/plain": [
       "<Figure size 842.4x595.44 with 1 Axes>"
      ]
     },
     "metadata": {},
     "output_type": "display_data"
    }
   ],
   "source": [
    "sns.set(rc={'figure.figsize':(11.7,8.27)})\n",
    "plt.hist(df['UCI'],color =\"brown\", bins=30)\n",
    "plt.xlabel(\"Histograma de variable UCI\")\n",
    "plt.show()"
   ]
  },
  {
   "cell_type": "code",
   "execution_count": null,
   "id": "e6e0bdc4",
   "metadata": {
    "id": "e6e0bdc4"
   },
   "outputs": [],
   "source": []
  }
 ],
 "metadata": {
  "colab": {
   "name": "AnalisisDatosFinancieros_PreprocesadoInformacion.ipynb",
   "provenance": []
  },
  "kernelspec": {
   "display_name": "Python 3",
   "language": "python",
   "name": "python3"
  },
  "language_info": {
   "codemirror_mode": {
    "name": "ipython",
    "version": 3
   },
   "file_extension": ".py",
   "mimetype": "text/x-python",
   "name": "python",
   "nbconvert_exporter": "python",
   "pygments_lexer": "ipython3",
   "version": "3.8.8"
  }
 },
 "nbformat": 4,
 "nbformat_minor": 5
}
