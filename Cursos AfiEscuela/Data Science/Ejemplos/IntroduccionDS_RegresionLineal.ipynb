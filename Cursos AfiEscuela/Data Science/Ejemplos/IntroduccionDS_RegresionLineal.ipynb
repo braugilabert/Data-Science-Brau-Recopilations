{
 "cells": [
  {
   "cell_type": "markdown",
   "id": "e28e2ab2",
   "metadata": {},
   "source": [
    "<img src=\"https://www.aseafi.es/wp-content/uploads/2020/09/Afi-Escuela.png\" alt=\"Drawing\" width=\"300\"/>\n",
    "\n",
    "# Regresión Lineal\n",
    "\n",
    "\n",
    "**Verónica Ruiz Méndez - Abril 2022**\n",
    "\n",
    "Curso Introducción a Data Science - Afi Escuela de Finanzas\n",
    "\n",
    "*Autor*: [Verónica Ruiz Méndez](https://www.linkedin.com/in/veronica-ruiz-mendez/) "
   ]
  },
  {
   "cell_type": "markdown",
   "id": "0ba18503",
   "metadata": {},
   "source": [
    "Importamos liberías a utilizar."
   ]
  },
  {
   "cell_type": "code",
   "execution_count": 2,
   "id": "60d4d8d3",
   "metadata": {},
   "outputs": [],
   "source": [
    "import numpy as np\n",
    "from sklearn.linear_model import LinearRegression\n",
    "import matplotlib.pyplot as plt"
   ]
  },
  {
   "cell_type": "markdown",
   "id": "abc11efd",
   "metadata": {},
   "source": [
    "Definimos nuestro set de datos."
   ]
  },
  {
   "cell_type": "code",
   "execution_count": 22,
   "id": "d0123bf7",
   "metadata": {},
   "outputs": [
    {
     "data": {
      "text/plain": [
       "array([[1. ],\n",
       "       [1.5],\n",
       "       [3. ],\n",
       "       [2. ],\n",
       "       [2.5],\n",
       "       [1.5]])"
      ]
     },
     "execution_count": 22,
     "metadata": {},
     "output_type": "execute_result"
    }
   ],
   "source": [
    "X = np.array([[1], [1.5], [3], [2], [2.5], [1.5]])\n",
    "X"
   ]
  },
  {
   "cell_type": "code",
   "execution_count": 23,
   "id": "916d4f0d",
   "metadata": {},
   "outputs": [
    {
     "data": {
      "text/plain": [
       "(6, 1)"
      ]
     },
     "execution_count": 23,
     "metadata": {},
     "output_type": "execute_result"
    }
   ],
   "source": [
    "X.shape"
   ]
  },
  {
   "cell_type": "code",
   "execution_count": 24,
   "id": "24247b0d",
   "metadata": {},
   "outputs": [
    {
     "data": {
      "text/plain": [
       "array([[1. ],\n",
       "       [2.5],\n",
       "       [3. ],\n",
       "       [2.5],\n",
       "       [1.5],\n",
       "       [1. ]])"
      ]
     },
     "execution_count": 24,
     "metadata": {},
     "output_type": "execute_result"
    }
   ],
   "source": [
    "y = np.array([[1], [2.5], [3], [2.5], [1.5], [1]])\n",
    "y"
   ]
  },
  {
   "cell_type": "code",
   "execution_count": 25,
   "id": "5b3503fe",
   "metadata": {},
   "outputs": [
    {
     "data": {
      "image/png": "[encoded data removed]",
      "text/plain": [
       "<Figure size 432x288 with 1 Axes>"
      ]
     },
     "metadata": {
      "needs_background": "light"
     },
     "output_type": "display_data"
    }
   ],
   "source": [
    "plt.scatter(X, y)\n",
    "plt.show()"
   ]
  },
  {
   "cell_type": "markdown",
   "id": "c6ba1d8e",
   "metadata": {},
   "source": [
    "Definimos la Regresión Lineal y entrenamos con nuestro set de datos."
   ]
  },
  {
   "cell_type": "code",
   "execution_count": 26,
   "id": "379abf79",
   "metadata": {},
   "outputs": [],
   "source": [
    "reg = LinearRegression(fit_intercept=True).fit(X, y)"
   ]
  },
  {
   "cell_type": "code",
   "execution_count": 27,
   "id": "ef767ed7",
   "metadata": {},
   "outputs": [
    {
     "data": {
      "text/plain": [
       "array([[0.72307692]])"
      ]
     },
     "execution_count": 27,
     "metadata": {},
     "output_type": "execute_result"
    }
   ],
   "source": [
    "reg.coef_"
   ]
  },
  {
   "cell_type": "code",
   "execution_count": 28,
   "id": "2dcc378e",
   "metadata": {},
   "outputs": [
    {
     "data": {
      "text/plain": [
       "array([0.53076923])"
      ]
     },
     "execution_count": 28,
     "metadata": {},
     "output_type": "execute_result"
    }
   ],
   "source": [
    "reg.intercept_"
   ]
  },
  {
   "cell_type": "markdown",
   "id": "960c471a",
   "metadata": {},
   "source": [
    "Es decir, nuestra recta de regresión será: $y= 0.73x_{1} + 0.53$\n",
    "\n"
   ]
  },
  {
   "cell_type": "code",
   "execution_count": 33,
   "id": "7b15617f",
   "metadata": {},
   "outputs": [
    {
     "data": {
      "text/plain": [
       "[<matplotlib.lines.Line2D at 0x1d0801166a0>]"
      ]
     },
     "execution_count": 33,
     "metadata": {},
     "output_type": "execute_result"
    },
    {
     "data": {
      "image/png": "[encoded data removed]",
      "text/plain": [
       "<Figure size 432x288 with 1 Axes>"
      ]
     },
     "metadata": {
      "needs_background": "light"
     },
     "output_type": "display_data"
    }
   ],
   "source": [
    "plt.scatter(X, y, color=\"blue\")\n",
    "plt.plot(X, reg.predict(X), color=\"red\", linewidth=3)"
   ]
  },
  {
   "cell_type": "markdown",
   "id": "be6bcf4e",
   "metadata": {},
   "source": [
    "\n",
    "Utilizando nuestra recta de regresión, queremos predecir el valor que toma un nuevo registro."
   ]
  },
  {
   "cell_type": "code",
   "execution_count": 41,
   "id": "8be5dccb",
   "metadata": {
    "scrolled": true
   },
   "outputs": [
    {
     "data": {
      "text/plain": [
       "array([[2.51923077]])"
      ]
     },
     "execution_count": 41,
     "metadata": {},
     "output_type": "execute_result"
    }
   ],
   "source": [
    "new_obs = np.array([[2.75]])\n",
    "reg.predict(new_obs)"
   ]
  },
  {
   "cell_type": "code",
   "execution_count": 47,
   "id": "ecb4cb91",
   "metadata": {},
   "outputs": [
    {
     "data": {
      "text/plain": [
       "<matplotlib.collections.PathCollection at 0x1d0802dc0a0>"
      ]
     },
     "execution_count": 47,
     "metadata": {},
     "output_type": "execute_result"
    },
    {
     "data": {
      "image/png": "[encoded data removed]",
      "text/plain": [
       "<Figure size 432x288 with 1 Axes>"
      ]
     },
     "metadata": {
      "needs_background": "light"
     },
     "output_type": "display_data"
    }
   ],
   "source": [
    "plt.scatter(X, y, color=\"blue\")\n",
    "plt.plot(X, reg.predict(X), color=\"red\", linewidth=3)\n",
    "plt.scatter(new_obs, reg.predict(new_obs), color=\"black\", s = 100)"
   ]
  },
  {
   "cell_type": "code",
   "execution_count": null,
   "id": "2676c33b",
   "metadata": {},
   "outputs": [],
   "source": []
  }
 ],
 "metadata": {
  "kernelspec": {
   "display_name": "Python 3",
   "language": "python",
   "name": "python3"
  },
  "language_info": {
   "codemirror_mode": {
    "name": "ipython",
    "version": 3
   },
   "file_extension": ".py",
   "mimetype": "text/x-python",
   "name": "python",
   "nbconvert_exporter": "python",
   "pygments_lexer": "ipython3",
   "version": "3.8.8"
  }
 },
 "nbformat": 4,
 "nbformat_minor": 5
}
