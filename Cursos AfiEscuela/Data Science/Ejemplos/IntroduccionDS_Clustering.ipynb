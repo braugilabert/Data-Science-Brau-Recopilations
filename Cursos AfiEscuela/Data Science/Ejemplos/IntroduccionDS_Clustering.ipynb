{
 "cells": [
  {
   "cell_type": "markdown",
   "id": "31b0b90c",
   "metadata": {},
   "source": [
    "<img src=\"https://www.aseafi.es/wp-content/uploads/2020/09/Afi-Escuela.png\" alt=\"Drawing\" width=\"300\"/>\n",
    "\n",
    "# Clustering - k-means\n",
    "\n",
    "\n",
    "**Verónica Ruiz Méndez - Abril 2022**\n",
    "\n",
    "Curso Introducción a Data Science - Afi Escuela de Finanzas\n",
    "\n",
    "*Autor*: [Verónica Ruiz Méndez](https://www.linkedin.com/in/veronica-ruiz-mendez/) "
   ]
  },
  {
   "cell_type": "markdown",
   "id": "1213b73f",
   "metadata": {},
   "source": [
    "Importamos liberías a utilizar."
   ]
  },
  {
   "cell_type": "code",
   "execution_count": 6,
   "id": "89186a9b",
   "metadata": {},
   "outputs": [],
   "source": [
    "from sklearn.cluster import KMeans\n",
    "import numpy as np\n",
    "import pandas as pd\n",
    "import matplotlib.pyplot as plt"
   ]
  },
  {
   "cell_type": "markdown",
   "id": "4f594454",
   "metadata": {},
   "source": [
    "Definimos nuestro set de datos."
   ]
  },
  {
   "cell_type": "code",
   "execution_count": 7,
   "id": "eb017edc",
   "metadata": {},
   "outputs": [
    {
     "data": {
      "text/plain": [
       "array([[ 1,  2],\n",
       "       [ 1,  4],\n",
       "       [ 1,  0],\n",
       "       [ 3,  3],\n",
       "       [ 4,  2],\n",
       "       [ 8,  1],\n",
       "       [10,  2],\n",
       "       [10,  4],\n",
       "       [10,  0]])"
      ]
     },
     "execution_count": 7,
     "metadata": {},
     "output_type": "execute_result"
    }
   ],
   "source": [
    "X = np.array([[1, 2], [1, 4], [1, 0],\n",
    "              [3, 3], [4, 2], [8, 1],\n",
    "               [10, 2], [10, 4], [10, 0]])\n",
    "X"
   ]
  },
  {
   "cell_type": "code",
   "execution_count": 8,
   "id": "ddb0506b",
   "metadata": {},
   "outputs": [
    {
     "data": {
      "text/plain": [
       "(9, 2)"
      ]
     },
     "execution_count": 8,
     "metadata": {},
     "output_type": "execute_result"
    }
   ],
   "source": [
    "X.shape"
   ]
  },
  {
   "cell_type": "markdown",
   "id": "764f1e43",
   "metadata": {},
   "source": [
    "Aplicamos k-means con 2 clusters."
   ]
  },
  {
   "cell_type": "code",
   "execution_count": 9,
   "id": "422f38dc",
   "metadata": {},
   "outputs": [
    {
     "data": {
      "text/plain": [
       "KMeans(n_clusters=2)"
      ]
     },
     "execution_count": 9,
     "metadata": {},
     "output_type": "execute_result"
    }
   ],
   "source": [
    "kmeans = KMeans(n_clusters= 2)\n",
    "kmeans"
   ]
  },
  {
   "cell_type": "markdown",
   "id": "f5735915",
   "metadata": {},
   "source": [
    "Hemos generado el objeto KMeans.\n",
    "\n",
    "Ahora, entrenamos sobre nuestro set de datos X y obtenemos el cluster al que pertenece cada observación."
   ]
  },
  {
   "cell_type": "code",
   "execution_count": 10,
   "id": "f108690f",
   "metadata": {},
   "outputs": [
    {
     "data": {
      "text/plain": [
       "array([1, 1, 1, 1, 1, 0, 0, 0, 0])"
      ]
     },
     "execution_count": 10,
     "metadata": {},
     "output_type": "execute_result"
    }
   ],
   "source": [
    "label = kmeans.fit_predict(X)\n",
    "label"
   ]
  },
  {
   "cell_type": "markdown",
   "id": "7f53345a",
   "metadata": {},
   "source": [
    "También, podemos obtener los centroides de nuestros clusters."
   ]
  },
  {
   "cell_type": "code",
   "execution_count": 16,
   "id": "e2b731af",
   "metadata": {},
   "outputs": [
    {
     "data": {
      "text/plain": [
       "array([[9.5 , 1.75],\n",
       "       [2.  , 2.2 ]])"
      ]
     },
     "execution_count": 16,
     "metadata": {},
     "output_type": "execute_result"
    }
   ],
   "source": [
    "centroides = kmeans.cluster_centers_\n",
    "centroides"
   ]
  },
  {
   "cell_type": "markdown",
   "id": "957cc011",
   "metadata": {},
   "source": [
    "Realizamos el gráfico de nuesto set de datos."
   ]
  },
  {
   "cell_type": "code",
   "execution_count": 18,
   "id": "158098ca",
   "metadata": {
    "scrolled": true
   },
   "outputs": [
    {
     "data": {
      "image/png": "[encoded data removed]",
      "text/plain": [
       "<Figure size 432x288 with 1 Axes>"
      ]
     },
     "metadata": {
      "needs_background": "light"
     },
     "output_type": "display_data"
    }
   ],
   "source": [
    "for i in np.unique(label):\n",
    "    plt.scatter(X[label == i , 0] , X[label == i , 1] , label = i)\n",
    "plt.scatter(centroides[:,0] , centroides[:,1] , s = 80, color = 'k', marker= 'x')\n",
    "plt.legend()\n",
    "plt.show()"
   ]
  },
  {
   "cell_type": "markdown",
   "id": "ffa05cda",
   "metadata": {},
   "source": [
    "Dada una nueva observación, queremos predecir a qué cluster pertenecerá."
   ]
  },
  {
   "cell_type": "code",
   "execution_count": 24,
   "id": "6f518459",
   "metadata": {},
   "outputs": [],
   "source": [
    "new_point = [12,3]"
   ]
  },
  {
   "cell_type": "code",
   "execution_count": 25,
   "id": "f668318d",
   "metadata": {},
   "outputs": [
    {
     "data": {
      "text/plain": [
       "array([0])"
      ]
     },
     "execution_count": 25,
     "metadata": {},
     "output_type": "execute_result"
    }
   ],
   "source": [
    "kmeans.predict([new_point])"
   ]
  },
  {
   "cell_type": "code",
   "execution_count": 28,
   "id": "d8633315",
   "metadata": {},
   "outputs": [
    {
     "data": {
      "image/png": "[encoded data removed]",
      "text/plain": [
       "<Figure size 432x288 with 1 Axes>"
      ]
     },
     "metadata": {
      "needs_background": "light"
     },
     "output_type": "display_data"
    }
   ],
   "source": [
    "for i in np.unique(label):\n",
    "    plt.scatter(X[label == i , 0] , X[label == i , 1] , label = i)\n",
    "plt.scatter(centroides[:,0] , centroides[:,1] , s = 80, color = 'k', marker= 'x')\n",
    "plt.scatter(new_point[0], new_point[1], s = 80, color = 'k', marker= 'o')\n",
    "plt.legend()\n",
    "plt.show()"
   ]
  },
  {
   "cell_type": "code",
   "execution_count": null,
   "id": "2750d8e6",
   "metadata": {},
   "outputs": [],
   "source": []
  }
 ],
 "metadata": {
  "kernelspec": {
   "display_name": "Python 3",
   "language": "python",
   "name": "python3"
  },
  "language_info": {
   "codemirror_mode": {
    "name": "ipython",
    "version": 3
   },
   "file_extension": ".py",
   "mimetype": "text/x-python",
   "name": "python",
   "nbconvert_exporter": "python",
   "pygments_lexer": "ipython3",
   "version": "3.8.8"
  }
 },
 "nbformat": 4,
 "nbformat_minor": 5
}
