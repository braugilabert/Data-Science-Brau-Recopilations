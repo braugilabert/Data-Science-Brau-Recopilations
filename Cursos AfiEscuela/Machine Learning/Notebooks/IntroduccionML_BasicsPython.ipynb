{
  "cells": [
    {
      "cell_type": "markdown",
      "id": "f47a26b4",
      "metadata": {
        "id": "f47a26b4"
      },
      "source": [
        "<img src=\"https://www.aseafi.es/wp-content/uploads/2020/09/Afi-Escuela.png\" alt=\"Drawing\" width=\"300\"/>\n",
        "\n",
        "# Introducción a Python\n",
        "\n",
        "\n",
        "**Verónica Ruiz Méndez - Septiembre 2022**\n",
        "\n",
        "Curso Introducción a Machine Learning - Afi Escuela de Finanzas\n",
        "\n",
        "*Autor*: [Verónica Ruiz Méndez](https://www.linkedin.com/in/veronica-ruiz-mendez/) "
      ]
    },
    {
      "cell_type": "markdown",
      "id": "3f0b2e1b",
      "metadata": {
        "id": "3f0b2e1b"
      },
      "source": [
        "# Conceptos básicos "
      ]
    },
    {
      "cell_type": "markdown",
      "id": "04a7f98d",
      "metadata": {
        "id": "04a7f98d"
      },
      "source": [
        "#### Variables\n",
        "\n",
        "- Su nombre puede contrener caracteres alfanuméricos\n",
        "- Guión bajo\n",
        "\n",
        "Hay que tratar de utilizar nombres de variables autoexplicativos."
      ]
    },
    {
      "cell_type": "code",
      "execution_count": null,
      "id": "42708476",
      "metadata": {
        "id": "42708476"
      },
      "outputs": [],
      "source": [
        "codigo = '0124'"
      ]
    },
    {
      "cell_type": "code",
      "execution_count": null,
      "id": "79d9e293",
      "metadata": {
        "id": "79d9e293",
        "outputId": "2ae3bf2a-f8a5-4500-8824-8fde52c30c12"
      },
      "outputs": [
        {
          "data": {
            "text/plain": [
              "'0124'"
            ]
          },
          "execution_count": 2,
          "metadata": {},
          "output_type": "execute_result"
        }
      ],
      "source": [
        "codigo"
      ]
    },
    {
      "cell_type": "markdown",
      "id": "7c9ad08e",
      "metadata": {
        "id": "7c9ad08e"
      },
      "source": [
        "#### Comentarios\n",
        "\n",
        "Para introducir comentarios en Python, se debe hacer precedido del carácter \"#\"."
      ]
    },
    {
      "cell_type": "code",
      "execution_count": null,
      "id": "ad422657",
      "metadata": {
        "id": "ad422657"
      },
      "outputs": [],
      "source": [
        "# Esto es un comentario"
      ]
    },
    {
      "cell_type": "markdown",
      "id": "ef426edd",
      "metadata": {
        "id": "ef426edd"
      },
      "source": [
        "# Tipos de datos"
      ]
    },
    {
      "cell_type": "markdown",
      "id": "76095e73",
      "metadata": {
        "id": "76095e73"
      },
      "source": [
        "<li>Cadenas de caracteres o <i>str</i>: Se especifican entre comillas simples, dobles o triples</li>\n",
        "<li>Valores numéricos enteros o <i>int</i>: No incluyen punto decimal</li>\n",
        "<li>Valores numéricos decimales o <i>float</i>: Incluyen punto decimal</li>\n",
        "<li>Valores booleanos o <i>bool</i>: True / False (case sensitive)</li>\n",
        "\n",
        "\n",
        "Para conocer el tipo de una variable se puede usar la función de Python <b>type</b>."
      ]
    },
    {
      "cell_type": "code",
      "execution_count": null,
      "id": "8c4a9a5d",
      "metadata": {
        "colab": {
          "base_uri": "https://localhost:8080/"
        },
        "id": "8c4a9a5d",
        "outputId": "a1b26c9b-e6c5-40e3-e1ef-34763ce3aa28"
      },
      "outputs": [
        {
          "data": {
            "text/plain": [
              "str"
            ]
          },
          "execution_count": 3,
          "metadata": {},
          "output_type": "execute_result"
        }
      ],
      "source": [
        "cadena = \"Esto es una cadena\"\n",
        "type(cadena)"
      ]
    },
    {
      "cell_type": "code",
      "execution_count": null,
      "id": "849f5d67",
      "metadata": {
        "id": "849f5d67",
        "outputId": "dbd45286-630f-4e7c-f525-2c7e79ca4528"
      },
      "outputs": [
        {
          "data": {
            "text/plain": [
              "'Esto es una cadena'"
            ]
          },
          "execution_count": 4,
          "metadata": {},
          "output_type": "execute_result"
        }
      ],
      "source": [
        "cadena"
      ]
    },
    {
      "cell_type": "code",
      "execution_count": null,
      "id": "72760619",
      "metadata": {
        "colab": {
          "base_uri": "https://localhost:8080/"
        },
        "id": "72760619",
        "outputId": "23be697f-ee9d-4118-a057-a35c8cbc3593"
      },
      "outputs": [
        {
          "data": {
            "text/plain": [
              "int"
            ]
          },
          "execution_count": 5,
          "metadata": {},
          "output_type": "execute_result"
        }
      ],
      "source": [
        "entero = 10\n",
        "type(entero)"
      ]
    },
    {
      "cell_type": "code",
      "execution_count": null,
      "id": "4216d0e0",
      "metadata": {
        "colab": {
          "base_uri": "https://localhost:8080/"
        },
        "id": "4216d0e0",
        "outputId": "300d4c07-b0e2-4dad-ed0a-19e5807e41f3"
      },
      "outputs": [
        {
          "data": {
            "text/plain": [
              "float"
            ]
          },
          "execution_count": 6,
          "metadata": {},
          "output_type": "execute_result"
        }
      ],
      "source": [
        "decimal = 10.1\n",
        "type(decimal)"
      ]
    },
    {
      "cell_type": "code",
      "execution_count": null,
      "id": "8b5330f1",
      "metadata": {
        "colab": {
          "base_uri": "https://localhost:8080/"
        },
        "id": "8b5330f1",
        "outputId": "9d24f89d-1e3f-4a4d-9e2b-72cac5d56005"
      },
      "outputs": [
        {
          "data": {
            "text/plain": [
              "bool"
            ]
          },
          "execution_count": 7,
          "metadata": {},
          "output_type": "execute_result"
        }
      ],
      "source": [
        "booleano = True\n",
        "type(booleano)"
      ]
    },
    {
      "cell_type": "code",
      "execution_count": null,
      "id": "e8409034",
      "metadata": {
        "id": "e8409034"
      },
      "outputs": [],
      "source": [
        "b = False"
      ]
    },
    {
      "cell_type": "markdown",
      "id": "494422eb",
      "metadata": {
        "id": "494422eb"
      },
      "source": [
        "# Operadores básicos"
      ]
    },
    {
      "cell_type": "markdown",
      "id": "c8800161",
      "metadata": {
        "id": "c8800161"
      },
      "source": [
        "\n",
        "Al igual que en otros lenguajes de programación tenemos un conjunto diverso de operadores para aplicar a variables y valores:\n",
        "\n",
        "<li>Aritméticos: +, -, \\*, /, \\*\\*, %, //</li>\n",
        "<li>Lógicos: and, or, not</li>\n",
        "<li>Comparativos: ==, !=, <>, >, <, >=, <=</li>\n",
        "<li>Asignación: =, +=, -=. \\*=, /=, \\*\\*=, %=, //=</li>\n",
        "</ul>"
      ]
    },
    {
      "cell_type": "markdown",
      "id": "79143143",
      "metadata": {
        "id": "79143143"
      },
      "source": [
        "#### Operaciones aritméticas"
      ]
    },
    {
      "cell_type": "code",
      "execution_count": null,
      "id": "d0784586",
      "metadata": {
        "colab": {
          "base_uri": "https://localhost:8080/"
        },
        "id": "d0784586",
        "outputId": "9c538924-aa16-4768-dd37-9aa20077ccad"
      },
      "outputs": [
        {
          "data": {
            "text/plain": [
              "3"
            ]
          },
          "execution_count": 11,
          "metadata": {},
          "output_type": "execute_result"
        }
      ],
      "source": [
        "a = 1 + 2\n",
        "a"
      ]
    },
    {
      "cell_type": "code",
      "execution_count": null,
      "id": "1ce35457",
      "metadata": {
        "colab": {
          "base_uri": "https://localhost:8080/"
        },
        "id": "1ce35457",
        "outputId": "d4b67534-db02-4216-b1fd-0a430162a468"
      },
      "outputs": [
        {
          "data": {
            "text/plain": [
              "5.0"
            ]
          },
          "execution_count": 12,
          "metadata": {},
          "output_type": "execute_result"
        }
      ],
      "source": [
        "b = 10/2\n",
        "b"
      ]
    },
    {
      "cell_type": "code",
      "execution_count": null,
      "id": "249816fe",
      "metadata": {
        "colab": {
          "base_uri": "https://localhost:8080/"
        },
        "id": "249816fe",
        "outputId": "fb4f398a-02eb-4427-e6e0-c87b5b793ba0"
      },
      "outputs": [
        {
          "data": {
            "text/plain": [
              "9"
            ]
          },
          "execution_count": 13,
          "metadata": {},
          "output_type": "execute_result"
        }
      ],
      "source": [
        "c = 3**2\n",
        "c"
      ]
    },
    {
      "cell_type": "markdown",
      "id": "b8b25a14",
      "metadata": {
        "id": "b8b25a14"
      },
      "source": [
        "#### Comparativos"
      ]
    },
    {
      "cell_type": "code",
      "execution_count": null,
      "id": "71809e48",
      "metadata": {
        "id": "71809e48",
        "outputId": "fddc88e9-9a41-489e-b6f1-1b3161df0e83"
      },
      "outputs": [
        {
          "data": {
            "text/plain": [
              "3"
            ]
          },
          "execution_count": 14,
          "metadata": {},
          "output_type": "execute_result"
        }
      ],
      "source": [
        "a"
      ]
    },
    {
      "cell_type": "code",
      "execution_count": null,
      "id": "6f3f9924",
      "metadata": {
        "id": "6f3f9924",
        "outputId": "147bce21-51b4-4725-aca2-664e15643456"
      },
      "outputs": [
        {
          "data": {
            "text/plain": [
              "5.0"
            ]
          },
          "execution_count": 15,
          "metadata": {},
          "output_type": "execute_result"
        }
      ],
      "source": [
        "b"
      ]
    },
    {
      "cell_type": "code",
      "execution_count": null,
      "id": "577adad1",
      "metadata": {
        "colab": {
          "base_uri": "https://localhost:8080/"
        },
        "id": "577adad1",
        "outputId": "96de5e78-74c7-4789-f443-6e0e961285c1"
      },
      "outputs": [
        {
          "data": {
            "text/plain": [
              "False"
            ]
          },
          "execution_count": 18,
          "metadata": {},
          "output_type": "execute_result"
        }
      ],
      "source": [
        "a == b"
      ]
    },
    {
      "cell_type": "code",
      "execution_count": null,
      "id": "e24b7405",
      "metadata": {
        "colab": {
          "base_uri": "https://localhost:8080/"
        },
        "id": "e24b7405",
        "outputId": "58d74392-32ca-4bc7-92c6-a50c25bbcae5"
      },
      "outputs": [
        {
          "data": {
            "text/plain": [
              "True"
            ]
          },
          "execution_count": 19,
          "metadata": {},
          "output_type": "execute_result"
        }
      ],
      "source": [
        "a < b"
      ]
    },
    {
      "cell_type": "markdown",
      "id": "9c677f14",
      "metadata": {
        "id": "9c677f14"
      },
      "source": [
        "#### Lógicos"
      ]
    },
    {
      "cell_type": "code",
      "execution_count": null,
      "id": "c1cdaece",
      "metadata": {
        "id": "c1cdaece",
        "outputId": "6c4d1dd0-8a2a-4be1-815d-c90b5f8ce711"
      },
      "outputs": [
        {
          "data": {
            "text/plain": [
              "True"
            ]
          },
          "execution_count": 20,
          "metadata": {},
          "output_type": "execute_result"
        }
      ],
      "source": [
        "a == 3"
      ]
    },
    {
      "cell_type": "code",
      "execution_count": null,
      "id": "e2ca1c35",
      "metadata": {
        "id": "e2ca1c35",
        "outputId": "651f7a97-b33a-4c43-acb4-ff10d76de83d"
      },
      "outputs": [
        {
          "data": {
            "text/plain": [
              "True"
            ]
          },
          "execution_count": 21,
          "metadata": {},
          "output_type": "execute_result"
        }
      ],
      "source": [
        "b == 5"
      ]
    },
    {
      "cell_type": "code",
      "execution_count": null,
      "id": "88ea17b2",
      "metadata": {
        "colab": {
          "base_uri": "https://localhost:8080/"
        },
        "id": "88ea17b2",
        "outputId": "a8793204-132e-4cb6-9f14-0ae6e84efa65"
      },
      "outputs": [
        {
          "data": {
            "text/plain": [
              "True"
            ]
          },
          "execution_count": 13,
          "metadata": {},
          "output_type": "execute_result"
        }
      ],
      "source": [
        "a == 3 and b == 5"
      ]
    },
    {
      "cell_type": "code",
      "execution_count": null,
      "id": "9970d86f",
      "metadata": {
        "id": "9970d86f",
        "outputId": "4b9e2402-8b25-4381-98a6-c10635963920"
      },
      "outputs": [
        {
          "data": {
            "text/plain": [
              "3"
            ]
          },
          "execution_count": 22,
          "metadata": {},
          "output_type": "execute_result"
        }
      ],
      "source": [
        "a"
      ]
    },
    {
      "cell_type": "code",
      "execution_count": null,
      "id": "ca047ecb",
      "metadata": {
        "id": "ca047ecb",
        "outputId": "c09dc44c-1cf5-4843-a38f-70525b1a2252"
      },
      "outputs": [
        {
          "data": {
            "text/plain": [
              "5.0"
            ]
          },
          "execution_count": 23,
          "metadata": {},
          "output_type": "execute_result"
        }
      ],
      "source": [
        "b"
      ]
    },
    {
      "cell_type": "code",
      "execution_count": null,
      "id": "411b3270",
      "metadata": {
        "id": "411b3270",
        "outputId": "04af2fda-de89-4606-bffb-fa57921dfb5f"
      },
      "outputs": [
        {
          "data": {
            "text/plain": [
              "False"
            ]
          },
          "execution_count": 24,
          "metadata": {},
          "output_type": "execute_result"
        }
      ],
      "source": [
        "b < 3"
      ]
    },
    {
      "cell_type": "code",
      "execution_count": null,
      "id": "69010dd3",
      "metadata": {
        "colab": {
          "base_uri": "https://localhost:8080/"
        },
        "id": "69010dd3",
        "outputId": "0e613a2e-bc5f-4a2c-89b0-42165646ba4f"
      },
      "outputs": [
        {
          "data": {
            "text/plain": [
              "True"
            ]
          },
          "execution_count": 25,
          "metadata": {},
          "output_type": "execute_result"
        }
      ],
      "source": [
        "a > 1 or b < 3"
      ]
    },
    {
      "cell_type": "markdown",
      "id": "f95b24bb",
      "metadata": {
        "id": "f95b24bb"
      },
      "source": [
        "# Secuencias\n",
        "\n",
        "Una secuencia es un listado unidimensional y ordenado de valores que pueden ser de cualquier tipo, existen tres tipos: tuplas, listas y cadenas de caracteres."
      ]
    },
    {
      "cell_type": "code",
      "execution_count": null,
      "id": "02120770",
      "metadata": {
        "colab": {
          "base_uri": "https://localhost:8080/"
        },
        "id": "02120770",
        "outputId": "18e4f129-6eee-45c2-c2bd-24f2e5d82daa"
      },
      "outputs": [
        {
          "data": {
            "text/plain": [
              "(1, 2, 3, 4)"
            ]
          },
          "execution_count": 26,
          "metadata": {},
          "output_type": "execute_result"
        }
      ],
      "source": [
        "# Tuplas\n",
        "tupla = (1, 2, 3, 4)\n",
        "tupla"
      ]
    },
    {
      "cell_type": "code",
      "execution_count": null,
      "id": "93b2fad9",
      "metadata": {
        "colab": {
          "base_uri": "https://localhost:8080/"
        },
        "id": "93b2fad9",
        "outputId": "b89bb03b-b9c9-4d75-ac3a-35c0930e0d3b"
      },
      "outputs": [
        {
          "data": {
            "text/plain": [
              "[1, 2, 3, 4]"
            ]
          },
          "execution_count": 27,
          "metadata": {},
          "output_type": "execute_result"
        }
      ],
      "source": [
        "# Listas\n",
        "lista = [1, 2, 3, 4]\n",
        "lista"
      ]
    },
    {
      "cell_type": "code",
      "execution_count": null,
      "id": "b3e4adc2",
      "metadata": {
        "colab": {
          "base_uri": "https://localhost:8080/",
          "height": 35
        },
        "id": "b3e4adc2",
        "outputId": "0708ddd7-b997-4bbf-eaff-4c521d5c4586"
      },
      "outputs": [
        {
          "data": {
            "text/plain": [
              "'esto es una cadena'"
            ]
          },
          "execution_count": 29,
          "metadata": {},
          "output_type": "execute_result"
        }
      ],
      "source": [
        "# Cadenas\n",
        "string = 'esto es una cadena'\n",
        "string"
      ]
    },
    {
      "cell_type": "markdown",
      "id": "90c6c9d5",
      "metadata": {
        "id": "90c6c9d5"
      },
      "source": [
        "#### Indexación en secuencias"
      ]
    },
    {
      "cell_type": "markdown",
      "id": "34d16bfe",
      "metadata": {
        "id": "34d16bfe"
      },
      "source": [
        "<font color='#d64040'>**CUIDADO**</font>: En Python el primer índice es el 0."
      ]
    },
    {
      "cell_type": "code",
      "execution_count": null,
      "id": "eae08576",
      "metadata": {
        "id": "eae08576",
        "outputId": "7d2a8680-7378-43f3-e7fb-c57d4ee048a2"
      },
      "outputs": [
        {
          "data": {
            "text/plain": [
              "(1, 2, 3, 4)"
            ]
          },
          "execution_count": 30,
          "metadata": {},
          "output_type": "execute_result"
        }
      ],
      "source": [
        "tupla"
      ]
    },
    {
      "cell_type": "code",
      "execution_count": null,
      "id": "5fca300d",
      "metadata": {
        "colab": {
          "base_uri": "https://localhost:8080/"
        },
        "id": "5fca300d",
        "outputId": "bd7087e8-76de-4197-8b5c-1f14ea115ce7"
      },
      "outputs": [
        {
          "data": {
            "text/plain": [
              "1"
            ]
          },
          "execution_count": 31,
          "metadata": {},
          "output_type": "execute_result"
        }
      ],
      "source": [
        "tupla[0]"
      ]
    },
    {
      "cell_type": "code",
      "execution_count": null,
      "id": "cc6cf0f7",
      "metadata": {
        "colab": {
          "base_uri": "https://localhost:8080/"
        },
        "id": "cc6cf0f7",
        "outputId": "30863301-6b01-47b9-e3ae-e12260c0adb4"
      },
      "outputs": [
        {
          "data": {
            "text/plain": [
              "(3, 4)"
            ]
          },
          "execution_count": 32,
          "metadata": {},
          "output_type": "execute_result"
        }
      ],
      "source": [
        "tupla[2:]"
      ]
    },
    {
      "cell_type": "code",
      "execution_count": null,
      "id": "10bdc75b",
      "metadata": {
        "colab": {
          "base_uri": "https://localhost:8080/"
        },
        "id": "10bdc75b",
        "outputId": "f97d6af5-66a4-4f72-b9e2-fe3ab62bc7e8"
      },
      "outputs": [
        {
          "data": {
            "text/plain": [
              "4"
            ]
          },
          "execution_count": 33,
          "metadata": {},
          "output_type": "execute_result"
        }
      ],
      "source": [
        "tupla[-1]"
      ]
    },
    {
      "cell_type": "code",
      "execution_count": null,
      "id": "d36be3d0",
      "metadata": {
        "id": "d36be3d0",
        "outputId": "37fbcee4-b3e0-47ac-d6fc-694295a5a7e5"
      },
      "outputs": [
        {
          "data": {
            "text/plain": [
              "[1, 2, 3, 4]"
            ]
          },
          "execution_count": 34,
          "metadata": {},
          "output_type": "execute_result"
        }
      ],
      "source": [
        "lista"
      ]
    },
    {
      "cell_type": "code",
      "execution_count": null,
      "id": "831e9992",
      "metadata": {
        "colab": {
          "base_uri": "https://localhost:8080/"
        },
        "id": "831e9992",
        "outputId": "ab9b386d-5965-4066-b418-ccacbbba4117"
      },
      "outputs": [
        {
          "data": {
            "text/plain": [
              "1"
            ]
          },
          "execution_count": 35,
          "metadata": {},
          "output_type": "execute_result"
        }
      ],
      "source": [
        "lista[0]"
      ]
    },
    {
      "cell_type": "code",
      "execution_count": null,
      "id": "ed581941",
      "metadata": {
        "colab": {
          "base_uri": "https://localhost:8080/",
          "height": 165
        },
        "id": "ed581941",
        "outputId": "6dd3f23a-09f1-4d8b-f8f9-699050fc436e"
      },
      "outputs": [
        {
          "ename": "IndexError",
          "evalue": "list index out of range",
          "output_type": "error",
          "traceback": [
            "\u001b[1;31m---------------------------------------------------------------------------\u001b[0m",
            "\u001b[1;31mIndexError\u001b[0m                                Traceback (most recent call last)",
            "\u001b[1;32m<ipython-input-36-09bfed834fa2>\u001b[0m in \u001b[0;36m<module>\u001b[1;34m\u001b[0m\n\u001b[1;32m----> 1\u001b[1;33m \u001b[0mlista\u001b[0m\u001b[1;33m[\u001b[0m\u001b[1;36m4\u001b[0m\u001b[1;33m]\u001b[0m\u001b[1;33m\u001b[0m\u001b[1;33m\u001b[0m\u001b[0m\n\u001b[0m",
            "\u001b[1;31mIndexError\u001b[0m: list index out of range"
          ]
        }
      ],
      "source": [
        "lista[4]"
      ]
    },
    {
      "cell_type": "code",
      "execution_count": null,
      "id": "a98cf3c5",
      "metadata": {
        "id": "a98cf3c5",
        "outputId": "3aa6eb0d-aa00-4053-d1e0-a35639fb9e14"
      },
      "outputs": [
        {
          "data": {
            "text/plain": [
              "'esto es una cadena'"
            ]
          },
          "execution_count": 37,
          "metadata": {},
          "output_type": "execute_result"
        }
      ],
      "source": [
        "string"
      ]
    },
    {
      "cell_type": "code",
      "execution_count": null,
      "id": "d0b17109",
      "metadata": {
        "colab": {
          "base_uri": "https://localhost:8080/",
          "height": 35
        },
        "id": "d0b17109",
        "outputId": "ef9294dd-0a4e-4f2b-a1f2-264418721899"
      },
      "outputs": [
        {
          "data": {
            "text/plain": [
              "'e'"
            ]
          },
          "execution_count": 38,
          "metadata": {},
          "output_type": "execute_result"
        }
      ],
      "source": [
        "string[0]"
      ]
    },
    {
      "cell_type": "code",
      "execution_count": null,
      "id": "0c311a31",
      "metadata": {
        "colab": {
          "base_uri": "https://localhost:8080/",
          "height": 35
        },
        "id": "0c311a31",
        "outputId": "ee9ad70c-a0a8-4139-be7d-89b8070b5dea"
      },
      "outputs": [
        {
          "data": {
            "application/vnd.google.colaboratory.intrinsic+json": {
              "type": "string"
            },
            "text/plain": [
              "'esto es una cadena'"
            ]
          },
          "execution_count": 24,
          "metadata": {},
          "output_type": "execute_result"
        }
      ],
      "source": [
        "string"
      ]
    },
    {
      "cell_type": "code",
      "execution_count": null,
      "id": "inWe2NKJPkAh",
      "metadata": {
        "colab": {
          "base_uri": "https://localhost:8080/"
        },
        "id": "inWe2NKJPkAh",
        "outputId": "65027c73-ff99-4624-d069-dd0e3123488f"
      },
      "outputs": [
        {
          "data": {
            "text/plain": [
              "18"
            ]
          },
          "execution_count": 39,
          "metadata": {},
          "output_type": "execute_result"
        }
      ],
      "source": [
        "len(string)"
      ]
    },
    {
      "cell_type": "code",
      "execution_count": null,
      "id": "JT7fHNwNPiiU",
      "metadata": {
        "colab": {
          "base_uri": "https://localhost:8080/",
          "height": 35
        },
        "id": "JT7fHNwNPiiU",
        "outputId": "c555501e-eb4c-45f3-a376-22d1cf25a257"
      },
      "outputs": [
        {
          "data": {
            "text/plain": [
              "'et suacdn'"
            ]
          },
          "execution_count": 40,
          "metadata": {},
          "output_type": "execute_result"
        }
      ],
      "source": [
        "string[0:18:2]"
      ]
    },
    {
      "cell_type": "code",
      "execution_count": null,
      "id": "d66ccf74",
      "metadata": {
        "colab": {
          "base_uri": "https://localhost:8080/",
          "height": 35
        },
        "id": "d66ccf74",
        "outputId": "bbb878af-d899-41d5-889d-e453ebe768a5",
        "scrolled": true
      },
      "outputs": [
        {
          "data": {
            "text/plain": [
              "'et suacdn'"
            ]
          },
          "execution_count": 41,
          "metadata": {},
          "output_type": "execute_result"
        }
      ],
      "source": [
        "string[::2]"
      ]
    },
    {
      "cell_type": "markdown",
      "id": "8c559082",
      "metadata": {
        "id": "8c559082"
      },
      "source": [
        "#### Comprobación de existencia en una secuencia"
      ]
    },
    {
      "cell_type": "code",
      "execution_count": null,
      "id": "a246c053",
      "metadata": {
        "colab": {
          "base_uri": "https://localhost:8080/"
        },
        "id": "a246c053",
        "outputId": "bccbf2a0-2552-4698-cf9a-b846a57b0f10"
      },
      "outputs": [
        {
          "data": {
            "text/plain": [
              "(1, 2, 3, 4)"
            ]
          },
          "execution_count": 42,
          "metadata": {},
          "output_type": "execute_result"
        }
      ],
      "source": [
        "tupla"
      ]
    },
    {
      "cell_type": "code",
      "execution_count": null,
      "id": "65ab711f",
      "metadata": {
        "colab": {
          "base_uri": "https://localhost:8080/"
        },
        "id": "65ab711f",
        "outputId": "aca328a9-daaa-4a66-b1f6-6b3a6bc40a57"
      },
      "outputs": [
        {
          "data": {
            "text/plain": [
              "True"
            ]
          },
          "execution_count": 43,
          "metadata": {},
          "output_type": "execute_result"
        }
      ],
      "source": [
        "3 in tupla"
      ]
    },
    {
      "cell_type": "code",
      "execution_count": null,
      "id": "ddec1594",
      "metadata": {
        "colab": {
          "base_uri": "https://localhost:8080/"
        },
        "id": "ddec1594",
        "outputId": "64df1acb-9135-4d61-de84-c8fd728901e4"
      },
      "outputs": [
        {
          "data": {
            "text/plain": [
              "False"
            ]
          },
          "execution_count": 44,
          "metadata": {},
          "output_type": "execute_result"
        }
      ],
      "source": [
        "2 not in tupla"
      ]
    },
    {
      "cell_type": "markdown",
      "id": "16b2d8b0",
      "metadata": {
        "id": "16b2d8b0"
      },
      "source": [
        "#### Longitud de secuencias"
      ]
    },
    {
      "cell_type": "code",
      "execution_count": null,
      "id": "0a00287a",
      "metadata": {
        "colab": {
          "base_uri": "https://localhost:8080/"
        },
        "id": "0a00287a",
        "outputId": "c589ae6f-2df7-4fa5-bf4c-44bb1a4b0cc4"
      },
      "outputs": [
        {
          "data": {
            "text/plain": [
              "4"
            ]
          },
          "execution_count": 45,
          "metadata": {},
          "output_type": "execute_result"
        }
      ],
      "source": [
        "len(tupla)"
      ]
    },
    {
      "cell_type": "markdown",
      "id": "2d94d091",
      "metadata": {
        "id": "2d94d091"
      },
      "source": [
        "#### Repeticiones de un elemento"
      ]
    },
    {
      "cell_type": "code",
      "execution_count": null,
      "id": "638d47d6",
      "metadata": {
        "id": "638d47d6",
        "outputId": "510ade1f-b922-4d7c-ce49-39b2a9fdafd9"
      },
      "outputs": [
        {
          "data": {
            "text/plain": [
              "'esto es una cadena'"
            ]
          },
          "execution_count": 46,
          "metadata": {},
          "output_type": "execute_result"
        }
      ],
      "source": [
        "string"
      ]
    },
    {
      "cell_type": "code",
      "execution_count": null,
      "id": "82ff3ff4",
      "metadata": {
        "colab": {
          "base_uri": "https://localhost:8080/"
        },
        "id": "82ff3ff4",
        "outputId": "f628eb11-58f1-4872-fc38-ee1d798a4349"
      },
      "outputs": [
        {
          "data": {
            "text/plain": [
              "3"
            ]
          },
          "execution_count": 47,
          "metadata": {},
          "output_type": "execute_result"
        }
      ],
      "source": [
        "string.count('a')"
      ]
    },
    {
      "cell_type": "markdown",
      "id": "2b2d51c1",
      "metadata": {
        "id": "2b2d51c1"
      },
      "source": [
        "#### Creación de secuencias numéricas"
      ]
    },
    {
      "cell_type": "code",
      "execution_count": null,
      "id": "5564de9a",
      "metadata": {
        "colab": {
          "base_uri": "https://localhost:8080/"
        },
        "id": "5564de9a",
        "outputId": "319312ae-2cd4-46e9-b6c5-5dea89e07c25"
      },
      "outputs": [
        {
          "data": {
            "text/plain": [
              "range(0, 10)"
            ]
          },
          "execution_count": 48,
          "metadata": {},
          "output_type": "execute_result"
        }
      ],
      "source": [
        "range(10)"
      ]
    },
    {
      "cell_type": "code",
      "execution_count": null,
      "id": "6bf651cf",
      "metadata": {
        "colab": {
          "base_uri": "https://localhost:8080/"
        },
        "id": "6bf651cf",
        "outputId": "ff76436c-0114-471c-df70-7a4fd3353e2e"
      },
      "outputs": [
        {
          "data": {
            "text/plain": [
              "[0, 1, 2, 3, 4, 5, 6, 7, 8, 9]"
            ]
          },
          "execution_count": 49,
          "metadata": {},
          "output_type": "execute_result"
        }
      ],
      "source": [
        "list(range(10))"
      ]
    },
    {
      "cell_type": "markdown",
      "id": "82bb94a9",
      "metadata": {
        "id": "82bb94a9"
      },
      "source": [
        "#### Operaciones en listas"
      ]
    },
    {
      "cell_type": "markdown",
      "id": "fc005541",
      "metadata": {
        "id": "fc005541"
      },
      "source": [
        "Adición de un elemento por el final"
      ]
    },
    {
      "cell_type": "code",
      "execution_count": null,
      "id": "537a6e79",
      "metadata": {
        "colab": {
          "base_uri": "https://localhost:8080/"
        },
        "id": "537a6e79",
        "outputId": "6550b863-3113-4704-e1e9-b609177773ed"
      },
      "outputs": [
        {
          "data": {
            "text/plain": [
              "[1, 2, 3, 4]"
            ]
          },
          "execution_count": 50,
          "metadata": {},
          "output_type": "execute_result"
        }
      ],
      "source": [
        "lista"
      ]
    },
    {
      "cell_type": "code",
      "execution_count": null,
      "id": "384694b7",
      "metadata": {
        "id": "384694b7"
      },
      "outputs": [],
      "source": [
        "lista.append(8)"
      ]
    },
    {
      "cell_type": "code",
      "execution_count": null,
      "id": "57869fff",
      "metadata": {
        "colab": {
          "base_uri": "https://localhost:8080/"
        },
        "id": "57869fff",
        "outputId": "46559eec-09ec-407d-e41d-68f249ee8f93"
      },
      "outputs": [
        {
          "data": {
            "text/plain": [
              "[1, 2, 3, 4, 8]"
            ]
          },
          "execution_count": 52,
          "metadata": {},
          "output_type": "execute_result"
        }
      ],
      "source": [
        "lista"
      ]
    },
    {
      "cell_type": "markdown",
      "id": "7752652d",
      "metadata": {
        "id": "7752652d"
      },
      "source": [
        "Insertar un elemento en una posición específica."
      ]
    },
    {
      "cell_type": "code",
      "execution_count": null,
      "id": "1793c64b",
      "metadata": {
        "id": "1793c64b"
      },
      "outputs": [],
      "source": [
        "lista.insert(1, 100)"
      ]
    },
    {
      "cell_type": "code",
      "execution_count": null,
      "id": "803bdf30",
      "metadata": {
        "colab": {
          "base_uri": "https://localhost:8080/"
        },
        "id": "803bdf30",
        "outputId": "0cd7d00c-bfae-4939-b4d5-0c32997aae58"
      },
      "outputs": [
        {
          "data": {
            "text/plain": [
              "[1, 100, 2, 3, 4, 8]"
            ]
          },
          "execution_count": 54,
          "metadata": {},
          "output_type": "execute_result"
        }
      ],
      "source": [
        "lista"
      ]
    },
    {
      "cell_type": "markdown",
      "id": "bc7c58b7",
      "metadata": {
        "id": "bc7c58b7"
      },
      "source": [
        "Eliminar un elemento en una posición específica."
      ]
    },
    {
      "cell_type": "code",
      "execution_count": null,
      "id": "338d4be6",
      "metadata": {
        "colab": {
          "base_uri": "https://localhost:8080/"
        },
        "id": "338d4be6",
        "outputId": "675b6cd6-713f-4e6f-aac7-7cc5ecf65f75"
      },
      "outputs": [
        {
          "data": {
            "text/plain": [
              "100"
            ]
          },
          "execution_count": 55,
          "metadata": {},
          "output_type": "execute_result"
        }
      ],
      "source": [
        "lista.pop(1)"
      ]
    },
    {
      "cell_type": "code",
      "execution_count": null,
      "id": "6bfa8be8",
      "metadata": {
        "colab": {
          "base_uri": "https://localhost:8080/"
        },
        "id": "6bfa8be8",
        "outputId": "f6d69b9f-8ed5-427d-ef37-564ce1338eaa"
      },
      "outputs": [
        {
          "data": {
            "text/plain": [
              "[1, 2, 3, 4, 8]"
            ]
          },
          "execution_count": 56,
          "metadata": {},
          "output_type": "execute_result"
        }
      ],
      "source": [
        "lista"
      ]
    },
    {
      "cell_type": "markdown",
      "id": "a1a61559",
      "metadata": {
        "id": "a1a61559"
      },
      "source": [
        "Eliminar el primer elemento coincidente."
      ]
    },
    {
      "cell_type": "code",
      "execution_count": null,
      "id": "ef11680d",
      "metadata": {
        "id": "ef11680d"
      },
      "outputs": [],
      "source": [
        "lista.remove(8)"
      ]
    },
    {
      "cell_type": "code",
      "execution_count": null,
      "id": "edb1be9e",
      "metadata": {
        "colab": {
          "base_uri": "https://localhost:8080/"
        },
        "id": "edb1be9e",
        "outputId": "44975864-5376-4d54-e543-f15d5f9fdecb"
      },
      "outputs": [
        {
          "data": {
            "text/plain": [
              "[1, 2, 3, 4]"
            ]
          },
          "execution_count": 58,
          "metadata": {},
          "output_type": "execute_result"
        }
      ],
      "source": [
        "lista"
      ]
    },
    {
      "cell_type": "markdown",
      "id": "6c2386f3",
      "metadata": {
        "id": "6c2386f3"
      },
      "source": [
        "Eliminar elementos."
      ]
    },
    {
      "cell_type": "code",
      "execution_count": null,
      "id": "b73129b7",
      "metadata": {
        "colab": {
          "base_uri": "https://localhost:8080/"
        },
        "id": "b73129b7",
        "outputId": "48c1233d-1c43-4107-c81d-e2faf335ce23"
      },
      "outputs": [
        {
          "data": {
            "text/plain": [
              "[1, 2, 3, 4]"
            ]
          },
          "execution_count": 59,
          "metadata": {},
          "output_type": "execute_result"
        }
      ],
      "source": [
        "lista"
      ]
    },
    {
      "cell_type": "code",
      "execution_count": null,
      "id": "df5d5bf2",
      "metadata": {
        "id": "df5d5bf2"
      },
      "outputs": [],
      "source": [
        "del lista[1]"
      ]
    },
    {
      "cell_type": "code",
      "execution_count": null,
      "id": "8790ce99",
      "metadata": {
        "colab": {
          "base_uri": "https://localhost:8080/"
        },
        "id": "8790ce99",
        "outputId": "69831f75-a4ae-457a-e416-25bf4e09881c"
      },
      "outputs": [
        {
          "data": {
            "text/plain": [
              "[1, 3, 4]"
            ]
          },
          "execution_count": 61,
          "metadata": {},
          "output_type": "execute_result"
        }
      ],
      "source": [
        "lista"
      ]
    },
    {
      "cell_type": "markdown",
      "id": "e28a35de",
      "metadata": {
        "id": "e28a35de"
      },
      "source": [
        "Ordenar listas"
      ]
    },
    {
      "cell_type": "code",
      "execution_count": null,
      "id": "5c84f6a0",
      "metadata": {
        "id": "5c84f6a0",
        "outputId": "ff40b11b-64db-486d-fd4a-abeea0de358a"
      },
      "outputs": [
        {
          "data": {
            "text/plain": [
              "[1, 3, 4]"
            ]
          },
          "execution_count": 62,
          "metadata": {},
          "output_type": "execute_result"
        }
      ],
      "source": [
        "lista"
      ]
    },
    {
      "cell_type": "code",
      "execution_count": null,
      "id": "5326375b",
      "metadata": {
        "id": "5326375b"
      },
      "outputs": [],
      "source": [
        "lista.sort(reverse=True)"
      ]
    },
    {
      "cell_type": "code",
      "execution_count": null,
      "id": "8a89a2e0",
      "metadata": {
        "colab": {
          "base_uri": "https://localhost:8080/"
        },
        "id": "8a89a2e0",
        "outputId": "a71bf4a8-a9ac-4f99-8587-5b985166e999"
      },
      "outputs": [
        {
          "data": {
            "text/plain": [
              "[4, 3, 1]"
            ]
          },
          "execution_count": 64,
          "metadata": {},
          "output_type": "execute_result"
        }
      ],
      "source": [
        "lista"
      ]
    },
    {
      "cell_type": "code",
      "execution_count": null,
      "id": "eaf12e2d",
      "metadata": {
        "id": "eaf12e2d"
      },
      "outputs": [],
      "source": [
        "lista.sort()"
      ]
    },
    {
      "cell_type": "code",
      "execution_count": null,
      "id": "39b72f50",
      "metadata": {
        "colab": {
          "base_uri": "https://localhost:8080/"
        },
        "id": "39b72f50",
        "outputId": "35ae8797-d1fa-4bfd-e636-593b210fff8e"
      },
      "outputs": [
        {
          "data": {
            "text/plain": [
              "[1, 3, 4]"
            ]
          },
          "execution_count": 66,
          "metadata": {},
          "output_type": "execute_result"
        }
      ],
      "source": [
        "lista"
      ]
    },
    {
      "cell_type": "markdown",
      "id": "d341eb38",
      "metadata": {
        "id": "d341eb38"
      },
      "source": [
        "#### Operaciones en strings"
      ]
    },
    {
      "cell_type": "markdown",
      "id": "01ea7200",
      "metadata": {
        "id": "01ea7200"
      },
      "source": [
        "Conversión a mayúsculas/minúsculas."
      ]
    },
    {
      "cell_type": "code",
      "execution_count": null,
      "id": "f9ced69c",
      "metadata": {
        "colab": {
          "base_uri": "https://localhost:8080/",
          "height": 35
        },
        "id": "f9ced69c",
        "outputId": "cfe8fc38-3f47-4887-891f-013c6d17abc7"
      },
      "outputs": [
        {
          "data": {
            "text/plain": [
              "'esto es una cadena'"
            ]
          },
          "execution_count": 67,
          "metadata": {},
          "output_type": "execute_result"
        }
      ],
      "source": [
        "string"
      ]
    },
    {
      "cell_type": "code",
      "execution_count": null,
      "id": "66eeec17",
      "metadata": {
        "colab": {
          "base_uri": "https://localhost:8080/",
          "height": 35
        },
        "id": "66eeec17",
        "outputId": "d65f519f-0a1e-454b-beee-a08042fbaf3b"
      },
      "outputs": [
        {
          "data": {
            "text/plain": [
              "'ESTO ES UNA CADENA'"
            ]
          },
          "execution_count": 68,
          "metadata": {},
          "output_type": "execute_result"
        }
      ],
      "source": [
        "string = string.upper()\n",
        "string"
      ]
    },
    {
      "cell_type": "code",
      "execution_count": null,
      "id": "a2aa8216",
      "metadata": {
        "colab": {
          "base_uri": "https://localhost:8080/",
          "height": 35
        },
        "id": "a2aa8216",
        "outputId": "edad465a-16c9-4ea8-bf13-cadb7bf8b8cf"
      },
      "outputs": [
        {
          "data": {
            "text/plain": [
              "'esto es una cadena'"
            ]
          },
          "execution_count": 69,
          "metadata": {},
          "output_type": "execute_result"
        }
      ],
      "source": [
        "string = string.lower()\n",
        "string"
      ]
    },
    {
      "cell_type": "markdown",
      "id": "b8b830ce",
      "metadata": {
        "id": "b8b830ce"
      },
      "source": [
        "Segmentación por caracter."
      ]
    },
    {
      "cell_type": "code",
      "execution_count": null,
      "id": "3055455e",
      "metadata": {
        "id": "3055455e",
        "outputId": "87e80507-574a-4104-87f5-9620704ae5b2"
      },
      "outputs": [
        {
          "data": {
            "text/plain": [
              "'esto es una cadena'"
            ]
          },
          "execution_count": 70,
          "metadata": {},
          "output_type": "execute_result"
        }
      ],
      "source": [
        "string"
      ]
    },
    {
      "cell_type": "code",
      "execution_count": null,
      "id": "0b29419a",
      "metadata": {
        "colab": {
          "base_uri": "https://localhost:8080/"
        },
        "id": "0b29419a",
        "outputId": "df925dff-1e5f-4274-8745-d7779cc5c49e"
      },
      "outputs": [
        {
          "data": {
            "text/plain": [
              "['esto', 'es', 'una', 'cadena']"
            ]
          },
          "execution_count": 71,
          "metadata": {},
          "output_type": "execute_result"
        }
      ],
      "source": [
        "string.split(' ')"
      ]
    },
    {
      "cell_type": "markdown",
      "id": "beb07478",
      "metadata": {
        "id": "beb07478"
      },
      "source": [
        "# Diccionarios\n",
        "\n",
        "Un diccionario es una estructura que:\n",
        "- Contiene un listado de pares clave-valor.\n",
        "- Cuyas claves son cadenas de caracteres o valores numéricos.\n",
        "- Cuyos valores son valores o secuencias anidadas.\n",
        "- Sin orden."
      ]
    },
    {
      "cell_type": "markdown",
      "id": "d953590a",
      "metadata": {
        "id": "d953590a"
      },
      "source": [
        "Creación de un diccionario."
      ]
    },
    {
      "cell_type": "code",
      "execution_count": null,
      "id": "1845662c",
      "metadata": {
        "colab": {
          "base_uri": "https://localhost:8080/"
        },
        "id": "1845662c",
        "outputId": "b1f68f30-da34-4b05-aa74-ab36b8c5ca23"
      },
      "outputs": [
        {
          "data": {
            "text/plain": [
              "{'clave_1': 1, 'clave_2': 'prueba'}"
            ]
          },
          "execution_count": 72,
          "metadata": {},
          "output_type": "execute_result"
        }
      ],
      "source": [
        "dict_1 = {\"clave_1\": 1, \"clave_2\": \"prueba\"} \n",
        "dict_1"
      ]
    },
    {
      "cell_type": "code",
      "execution_count": null,
      "id": "2a0e278e",
      "metadata": {
        "colab": {
          "base_uri": "https://localhost:8080/"
        },
        "id": "2a0e278e",
        "outputId": "bf645e03-6ff0-465d-8461-be1be682948e"
      },
      "outputs": [
        {
          "data": {
            "text/plain": [
              "dict_keys(['clave_1', 'clave_2'])"
            ]
          },
          "execution_count": 73,
          "metadata": {},
          "output_type": "execute_result"
        }
      ],
      "source": [
        "dict_1.keys()"
      ]
    },
    {
      "cell_type": "code",
      "execution_count": null,
      "id": "841973d5",
      "metadata": {
        "colab": {
          "base_uri": "https://localhost:8080/"
        },
        "id": "841973d5",
        "outputId": "6494ae57-9982-41e3-cfaf-26f3cb008efa"
      },
      "outputs": [
        {
          "data": {
            "text/plain": [
              "dict_values([1, 'prueba'])"
            ]
          },
          "execution_count": 74,
          "metadata": {},
          "output_type": "execute_result"
        }
      ],
      "source": [
        "dict_1.values()"
      ]
    },
    {
      "cell_type": "markdown",
      "id": "3f738717",
      "metadata": {
        "id": "3f738717"
      },
      "source": [
        "Añadir un nuevo valor."
      ]
    },
    {
      "cell_type": "code",
      "execution_count": null,
      "id": "1df08735",
      "metadata": {
        "colab": {
          "base_uri": "https://localhost:8080/"
        },
        "id": "1df08735",
        "outputId": "615aaf76-9ab1-45f0-e257-c965d8833a54"
      },
      "outputs": [
        {
          "data": {
            "text/plain": [
              "{'clave_1': 1, 'clave_2': 'prueba', 'nuevo': 128}"
            ]
          },
          "execution_count": 75,
          "metadata": {},
          "output_type": "execute_result"
        }
      ],
      "source": [
        "dict_1['nuevo'] = 128\n",
        "dict_1"
      ]
    },
    {
      "cell_type": "markdown",
      "id": "01c29bec",
      "metadata": {
        "id": "01c29bec"
      },
      "source": [
        "Eliminar un valor."
      ]
    },
    {
      "cell_type": "code",
      "execution_count": null,
      "id": "cf4ba573",
      "metadata": {
        "colab": {
          "base_uri": "https://localhost:8080/"
        },
        "id": "cf4ba573",
        "outputId": "c33892fd-b255-4e9f-b072-126344deea34"
      },
      "outputs": [
        {
          "data": {
            "text/plain": [
              "128"
            ]
          },
          "execution_count": 76,
          "metadata": {},
          "output_type": "execute_result"
        }
      ],
      "source": [
        "dict_1.pop('nuevo')"
      ]
    },
    {
      "cell_type": "code",
      "execution_count": null,
      "id": "6a2615e6",
      "metadata": {
        "id": "6a2615e6",
        "outputId": "2ec1a360-d89e-4725-f36e-dec845684f1f"
      },
      "outputs": [
        {
          "data": {
            "text/plain": [
              "{'clave_1': 1, 'clave_2': 'prueba'}"
            ]
          },
          "execution_count": 77,
          "metadata": {},
          "output_type": "execute_result"
        }
      ],
      "source": [
        "dict_1"
      ]
    },
    {
      "cell_type": "markdown",
      "id": "a9f0fa50",
      "metadata": {
        "id": "a9f0fa50"
      },
      "source": [
        "# Estructuras de control"
      ]
    },
    {
      "cell_type": "markdown",
      "id": "54ca4160",
      "metadata": {
        "id": "54ca4160"
      },
      "source": [
        "#### Condicionales"
      ]
    },
    {
      "cell_type": "code",
      "execution_count": null,
      "id": "fae6f08b",
      "metadata": {
        "id": "fae6f08b"
      },
      "outputs": [],
      "source": [
        "precio = 1250\n",
        "sueldo = 1000\n",
        "ahorrado = 500"
      ]
    },
    {
      "cell_type": "code",
      "execution_count": null,
      "id": "3659f8f4",
      "metadata": {
        "id": "3659f8f4",
        "outputId": "c89a1045-69cb-4de4-edbb-e15481cc58a5"
      },
      "outputs": [
        {
          "data": {
            "text/plain": [
              "1000"
            ]
          },
          "execution_count": 79,
          "metadata": {},
          "output_type": "execute_result"
        }
      ],
      "source": [
        "sueldo"
      ]
    },
    {
      "cell_type": "code",
      "execution_count": null,
      "id": "756fa82b",
      "metadata": {
        "id": "756fa82b",
        "outputId": "c275a859-13d7-4f5e-f58d-bc68d6d29f6e"
      },
      "outputs": [
        {
          "data": {
            "text/plain": [
              "1250"
            ]
          },
          "execution_count": 80,
          "metadata": {},
          "output_type": "execute_result"
        }
      ],
      "source": [
        "precio"
      ]
    },
    {
      "cell_type": "code",
      "execution_count": null,
      "id": "23b275e8",
      "metadata": {
        "colab": {
          "base_uri": "https://localhost:8080/"
        },
        "id": "23b275e8",
        "outputId": "b5ecfb89-0618-4c68-8987-5c7537e2ce66"
      },
      "outputs": [
        {
          "name": "stdout",
          "output_type": "stream",
          "text": [
            "No comprar\n"
          ]
        }
      ],
      "source": [
        "if precio <= sueldo:\n",
        "    print('Comprar')\n",
        "else: \n",
        "    print('No comprar')"
      ]
    },
    {
      "cell_type": "code",
      "execution_count": null,
      "id": "08700302",
      "metadata": {
        "id": "08700302",
        "outputId": "f85e52be-aaa3-4e35-ab40-0368e8795afb"
      },
      "outputs": [
        {
          "data": {
            "text/plain": [
              "1250"
            ]
          },
          "execution_count": 82,
          "metadata": {},
          "output_type": "execute_result"
        }
      ],
      "source": [
        "precio"
      ]
    },
    {
      "cell_type": "code",
      "execution_count": null,
      "id": "df63c225",
      "metadata": {
        "id": "df63c225",
        "outputId": "33954b99-26b1-4604-96f5-be99898a572c"
      },
      "outputs": [
        {
          "data": {
            "text/plain": [
              "1000"
            ]
          },
          "execution_count": 84,
          "metadata": {},
          "output_type": "execute_result"
        }
      ],
      "source": [
        "sueldo"
      ]
    },
    {
      "cell_type": "code",
      "execution_count": null,
      "id": "1d6a0e53",
      "metadata": {
        "id": "1d6a0e53",
        "outputId": "551ac413-e2c2-4c2f-b175-10c39be354ed"
      },
      "outputs": [
        {
          "data": {
            "text/plain": [
              "1500"
            ]
          },
          "execution_count": 83,
          "metadata": {},
          "output_type": "execute_result"
        }
      ],
      "source": [
        "sueldo + ahorrado"
      ]
    },
    {
      "cell_type": "code",
      "execution_count": null,
      "id": "babc4baf",
      "metadata": {
        "colab": {
          "base_uri": "https://localhost:8080/"
        },
        "id": "babc4baf",
        "outputId": "46dc7fe6-bcb2-4969-cd98-84d638a75a9d"
      },
      "outputs": [
        {
          "name": "stdout",
          "output_type": "stream",
          "text": [
            "Comprar gastando lo ahorrado\n"
          ]
        }
      ],
      "source": [
        "if precio < sueldo:\n",
        "    print('Comprar')\n",
        "elif precio < sueldo + ahorrado:\n",
        "    print('Comprar gastando lo ahorrado')\n",
        "else:\n",
        "    print('No comprar')"
      ]
    },
    {
      "cell_type": "markdown",
      "id": "0610c5a6",
      "metadata": {
        "id": "0610c5a6"
      },
      "source": [
        "#### Bucle - for"
      ]
    },
    {
      "cell_type": "code",
      "execution_count": null,
      "id": "87a5df4b",
      "metadata": {
        "id": "87a5df4b",
        "outputId": "3c56e388-13a4-4304-838b-66ff04075eb6"
      },
      "outputs": [
        {
          "data": {
            "text/plain": [
              "[0, 1, 2]"
            ]
          },
          "execution_count": 87,
          "metadata": {},
          "output_type": "execute_result"
        }
      ],
      "source": [
        "list(range(3))"
      ]
    },
    {
      "cell_type": "code",
      "execution_count": null,
      "id": "353e1d15",
      "metadata": {
        "colab": {
          "base_uri": "https://localhost:8080/"
        },
        "id": "353e1d15",
        "outputId": "6d7429ea-e759-4135-ee2b-36936ad1bf57"
      },
      "outputs": [
        {
          "name": "stdout",
          "output_type": "stream",
          "text": [
            "0\n",
            "1\n",
            "2\n"
          ]
        }
      ],
      "source": [
        "for i in range(3):\n",
        "    print(i)"
      ]
    },
    {
      "cell_type": "code",
      "execution_count": null,
      "id": "efdb3cc1",
      "metadata": {
        "colab": {
          "base_uri": "https://localhost:8080/"
        },
        "id": "efdb3cc1",
        "outputId": "0ec82fa3-c56a-495b-8f89-64b36bb0952d"
      },
      "outputs": [
        {
          "name": "stdout",
          "output_type": "stream",
          "text": [
            "100\n",
            "101\n",
            "102\n"
          ]
        }
      ],
      "source": [
        "for i in range(3):\n",
        "    print(100 + i)"
      ]
    },
    {
      "cell_type": "markdown",
      "id": "bd6fa54b",
      "metadata": {
        "id": "bd6fa54b"
      },
      "source": [
        "#### Bucle while"
      ]
    },
    {
      "cell_type": "code",
      "execution_count": null,
      "id": "01e3ce05",
      "metadata": {
        "colab": {
          "base_uri": "https://localhost:8080/"
        },
        "id": "01e3ce05",
        "outputId": "98bf64f1-325e-4ed3-895d-8fa50cc87756",
        "scrolled": false
      },
      "outputs": [
        {
          "name": "stdout",
          "output_type": "stream",
          "text": [
            "Estamos en la vuelta  0\n",
            "Estamos en la vuelta  1\n",
            "Estamos en la vuelta  2\n",
            "Estamos en la vuelta  3\n",
            "Estamos en la vuelta  4\n",
            "Estamos en la vuelta  5\n",
            "Estamos en la vuelta  6\n",
            "Estamos en la vuelta  7\n",
            "Estamos en la vuelta  8\n",
            "Estamos en la vuelta  9\n"
          ]
        }
      ],
      "source": [
        "cont = 0\n",
        "while cont < 10:\n",
        "    print('Estamos en la vuelta ', cont)\n",
        "    cont += 1 #cont = cont + 1"
      ]
    },
    {
      "cell_type": "markdown",
      "id": "4c69a12d",
      "metadata": {
        "id": "4c69a12d"
      },
      "source": [
        "#### Funciones"
      ]
    },
    {
      "cell_type": "code",
      "execution_count": null,
      "id": "e3c1ee85",
      "metadata": {
        "id": "e3c1ee85"
      },
      "outputs": [],
      "source": [
        "def funcion_prueba(num1, num2):\n",
        "    resultado = num1 + num2\n",
        "    return resultado"
      ]
    },
    {
      "cell_type": "code",
      "execution_count": null,
      "id": "a99c2727",
      "metadata": {
        "colab": {
          "base_uri": "https://localhost:8080/"
        },
        "id": "a99c2727",
        "outputId": "4895bf4f-8404-4564-99b5-adf47186ecd7"
      },
      "outputs": [
        {
          "data": {
            "text/plain": [
              "15"
            ]
          },
          "execution_count": 92,
          "metadata": {},
          "output_type": "execute_result"
        }
      ],
      "source": [
        "funcion_prueba(5, 10)"
      ]
    },
    {
      "cell_type": "code",
      "execution_count": null,
      "id": "JgSEyJ5xQcyG",
      "metadata": {
        "id": "JgSEyJ5xQcyG"
      },
      "outputs": [],
      "source": []
    }
  ],
  "metadata": {
    "colab": {
      "collapsed_sections": [
        "79143143",
        "b8b25a14",
        "9c677f14",
        "90c6c9d5",
        "8c559082",
        "16b2d8b0",
        "2d94d091",
        "2b2d51c1",
        "82bb94a9",
        "d341eb38",
        "54ca4160",
        "0610c5a6",
        "bd6fa54b",
        "4c69a12d"
      ],
      "provenance": []
    },
    "kernelspec": {
      "display_name": "Python 3",
      "language": "python",
      "name": "python3"
    },
    "language_info": {
      "codemirror_mode": {
        "name": "ipython",
        "version": 3
      },
      "file_extension": ".py",
      "mimetype": "text/x-python",
      "name": "python",
      "nbconvert_exporter": "python",
      "pygments_lexer": "ipython3",
      "version": "3.8.8"
    }
  },
  "nbformat": 4,
  "nbformat_minor": 5
}