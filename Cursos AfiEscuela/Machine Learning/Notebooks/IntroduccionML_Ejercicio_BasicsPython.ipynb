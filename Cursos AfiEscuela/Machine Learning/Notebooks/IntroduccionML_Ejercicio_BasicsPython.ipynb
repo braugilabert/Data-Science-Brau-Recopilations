{
 "cells": [
  {
   "cell_type": "markdown",
   "id": "b2cf7d11",
   "metadata": {
    "id": "b2cf7d11"
   },
   "source": [
    "<img src=\"https://www.aseafi.es/wp-content/uploads/2020/09/Afi-Escuela.png\" alt=\"Drawing\" width=\"300\"/>\n",
    "\n",
    "# Ejercicio - Introducción a Python\n",
    "\n",
    "\n",
    "**Verónica Ruiz Méndez - Septiembre 2022**\n",
    "\n",
    "Curso Introducción a Machine Learning - Afi Escuela de Finanzas\n",
    "\n",
    "*Autor*: [Verónica Ruiz Méndez](https://www.linkedin.com/in/veronica-ruiz-mendez/) "
   ]
  },
  {
   "cell_type": "markdown",
   "id": "2e0b07d2",
   "metadata": {
    "id": "2e0b07d2"
   },
   "source": [
    "Declara dos variables numéricas y comprueba cuál es el mayor."
   ]
  },
  {
   "cell_type": "code",
   "execution_count": null,
   "id": "96030bb3",
   "metadata": {
    "id": "96030bb3"
   },
   "outputs": [],
   "source": [
    "var1 = 2\n",
    "var2 = 5"
   ]
  },
  {
   "cell_type": "code",
   "execution_count": null,
   "id": "5ztT_vvnRgr-",
   "metadata": {
    "id": "5ztT_vvnRgr-"
   },
   "outputs": [],
   "source": []
  },
  {
   "cell_type": "markdown",
   "id": "42d425c8",
   "metadata": {
    "id": "42d425c8"
   },
   "source": [
    "Crea una cadena de caracteres y cuenta cuántas letras 'a' contiene."
   ]
  },
  {
   "cell_type": "code",
   "execution_count": null,
   "id": "8e9ce07e",
   "metadata": {
    "id": "8e9ce07e"
   },
   "outputs": [],
   "source": [
    "cadena = 'esta es la cadena de caracteres de prueba'"
   ]
  },
  {
   "cell_type": "code",
   "execution_count": null,
   "id": "m-kA1HXURfY2",
   "metadata": {
    "id": "m-kA1HXURfY2"
   },
   "outputs": [],
   "source": []
  },
  {
   "cell_type": "markdown",
   "id": "b45b4be7",
   "metadata": {
    "id": "b45b4be7"
   },
   "source": [
    "Comprueba si tu nombre contiene una letra 'a'."
   ]
  },
  {
   "cell_type": "code",
   "execution_count": null,
   "id": "08c45f6b",
   "metadata": {
    "id": "08c45f6b"
   },
   "outputs": [],
   "source": []
  },
  {
   "cell_type": "markdown",
   "id": "7d486eb3",
   "metadata": {
    "id": "7d486eb3"
   },
   "source": [
    "Crea una lista de 10 números y devuelve el cuarto y el octavo."
   ]
  },
  {
   "cell_type": "code",
   "execution_count": null,
   "id": "c635c4af",
   "metadata": {
    "id": "c635c4af"
   },
   "outputs": [],
   "source": []
  },
  {
   "cell_type": "markdown",
   "id": "41f929da",
   "metadata": {
    "id": "41f929da"
   },
   "source": [
    "Dado el diccionario de prueba, añade una nueva clave 'cien' cuyo valor sea el número 100."
   ]
  },
  {
   "cell_type": "code",
   "execution_count": null,
   "id": "dcb1eb43",
   "metadata": {
    "id": "dcb1eb43"
   },
   "outputs": [],
   "source": [
    "diccionario = {'primero': 1, 'dos': 2, 'otro': 56}"
   ]
  },
  {
   "cell_type": "code",
   "execution_count": null,
   "id": "3c32b66b",
   "metadata": {
    "id": "3c32b66b"
   },
   "outputs": [],
   "source": []
  }
 ],
 "metadata": {
  "colab": {
   "name": "AnalisisDatosFinancieros_Ejercicio_BasicsPython.ipynb",
   "provenance": []
  },
  "kernelspec": {
   "display_name": "Python 3",
   "language": "python",
   "name": "python3"
  },
  "language_info": {
   "codemirror_mode": {
    "name": "ipython",
    "version": 3
   },
   "file_extension": ".py",
   "mimetype": "text/x-python",
   "name": "python",
   "nbconvert_exporter": "python",
   "pygments_lexer": "ipython3",
   "version": "3.8.8"
  }
 },
 "nbformat": 4,
 "nbformat_minor": 5
}
