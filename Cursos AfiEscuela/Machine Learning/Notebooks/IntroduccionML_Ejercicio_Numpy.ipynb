{
 "cells": [
  {
   "cell_type": "markdown",
   "id": "cdc639ee",
   "metadata": {
    "id": "cdc639ee"
   },
   "source": [
    "<img src=\"https://www.aseafi.es/wp-content/uploads/2020/09/Afi-Escuela.png\" alt=\"Drawing\" width=\"300\"/>\n",
    "\n",
    "# Ejercicio - Numpy\n",
    "\n",
    "\n",
    "**Verónica Ruiz Méndez - Septiembre 2022**\n",
    "\n",
    "Curso Introducción a Machine Learning - Afi Escuela de Finanzas\n",
    "\n",
    "*Autor*: [Verónica Ruiz Méndez](https://www.linkedin.com/in/veronica-ruiz-mendez/) "
   ]
  },
  {
   "cell_type": "markdown",
   "id": "eeeefd7c",
   "metadata": {
    "id": "eeeefd7c"
   },
   "source": [
    "Crea una matriz con los valores 1-5 en la diagonal principal."
   ]
  },
  {
   "cell_type": "code",
   "execution_count": null,
   "id": "4f41ac27",
   "metadata": {
    "id": "4f41ac27"
   },
   "outputs": [],
   "source": []
  },
  {
   "cell_type": "markdown",
   "id": "3aed427d",
   "metadata": {
    "id": "3aed427d"
   },
   "source": [
    "A la matriz anterior súmale una matriz de unos."
   ]
  },
  {
   "cell_type": "code",
   "execution_count": null,
   "id": "ce7dd86b",
   "metadata": {
    "id": "ce7dd86b"
   },
   "outputs": [],
   "source": []
  },
  {
   "cell_type": "markdown",
   "id": "969af0ec",
   "metadata": {
    "id": "969af0ec"
   },
   "source": [
    "Multiplica cada elemento de la matriz por el valor guardado en la varible *prod*."
   ]
  },
  {
   "cell_type": "code",
   "execution_count": null,
   "id": "95ca869e",
   "metadata": {
    "id": "95ca869e"
   },
   "outputs": [],
   "source": [
    "prod = 5"
   ]
  }
 ],
 "metadata": {
  "colab": {
   "name": "AnalisisDatosFinancieros_Ejercicio_Numpy.ipynb",
   "provenance": []
  },
  "kernelspec": {
   "display_name": "Python 3",
   "language": "python",
   "name": "python3"
  },
  "language_info": {
   "codemirror_mode": {
    "name": "ipython",
    "version": 3
   },
   "file_extension": ".py",
   "mimetype": "text/x-python",
   "name": "python",
   "nbconvert_exporter": "python",
   "pygments_lexer": "ipython3",
   "version": "3.8.8"
  }
 },
 "nbformat": 4,
 "nbformat_minor": 5
}
