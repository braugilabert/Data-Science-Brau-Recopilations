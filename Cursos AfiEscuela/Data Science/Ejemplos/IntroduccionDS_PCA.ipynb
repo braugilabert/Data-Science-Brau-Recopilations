{
 "cells": [
  {
   "cell_type": "markdown",
   "id": "67389da4",
   "metadata": {},
   "source": [
    "<img src=\"https://www.aseafi.es/wp-content/uploads/2020/09/Afi-Escuela.png\" alt=\"Drawing\" width=\"300\"/>\n",
    "\n",
    "# Análisis de Componentes Principales (PCA)\n",
    "\n",
    "\n",
    "**Verónica Ruiz Méndez - Abril 2022**\n",
    "\n",
    "Curso Introducción a Data Science - Afi Escuela de Finanzas\n",
    "\n",
    "*Autor*: [Verónica Ruiz Méndez](https://www.linkedin.com/in/veronica-ruiz-mendez/) "
   ]
  },
  {
   "cell_type": "markdown",
   "id": "a4ccd116",
   "metadata": {},
   "source": [
    "Importamos liberías a utilizar."
   ]
  },
  {
   "cell_type": "code",
   "execution_count": 2,
   "id": "0cfad2cf",
   "metadata": {},
   "outputs": [],
   "source": [
    "import numpy as np\n",
    "from sklearn.decomposition import PCA\n",
    "import matplotlib.pyplot as plt"
   ]
  },
  {
   "cell_type": "markdown",
   "id": "ff6d405e",
   "metadata": {},
   "source": [
    "Definimos nuestro set de datos."
   ]
  },
  {
   "cell_type": "code",
   "execution_count": 3,
   "id": "06776861",
   "metadata": {},
   "outputs": [
    {
     "data": {
      "text/plain": [
       "array([[-1, -1, -1, -1,  4],\n",
       "       [-2, -1,  2,  1,  6],\n",
       "       [-3, -2,  3,  2,  3],\n",
       "       [ 1,  1,  1,  1,  1],\n",
       "       [ 2,  1,  2,  1,  5],\n",
       "       [ 3,  2, -3, -2, -1]])"
      ]
     },
     "execution_count": 3,
     "metadata": {},
     "output_type": "execute_result"
    }
   ],
   "source": [
    "X = np.array([[-1, -1, -1, -1, 4], [-2, -1, 2, 1, 6], [-3, -2, 3, 2, 3], \n",
    "              [1, 1, 1, 1, 1], [2, 1, 2, 1, 5], [3, 2, -3, -2, -1]])\n",
    "X"
   ]
  },
  {
   "cell_type": "code",
   "execution_count": 4,
   "id": "21e465f7",
   "metadata": {},
   "outputs": [
    {
     "data": {
      "text/plain": [
       "(6, 5)"
      ]
     },
     "execution_count": 4,
     "metadata": {},
     "output_type": "execute_result"
    }
   ],
   "source": [
    "X.shape"
   ]
  },
  {
   "cell_type": "markdown",
   "id": "6b6493e3",
   "metadata": {},
   "source": [
    "Obtenemos PCA, queremos dos componentes principales y entrenamos con nuestro set de datos."
   ]
  },
  {
   "cell_type": "code",
   "execution_count": 5,
   "id": "c8f662dd",
   "metadata": {},
   "outputs": [
    {
     "data": {
      "text/plain": [
       "PCA(n_components=4)"
      ]
     },
     "execution_count": 5,
     "metadata": {},
     "output_type": "execute_result"
    }
   ],
   "source": [
    "pca = PCA(n_components=4)\n",
    "pca.fit(X)"
   ]
  },
  {
   "cell_type": "markdown",
   "id": "81188ccb",
   "metadata": {},
   "source": [
    "Obtenemos la varianza explicada para cada una de nuestras componentes principales."
   ]
  },
  {
   "cell_type": "code",
   "execution_count": 6,
   "id": "0e8b5e7e",
   "metadata": {
    "scrolled": true
   },
   "outputs": [
    {
     "data": {
      "text/plain": [
       "array([0.72040376, 0.15016992, 0.12699105, 0.00224801])"
      ]
     },
     "execution_count": 6,
     "metadata": {},
     "output_type": "execute_result"
    }
   ],
   "source": [
    "pca.explained_variance_ratio_"
   ]
  },
  {
   "cell_type": "markdown",
   "id": "b9f53732",
   "metadata": {},
   "source": [
    "Realizamos el diagrama de codo, para poder ver de forma visual el porcentaje de varianza acumulada con cada una de las componentes principales."
   ]
  },
  {
   "cell_type": "code",
   "execution_count": 8,
   "id": "40f976a2",
   "metadata": {},
   "outputs": [
    {
     "data": {
      "image/png": "[encoded data removed]",
      "text/plain": [
       "<Figure size 432x288 with 1 Axes>"
      ]
     },
     "metadata": {
      "needs_background": "light"
     },
     "output_type": "display_data"
    }
   ],
   "source": [
    "plt.plot(np.cumsum(pca.explained_variance_ratio_))\n",
    "plt.xlabel('Componente Principal')\n",
    "plt.ylabel('Varianza explicada')\n",
    "plt.show()"
   ]
  },
  {
   "cell_type": "code",
   "execution_count": null,
   "id": "05046039",
   "metadata": {},
   "outputs": [],
   "source": []
  }
 ],
 "metadata": {
  "kernelspec": {
   "display_name": "Python 3",
   "language": "python",
   "name": "python3"
  },
  "language_info": {
   "codemirror_mode": {
    "name": "ipython",
    "version": 3
   },
   "file_extension": ".py",
   "mimetype": "text/x-python",
   "name": "python",
   "nbconvert_exporter": "python",
   "pygments_lexer": "ipython3",
   "version": "3.8.8"
  }
 },
 "nbformat": 4,
 "nbformat_minor": 5
}
