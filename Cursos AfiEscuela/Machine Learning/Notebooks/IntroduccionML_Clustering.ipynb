{
  "cells": [
    {
      "cell_type": "markdown",
      "id": "31b0b90c",
      "metadata": {
        "id": "31b0b90c"
      },
      "source": [
        "<img src=\"https://www.aseafi.es/wp-content/uploads/2020/09/Afi-Escuela.png\" alt=\"Drawing\" width=\"300\"/>\n",
        "\n",
        "# Clustering - k-means\n",
        "\n",
        "\n",
        "**Verónica Ruiz Méndez - Septiembre 2022**\n",
        "\n",
        "Curso Introducción a Machine Learning - Afi Escuela de Finanzas\n",
        "\n",
        "*Autor*: [Verónica Ruiz Méndez](https://www.linkedin.com/in/veronica-ruiz-mendez/) "
      ]
    },
    {
      "cell_type": "markdown",
      "id": "1213b73f",
      "metadata": {
        "id": "1213b73f"
      },
      "source": [
        "Importamos liberías a utilizar."
      ]
    },
    {
      "cell_type": "code",
      "execution_count": 1,
      "id": "89186a9b",
      "metadata": {
        "id": "89186a9b"
      },
      "outputs": [],
      "source": [
        "from sklearn.cluster import KMeans\n",
        "import numpy as np\n",
        "import pandas as pd\n",
        "import matplotlib.pyplot as plt"
      ]
    },
    {
      "cell_type": "markdown",
      "id": "4f594454",
      "metadata": {
        "id": "4f594454"
      },
      "source": [
        "Definimos nuestro set de datos."
      ]
    },
    {
      "cell_type": "code",
      "execution_count": 2,
      "id": "eb017edc",
      "metadata": {
        "colab": {
          "base_uri": "https://localhost:8080/"
        },
        "id": "eb017edc",
        "outputId": "7cfc3ebf-e7f2-4d22-c392-4b46b71b8887"
      },
      "outputs": [
        {
          "output_type": "execute_result",
          "data": {
            "text/plain": [
              "array([[ 1,  2],\n",
              "       [ 1,  4],\n",
              "       [ 1,  0],\n",
              "       [ 3,  3],\n",
              "       [ 4,  2],\n",
              "       [ 8,  1],\n",
              "       [10,  2],\n",
              "       [10,  4],\n",
              "       [10,  0]])"
            ]
          },
          "metadata": {},
          "execution_count": 2
        }
      ],
      "source": [
        "X = np.array([[1, 2], [1, 4], [1, 0],\n",
        "              [3, 3], [4, 2], [8, 1],\n",
        "               [10, 2], [10, 4], [10, 0]])\n",
        "X"
      ]
    },
    {
      "cell_type": "code",
      "execution_count": 3,
      "id": "ddb0506b",
      "metadata": {
        "colab": {
          "base_uri": "https://localhost:8080/"
        },
        "id": "ddb0506b",
        "outputId": "e28b2d59-b8c1-432d-fb81-a6fa912eae53"
      },
      "outputs": [
        {
          "output_type": "execute_result",
          "data": {
            "text/plain": [
              "(9, 2)"
            ]
          },
          "metadata": {},
          "execution_count": 3
        }
      ],
      "source": [
        "X.shape"
      ]
    },
    {
      "cell_type": "markdown",
      "id": "764f1e43",
      "metadata": {
        "id": "764f1e43"
      },
      "source": [
        "Aplicamos k-means con 2 clusters."
      ]
    },
    {
      "cell_type": "code",
      "execution_count": 4,
      "id": "422f38dc",
      "metadata": {
        "colab": {
          "base_uri": "https://localhost:8080/"
        },
        "id": "422f38dc",
        "outputId": "2490c305-279e-4200-abd0-0c5c7b59b810"
      },
      "outputs": [
        {
          "output_type": "execute_result",
          "data": {
            "text/plain": [
              "KMeans(n_clusters=2)"
            ]
          },
          "metadata": {},
          "execution_count": 4
        }
      ],
      "source": [
        "kmeans = KMeans(n_clusters= 2)\n",
        "kmeans"
      ]
    },
    {
      "cell_type": "markdown",
      "id": "f5735915",
      "metadata": {
        "id": "f5735915"
      },
      "source": [
        "Hemos generado el objeto KMeans.\n",
        "\n",
        "Ahora, entrenamos sobre nuestro set de datos X y obtenemos el cluster al que pertenece cada observación."
      ]
    },
    {
      "cell_type": "code",
      "execution_count": 5,
      "id": "f108690f",
      "metadata": {
        "colab": {
          "base_uri": "https://localhost:8080/"
        },
        "id": "f108690f",
        "outputId": "85413c07-237a-44e0-9965-8c16b9b09c06"
      },
      "outputs": [
        {
          "output_type": "execute_result",
          "data": {
            "text/plain": [
              "array([0, 0, 0, 0, 0, 1, 1, 1, 1], dtype=int32)"
            ]
          },
          "metadata": {},
          "execution_count": 5
        }
      ],
      "source": [
        "label = kmeans.fit_predict(X)\n",
        "label"
      ]
    },
    {
      "cell_type": "markdown",
      "id": "7f53345a",
      "metadata": {
        "id": "7f53345a"
      },
      "source": [
        "También, podemos obtener los centroides de nuestros clusters."
      ]
    },
    {
      "cell_type": "code",
      "execution_count": 6,
      "id": "e2b731af",
      "metadata": {
        "colab": {
          "base_uri": "https://localhost:8080/"
        },
        "id": "e2b731af",
        "outputId": "4e39be22-890f-498b-c4f2-e0120e0d61df"
      },
      "outputs": [
        {
          "output_type": "execute_result",
          "data": {
            "text/plain": [
              "array([[2.  , 2.2 ],\n",
              "       [9.5 , 1.75]])"
            ]
          },
          "metadata": {},
          "execution_count": 6
        }
      ],
      "source": [
        "centroides = kmeans.cluster_centers_\n",
        "centroides"
      ]
    },
    {
      "cell_type": "markdown",
      "id": "957cc011",
      "metadata": {
        "id": "957cc011"
      },
      "source": [
        "Realizamos el gráfico de nuesto set de datos."
      ]
    },
    {
      "cell_type": "code",
      "execution_count": 7,
      "id": "158098ca",
      "metadata": {
        "scrolled": true,
        "colab": {
          "base_uri": "https://localhost:8080/",
          "height": 265
        },
        "id": "158098ca",
        "outputId": "b95e9fd5-dd9d-4e5a-8417-22c4d613527a"
      },
      "outputs": [
        {
          "output_type": "display_data",
          "data": {
            "text/plain": [
              "<Figure size 432x288 with 1 Axes>"
            ],
            "image/png": "[encoded data removed]"
          },
          "metadata": {
            "needs_background": "light"
          }
        }
      ],
      "source": [
        "for i in np.unique(label):\n",
        "    plt.scatter(X[label == i , 0] , X[label == i , 1] , label = i)\n",
        "plt.scatter(centroides[:,0] , centroides[:,1] , s = 80, color = 'k', marker= 'x')\n",
        "plt.legend()\n",
        "plt.show()"
      ]
    },
    {
      "cell_type": "markdown",
      "id": "ffa05cda",
      "metadata": {
        "id": "ffa05cda"
      },
      "source": [
        "Dada una nueva observación, queremos predecir a qué cluster pertenecerá."
      ]
    },
    {
      "cell_type": "code",
      "execution_count": 8,
      "id": "6f518459",
      "metadata": {
        "id": "6f518459"
      },
      "outputs": [],
      "source": [
        "new_point = [12,3]"
      ]
    },
    {
      "cell_type": "code",
      "execution_count": 9,
      "id": "f668318d",
      "metadata": {
        "colab": {
          "base_uri": "https://localhost:8080/"
        },
        "id": "f668318d",
        "outputId": "acbd6a9c-dea2-4650-f379-d83f93394b55"
      },
      "outputs": [
        {
          "output_type": "execute_result",
          "data": {
            "text/plain": [
              "array([1], dtype=int32)"
            ]
          },
          "metadata": {},
          "execution_count": 9
        }
      ],
      "source": [
        "kmeans.predict([new_point])"
      ]
    },
    {
      "cell_type": "code",
      "execution_count": 12,
      "id": "d8633315",
      "metadata": {
        "colab": {
          "base_uri": "https://localhost:8080/",
          "height": 265
        },
        "id": "d8633315",
        "outputId": "c5125e8a-166c-414e-d73f-ab2328083aea"
      },
      "outputs": [
        {
          "output_type": "display_data",
          "data": {
            "text/plain": [
              "<Figure size 432x288 with 1 Axes>"
            ],
            "image/png": "[encoded data removed]"
          },
          "metadata": {
            "needs_background": "light"
          }
        }
      ],
      "source": [
        "for i in np.unique(label):\n",
        "    plt.scatter(X[label == i , 0] , X[label == i , 1] , label = i)\n",
        "plt.scatter(centroides[:,0] , centroides[:,1] , s = 80, color = 'k', marker= 'x')\n",
        "plt.scatter(new_point[0], new_point[1], s = 80, color = 'm', marker= 'o')\n",
        "plt.legend()\n",
        "plt.show()"
      ]
    },
    {
      "cell_type": "code",
      "execution_count": null,
      "id": "2750d8e6",
      "metadata": {
        "id": "2750d8e6"
      },
      "outputs": [],
      "source": []
    }
  ],
  "metadata": {
    "kernelspec": {
      "display_name": "Python 3",
      "language": "python",
      "name": "python3"
    },
    "language_info": {
      "codemirror_mode": {
        "name": "ipython",
        "version": 3
      },
      "file_extension": ".py",
      "mimetype": "text/x-python",
      "name": "python",
      "nbconvert_exporter": "python",
      "pygments_lexer": "ipython3",
      "version": "3.8.8"
    },
    "colab": {
      "provenance": []
    }
  },
  "nbformat": 4,
  "nbformat_minor": 5
}