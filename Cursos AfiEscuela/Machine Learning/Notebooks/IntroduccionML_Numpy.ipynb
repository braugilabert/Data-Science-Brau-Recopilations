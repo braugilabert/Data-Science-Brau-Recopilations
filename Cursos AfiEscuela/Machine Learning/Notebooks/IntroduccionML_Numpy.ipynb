{
 "cells": [
  {
   "cell_type": "markdown",
   "id": "c4835956",
   "metadata": {},
   "source": [
    "<img src=\"https://www.aseafi.es/wp-content/uploads/2020/09/Afi-Escuela.png\" alt=\"Drawing\" width=\"300\"/>\n",
    "\n",
    "# Numpy\n",
    "\n",
    "\n",
    "**Verónica Ruiz Méndez - Septiembre 2022**\n",
    "\n",
    "Curso Introducción a Machine Learning - Afi Escuela de Finanzas\n",
    "\n",
    "*Autor*: [Verónica Ruiz Méndez](https://www.linkedin.com/in/veronica-ruiz-mendez/) "
   ]
  },
  {
   "cell_type": "markdown",
   "id": "8d85fda5",
   "metadata": {},
   "source": [
    "Toda la libería de **NumPy** se articula alrededor de una única estructura de datos: la matriz multidimensional o ndarray (N-dimensional array).\n",
    "\n",
    "Características de un ndarray:\n",
    "- Un ndarray puede contener elementos de cualquier tipo.\n",
    "- Todos los elementos de un ndarray deben tener el mismo tipo.\n",
    "- El tamaño de un ndarray (númnero de elementos) se define en el momento de la creación y no puede modificarse."
   ]
  },
  {
   "cell_type": "code",
   "execution_count": 2,
   "id": "767c7dcc",
   "metadata": {},
   "outputs": [],
   "source": [
    "import numpy as np"
   ]
  },
  {
   "cell_type": "markdown",
   "id": "179115cf",
   "metadata": {},
   "source": [
    "#### Creación de un ndarray"
   ]
  },
  {
   "cell_type": "code",
   "execution_count": 3,
   "id": "41a4d7a5",
   "metadata": {},
   "outputs": [
    {
     "data": {
      "text/plain": [
       "array([[1., 1.],\n",
       "       [1., 1.]])"
      ]
     },
     "execution_count": 3,
     "metadata": {},
     "output_type": "execute_result"
    }
   ],
   "source": [
    "# Especificando dimensiones\n",
    "array_unos = np.ones((2, 2))\n",
    "array_unos"
   ]
  },
  {
   "cell_type": "code",
   "execution_count": 4,
   "id": "aca5bfc0",
   "metadata": {},
   "outputs": [
    {
     "data": {
      "text/plain": [
       "array([[1., 0., 0.],\n",
       "       [0., 1., 0.],\n",
       "       [0., 0., 1.]])"
      ]
     },
     "execution_count": 4,
     "metadata": {},
     "output_type": "execute_result"
    }
   ],
   "source": [
    "array_identidad = np.identity(3)\n",
    "array_identidad"
   ]
  },
  {
   "cell_type": "code",
   "execution_count": 5,
   "id": "b7fc6d6b",
   "metadata": {},
   "outputs": [
    {
     "data": {
      "text/plain": [
       "array([[ 1,  2,  3,  4],\n",
       "       [ 5,  6,  7,  8],\n",
       "       [ 9, 10, 11, 12]])"
      ]
     },
     "execution_count": 5,
     "metadata": {},
     "output_type": "execute_result"
    }
   ],
   "source": [
    "array = np.array([[1, 2, 3, 4], [5, 6, 7, 8], [9, 10, 11, 12]])\n",
    "array"
   ]
  },
  {
   "cell_type": "markdown",
   "id": "764c65d9",
   "metadata": {},
   "source": [
    "#### Tipos de datos en ndarrays de NumPy\n",
    "\n",
    "<ul>\n",
    "<li><b>Enteros con signo:</b> np.int8, np.int16, np.int32 y np.int64</li>\n",
    "<li><b>Enteros sin signo:</b> np.uint8, np.uint16, np.uint32 y np.uint64</li>\n",
    "<li><b>Números en coma flotante:</b> np.float16, np.float32, np.float64, np.float128</li>\n",
    "<li><b>Booleanos:</b> np.bool</li>\n",
    "<li><b>Objetos:</b> np.object</li>\n",
    "<li><b>Cadenas de caracteres:</b> np.string\\_, np.unicode\\_</li>\n",
    "<li>...</li>\n",
    "</ul>"
   ]
  },
  {
   "cell_type": "code",
   "execution_count": 6,
   "id": "c0c303d2",
   "metadata": {},
   "outputs": [
    {
     "data": {
      "text/plain": [
       "dtype('int32')"
      ]
     },
     "execution_count": 6,
     "metadata": {},
     "output_type": "execute_result"
    }
   ],
   "source": [
    "array.dtype"
   ]
  },
  {
   "cell_type": "markdown",
   "id": "b5f53daa",
   "metadata": {},
   "source": [
    "#### Consulta de la composición de un ndarray\n",
    "\n",
    "<ul>\n",
    "<li><b>dtype</b>: Tipo del contenido del ndarray.</li>\n",
    "<li><b>ndim</b>: Número de dimensiones/ejes del ndarray.</li>\n",
    "<li><b>shape</b>: Estructura/forma del ndarray, es decir, número de elementos en cada uno de los ejes/dimensiones.</li>\n",
    "<li><b>size</b>: Número total de elementos en el ndarray.</li>\n",
    "</ul>"
   ]
  },
  {
   "cell_type": "code",
   "execution_count": 10,
   "id": "96fc8e6e",
   "metadata": {},
   "outputs": [
    {
     "data": {
      "text/plain": [
       "(3, 4)"
      ]
     },
     "execution_count": 10,
     "metadata": {},
     "output_type": "execute_result"
    }
   ],
   "source": [
    "array.shape"
   ]
  },
  {
   "cell_type": "code",
   "execution_count": 11,
   "id": "82b11693",
   "metadata": {},
   "outputs": [
    {
     "data": {
      "text/plain": [
       "12"
      ]
     },
     "execution_count": 11,
     "metadata": {},
     "output_type": "execute_result"
    }
   ],
   "source": [
    "array.size"
   ]
  },
  {
   "cell_type": "markdown",
   "id": "ec92ae7e",
   "metadata": {},
   "source": [
    "#### Operaciones aritméticas entre ndarrays"
   ]
  },
  {
   "cell_type": "code",
   "execution_count": 12,
   "id": "f50c3a39",
   "metadata": {},
   "outputs": [
    {
     "data": {
      "text/plain": [
       "array([[ 6,  7,  8,  9],\n",
       "       [10, 11, 12, 13],\n",
       "       [14, 15, 16, 17]])"
      ]
     },
     "execution_count": 12,
     "metadata": {},
     "output_type": "execute_result"
    }
   ],
   "source": [
    "array + 5"
   ]
  },
  {
   "cell_type": "code",
   "execution_count": 13,
   "id": "e9554772",
   "metadata": {},
   "outputs": [
    {
     "data": {
      "text/plain": [
       "array([[0, 0, 0, 0],\n",
       "       [0, 0, 0, 0],\n",
       "       [0, 0, 0, 0]])"
      ]
     },
     "execution_count": 13,
     "metadata": {},
     "output_type": "execute_result"
    }
   ],
   "source": [
    "array - array"
   ]
  },
  {
   "cell_type": "markdown",
   "id": "2889a85d",
   "metadata": {},
   "source": [
    "#### Indexación "
   ]
  },
  {
   "cell_type": "code",
   "execution_count": 18,
   "id": "c67e92df",
   "metadata": {},
   "outputs": [
    {
     "data": {
      "text/plain": [
       "array([[ 1,  2,  3,  4],\n",
       "       [ 5,  6,  7,  8],\n",
       "       [ 9, 10, 11, 12]])"
      ]
     },
     "execution_count": 18,
     "metadata": {},
     "output_type": "execute_result"
    }
   ],
   "source": [
    "array"
   ]
  },
  {
   "cell_type": "code",
   "execution_count": 19,
   "id": "7f0b2ab3",
   "metadata": {},
   "outputs": [
    {
     "data": {
      "text/plain": [
       "array([5, 6, 7, 8])"
      ]
     },
     "execution_count": 19,
     "metadata": {},
     "output_type": "execute_result"
    }
   ],
   "source": [
    "array[1]"
   ]
  },
  {
   "cell_type": "code",
   "execution_count": 17,
   "id": "d65b6418",
   "metadata": {},
   "outputs": [
    {
     "data": {
      "text/plain": [
       "array([ 9, 10, 11, 12])"
      ]
     },
     "execution_count": 17,
     "metadata": {},
     "output_type": "execute_result"
    }
   ],
   "source": [
    "array[-1]"
   ]
  },
  {
   "cell_type": "code",
   "execution_count": null,
   "id": "b56b2ab9",
   "metadata": {},
   "outputs": [],
   "source": []
  }
 ],
 "metadata": {
  "kernelspec": {
   "display_name": "Python 3",
   "language": "python",
   "name": "python3"
  },
  "language_info": {
   "codemirror_mode": {
    "name": "ipython",
    "version": 3
   },
   "file_extension": ".py",
   "mimetype": "text/x-python",
   "name": "python",
   "nbconvert_exporter": "python",
   "pygments_lexer": "ipython3",
   "version": "3.8.8"
  }
 },
 "nbformat": 4,
 "nbformat_minor": 5
}
