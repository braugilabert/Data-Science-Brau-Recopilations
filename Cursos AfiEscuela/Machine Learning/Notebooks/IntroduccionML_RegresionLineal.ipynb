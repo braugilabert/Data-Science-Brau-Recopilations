{
  "cells": [
    {
      "cell_type": "markdown",
      "id": "e28e2ab2",
      "metadata": {
        "id": "e28e2ab2"
      },
      "source": [
        "<img src=\"https://www.aseafi.es/wp-content/uploads/2020/09/Afi-Escuela.png\" alt=\"Drawing\" width=\"300\"/>\n",
        "\n",
        "# Regresión Lineal\n",
        "\n",
        "\n",
        "**Verónica Ruiz Méndez - Septiembre 2022**\n",
        "\n",
        "Curso Introducción a Machine Learning - Afi Escuela de Finanzas\n",
        "\n",
        "*Autor*: [Verónica Ruiz Méndez](https://www.linkedin.com/in/veronica-ruiz-mendez/) "
      ]
    },
    {
      "cell_type": "markdown",
      "id": "0ba18503",
      "metadata": {
        "id": "0ba18503"
      },
      "source": [
        "Importamos liberías a utilizar."
      ]
    },
    {
      "cell_type": "code",
      "execution_count": 1,
      "id": "60d4d8d3",
      "metadata": {
        "id": "60d4d8d3"
      },
      "outputs": [],
      "source": [
        "import numpy as np\n",
        "from sklearn.linear_model import LinearRegression\n",
        "from sklearn.linear_model import Ridge\n",
        "import matplotlib.pyplot as plt"
      ]
    },
    {
      "cell_type": "markdown",
      "id": "abc11efd",
      "metadata": {
        "id": "abc11efd"
      },
      "source": [
        "Definimos nuestro set de datos."
      ]
    },
    {
      "cell_type": "code",
      "execution_count": 2,
      "id": "d0123bf7",
      "metadata": {
        "colab": {
          "base_uri": "https://localhost:8080/"
        },
        "id": "d0123bf7",
        "outputId": "df9812e5-3408-4ea9-8722-5d57feee1d98"
      },
      "outputs": [
        {
          "output_type": "execute_result",
          "data": {
            "text/plain": [
              "array([[1. ],\n",
              "       [1.5],\n",
              "       [3. ],\n",
              "       [2. ],\n",
              "       [2.5],\n",
              "       [1.5]])"
            ]
          },
          "metadata": {},
          "execution_count": 2
        }
      ],
      "source": [
        "X = np.array([[1], [1.5], [3], [2], [2.5], [1.5]])\n",
        "X"
      ]
    },
    {
      "cell_type": "code",
      "execution_count": 3,
      "id": "916d4f0d",
      "metadata": {
        "colab": {
          "base_uri": "https://localhost:8080/"
        },
        "id": "916d4f0d",
        "outputId": "388ddefe-43a8-47d8-c84a-3ce2919f7bf5"
      },
      "outputs": [
        {
          "output_type": "execute_result",
          "data": {
            "text/plain": [
              "(6, 1)"
            ]
          },
          "metadata": {},
          "execution_count": 3
        }
      ],
      "source": [
        "X.shape"
      ]
    },
    {
      "cell_type": "code",
      "execution_count": 4,
      "id": "24247b0d",
      "metadata": {
        "colab": {
          "base_uri": "https://localhost:8080/"
        },
        "id": "24247b0d",
        "outputId": "8d8cb96b-441f-4740-f983-6150c6b9dadb"
      },
      "outputs": [
        {
          "output_type": "execute_result",
          "data": {
            "text/plain": [
              "array([[1. ],\n",
              "       [2.5],\n",
              "       [3. ],\n",
              "       [2.5],\n",
              "       [1.5],\n",
              "       [1. ]])"
            ]
          },
          "metadata": {},
          "execution_count": 4
        }
      ],
      "source": [
        "y = np.array([[1], [2.5], [3], [2.5], [1.5], [1]])\n",
        "y"
      ]
    },
    {
      "cell_type": "code",
      "execution_count": 5,
      "id": "5b3503fe",
      "metadata": {
        "colab": {
          "base_uri": "https://localhost:8080/",
          "height": 265
        },
        "id": "5b3503fe",
        "outputId": "0cf3ad43-b394-40b4-c6f6-be84f7f05a01"
      },
      "outputs": [
        {
          "output_type": "display_data",
          "data": {
            "text/plain": [
              "<Figure size 432x288 with 1 Axes>"
            ],
            "image/png": "[encoded data removed]"
          },
          "metadata": {
            "needs_background": "light"
          }
        }
      ],
      "source": [
        "plt.scatter(X, y)\n",
        "plt.show()"
      ]
    },
    {
      "cell_type": "markdown",
      "id": "c6ba1d8e",
      "metadata": {
        "id": "c6ba1d8e"
      },
      "source": [
        "Definimos la Regresión Lineal y entrenamos con nuestro set de datos."
      ]
    },
    {
      "cell_type": "code",
      "execution_count": 6,
      "id": "379abf79",
      "metadata": {
        "id": "379abf79"
      },
      "outputs": [],
      "source": [
        "reg = LinearRegression(fit_intercept=True).fit(X, y)"
      ]
    },
    {
      "cell_type": "code",
      "execution_count": 7,
      "id": "ef767ed7",
      "metadata": {
        "colab": {
          "base_uri": "https://localhost:8080/"
        },
        "id": "ef767ed7",
        "outputId": "77df7045-ae0d-4b7b-b81c-1bf23996dff4"
      },
      "outputs": [
        {
          "output_type": "execute_result",
          "data": {
            "text/plain": [
              "array([[0.72307692]])"
            ]
          },
          "metadata": {},
          "execution_count": 7
        }
      ],
      "source": [
        "reg.coef_"
      ]
    },
    {
      "cell_type": "code",
      "execution_count": 8,
      "id": "2dcc378e",
      "metadata": {
        "colab": {
          "base_uri": "https://localhost:8080/"
        },
        "id": "2dcc378e",
        "outputId": "699b91bc-c3a1-4cd6-bef3-ffa0230b6d62"
      },
      "outputs": [
        {
          "output_type": "execute_result",
          "data": {
            "text/plain": [
              "array([0.53076923])"
            ]
          },
          "metadata": {},
          "execution_count": 8
        }
      ],
      "source": [
        "reg.intercept_"
      ]
    },
    {
      "cell_type": "markdown",
      "id": "960c471a",
      "metadata": {
        "id": "960c471a"
      },
      "source": [
        "Es decir, nuestra recta de regresión será: $y= 0.73x_{1} + 0.53$\n",
        "\n"
      ]
    },
    {
      "cell_type": "code",
      "execution_count": 9,
      "id": "7b15617f",
      "metadata": {
        "colab": {
          "base_uri": "https://localhost:8080/",
          "height": 283
        },
        "id": "7b15617f",
        "outputId": "94f102cc-a5b2-4003-cf1b-be30d7379558"
      },
      "outputs": [
        {
          "output_type": "execute_result",
          "data": {
            "text/plain": [
              "[<matplotlib.lines.Line2D at 0x7f497ee40050>]"
            ]
          },
          "metadata": {},
          "execution_count": 9
        },
        {
          "output_type": "display_data",
          "data": {
            "text/plain": [
              "<Figure size 432x288 with 1 Axes>"
            ],
            "image/png": "[encoded data removed]"
          },
          "metadata": {
            "needs_background": "light"
          }
        }
      ],
      "source": [
        "plt.scatter(X, y, color=\"blue\")\n",
        "plt.plot(X, reg.predict(X), color=\"red\", linewidth=3)"
      ]
    },
    {
      "cell_type": "markdown",
      "id": "be6bcf4e",
      "metadata": {
        "id": "be6bcf4e"
      },
      "source": [
        "\n",
        "Utilizando nuestra recta de regresión, queremos predecir el valor que toma un nuevo registro."
      ]
    },
    {
      "cell_type": "code",
      "execution_count": 10,
      "id": "8be5dccb",
      "metadata": {
        "scrolled": true,
        "colab": {
          "base_uri": "https://localhost:8080/"
        },
        "id": "8be5dccb",
        "outputId": "bf06f50b-83fd-43fe-ac4a-c5ab1d38722d"
      },
      "outputs": [
        {
          "output_type": "execute_result",
          "data": {
            "text/plain": [
              "array([[2.51923077]])"
            ]
          },
          "metadata": {},
          "execution_count": 10
        }
      ],
      "source": [
        "new_obs = np.array([[2.75]])\n",
        "reg.predict(new_obs)"
      ]
    },
    {
      "cell_type": "code",
      "execution_count": 11,
      "id": "ecb4cb91",
      "metadata": {
        "colab": {
          "base_uri": "https://localhost:8080/",
          "height": 283
        },
        "id": "ecb4cb91",
        "outputId": "9c05d507-f618-42bc-b634-3cfa6224b064"
      },
      "outputs": [
        {
          "output_type": "execute_result",
          "data": {
            "text/plain": [
              "<matplotlib.collections.PathCollection at 0x7f497edb9c90>"
            ]
          },
          "metadata": {},
          "execution_count": 11
        },
        {
          "output_type": "display_data",
          "data": {
            "text/plain": [
              "<Figure size 432x288 with 1 Axes>"
            ],
            "image/png": "[encoded data removed]"
          },
          "metadata": {
            "needs_background": "light"
          }
        }
      ],
      "source": [
        "plt.scatter(X, y, color=\"blue\")\n",
        "plt.plot(X, reg.predict(X), color=\"red\", linewidth=3)\n",
        "plt.scatter(new_obs, reg.predict(new_obs), color=\"black\", s = 100)"
      ]
    },
    {
      "cell_type": "code",
      "execution_count": 12,
      "id": "ba1ef5f5",
      "metadata": {
        "colab": {
          "base_uri": "https://localhost:8080/"
        },
        "id": "ba1ef5f5",
        "outputId": "41892f97-0758-4e32-8f9f-b43e8c619d41"
      },
      "outputs": [
        {
          "output_type": "stream",
          "name": "stdout",
          "text": [
            "Nueva observación: ( 2.75 ,  2.519230769230769 )\n"
          ]
        }
      ],
      "source": [
        "print('Nueva observación: (', new_obs[0][0], ', ', reg.predict(new_obs)[0][0],')')"
      ]
    },
    {
      "cell_type": "markdown",
      "id": "75bd6e1a",
      "metadata": {
        "id": "75bd6e1a"
      },
      "source": [
        "### Ridge"
      ]
    },
    {
      "cell_type": "code",
      "execution_count": 13,
      "id": "5aa3c058",
      "metadata": {
        "id": "5aa3c058"
      },
      "outputs": [],
      "source": [
        "ridge = Ridge(fit_intercept=True).fit(X, y)"
      ]
    },
    {
      "cell_type": "code",
      "execution_count": 14,
      "id": "7ce61a89",
      "metadata": {
        "colab": {
          "base_uri": "https://localhost:8080/"
        },
        "id": "7ce61a89",
        "outputId": "4c99bc0b-7447-4620-9bc4-ae16720c2948"
      },
      "outputs": [
        {
          "output_type": "execute_result",
          "data": {
            "text/plain": [
              "array([[0.52808989]])"
            ]
          },
          "metadata": {},
          "execution_count": 14
        }
      ],
      "source": [
        "ridge.coef_"
      ]
    },
    {
      "cell_type": "code",
      "execution_count": 15,
      "id": "b7b32ada",
      "metadata": {
        "colab": {
          "base_uri": "https://localhost:8080/"
        },
        "id": "b7b32ada",
        "outputId": "338c9094-e7b1-4668-e255-c6ddf95ecc13"
      },
      "outputs": [
        {
          "output_type": "execute_result",
          "data": {
            "text/plain": [
              "array([0.90449438])"
            ]
          },
          "metadata": {},
          "execution_count": 15
        }
      ],
      "source": [
        "ridge.intercept_"
      ]
    },
    {
      "cell_type": "code",
      "execution_count": 16,
      "id": "366a649f",
      "metadata": {
        "colab": {
          "base_uri": "https://localhost:8080/",
          "height": 283
        },
        "id": "366a649f",
        "outputId": "2e55ef41-9f07-4b39-8a53-1e5a329ca990"
      },
      "outputs": [
        {
          "output_type": "execute_result",
          "data": {
            "text/plain": [
              "[<matplotlib.lines.Line2D at 0x7f497ecd4210>]"
            ]
          },
          "metadata": {},
          "execution_count": 16
        },
        {
          "output_type": "display_data",
          "data": {
            "text/plain": [
              "<Figure size 432x288 with 1 Axes>"
            ],
            "image/png": "[encoded data removed]"
          },
          "metadata": {
            "needs_background": "light"
          }
        }
      ],
      "source": [
        "plt.scatter(X, y, color=\"blue\")\n",
        "plt.plot(X, ridge.predict(X), color=\"red\", linewidth=3)"
      ]
    },
    {
      "cell_type": "markdown",
      "id": "a97e1afc",
      "metadata": {
        "id": "a97e1afc"
      },
      "source": [
        "Predecimos haciendo uso de Ridge, el valor de la nueva observación."
      ]
    },
    {
      "cell_type": "code",
      "execution_count": 17,
      "id": "47f4af30",
      "metadata": {
        "colab": {
          "base_uri": "https://localhost:8080/",
          "height": 283
        },
        "id": "47f4af30",
        "outputId": "07c5ae0f-aef1-457f-db71-36d7eaf085ea"
      },
      "outputs": [
        {
          "output_type": "execute_result",
          "data": {
            "text/plain": [
              "<matplotlib.collections.PathCollection at 0x7f497ecca8d0>"
            ]
          },
          "metadata": {},
          "execution_count": 17
        },
        {
          "output_type": "display_data",
          "data": {
            "text/plain": [
              "<Figure size 432x288 with 1 Axes>"
            ],
            "image/png": "[encoded data removed]"
          },
          "metadata": {
            "needs_background": "light"
          }
        }
      ],
      "source": [
        "plt.scatter(X, y, color=\"blue\")\n",
        "plt.plot(X, ridge.predict(X), color=\"red\", linewidth=3)\n",
        "plt.scatter(new_obs, ridge.predict(new_obs), color=\"black\", s = 100)"
      ]
    },
    {
      "cell_type": "code",
      "execution_count": 18,
      "id": "039249b0",
      "metadata": {
        "colab": {
          "base_uri": "https://localhost:8080/"
        },
        "id": "039249b0",
        "outputId": "dd9734f7-0d92-4cf5-99fa-330ba8bcbc78"
      },
      "outputs": [
        {
          "output_type": "stream",
          "name": "stdout",
          "text": [
            "Nueva observación: ( 2.75 ,  2.356741573033708 )\n"
          ]
        }
      ],
      "source": [
        "print('Nueva observación: (', new_obs[0][0], ', ', ridge.predict(new_obs)[0][0],')')"
      ]
    },
    {
      "cell_type": "code",
      "execution_count": null,
      "id": "2139b255",
      "metadata": {
        "id": "2139b255"
      },
      "outputs": [],
      "source": []
    }
  ],
  "metadata": {
    "kernelspec": {
      "display_name": "Python 3",
      "language": "python",
      "name": "python3"
    },
    "language_info": {
      "codemirror_mode": {
        "name": "ipython",
        "version": 3
      },
      "file_extension": ".py",
      "mimetype": "text/x-python",
      "name": "python",
      "nbconvert_exporter": "python",
      "pygments_lexer": "ipython3",
      "version": "3.8.8"
    },
    "colab": {
      "provenance": []
    }
  },
  "nbformat": 4,
  "nbformat_minor": 5
}